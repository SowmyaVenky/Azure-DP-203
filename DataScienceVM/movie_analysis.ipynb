{
  "cells": [
    {
      "cell_type": "code",
      "source": [
        "%%pyspark\r\n",
        "df = spark.read.load('abfss://raw042772@vksa042772.dfs.core.windows.net/wwi-02/movielens/movies/part-00000-44fcd5b7-7bd7-4adc-ad77-875aae382253-c000.snappy.parquet', format='parquet')\r\n",
        "display(df.limit(10))"
      ],
      "outputs": [
        {
          "output_type": "display_data",
          "data": {
            "application/vnd.livy.statement-meta+json": {
              "spark_pool": "venkysparkpool",
              "session_id": 0,
              "statement_id": 49,
              "state": "finished",
              "livy_statement_state": "available",
              "queued_time": "2022-07-07T19:30:25.6062687Z",
              "session_start_time": null,
              "execution_start_time": "2022-07-07T19:30:25.7226699Z",
              "execution_finish_time": "2022-07-07T19:30:32.6265033Z"
            },
            "text/plain": "StatementMeta(venkysparkpool, 0, 49, Finished, Available)"
          },
          "metadata": {}
        },
        {
          "output_type": "display_data",
          "data": {
            "application/vnd.synapse.widget-view+json": {
              "widget_id": "6c8027c7-2e5b-4892-b7a1-9fb005cd8764",
              "widget_type": "Synapse.DataFrame"
            },
            "text/plain": "SynapseWidget(Synapse.DataFrame, 6c8027c7-2e5b-4892-b7a1-9fb005cd8764)"
          },
          "metadata": {}
        }
      ],
      "execution_count": 48,
      "metadata": {
        "microsoft": {
          "language": "python"
        },
        "collapsed": false
      }
    },
    {
      "cell_type": "code",
      "source": [
        "print(\"Total number of rows : \" + str(df.count()))"
      ],
      "outputs": [
        {
          "output_type": "display_data",
          "data": {
            "application/vnd.livy.statement-meta+json": {
              "spark_pool": "venkysparkpool",
              "session_id": 0,
              "statement_id": 50,
              "state": "finished",
              "livy_statement_state": "available",
              "queued_time": "2022-07-07T19:31:04.4815632Z",
              "session_start_time": null,
              "execution_start_time": "2022-07-07T19:31:04.5914573Z",
              "execution_finish_time": "2022-07-07T19:31:05.7287415Z"
            },
            "text/plain": "StatementMeta(venkysparkpool, 0, 50, Finished, Available)"
          },
          "metadata": {}
        },
        {
          "output_type": "stream",
          "name": "stdout",
          "text": [
            "Total number of rows : 45261\n"
          ]
        }
      ],
      "execution_count": 49,
      "metadata": {
        "jupyter": {
          "source_hidden": false,
          "outputs_hidden": false
        },
        "nteract": {
          "transient": {
            "deleting": false
          }
        }
      }
    },
    {
      "cell_type": "code",
      "source": [
        "df1 = df.filter(\"budget <> 0\")\r\n",
        "print( \"Movies with a budget : \" + str(df1.count()))"
      ],
      "outputs": [
        {
          "output_type": "display_data",
          "data": {
            "application/vnd.livy.statement-meta+json": {
              "spark_pool": "venkysparkpool",
              "session_id": 0,
              "statement_id": 51,
              "state": "finished",
              "livy_statement_state": "available",
              "queued_time": "2022-07-07T19:31:53.0964886Z",
              "session_start_time": null,
              "execution_start_time": "2022-07-07T19:31:53.2426729Z",
              "execution_finish_time": "2022-07-07T19:31:54.2859023Z"
            },
            "text/plain": "StatementMeta(venkysparkpool, 0, 51, Finished, Available)"
          },
          "metadata": {}
        },
        {
          "output_type": "stream",
          "name": "stdout",
          "text": [
            "Movies with a budget : 8869\n"
          ]
        }
      ],
      "execution_count": 50,
      "metadata": {
        "jupyter": {
          "source_hidden": false,
          "outputs_hidden": false
        },
        "nteract": {
          "transient": {
            "deleting": false
          }
        }
      }
    },
    {
      "cell_type": "code",
      "source": [
        "df3 = df.groupBy(\"is_adult\").agg({'movie_id': 'count'})\r\n",
        "df3.show()"
      ],
      "outputs": [
        {
          "output_type": "display_data",
          "data": {
            "application/vnd.livy.statement-meta+json": {
              "spark_pool": "venkysparkpool",
              "session_id": 0,
              "statement_id": 60,
              "state": "finished",
              "livy_statement_state": "available",
              "queued_time": "2022-07-07T19:37:49.3057447Z",
              "session_start_time": null,
              "execution_start_time": "2022-07-07T19:37:49.4130085Z",
              "execution_finish_time": "2022-07-07T19:37:51.2210643Z"
            },
            "text/plain": "StatementMeta(venkysparkpool, 0, 60, Finished, Available)"
          },
          "metadata": {}
        },
        {
          "output_type": "stream",
          "name": "stdout",
          "text": [
            "+--------+---------------+\n|is_adult|count(movie_id)|\n+--------+---------------+\n|   False|          45253|\n|    True|              8|\n+--------+---------------+\n\n"
          ]
        }
      ],
      "execution_count": 59,
      "metadata": {
        "jupyter": {
          "source_hidden": false,
          "outputs_hidden": false
        },
        "nteract": {
          "transient": {
            "deleting": false
          }
        }
      }
    },
    {
      "cell_type": "code",
      "source": [
        "%%pyspark\r\n",
        "movie_collection = spark.read.load('abfss://raw042772@vksa042772.dfs.core.windows.net/wwi-02/movielens/movie_collection/', format='parquet')\r\n",
        "display(movie_collection.limit(10))"
      ],
      "outputs": [
        {
          "output_type": "display_data",
          "data": {
            "application/vnd.livy.statement-meta+json": {
              "spark_pool": "venkysparkpool",
              "session_id": 0,
              "statement_id": 61,
              "state": "finished",
              "livy_statement_state": "available",
              "queued_time": "2022-07-07T19:39:14.2731091Z",
              "session_start_time": null,
              "execution_start_time": "2022-07-07T19:39:14.3867415Z",
              "execution_finish_time": "2022-07-07T19:39:16.242817Z"
            },
            "text/plain": "StatementMeta(venkysparkpool, 0, 61, Finished, Available)"
          },
          "metadata": {}
        },
        {
          "output_type": "display_data",
          "data": {
            "application/vnd.synapse.widget-view+json": {
              "widget_id": "609895e0-209f-448d-8698-8d8ae5ef77dc",
              "widget_type": "Synapse.DataFrame"
            },
            "text/plain": "SynapseWidget(Synapse.DataFrame, 609895e0-209f-448d-8698-8d8ae5ef77dc)"
          },
          "metadata": {}
        }
      ],
      "execution_count": 60,
      "metadata": {
        "jupyter": {
          "source_hidden": false,
          "outputs_hidden": false
        },
        "nteract": {
          "transient": {
            "deleting": false
          }
        },
        "microsoft": {
          "language": "python"
        },
        "collapsed": false
      }
    },
    {
      "cell_type": "code",
      "source": [
        "%%pyspark\r\n",
        "collections = spark.read.load('abfss://raw042772@vksa042772.dfs.core.windows.net/wwi-02/movielens/collections/', format='parquet')\r\n",
        "display(collections.limit(10))"
      ],
      "outputs": [
        {
          "output_type": "display_data",
          "data": {
            "application/vnd.livy.statement-meta+json": {
              "spark_pool": "venkysparkpool",
              "session_id": 0,
              "statement_id": 62,
              "state": "finished",
              "livy_statement_state": "available",
              "queued_time": "2022-07-07T19:40:04.4149937Z",
              "session_start_time": null,
              "execution_start_time": "2022-07-07T19:40:04.962604Z",
              "execution_finish_time": "2022-07-07T19:40:06.1559274Z"
            },
            "text/plain": "StatementMeta(venkysparkpool, 0, 62, Finished, Available)"
          },
          "metadata": {}
        },
        {
          "output_type": "display_data",
          "data": {
            "application/vnd.synapse.widget-view+json": {
              "widget_id": "8b13b5e8-ec94-427c-bc17-5f2c77acbd5a",
              "widget_type": "Synapse.DataFrame"
            },
            "text/plain": "SynapseWidget(Synapse.DataFrame, 8b13b5e8-ec94-427c-bc17-5f2c77acbd5a)"
          },
          "metadata": {}
        }
      ],
      "execution_count": 61,
      "metadata": {
        "jupyter": {
          "source_hidden": false,
          "outputs_hidden": false
        },
        "nteract": {
          "transient": {
            "deleting": false
          }
        },
        "microsoft": {
          "language": "python"
        },
        "collapsed": false
      }
    },
    {
      "cell_type": "code",
      "source": [
        "df4 = movie_collection.join(collections, movie_collection.collection_id == collections.collection_id)\r\n",
        "df4.show(truncate=False)"
      ],
      "outputs": [
        {
          "output_type": "display_data",
          "data": {
            "application/vnd.livy.statement-meta+json": {
              "spark_pool": "venkysparkpool",
              "session_id": 0,
              "statement_id": 63,
              "state": "finished",
              "livy_statement_state": "available",
              "queued_time": "2022-07-07T19:43:20.656425Z",
              "session_start_time": null,
              "execution_start_time": "2022-07-07T19:43:20.8119326Z",
              "execution_finish_time": "2022-07-07T19:43:22.66086Z"
            },
            "text/plain": "StatementMeta(venkysparkpool, 0, 63, Finished, Available)"
          },
          "metadata": {}
        },
        {
          "output_type": "stream",
          "name": "stdout",
          "text": [
            "+--------+-------------+-------------+-----------------------------+--------------------------------+--------------------------------+\n|movie_id|collection_id|collection_id|collection_name              |collection_poster_path          |collection_backdrop_path        |\n+--------+-------------+-------------+-----------------------------+--------------------------------+--------------------------------+\n|13767   |53159        |53159        |The Santa Clause Collection  |/1h8iA6i2DpPhsHC65nUB2voVnm5.jpg|/jQiwVHJN1rsS4DqhF7hlYZTYCH.jpg |\n|9021    |53159        |53159        |The Santa Clause Collection  |/1h8iA6i2DpPhsHC65nUB2voVnm5.jpg|/jQiwVHJN1rsS4DqhF7hlYZTYCH.jpg |\n|11395   |53159        |53159        |The Santa Clause Collection  |/1h8iA6i2DpPhsHC65nUB2voVnm5.jpg|/jQiwVHJN1rsS4DqhF7hlYZTYCH.jpg |\n|580     |2366         |2366         |The Jaws Collection          |/fgraZdDCvAtBr0MHczmL6raonHd.jpg|/us13Po7SYoHl9wBNVcz04t0oh7F.jpg|\n|17692   |2366         |2366         |The Jaws Collection          |/fgraZdDCvAtBr0MHczmL6raonHd.jpg|/us13Po7SYoHl9wBNVcz04t0oh7F.jpg|\n|579     |2366         |2366         |The Jaws Collection          |/fgraZdDCvAtBr0MHczmL6raonHd.jpg|/us13Po7SYoHl9wBNVcz04t0oh7F.jpg|\n|578     |2366         |2366         |The Jaws Collection          |/fgraZdDCvAtBr0MHczmL6raonHd.jpg|/us13Po7SYoHl9wBNVcz04t0oh7F.jpg|\n|2698    |124949       |124949       |Almighty Collection          |/Abh0z1zf7yYoH8sGLvMIvdNG6gA.jpg|/qKuR7BpBLTcISNWgxKQmXnYYJFX.jpg|\n|310     |124949       |124949       |Almighty Collection          |/Abh0z1zf7yYoH8sGLvMIvdNG6gA.jpg|/qKuR7BpBLTcISNWgxKQmXnYYJFX.jpg|\n|11253   |17235        |17235        |Hellboy Collection           |/81B1OdGY7f3TVN06eKra25vHzYk.jpg|/i6WF7cYiogl8g5ryZDbZBw8RNVN.jpg|\n|1487    |17235        |17235        |Hellboy Collection           |/81B1OdGY7f3TVN06eKra25vHzYk.jpg|/i6WF7cYiogl8g5ryZDbZBw8RNVN.jpg|\n|40644   |96887        |96887        |Zatôichi: The Blind Swordsman|/8Q31DAtmFJjhFTwQGXghBUCgWK2.jpg|/bY8gLImMR5Pr9PaG3ZpobfaAQ8N.jpg|\n|54307   |96887        |96887        |Zatôichi: The Blind Swordsman|/8Q31DAtmFJjhFTwQGXghBUCgWK2.jpg|/bY8gLImMR5Pr9PaG3ZpobfaAQ8N.jpg|\n|54306   |96887        |96887        |Zatôichi: The Blind Swordsman|/8Q31DAtmFJjhFTwQGXghBUCgWK2.jpg|/bY8gLImMR5Pr9PaG3ZpobfaAQ8N.jpg|\n|54284   |96887        |96887        |Zatôichi: The Blind Swordsman|/8Q31DAtmFJjhFTwQGXghBUCgWK2.jpg|/bY8gLImMR5Pr9PaG3ZpobfaAQ8N.jpg|\n|54280   |96887        |96887        |Zatôichi: The Blind Swordsman|/8Q31DAtmFJjhFTwQGXghBUCgWK2.jpg|/bY8gLImMR5Pr9PaG3ZpobfaAQ8N.jpg|\n|54281   |96887        |96887        |Zatôichi: The Blind Swordsman|/8Q31DAtmFJjhFTwQGXghBUCgWK2.jpg|/bY8gLImMR5Pr9PaG3ZpobfaAQ8N.jpg|\n|54279   |96887        |96887        |Zatôichi: The Blind Swordsman|/8Q31DAtmFJjhFTwQGXghBUCgWK2.jpg|/bY8gLImMR5Pr9PaG3ZpobfaAQ8N.jpg|\n|54278   |96887        |96887        |Zatôichi: The Blind Swordsman|/8Q31DAtmFJjhFTwQGXghBUCgWK2.jpg|/bY8gLImMR5Pr9PaG3ZpobfaAQ8N.jpg|\n|54277   |96887        |96887        |Zatôichi: The Blind Swordsman|/8Q31DAtmFJjhFTwQGXghBUCgWK2.jpg|/bY8gLImMR5Pr9PaG3ZpobfaAQ8N.jpg|\n+--------+-------------+-------------+-----------------------------+--------------------------------+--------------------------------+\nonly showing top 20 rows\n\n"
          ]
        }
      ],
      "execution_count": 62,
      "metadata": {
        "jupyter": {
          "source_hidden": false,
          "outputs_hidden": false
        },
        "nteract": {
          "transient": {
            "deleting": false
          }
        }
      }
    },
    {
      "cell_type": "code",
      "source": [
        "df5 = df.join(df4, df4.movie_id == df.movie_id)\r\n",
        "df5.show(truncate=False)"
      ],
      "outputs": [
        {
          "output_type": "display_data",
          "data": {
            "application/vnd.livy.statement-meta+json": {
              "spark_pool": "venkysparkpool",
              "session_id": 0,
              "statement_id": 64,
              "state": "finished",
              "livy_statement_state": "available",
              "queued_time": "2022-07-07T19:44:39.594279Z",
              "session_start_time": null,
              "execution_start_time": "2022-07-07T19:44:39.7164795Z",
              "execution_finish_time": "2022-07-07T19:44:41.5608766Z"
            },
            "text/plain": "StatementMeta(venkysparkpool, 0, 64, Finished, Available)"
          },
          "metadata": {}
        },
        {
          "output_type": "stream",
          "name": "stdout",
          "text": [
            "+--------+--------+---------+-----------------+-------------------------------------+----------+------------+---------+----------+------------+--------+-------------+-------------+-----------------------------+--------------------------------+--------------------------------+\n|movie_id|is_adult|budget   |original_language|title                                |popularity|release_date|revenue  |vote_count|vote_average|movie_id|collection_id|collection_id|collection_name              |collection_poster_path          |collection_backdrop_path        |\n+--------+--------+---------+-----------------+-------------------------------------+----------+------------+---------+----------+------------+--------+-------------+-------------+-----------------------------+--------------------------------+--------------------------------+\n|13767   |False   |12000000 |en               |The Santa Clause 3: The Escape Clause|6.829528  |2006-11-01  |84500122 |241       |5.0         |13767   |53159        |53159        |The Santa Clause Collection  |/1h8iA6i2DpPhsHC65nUB2voVnm5.jpg|/jQiwVHJN1rsS4DqhF7hlYZTYCH.jpg |\n|9021    |False   |65000000 |en               |The Santa Clause 2                   |5.205729  |2002-10-31  |172855065|303       |5.5         |9021    |53159        |53159        |The Santa Clause Collection  |/1h8iA6i2DpPhsHC65nUB2voVnm5.jpg|/jQiwVHJN1rsS4DqhF7hlYZTYCH.jpg |\n|11395   |False   |22000000 |en               |The Santa Clause                     |9.665424  |1994-11-10  |189833357|501       |6.3         |11395   |53159        |53159        |The Santa Clause Collection  |/1h8iA6i2DpPhsHC65nUB2voVnm5.jpg|/jQiwVHJN1rsS4DqhF7hlYZTYCH.jpg |\n|580     |False   |23000000 |en               |Jaws: The Revenge                    |9.327986  |1987-07-17  |51881013 |227       |3.5         |580     |2366         |2366         |The Jaws Collection          |/fgraZdDCvAtBr0MHczmL6raonHd.jpg|/us13Po7SYoHl9wBNVcz04t0oh7F.jpg|\n|17692   |False   |20500000 |en               |Jaws 3-D                             |16.603041 |1983-03-16  |87987055 |266       |4.2         |17692   |2366         |2366         |The Jaws Collection          |/fgraZdDCvAtBr0MHczmL6raonHd.jpg|/us13Po7SYoHl9wBNVcz04t0oh7F.jpg|\n|579     |False   |20000000 |en               |Jaws 2                               |11.21306  |1978-06-16  |187884007|412       |5.9         |579     |2366         |2366         |The Jaws Collection          |/fgraZdDCvAtBr0MHczmL6raonHd.jpg|/us13Po7SYoHl9wBNVcz04t0oh7F.jpg|\n|578     |False   |7000000  |en               |Jaws                                 |19.726114 |1975-06-18  |470654000|2628      |7.5         |578     |2366         |2366         |The Jaws Collection          |/fgraZdDCvAtBr0MHczmL6raonHd.jpg|/us13Po7SYoHl9wBNVcz04t0oh7F.jpg|\n|2698    |False   |175000000|en               |Evan Almighty                        |9.156877  |2007-06-09  |173000000|1194      |5.3         |2698    |124949       |124949       |Almighty Collection          |/Abh0z1zf7yYoH8sGLvMIvdNG6gA.jpg|/qKuR7BpBLTcISNWgxKQmXnYYJFX.jpg|\n|310     |False   |80000000 |en               |Bruce Almighty                       |15.947524 |2003-05-23  |484572835|3121      |6.4         |310     |124949       |124949       |Almighty Collection          |/Abh0z1zf7yYoH8sGLvMIvdNG6gA.jpg|/qKuR7BpBLTcISNWgxKQmXnYYJFX.jpg|\n|11253   |False   |85000000 |en               |Hellboy II: The Golden Army          |11.928661 |2008-07-11  |160388063|1555      |6.5         |11253   |17235        |17235        |Hellboy Collection           |/81B1OdGY7f3TVN06eKra25vHzYk.jpg|/i6WF7cYiogl8g5ryZDbZBw8RNVN.jpg|\n|1487    |False   |66000000 |en               |Hellboy                              |13.206854 |2004-04-02  |99318987 |2278      |6.5         |1487    |17235        |17235        |Hellboy Collection           |/81B1OdGY7f3TVN06eKra25vHzYk.jpg|/i6WF7cYiogl8g5ryZDbZBw8RNVN.jpg|\n|40644   |False   |0        |ja               |Zatôichi: The Blind Swordsman        |1.204298  |1989-02-04  |0        |14        |6.2         |40644   |96887        |96887        |Zatôichi: The Blind Swordsman|/8Q31DAtmFJjhFTwQGXghBUCgWK2.jpg|/bY8gLImMR5Pr9PaG3ZpobfaAQ8N.jpg|\n|54307   |False   |0        |ja               |Zatôichi's Conspiracy                |0.899505  |1973-04-21  |0        |7         |6.1         |54307   |96887        |96887        |Zatôichi: The Blind Swordsman|/8Q31DAtmFJjhFTwQGXghBUCgWK2.jpg|/bY8gLImMR5Pr9PaG3ZpobfaAQ8N.jpg|\n|54306   |False   |0        |ja               |Zatôichi in Desperation              |1.059291  |1972-09-02  |0        |5         |5.4         |54306   |96887        |96887        |Zatôichi: The Blind Swordsman|/8Q31DAtmFJjhFTwQGXghBUCgWK2.jpg|/bY8gLImMR5Pr9PaG3ZpobfaAQ8N.jpg|\n|54284   |False   |0        |ja               |Zatôichi at Large                    |0.145289  |1972-01-15  |0        |7         |6.0         |54284   |96887        |96887        |Zatôichi: The Blind Swordsman|/8Q31DAtmFJjhFTwQGXghBUCgWK2.jpg|/bY8gLImMR5Pr9PaG3ZpobfaAQ8N.jpg|\n|54280   |False   |0        |ja               |Zatôichi and the Fugitives           |0.440479  |1968-08-10  |0        |4         |5.0         |54280   |96887        |96887        |Zatôichi: The Blind Swordsman|/8Q31DAtmFJjhFTwQGXghBUCgWK2.jpg|/bY8gLImMR5Pr9PaG3ZpobfaAQ8N.jpg|\n|54281   |False   |0        |ja               |Samaritan Zatôichi                   |0.351251  |1968-12-28  |0        |7         |5.6         |54281   |96887        |96887        |Zatôichi: The Blind Swordsman|/8Q31DAtmFJjhFTwQGXghBUCgWK2.jpg|/bY8gLImMR5Pr9PaG3ZpobfaAQ8N.jpg|\n|54279   |False   |0        |ja               |Zatôichi Challenged                  |0.991587  |1967-12-30  |0        |9         |6.1         |54279   |96887        |96887        |Zatôichi: The Blind Swordsman|/8Q31DAtmFJjhFTwQGXghBUCgWK2.jpg|/bY8gLImMR5Pr9PaG3ZpobfaAQ8N.jpg|\n|54278   |False   |0        |ja               |Zatôichi the Outlaw                  |0.950665  |1967-08-12  |0        |8         |6.0         |54278   |96887        |96887        |Zatôichi: The Blind Swordsman|/8Q31DAtmFJjhFTwQGXghBUCgWK2.jpg|/bY8gLImMR5Pr9PaG3ZpobfaAQ8N.jpg|\n|54277   |False   |0        |ja               |Zatôichi's Cane Sword                |0.838838  |1967-01-03  |0        |9         |6.8         |54277   |96887        |96887        |Zatôichi: The Blind Swordsman|/8Q31DAtmFJjhFTwQGXghBUCgWK2.jpg|/bY8gLImMR5Pr9PaG3ZpobfaAQ8N.jpg|\n+--------+--------+---------+-----------------+-------------------------------------+----------+------------+---------+----------+------------+--------+-------------+-------------+-----------------------------+--------------------------------+--------------------------------+\nonly showing top 20 rows\n\n"
          ]
        }
      ],
      "execution_count": 63,
      "metadata": {
        "jupyter": {
          "source_hidden": false,
          "outputs_hidden": false
        },
        "nteract": {
          "transient": {
            "deleting": false
          }
        }
      }
    },
    {
      "cell_type": "code",
      "source": [
        "df6 = df5.groupBy(\"collection_name\").count()\r\n",
        "df6.show()"
      ],
      "outputs": [
        {
          "output_type": "display_data",
          "data": {
            "application/vnd.livy.statement-meta+json": {
              "spark_pool": "venkysparkpool",
              "session_id": 0,
              "statement_id": 72,
              "state": "finished",
              "livy_statement_state": "available",
              "queued_time": "2022-07-07T19:50:17.4094594Z",
              "session_start_time": null,
              "execution_start_time": "2022-07-07T19:50:17.5230904Z",
              "execution_finish_time": "2022-07-07T19:50:20.3322467Z"
            },
            "text/plain": "StatementMeta(venkysparkpool, 0, 72, Finished, Available)"
          },
          "metadata": {}
        },
        {
          "output_type": "stream",
          "name": "stdout",
          "text": [
            "+--------------------+-----+\n|     collection_name|count|\n+--------------------+-----+\n|Olsen Banden (Sam...|    1|\n| The Mask Collection|    2|\n|Lucky Stars Colle...|    3|\n|Love Hina Collection|    2|\n|The Three Mothers...|    3|\n|Enter the Ninja C...|    3|\n| Mr. Moto Collection|    7|\n|James Bond Collec...|   26|\n|The Hunger Games ...|    4|\n| Vampires Collection|    2|\n|Impy, the small d...|    2|\n|Bridget Jones Col...|    3|\n|  Samurai Collection|    3|\n|The Arrival Colle...|    2|\n|Footsoldier Colle...|    1|\n|The Pink Panther ...|    2|\n|Six Degrees of Ce...|    5|\n|The Paleface Coll...|    2|\n|The Worricker Col...|    3|\n|Wreck-It Ralph Co...|    1|\n+--------------------+-----+\nonly showing top 20 rows\n\n"
          ]
        }
      ],
      "execution_count": 71,
      "metadata": {
        "jupyter": {
          "source_hidden": false,
          "outputs_hidden": false
        },
        "nteract": {
          "transient": {
            "deleting": false
          }
        }
      }
    },
    {
      "cell_type": "code",
      "source": [
        "df7 = df5.groupBy(\"original_language\").count()\r\n",
        "df7.show()"
      ],
      "outputs": [
        {
          "output_type": "display_data",
          "data": {
            "application/vnd.livy.statement-meta+json": {
              "spark_pool": "venkysparkpool",
              "session_id": 0,
              "statement_id": 75,
              "state": "finished",
              "livy_statement_state": "available",
              "queued_time": "2022-07-07T19:52:25.5477611Z",
              "session_start_time": null,
              "execution_start_time": "2022-07-07T19:52:25.6574926Z",
              "execution_finish_time": "2022-07-07T19:52:27.4996327Z"
            },
            "text/plain": "StatementMeta(venkysparkpool, 0, 75, Finished, Available)"
          },
          "metadata": {}
        },
        {
          "output_type": "stream",
          "name": "stdout",
          "text": [
            "+-----------------+-----+\n|original_language|count|\n+-----------------+-----+\n|               en| 2234|\n|               nb|    1|\n|               pl|    7|\n|               cn|   46|\n|               pt|    6|\n|               ko|    9|\n|               cs|    1|\n|               sr|    1|\n|               tr|   12|\n|               de|   70|\n|               es|   16|\n|               el|    1|\n|               it|  106|\n|               te|    2|\n|               sv|   56|\n|               nl|    6|\n|               bn|    3|\n|               hu|    1|\n|               ru|   70|\n|               th|    8|\n+-----------------+-----+\nonly showing top 20 rows\n\n"
          ]
        }
      ],
      "execution_count": 74,
      "metadata": {
        "jupyter": {
          "source_hidden": false,
          "outputs_hidden": false
        },
        "nteract": {
          "transient": {
            "deleting": false
          }
        }
      }
    }
  ],
  "metadata": {
    "language_info": {
      "name": "python"
    },
    "kernelspec": {
      "name": "synapse_pyspark",
      "language": "Python",
      "display_name": "Synapse PySpark"
    },
    "kernel_info": {
      "name": "synapse_pyspark"
    },
    "description": "Testing movie analysis",
    "save_output": true,
    "synapse_widget": {
      "version": "0.1",
      "state": {
        "6c8027c7-2e5b-4892-b7a1-9fb005cd8764": {
          "type": "Synapse.DataFrame",
          "sync_state": {
            "table": {
              "rows": [
                {
                  "0": "148",
                  "1": "False",
                  "2": "5000000",
                  "3": "en",
                  "4": "The Secret Life of Words",
                  "5": "12.775583",
                  "6": "2005-12-15",
                  "7": "0",
                  "8": "52",
                  "9": "6.8"
                },
                {
                  "0": "471",
                  "1": "False",
                  "2": "0",
                  "3": "en",
                  "4": "Bandyta",
                  "5": "0.707491",
                  "6": "1997-01-01",
                  "7": "0",
                  "8": "3",
                  "9": "6.3"
                },
                {
                  "0": "496",
                  "1": "False",
                  "2": "18000000",
                  "3": "en",
                  "4": "Borat: Cultural Learnings of America for Make Benefit Glorious Nation of Kazakhstan",
                  "5": "8.278336",
                  "6": "2006-11-01",
                  "7": "261572744",
                  "8": "1617",
                  "9": "6.5"
                },
                {
                  "0": "833",
                  "1": "False",
                  "2": "0",
                  "3": "it",
                  "4": "Umberto D.",
                  "5": "5.71023",
                  "6": "1952-01-20",
                  "7": "0",
                  "8": "92",
                  "9": "8.0"
                },
                {
                  "0": "1088",
                  "1": "False",
                  "2": "8000000",
                  "3": "en",
                  "4": "Whale Rider",
                  "5": "11.040186",
                  "6": "2003-01-30",
                  "7": "41400000",
                  "8": "114",
                  "9": "7.1"
                },
                {
                  "0": "1580",
                  "1": "False",
                  "2": "1500000",
                  "3": "en",
                  "4": "Rope",
                  "5": "7.248676",
                  "6": "1948-08-23",
                  "7": "2200000",
                  "8": "539",
                  "9": "7.8"
                },
                {
                  "0": "1591",
                  "1": "False",
                  "2": "0",
                  "3": "de",
                  "4": "Nowhere in Africa",
                  "5": "3.02027",
                  "6": "2001-12-11",
                  "7": "0",
                  "8": "32",
                  "9": "7.0"
                },
                {
                  "0": "1645",
                  "1": "False",
                  "2": "40000000",
                  "3": "en",
                  "4": "A Time to Kill",
                  "5": "13.309013",
                  "6": "1996-07-24",
                  "7": "152266007",
                  "8": "522",
                  "9": "7.0"
                },
                {
                  "0": "1829",
                  "1": "False",
                  "2": "0",
                  "3": "fr",
                  "4": "The Story of Adele H",
                  "5": "3.542253",
                  "6": "1975-10-08",
                  "7": "0",
                  "8": "35",
                  "9": "6.9"
                },
                {
                  "0": "1959",
                  "1": "False",
                  "2": "0",
                  "3": "en",
                  "4": "Swept from the Sea",
                  "5": "9.688237",
                  "6": "1998-01-23",
                  "7": "0",
                  "8": "12",
                  "9": "6.5"
                }
              ],
              "schema": [
                {
                  "key": "0",
                  "name": "movie_id",
                  "type": "int"
                },
                {
                  "key": "1",
                  "name": "is_adult",
                  "type": "string"
                },
                {
                  "key": "2",
                  "name": "budget",
                  "type": "bigint"
                },
                {
                  "key": "3",
                  "name": "original_language",
                  "type": "string"
                },
                {
                  "key": "4",
                  "name": "title",
                  "type": "string"
                },
                {
                  "key": "5",
                  "name": "popularity",
                  "type": "double"
                },
                {
                  "key": "6",
                  "name": "release_date",
                  "type": "date"
                },
                {
                  "key": "7",
                  "name": "revenue",
                  "type": "bigint"
                },
                {
                  "key": "8",
                  "name": "vote_count",
                  "type": "int"
                },
                {
                  "key": "9",
                  "name": "vote_average",
                  "type": "float"
                }
              ],
              "truncated": false
            },
            "isSummary": false,
            "language": "scala"
          },
          "persist_state": {
            "view": {
              "type": "details",
              "tableOptions": {},
              "chartOptions": {
                "chartType": "bar",
                "aggregationType": "sum",
                "categoryFieldKeys": [
                  "1"
                ],
                "seriesFieldKeys": [
                  "0"
                ],
                "isStacked": false
              }
            }
          }
        },
        "609895e0-209f-448d-8698-8d8ae5ef77dc": {
          "type": "Synapse.DataFrame",
          "sync_state": {
            "table": {
              "rows": [
                {
                  "0": "862",
                  "1": "10194"
                },
                {
                  "0": "15602",
                  "1": "119050"
                },
                {
                  "0": "11862",
                  "1": "96871"
                },
                {
                  "0": "710",
                  "1": "645"
                },
                {
                  "0": "21032",
                  "1": "117693"
                },
                {
                  "0": "9273",
                  "1": "3167"
                },
                {
                  "0": "8012",
                  "1": "91698"
                },
                {
                  "0": "9598",
                  "1": "9435"
                },
                {
                  "0": "9312",
                  "1": "9818"
                },
                {
                  "0": "10530",
                  "1": "136214"
                }
              ],
              "schema": [
                {
                  "key": "0",
                  "name": "movie_id",
                  "type": "int"
                },
                {
                  "key": "1",
                  "name": "collection_id",
                  "type": "int"
                }
              ],
              "truncated": false
            },
            "isSummary": false,
            "language": "scala"
          },
          "persist_state": {
            "view": {
              "type": "details",
              "tableOptions": {},
              "chartOptions": {
                "chartType": "bar",
                "aggregationType": "sum",
                "categoryFieldKeys": [
                  "1"
                ],
                "seriesFieldKeys": [
                  "0"
                ],
                "isStacked": false
              }
            }
          }
        },
        "8b13b5e8-ec94-427c-bc17-5f2c77acbd5a": {
          "type": "Synapse.DataFrame",
          "sync_state": {
            "table": {
              "rows": [
                {
                  "0": "53159",
                  "1": "The Santa Clause Collection",
                  "2": "/1h8iA6i2DpPhsHC65nUB2voVnm5.jpg",
                  "3": "/jQiwVHJN1rsS4DqhF7hlYZTYCH.jpg"
                },
                {
                  "0": "2366",
                  "1": "The Jaws Collection",
                  "2": "/fgraZdDCvAtBr0MHczmL6raonHd.jpg",
                  "3": "/us13Po7SYoHl9wBNVcz04t0oh7F.jpg"
                },
                {
                  "0": "124949",
                  "1": "Almighty Collection",
                  "2": "/Abh0z1zf7yYoH8sGLvMIvdNG6gA.jpg",
                  "3": "/qKuR7BpBLTcISNWgxKQmXnYYJFX.jpg"
                },
                {
                  "0": "17235",
                  "1": "Hellboy Collection",
                  "2": "/81B1OdGY7f3TVN06eKra25vHzYk.jpg",
                  "3": "/i6WF7cYiogl8g5ryZDbZBw8RNVN.jpg"
                },
                {
                  "0": "96887",
                  "1": "Zatôichi: The Blind Swordsman",
                  "2": "/8Q31DAtmFJjhFTwQGXghBUCgWK2.jpg",
                  "3": "/bY8gLImMR5Pr9PaG3ZpobfaAQ8N.jpg"
                },
                {
                  "0": "224026",
                  "1": "Monster High Collection",
                  "2": "/z230ua2CDBkPAQCOUmENphU9Hm9.jpg",
                  "3": "/kDsPcm1Qx5zjPNAZ80dBSHdTowH.jpg"
                },
                {
                  "0": "437439",
                  "1": "Phobia Collection",
                  "2": "/gebIde4Swa4wuiMVOMJBFp0woXL.jpg",
                  "3": "/v2JDjc3bYzFLSlJa3iPMrzBL4KJ.jpg"
                },
                {
                  "0": "129407",
                  "1": "John Pinette Collection",
                  "2": "/aDajrzXXjyuD2ZFFOQoReTwSxkB.jpg",
                  "3": "/aYEuK6HcHkS74qaQhC52RVjDqaR.jpg"
                },
                {
                  "0": "304809",
                  "1": "Schoolgirl Report Collection",
                  "2": "/pLlG1Vi4mQ8ETJ7bgiy3fdUMf2e.jpg",
                  "3": "/mumLauzMKQCivPQANhCDnkF8ZlN.jpg"
                },
                {
                  "0": "174218",
                  "1": "The Howling Collection",
                  "2": "/ci6CZhFFLm0r3fDomXlRAmCEesr.jpg",
                  "3": "/a0UuiTYxqMmj5Ll26rORaFoTKBc.jpg"
                }
              ],
              "schema": [
                {
                  "key": "0",
                  "name": "collection_id",
                  "type": "int"
                },
                {
                  "key": "1",
                  "name": "collection_name",
                  "type": "string"
                },
                {
                  "key": "2",
                  "name": "collection_poster_path",
                  "type": "string"
                },
                {
                  "key": "3",
                  "name": "collection_backdrop_path",
                  "type": "string"
                }
              ],
              "truncated": false
            },
            "isSummary": false,
            "language": "scala"
          },
          "persist_state": {
            "view": {
              "type": "details",
              "tableOptions": {},
              "chartOptions": {
                "chartType": "bar",
                "aggregationType": "sum",
                "categoryFieldKeys": [
                  "1"
                ],
                "seriesFieldKeys": [
                  "0"
                ],
                "isStacked": false
              }
            }
          }
        }
      }
    }
  },
  "nbformat": 4,
  "nbformat_minor": 2
}