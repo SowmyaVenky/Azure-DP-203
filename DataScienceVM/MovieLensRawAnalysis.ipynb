{
 "cells": [
  {
   "cell_type": "code",
   "execution_count": 35,
   "id": "2290e85e-e574-41d5-88bd-3171cd10e857",
   "metadata": {},
   "outputs": [
    {
     "name": "stdout",
     "output_type": "stream",
     "text": [
      "<SparkContext master=local[*] appName=pyspark-shell>\n"
     ]
    }
   ],
   "source": [
    "print(sc)"
   ]
  },
  {
   "cell_type": "code",
   "execution_count": 36,
   "id": "07a601d1-08b0-4fcc-a1a4-fdbb95892c90",
   "metadata": {},
   "outputs": [
    {
     "name": "stdout",
     "output_type": "stream",
     "text": [
      "<pyspark.sql.session.SparkSession object at 0x7f8fbf4a0040>\n"
     ]
    }
   ],
   "source": [
    "print(spark)"
   ]
  },
  {
   "cell_type": "code",
   "execution_count": 37,
   "id": "4c97c14e-8d58-497e-bdda-9745d44e8291",
   "metadata": {},
   "outputs": [
    {
     "name": "stdout",
     "output_type": "stream",
     "text": [
      "root\n",
      " |-- adult: string (nullable = true)\n",
      " |-- belongs_to_collection: string (nullable = true)\n",
      " |-- budget: string (nullable = true)\n",
      " |-- genres: string (nullable = true)\n",
      " |-- homepage: string (nullable = true)\n",
      " |-- id: string (nullable = true)\n",
      " |-- imdb_id: string (nullable = true)\n",
      " |-- original_language: string (nullable = true)\n",
      " |-- original_title: string (nullable = true)\n",
      " |-- overview: string (nullable = true)\n",
      " |-- popularity: string (nullable = true)\n",
      " |-- poster_path: string (nullable = true)\n",
      " |-- production_companies: string (nullable = true)\n",
      " |-- production_countries: string (nullable = true)\n",
      " |-- release_date: string (nullable = true)\n",
      " |-- revenue: string (nullable = true)\n",
      " |-- runtime: string (nullable = true)\n",
      " |-- spoken_languages: string (nullable = true)\n",
      " |-- status: string (nullable = true)\n",
      " |-- tagline: string (nullable = true)\n",
      " |-- title: string (nullable = true)\n",
      " |-- video: string (nullable = true)\n",
      " |-- vote_average: string (nullable = true)\n",
      " |-- vote_count: string (nullable = true)\n",
      "\n"
     ]
    }
   ],
   "source": [
    "moviesraw = spark.read.option(\"quote\",\"\\\"\") \\\n",
    ".option(\"escape\",\"\\\"\") \\\n",
    ".option(\"header\",\"true\") \\\n",
    ".csv(\"file:///home/venkyuser/movielens/movies_metadata.csv\")\n",
    "moviesraw.printSchema()"
   ]
  },
  {
   "cell_type": "code",
   "execution_count": 38,
   "id": "f91ce9e6-57e7-4f56-800a-60e1e1af3f35",
   "metadata": {},
   "outputs": [
    {
     "name": "stdout",
     "output_type": "stream",
     "text": [
      "+-------------------------------------------------------------------------------------------------------------------------------------------------------------------------------------------------------------------------------------------------------------------------------------------------------------------------------------+\n",
      "|production_companies                                                                                                                                                                                                                                                                                                                 |\n",
      "+-------------------------------------------------------------------------------------------------------------------------------------------------------------------------------------------------------------------------------------------------------------------------------------------------------------------------------------+\n",
      "|[{'name': 'Pixar Animation Studios', 'id': 3}]                                                                                                                                                                                                                                                                                       |\n",
      "|[{'name': 'TriStar Pictures', 'id': 559}, {'name': 'Teitler Film', 'id': 2550}, {'name': 'Interscope Communications', 'id': 10201}]                                                                                                                                                                                                  |\n",
      "|[{'name': 'Warner Bros.', 'id': 6194}, {'name': 'Lancaster Gate', 'id': 19464}]                                                                                                                                                                                                                                                      |\n",
      "|[{'name': 'Twentieth Century Fox Film Corporation', 'id': 306}]                                                                                                                                                                                                                                                                      |\n",
      "|[{'name': 'Sandollar Productions', 'id': 5842}, {'name': 'Touchstone Pictures', 'id': 9195}]                                                                                                                                                                                                                                         |\n",
      "|[{'name': 'Regency Enterprises', 'id': 508}, {'name': 'Forward Pass', 'id': 675}, {'name': 'Warner Bros.', 'id': 6194}]                                                                                                                                                                                                              |\n",
      "|[{'name': 'Paramount Pictures', 'id': 4}, {'name': 'Scott Rudin Productions', 'id': 258}, {'name': 'Mirage Enterprises', 'id': 932}, {'name': 'Sandollar Productions', 'id': 5842}, {'name': 'Constellation Entertainment', 'id': 14941}, {'name': 'Worldwide', 'id': 55873}, {'name': 'Mont Blanc Entertainment GmbH', 'id': 58079}]|\n",
      "|[{'name': 'Walt Disney Pictures', 'id': 2}]                                                                                                                                                                                                                                                                                          |\n",
      "|[{'name': 'Universal Pictures', 'id': 33}, {'name': 'Imperial Entertainment', 'id': 21437}, {'name': 'Signature Entertainment', 'id': 23770}]                                                                                                                                                                                        |\n",
      "|[{'name': 'United Artists', 'id': 60}, {'name': 'Eon Productions', 'id': 7576}]                                                                                                                                                                                                                                                      |\n",
      "|[{'name': 'Columbia Pictures', 'id': 5}, {'name': 'Castle Rock Entertainment', 'id': 97}]                                                                                                                                                                                                                                            |\n",
      "|[{'name': 'Columbia Pictures', 'id': 5}, {'name': 'Castle Rock Entertainment', 'id': 97}, {'name': 'Enigma Pictures', 'id': 6368}]                                                                                                                                                                                                   |\n",
      "|[{'name': 'Universal Pictures', 'id': 33}, {'name': 'Amblin Entertainment', 'id': 56}, {'name': 'Amblimation', 'id': 4105}]                                                                                                                                                                                                          |\n",
      "|[{'name': 'Hollywood Pictures', 'id': 915}, {'name': 'Cinergi Pictures Entertainment', 'id': 1504}]                                                                                                                                                                                                                                  |\n",
      "|[{'name': 'Le Studio Canal+', 'id': 183}, {'name': 'Laurence Mark Productions', 'id': 415}, {'name': 'Metro-Goldwyn-Mayer (MGM)', 'id': 8411}, {'name': 'Carolco Pictures', 'id': 14723}]                                                                                                                                            |\n",
      "|[{'name': 'Universal Pictures', 'id': 33}, {'name': 'Légende Entreprises', 'id': 10898}, {'name': 'Syalis DA', 'id': 11583}, {'name': 'De Fina-Cappa', 'id': 11584}]                                                                                                                                                                 |\n",
      "|[{'name': 'Columbia Pictures Corporation', 'id': 441}, {'name': 'Mirage Enterprises', 'id': 932}]                                                                                                                                                                                                                                    |\n",
      "|[{'name': 'Miramax Films', 'id': 14}, {'name': 'A Band Apart', 'id': 59}]                                                                                                                                                                                                                                                            |\n",
      "|[{'name': 'O Entertainment', 'id': 5682}, {'name': 'Warner Bros.', 'id': 6194}, {'name': 'Morgan Creek Productions', 'id': 10210}]                                                                                                                                                                                                   |\n",
      "|[{'name': 'Columbia Pictures', 'id': 5}]                                                                                                                                                                                                                                                                                             |\n",
      "+-------------------------------------------------------------------------------------------------------------------------------------------------------------------------------------------------------------------------------------------------------------------------------------------------------------------------------------+\n",
      "only showing top 20 rows\n",
      "\n"
     ]
    }
   ],
   "source": [
    "production_companies_df = moviesraw.select(moviesraw.production_companies)\n",
    "production_companies_df.show(truncate=False)"
   ]
  },
  {
   "cell_type": "code",
   "execution_count": 39,
   "id": "899d98c1-2fc5-47ff-9e41-01566cdf2591",
   "metadata": {},
   "outputs": [
    {
     "name": "stdout",
     "output_type": "stream",
     "text": [
      "+----------------------------------------------------------------------------------------------------------------------------------------------------------------------------------+\n",
      "|production_countries                                                                                                                                                              |\n",
      "+----------------------------------------------------------------------------------------------------------------------------------------------------------------------------------+\n",
      "|[{'iso_3166_1': 'US', 'name': 'United States of America'}]                                                                                                                        |\n",
      "|[{'iso_3166_1': 'US', 'name': 'United States of America'}]                                                                                                                        |\n",
      "|[{'iso_3166_1': 'US', 'name': 'United States of America'}]                                                                                                                        |\n",
      "|[{'iso_3166_1': 'US', 'name': 'United States of America'}]                                                                                                                        |\n",
      "|[{'iso_3166_1': 'US', 'name': 'United States of America'}]                                                                                                                        |\n",
      "|[{'iso_3166_1': 'US', 'name': 'United States of America'}]                                                                                                                        |\n",
      "|[{'iso_3166_1': 'DE', 'name': 'Germany'}, {'iso_3166_1': 'US', 'name': 'United States of America'}]                                                                               |\n",
      "|[{'iso_3166_1': 'US', 'name': 'United States of America'}]                                                                                                                        |\n",
      "|[{'iso_3166_1': 'US', 'name': 'United States of America'}]                                                                                                                        |\n",
      "|[{'iso_3166_1': 'GB', 'name': 'United Kingdom'}, {'iso_3166_1': 'US', 'name': 'United States of America'}]                                                                        |\n",
      "|[{'iso_3166_1': 'US', 'name': 'United States of America'}]                                                                                                                        |\n",
      "|[{'iso_3166_1': 'FR', 'name': 'France'}, {'iso_3166_1': 'US', 'name': 'United States of America'}]                                                                                |\n",
      "|[{'iso_3166_1': 'US', 'name': 'United States of America'}]                                                                                                                        |\n",
      "|[{'iso_3166_1': 'US', 'name': 'United States of America'}]                                                                                                                        |\n",
      "|[{'iso_3166_1': 'FR', 'name': 'France'}, {'iso_3166_1': 'DE', 'name': 'Germany'}, {'iso_3166_1': 'IT', 'name': 'Italy'}, {'iso_3166_1': 'US', 'name': 'United States of America'}]|\n",
      "|[{'iso_3166_1': 'FR', 'name': 'France'}, {'iso_3166_1': 'US', 'name': 'United States of America'}]                                                                                |\n",
      "|[{'iso_3166_1': 'GB', 'name': 'United Kingdom'}, {'iso_3166_1': 'US', 'name': 'United States of America'}]                                                                        |\n",
      "|[{'iso_3166_1': 'US', 'name': 'United States of America'}]                                                                                                                        |\n",
      "|[{'iso_3166_1': 'US', 'name': 'United States of America'}]                                                                                                                        |\n",
      "|[{'iso_3166_1': 'US', 'name': 'United States of America'}]                                                                                                                        |\n",
      "+----------------------------------------------------------------------------------------------------------------------------------------------------------------------------------+\n",
      "only showing top 20 rows\n",
      "\n"
     ]
    }
   ],
   "source": [
    "production_countries_df = moviesraw.select(moviesraw.production_countries)\n",
    "production_countries_df.show(truncate=False)"
   ]
  },
  {
   "cell_type": "code",
   "execution_count": 40,
   "id": "dc1974d9-a13e-4298-baea-6bcc14066f72",
   "metadata": {},
   "outputs": [
    {
     "name": "stdout",
     "output_type": "stream",
     "text": [
      "+------------------------------------------------------------------------------------------------------------------------+\n",
      "|spoken_languages                                                                                                        |\n",
      "+------------------------------------------------------------------------------------------------------------------------+\n",
      "|[{'iso_639_1': 'en', 'name': 'English'}]                                                                                |\n",
      "|[{'iso_639_1': 'en', 'name': 'English'}, {'iso_639_1': 'fr', 'name': 'Français'}]                                       |\n",
      "|[{'iso_639_1': 'en', 'name': 'English'}]                                                                                |\n",
      "|[{'iso_639_1': 'en', 'name': 'English'}]                                                                                |\n",
      "|[{'iso_639_1': 'en', 'name': 'English'}]                                                                                |\n",
      "|[{'iso_639_1': 'en', 'name': 'English'}, {'iso_639_1': 'es', 'name': 'Español'}]                                        |\n",
      "|[{'iso_639_1': 'fr', 'name': 'Français'}, {'iso_639_1': 'en', 'name': 'English'}]                                       |\n",
      "|[{'iso_639_1': 'en', 'name': 'English'}, {'iso_639_1': 'de', 'name': 'Deutsch'}]                                        |\n",
      "|[{'iso_639_1': 'en', 'name': 'English'}]                                                                                |\n",
      "|[{'iso_639_1': 'en', 'name': 'English'}, {'iso_639_1': 'ru', 'name': 'Pусский'}, {'iso_639_1': 'es', 'name': 'Español'}]|\n",
      "|[{'iso_639_1': 'en', 'name': 'English'}]                                                                                |\n",
      "|[{'iso_639_1': 'en', 'name': 'English'}, {'iso_639_1': 'de', 'name': 'Deutsch'}]                                        |\n",
      "|[{'iso_639_1': 'en', 'name': 'English'}]                                                                                |\n",
      "|[{'iso_639_1': 'en', 'name': 'English'}]                                                                                |\n",
      "|[{'iso_639_1': 'en', 'name': 'English'}, {'iso_639_1': 'la', 'name': 'Latin'}]                                          |\n",
      "|[{'iso_639_1': 'en', 'name': 'English'}]                                                                                |\n",
      "|[{'iso_639_1': 'en', 'name': 'English'}]                                                                                |\n",
      "|[{'iso_639_1': 'en', 'name': 'English'}]                                                                                |\n",
      "|[{'iso_639_1': 'en', 'name': 'English'}]                                                                                |\n",
      "|[{'iso_639_1': 'en', 'name': 'English'}]                                                                                |\n",
      "+------------------------------------------------------------------------------------------------------------------------+\n",
      "only showing top 20 rows\n",
      "\n"
     ]
    }
   ],
   "source": [
    "spoken_languages_df = moviesraw.select(moviesraw.spoken_languages)\n",
    "spoken_languages_df.show(truncate=False)"
   ]
  },
  {
   "cell_type": "code",
   "execution_count": 41,
   "id": "04e87b24-0caf-43cb-a4eb-a7d9897dc7b3",
   "metadata": {},
   "outputs": [
    {
     "name": "stdout",
     "output_type": "stream",
     "text": [
      "8894\n"
     ]
    }
   ],
   "source": [
    "movies_with_budget = moviesraw.filter(\"budget > 0\")\n",
    "print(str(movies_with_budget.count()))"
   ]
  },
  {
   "cell_type": "code",
   "execution_count": null,
   "id": "e220b342-05c9-4912-a0bf-3439cf11de6d",
   "metadata": {},
   "outputs": [],
   "source": [
    "You will see that the data is corrupt. That is because Spark is not able to understand the schema of the data. \n",
    "To fix this issue, we have to define a schema and tell spark that the csv has the schema we are telling. That will\n",
    "fix this problem."
   ]
  },
  {
   "cell_type": "code",
   "execution_count": 42,
   "id": "ecd0fd7b-96a2-4c78-b554-d07e99a65f83",
   "metadata": {},
   "outputs": [
    {
     "name": "stderr",
     "output_type": "stream",
     "text": [
      "                                                                                \r"
     ]
    },
    {
     "name": "stdout",
     "output_type": "stream",
     "text": [
      "+--------------------+-----+\n",
      "|               adult|count|\n",
      "+--------------------+-----+\n",
      "| An all-star cast...|    1|\n",
      "|  - Written by Ørnås|    1|\n",
      "| Guidi and Padre ...|    1|\n",
      "| This was also th...|    1|\n",
      "| Repackaged from ...|    1|\n",
      "| DOMENICA (second...|    1|\n",
      "| But this film is...|    1|\n",
      "| Sequel of Painte...|    1|\n",
      "| Robert Montgomer...|    1|\n",
      "|         In New York|    1|\n",
      "| In addition to K...|    1|\n",
      "| know the differe...|    1|\n",
      "| Fearing that thi...|    1|\n",
      "| The fairy tale f...|    1|\n",
      "|               False|45454|\n",
      "|               South|    1|\n",
      "| Gedorge Segal pl...|    1|\n",
      "| well as the diff...|    1|\n",
      "| The film is abou...|    1|\n",
      "| Succomberont-ils...|    1|\n",
      "+--------------------+-----+\n",
      "only showing top 20 rows\n",
      "\n"
     ]
    }
   ],
   "source": [
    "movies_by_adult = moviesraw.groupBy(moviesraw.adult).count()\n",
    "movies_by_adult.show()"
   ]
  },
  {
   "cell_type": "code",
   "execution_count": 28,
   "id": "f712830e-41b9-49aa-8353-078e0c0d1774",
   "metadata": {},
   "outputs": [
    {
     "name": "stderr",
     "output_type": "stream",
     "text": [
      "[Stage 55:================================================>         (5 + 1) / 6]\r"
     ]
    },
    {
     "name": "stdout",
     "output_type": "stream",
     "text": [
      "26024289\n"
     ]
    },
    {
     "name": "stderr",
     "output_type": "stream",
     "text": [
      "                                                                                \r"
     ]
    }
   ],
   "source": [
    "ratingsdf = spark.read.option(\"header\",\"true\").csv(\"/home/venkyuser/movielens/ratings.csv\")\n",
    "print(str(ratingsdf.count()))"
   ]
  },
  {
   "cell_type": "code",
   "execution_count": null,
   "id": "cffcc952-f426-4171-967b-1ce6f6153d41",
   "metadata": {},
   "outputs": [],
   "source": []
  }
 ],
 "metadata": {
  "kernelspec": {
   "display_name": "Python 3.8 - Spark (local)",
   "language": "python",
   "name": "spark-3-python"
  },
  "language_info": {
   "codemirror_mode": {
    "name": "ipython",
    "version": 3
   },
   "file_extension": ".py",
   "mimetype": "text/x-python",
   "name": "python",
   "nbconvert_exporter": "python",
   "pygments_lexer": "ipython3",
   "version": "3.8.13"
  }
 },
 "nbformat": 4,
 "nbformat_minor": 5
}
