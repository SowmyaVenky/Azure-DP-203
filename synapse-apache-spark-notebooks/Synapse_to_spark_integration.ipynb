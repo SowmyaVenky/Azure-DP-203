{
  "cells": [
    {
      "cell_type": "code",
      "source": [
        "%%pyspark\r\n",
        "df = spark.read \\\r\n",
        ".option('inferSchema', 'true') \\\r\n",
        ".json('abfss://raw042772@vksa042772.dfs.core.windows.net/wwi-02/online-user-profiles-02/', multiLine=True)\r\n",
        "display(df.limit(10))"
      ],
      "outputs": [
        {
          "output_type": "display_data",
          "data": {
            "application/vnd.livy.statement-meta+json": {
              "spark_pool": "venkysparkpool",
              "session_id": 3,
              "statement_id": 2,
              "state": "finished",
              "livy_statement_state": "available",
              "queued_time": "2022-05-25T02:13:54.9339859Z",
              "session_start_time": null,
              "execution_start_time": "2022-05-25T02:14:48.1965611Z",
              "execution_finish_time": "2022-05-25T02:15:13.2603526Z"
            },
            "text/plain": "StatementMeta(venkysparkpool, 3, 2, Finished, Available)"
          },
          "metadata": {}
        },
        {
          "output_type": "display_data",
          "data": {
            "application/vnd.synapse.widget-view+json": {
              "widget_id": "04079d95-3f50-4e8c-84f1-5743f2b27bc4",
              "widget_type": "Synapse.DataFrame"
            },
            "text/plain": "SynapseWidget(Synapse.DataFrame, 04079d95-3f50-4e8c-84f1-5743f2b27bc4)"
          },
          "metadata": {}
        }
      ],
      "execution_count": 2,
      "metadata": {
        "microsoft": {
          "language": "python"
        },
        "collapsed": false
      }
    },
    {
      "cell_type": "code",
      "source": [
        "df.printSchema()"
      ],
      "outputs": [
        {
          "output_type": "display_data",
          "data": {
            "application/vnd.livy.statement-meta+json": {
              "spark_pool": "venkysparkpool",
              "session_id": 3,
              "statement_id": 3,
              "state": "finished",
              "livy_statement_state": "available",
              "queued_time": "2022-05-25T02:15:46.1640162Z",
              "session_start_time": null,
              "execution_start_time": "2022-05-25T02:15:46.2817622Z",
              "execution_finish_time": "2022-05-25T02:15:46.4383476Z"
            },
            "text/plain": "StatementMeta(venkysparkpool, 3, 3, Finished, Available)"
          },
          "metadata": {}
        },
        {
          "output_type": "stream",
          "name": "stdout",
          "text": [
            "root\n |-- topProductPurchases: array (nullable = true)\n |    |-- element: struct (containsNull = true)\n |    |    |-- itemsPurchasedLast12Months: long (nullable = true)\n |    |    |-- productId: long (nullable = true)\n |-- visitorId: long (nullable = true)"
          ]
        }
      ],
      "execution_count": 3,
      "metadata": {
        "jupyter": {
          "source_hidden": false,
          "outputs_hidden": false
        },
        "nteract": {
          "transient": {
            "deleting": false
          }
        }
      }
    },
    {
      "cell_type": "code",
      "source": [
        "df.createOrReplaceTempView('user_profiles')"
      ],
      "outputs": [
        {
          "output_type": "display_data",
          "data": {
            "application/vnd.livy.statement-meta+json": {
              "spark_pool": "venkysparkpool",
              "session_id": 3,
              "statement_id": 4,
              "state": "finished",
              "livy_statement_state": "available",
              "queued_time": "2022-05-25T02:16:31.8218892Z",
              "session_start_time": null,
              "execution_start_time": "2022-05-25T02:16:31.9660219Z",
              "execution_finish_time": "2022-05-25T02:16:32.481723Z"
            },
            "text/plain": "StatementMeta(venkysparkpool, 3, 4, Finished, Available)"
          },
          "metadata": {}
        }
      ],
      "execution_count": 4,
      "metadata": {
        "jupyter": {
          "source_hidden": false,
          "outputs_hidden": false
        },
        "nteract": {
          "transient": {
            "deleting": false
          }
        }
      }
    },
    {
      "cell_type": "code",
      "source": [
        "%%sql\r\n",
        "select * from user_profiles limit 10"
      ],
      "outputs": [
        {
          "output_type": "display_data",
          "data": {
            "application/vnd.livy.statement-meta+json": {
              "spark_pool": "venkysparkpool",
              "session_id": 3,
              "statement_id": 6,
              "state": "finished",
              "livy_statement_state": "available",
              "queued_time": "2022-05-25T02:17:11.8381954Z",
              "session_start_time": null,
              "execution_start_time": "2022-05-25T02:17:11.9716339Z",
              "execution_finish_time": "2022-05-25T02:17:13.7962957Z"
            },
            "text/plain": "StatementMeta(venkysparkpool, 3, 6, Finished, Available)"
          },
          "metadata": {}
        },
        {
          "output_type": "execute_result",
          "execution_count": 6,
          "data": {
            "application/vnd.synapse.sparksql-result+json": {
              "schema": {
                "type": "struct",
                "fields": [
                  {
                    "name": "topProductPurchases",
                    "type": {
                      "type": "array",
                      "elementType": {
                        "type": "struct",
                        "fields": [
                          {
                            "name": "itemsPurchasedLast12Months",
                            "type": "long",
                            "nullable": true,
                            "metadata": {}
                          },
                          {
                            "name": "productId",
                            "type": "long",
                            "nullable": true,
                            "metadata": {}
                          }
                        ]
                      },
                      "containsNull": true
                    },
                    "nullable": true,
                    "metadata": {}
                  },
                  {
                    "name": "visitorId",
                    "type": "long",
                    "nullable": true,
                    "metadata": {}
                  }
                ]
              },
              "data": [
                [
                  [
                    {
                      "schema": [
                        {
                          "name": "itemsPurchasedLast12Months",
                          "dataType": {},
                          "nullable": true,
                          "metadata": {
                            "map": {}
                          }
                        },
                        {
                          "name": "productId",
                          "dataType": {},
                          "nullable": true,
                          "metadata": {
                            "map": {}
                          }
                        }
                      ],
                      "values": [
                        "13",
                        "3623"
                      ]
                    },
                    {
                      "schema": [
                        {
                          "name": "itemsPurchasedLast12Months",
                          "dataType": {},
                          "nullable": true,
                          "metadata": {
                            "map": {}
                          }
                        },
                        {
                          "name": "productId",
                          "dataType": {},
                          "nullable": true,
                          "metadata": {
                            "map": {}
                          }
                        }
                      ],
                      "values": [
                        "5",
                        "2321"
                      ]
                    }
                  ],
                  "117000"
                ],
                [
                  [
                    {
                      "schema": [
                        {
                          "name": "itemsPurchasedLast12Months",
                          "dataType": {},
                          "nullable": true,
                          "metadata": {
                            "map": {}
                          }
                        },
                        {
                          "name": "productId",
                          "dataType": {},
                          "nullable": true,
                          "metadata": {
                            "map": {}
                          }
                        }
                      ],
                      "values": [
                        "93",
                        "713"
                      ]
                    },
                    {
                      "schema": [
                        {
                          "name": "itemsPurchasedLast12Months",
                          "dataType": {},
                          "nullable": true,
                          "metadata": {
                            "map": {}
                          }
                        },
                        {
                          "name": "productId",
                          "dataType": {},
                          "nullable": true,
                          "metadata": {
                            "map": {}
                          }
                        }
                      ],
                      "values": [
                        "19",
                        "2144"
                      ]
                    },
                    {
                      "schema": [
                        {
                          "name": "itemsPurchasedLast12Months",
                          "dataType": {},
                          "nullable": true,
                          "metadata": {
                            "map": {}
                          }
                        },
                        {
                          "name": "productId",
                          "dataType": {},
                          "nullable": true,
                          "metadata": {
                            "map": {}
                          }
                        }
                      ],
                      "values": [
                        "30",
                        "1094"
                      ]
                    },
                    {
                      "schema": [
                        {
                          "name": "itemsPurchasedLast12Months",
                          "dataType": {},
                          "nullable": true,
                          "metadata": {
                            "map": {}
                          }
                        },
                        {
                          "name": "productId",
                          "dataType": {},
                          "nullable": true,
                          "metadata": {
                            "map": {}
                          }
                        }
                      ],
                      "values": [
                        "82",
                        "3223"
                      ]
                    },
                    {
                      "schema": [
                        {
                          "name": "itemsPurchasedLast12Months",
                          "dataType": {},
                          "nullable": true,
                          "metadata": {
                            "map": {}
                          }
                        },
                        {
                          "name": "productId",
                          "dataType": {},
                          "nullable": true,
                          "metadata": {
                            "map": {}
                          }
                        }
                      ],
                      "values": [
                        "42",
                        "3328"
                      ]
                    },
                    {
                      "schema": [
                        {
                          "name": "itemsPurchasedLast12Months",
                          "dataType": {},
                          "nullable": true,
                          "metadata": {
                            "map": {}
                          }
                        },
                        {
                          "name": "productId",
                          "dataType": {},
                          "nullable": true,
                          "metadata": {
                            "map": {}
                          }
                        }
                      ],
                      "values": [
                        "62",
                        "2926"
                      ]
                    },
                    {
                      "schema": [
                        {
                          "name": "itemsPurchasedLast12Months",
                          "dataType": {},
                          "nullable": true,
                          "metadata": {
                            "map": {}
                          }
                        },
                        {
                          "name": "productId",
                          "dataType": {},
                          "nullable": true,
                          "metadata": {
                            "map": {}
                          }
                        }
                      ],
                      "values": [
                        "63",
                        "2651"
                      ]
                    },
                    {
                      "schema": [
                        {
                          "name": "itemsPurchasedLast12Months",
                          "dataType": {},
                          "nullable": true,
                          "metadata": {
                            "map": {}
                          }
                        },
                        {
                          "name": "productId",
                          "dataType": {},
                          "nullable": true,
                          "metadata": {
                            "map": {}
                          }
                        }
                      ],
                      "values": [
                        "39",
                        "341"
                      ]
                    },
                    {
                      "schema": [
                        {
                          "name": "itemsPurchasedLast12Months",
                          "dataType": {},
                          "nullable": true,
                          "metadata": {
                            "map": {}
                          }
                        },
                        {
                          "name": "productId",
                          "dataType": {},
                          "nullable": true,
                          "metadata": {
                            "map": {}
                          }
                        }
                      ],
                      "values": [
                        "85",
                        "4841"
                      ]
                    },
                    {
                      "schema": [
                        {
                          "name": "itemsPurchasedLast12Months",
                          "dataType": {},
                          "nullable": true,
                          "metadata": {
                            "map": {}
                          }
                        },
                        {
                          "name": "productId",
                          "dataType": {},
                          "nullable": true,
                          "metadata": {
                            "map": {}
                          }
                        }
                      ],
                      "values": [
                        "67",
                        "4289"
                      ]
                    },
                    {
                      "schema": [
                        {
                          "name": "itemsPurchasedLast12Months",
                          "dataType": {},
                          "nullable": true,
                          "metadata": {
                            "map": {}
                          }
                        },
                        {
                          "name": "productId",
                          "dataType": {},
                          "nullable": true,
                          "metadata": {
                            "map": {}
                          }
                        }
                      ],
                      "values": [
                        "42",
                        "1264"
                      ]
                    },
                    {
                      "schema": [
                        {
                          "name": "itemsPurchasedLast12Months",
                          "dataType": {},
                          "nullable": true,
                          "metadata": {
                            "map": {}
                          }
                        },
                        {
                          "name": "productId",
                          "dataType": {},
                          "nullable": true,
                          "metadata": {
                            "map": {}
                          }
                        }
                      ],
                      "values": [
                        "43",
                        "3608"
                      ]
                    },
                    {
                      "schema": [
                        {
                          "name": "itemsPurchasedLast12Months",
                          "dataType": {},
                          "nullable": true,
                          "metadata": {
                            "map": {}
                          }
                        },
                        {
                          "name": "productId",
                          "dataType": {},
                          "nullable": true,
                          "metadata": {
                            "map": {}
                          }
                        }
                      ],
                      "values": [
                        "14",
                        "504"
                      ]
                    },
                    {
                      "schema": [
                        {
                          "name": "itemsPurchasedLast12Months",
                          "dataType": {},
                          "nullable": true,
                          "metadata": {
                            "map": {}
                          }
                        },
                        {
                          "name": "productId",
                          "dataType": {},
                          "nullable": true,
                          "metadata": {
                            "map": {}
                          }
                        }
                      ],
                      "values": [
                        "97",
                        "2649"
                      ]
                    },
                    {
                      "schema": [
                        {
                          "name": "itemsPurchasedLast12Months",
                          "dataType": {},
                          "nullable": true,
                          "metadata": {
                            "map": {}
                          }
                        },
                        {
                          "name": "productId",
                          "dataType": {},
                          "nullable": true,
                          "metadata": {
                            "map": {}
                          }
                        }
                      ],
                      "values": [
                        "44",
                        "2873"
                      ]
                    },
                    {
                      "schema": [
                        {
                          "name": "itemsPurchasedLast12Months",
                          "dataType": {},
                          "nullable": true,
                          "metadata": {
                            "map": {}
                          }
                        },
                        {
                          "name": "productId",
                          "dataType": {},
                          "nullable": true,
                          "metadata": {
                            "map": {}
                          }
                        }
                      ],
                      "values": [
                        "7",
                        "4491"
                      ]
                    },
                    {
                      "schema": [
                        {
                          "name": "itemsPurchasedLast12Months",
                          "dataType": {},
                          "nullable": true,
                          "metadata": {
                            "map": {}
                          }
                        },
                        {
                          "name": "productId",
                          "dataType": {},
                          "nullable": true,
                          "metadata": {
                            "map": {}
                          }
                        }
                      ],
                      "values": [
                        "70",
                        "3623"
                      ]
                    },
                    {
                      "schema": [
                        {
                          "name": "itemsPurchasedLast12Months",
                          "dataType": {},
                          "nullable": true,
                          "metadata": {
                            "map": {}
                          }
                        },
                        {
                          "name": "productId",
                          "dataType": {},
                          "nullable": true,
                          "metadata": {
                            "map": {}
                          }
                        }
                      ],
                      "values": [
                        "4",
                        "4035"
                      ]
                    },
                    {
                      "schema": [
                        {
                          "name": "itemsPurchasedLast12Months",
                          "dataType": {},
                          "nullable": true,
                          "metadata": {
                            "map": {}
                          }
                        },
                        {
                          "name": "productId",
                          "dataType": {},
                          "nullable": true,
                          "metadata": {
                            "map": {}
                          }
                        }
                      ],
                      "values": [
                        "45",
                        "3576"
                      ]
                    }
                  ],
                  "117001"
                ],
                [
                  [
                    {
                      "schema": [
                        {
                          "name": "itemsPurchasedLast12Months",
                          "dataType": {},
                          "nullable": true,
                          "metadata": {
                            "map": {}
                          }
                        },
                        {
                          "name": "productId",
                          "dataType": {},
                          "nullable": true,
                          "metadata": {
                            "map": {}
                          }
                        }
                      ],
                      "values": [
                        "25",
                        "478"
                      ]
                    },
                    {
                      "schema": [
                        {
                          "name": "itemsPurchasedLast12Months",
                          "dataType": {},
                          "nullable": true,
                          "metadata": {
                            "map": {}
                          }
                        },
                        {
                          "name": "productId",
                          "dataType": {},
                          "nullable": true,
                          "metadata": {
                            "map": {}
                          }
                        }
                      ],
                      "values": [
                        "15",
                        "2515"
                      ]
                    },
                    {
                      "schema": [
                        {
                          "name": "itemsPurchasedLast12Months",
                          "dataType": {},
                          "nullable": true,
                          "metadata": {
                            "map": {}
                          }
                        },
                        {
                          "name": "productId",
                          "dataType": {},
                          "nullable": true,
                          "metadata": {
                            "map": {}
                          }
                        }
                      ],
                      "values": [
                        "34",
                        "209"
                      ]
                    },
                    {
                      "schema": [
                        {
                          "name": "itemsPurchasedLast12Months",
                          "dataType": {},
                          "nullable": true,
                          "metadata": {
                            "map": {}
                          }
                        },
                        {
                          "name": "productId",
                          "dataType": {},
                          "nullable": true,
                          "metadata": {
                            "map": {}
                          }
                        }
                      ],
                      "values": [
                        "60",
                        "4412"
                      ]
                    }
                  ],
                  "117002"
                ],
                [
                  [
                    {
                      "schema": [
                        {
                          "name": "itemsPurchasedLast12Months",
                          "dataType": {},
                          "nullable": true,
                          "metadata": {
                            "map": {}
                          }
                        },
                        {
                          "name": "productId",
                          "dataType": {},
                          "nullable": true,
                          "metadata": {
                            "map": {}
                          }
                        }
                      ],
                      "values": [
                        "72",
                        "2396"
                      ]
                    },
                    {
                      "schema": [
                        {
                          "name": "itemsPurchasedLast12Months",
                          "dataType": {},
                          "nullable": true,
                          "metadata": {
                            "map": {}
                          }
                        },
                        {
                          "name": "productId",
                          "dataType": {},
                          "nullable": true,
                          "metadata": {
                            "map": {}
                          }
                        }
                      ],
                      "values": [
                        "8",
                        "1862"
                      ]
                    },
                    {
                      "schema": [
                        {
                          "name": "itemsPurchasedLast12Months",
                          "dataType": {},
                          "nullable": true,
                          "metadata": {
                            "map": {}
                          }
                        },
                        {
                          "name": "productId",
                          "dataType": {},
                          "nullable": true,
                          "metadata": {
                            "map": {}
                          }
                        }
                      ],
                      "values": [
                        "96",
                        "720"
                      ]
                    },
                    {
                      "schema": [
                        {
                          "name": "itemsPurchasedLast12Months",
                          "dataType": {},
                          "nullable": true,
                          "metadata": {
                            "map": {}
                          }
                        },
                        {
                          "name": "productId",
                          "dataType": {},
                          "nullable": true,
                          "metadata": {
                            "map": {}
                          }
                        }
                      ],
                      "values": [
                        "93",
                        "3735"
                      ]
                    },
                    {
                      "schema": [
                        {
                          "name": "itemsPurchasedLast12Months",
                          "dataType": {},
                          "nullable": true,
                          "metadata": {
                            "map": {}
                          }
                        },
                        {
                          "name": "productId",
                          "dataType": {},
                          "nullable": true,
                          "metadata": {
                            "map": {}
                          }
                        }
                      ],
                      "values": [
                        "80",
                        "582"
                      ]
                    },
                    {
                      "schema": [
                        {
                          "name": "itemsPurchasedLast12Months",
                          "dataType": {},
                          "nullable": true,
                          "metadata": {
                            "map": {}
                          }
                        },
                        {
                          "name": "productId",
                          "dataType": {},
                          "nullable": true,
                          "metadata": {
                            "map": {}
                          }
                        }
                      ],
                      "values": [
                        "8",
                        "2566"
                      ]
                    },
                    {
                      "schema": [
                        {
                          "name": "itemsPurchasedLast12Months",
                          "dataType": {},
                          "nullable": true,
                          "metadata": {
                            "map": {}
                          }
                        },
                        {
                          "name": "productId",
                          "dataType": {},
                          "nullable": true,
                          "metadata": {
                            "map": {}
                          }
                        }
                      ],
                      "values": [
                        "79",
                        "1895"
                      ]
                    },
                    {
                      "schema": [
                        {
                          "name": "itemsPurchasedLast12Months",
                          "dataType": {},
                          "nullable": true,
                          "metadata": {
                            "map": {}
                          }
                        },
                        {
                          "name": "productId",
                          "dataType": {},
                          "nullable": true,
                          "metadata": {
                            "map": {}
                          }
                        }
                      ],
                      "values": [
                        "97",
                        "1967"
                      ]
                    },
                    {
                      "schema": [
                        {
                          "name": "itemsPurchasedLast12Months",
                          "dataType": {},
                          "nullable": true,
                          "metadata": {
                            "map": {}
                          }
                        },
                        {
                          "name": "productId",
                          "dataType": {},
                          "nullable": true,
                          "metadata": {
                            "map": {}
                          }
                        }
                      ],
                      "values": [
                        "65",
                        "304"
                      ]
                    },
                    {
                      "schema": [
                        {
                          "name": "itemsPurchasedLast12Months",
                          "dataType": {},
                          "nullable": true,
                          "metadata": {
                            "map": {}
                          }
                        },
                        {
                          "name": "productId",
                          "dataType": {},
                          "nullable": true,
                          "metadata": {
                            "map": {}
                          }
                        }
                      ],
                      "values": [
                        "40",
                        "1127"
                      ]
                    },
                    {
                      "schema": [
                        {
                          "name": "itemsPurchasedLast12Months",
                          "dataType": {},
                          "nullable": true,
                          "metadata": {
                            "map": {}
                          }
                        },
                        {
                          "name": "productId",
                          "dataType": {},
                          "nullable": true,
                          "metadata": {
                            "map": {}
                          }
                        }
                      ],
                      "values": [
                        "94",
                        "1268"
                      ]
                    },
                    {
                      "schema": [
                        {
                          "name": "itemsPurchasedLast12Months",
                          "dataType": {},
                          "nullable": true,
                          "metadata": {
                            "map": {}
                          }
                        },
                        {
                          "name": "productId",
                          "dataType": {},
                          "nullable": true,
                          "metadata": {
                            "map": {}
                          }
                        }
                      ],
                      "values": [
                        "62",
                        "4832"
                      ]
                    },
                    {
                      "schema": [
                        {
                          "name": "itemsPurchasedLast12Months",
                          "dataType": {},
                          "nullable": true,
                          "metadata": {
                            "map": {}
                          }
                        },
                        {
                          "name": "productId",
                          "dataType": {},
                          "nullable": true,
                          "metadata": {
                            "map": {}
                          }
                        }
                      ],
                      "values": [
                        "73",
                        "2885"
                      ]
                    },
                    {
                      "schema": [
                        {
                          "name": "itemsPurchasedLast12Months",
                          "dataType": {},
                          "nullable": true,
                          "metadata": {
                            "map": {}
                          }
                        },
                        {
                          "name": "productId",
                          "dataType": {},
                          "nullable": true,
                          "metadata": {
                            "map": {}
                          }
                        }
                      ],
                      "values": [
                        "42",
                        "3746"
                      ]
                    },
                    {
                      "schema": [
                        {
                          "name": "itemsPurchasedLast12Months",
                          "dataType": {},
                          "nullable": true,
                          "metadata": {
                            "map": {}
                          }
                        },
                        {
                          "name": "productId",
                          "dataType": {},
                          "nullable": true,
                          "metadata": {
                            "map": {}
                          }
                        }
                      ],
                      "values": [
                        "70",
                        "3475"
                      ]
                    }
                  ],
                  "117003"
                ],
                [
                  [
                    {
                      "schema": [
                        {
                          "name": "itemsPurchasedLast12Months",
                          "dataType": {},
                          "nullable": true,
                          "metadata": {
                            "map": {}
                          }
                        },
                        {
                          "name": "productId",
                          "dataType": {},
                          "nullable": true,
                          "metadata": {
                            "map": {}
                          }
                        }
                      ],
                      "values": [
                        "34",
                        "2453"
                      ]
                    },
                    {
                      "schema": [
                        {
                          "name": "itemsPurchasedLast12Months",
                          "dataType": {},
                          "nullable": true,
                          "metadata": {
                            "map": {}
                          }
                        },
                        {
                          "name": "productId",
                          "dataType": {},
                          "nullable": true,
                          "metadata": {
                            "map": {}
                          }
                        }
                      ],
                      "values": [
                        "73",
                        "3989"
                      ]
                    },
                    {
                      "schema": [
                        {
                          "name": "itemsPurchasedLast12Months",
                          "dataType": {},
                          "nullable": true,
                          "metadata": {
                            "map": {}
                          }
                        },
                        {
                          "name": "productId",
                          "dataType": {},
                          "nullable": true,
                          "metadata": {
                            "map": {}
                          }
                        }
                      ],
                      "values": [
                        "33",
                        "2768"
                      ]
                    },
                    {
                      "schema": [
                        {
                          "name": "itemsPurchasedLast12Months",
                          "dataType": {},
                          "nullable": true,
                          "metadata": {
                            "map": {}
                          }
                        },
                        {
                          "name": "productId",
                          "dataType": {},
                          "nullable": true,
                          "metadata": {
                            "map": {}
                          }
                        }
                      ],
                      "values": [
                        "78",
                        "1128"
                      ]
                    }
                  ],
                  "117004"
                ],
                [
                  [
                    {
                      "schema": [
                        {
                          "name": "itemsPurchasedLast12Months",
                          "dataType": {},
                          "nullable": true,
                          "metadata": {
                            "map": {}
                          }
                        },
                        {
                          "name": "productId",
                          "dataType": {},
                          "nullable": true,
                          "metadata": {
                            "map": {}
                          }
                        }
                      ],
                      "values": [
                        "69",
                        "1564"
                      ]
                    },
                    {
                      "schema": [
                        {
                          "name": "itemsPurchasedLast12Months",
                          "dataType": {},
                          "nullable": true,
                          "metadata": {
                            "map": {}
                          }
                        },
                        {
                          "name": "productId",
                          "dataType": {},
                          "nullable": true,
                          "metadata": {
                            "map": {}
                          }
                        }
                      ],
                      "values": [
                        "24",
                        "936"
                      ]
                    },
                    {
                      "schema": [
                        {
                          "name": "itemsPurchasedLast12Months",
                          "dataType": {},
                          "nullable": true,
                          "metadata": {
                            "map": {}
                          }
                        },
                        {
                          "name": "productId",
                          "dataType": {},
                          "nullable": true,
                          "metadata": {
                            "map": {}
                          }
                        }
                      ],
                      "values": [
                        "99",
                        "1885"
                      ]
                    },
                    {
                      "schema": [
                        {
                          "name": "itemsPurchasedLast12Months",
                          "dataType": {},
                          "nullable": true,
                          "metadata": {
                            "map": {}
                          }
                        },
                        {
                          "name": "productId",
                          "dataType": {},
                          "nullable": true,
                          "metadata": {
                            "map": {}
                          }
                        }
                      ],
                      "values": [
                        "9",
                        "1737"
                      ]
                    },
                    {
                      "schema": [
                        {
                          "name": "itemsPurchasedLast12Months",
                          "dataType": {},
                          "nullable": true,
                          "metadata": {
                            "map": {}
                          }
                        },
                        {
                          "name": "productId",
                          "dataType": {},
                          "nullable": true,
                          "metadata": {
                            "map": {}
                          }
                        }
                      ],
                      "values": [
                        "96",
                        "4200"
                      ]
                    },
                    {
                      "schema": [
                        {
                          "name": "itemsPurchasedLast12Months",
                          "dataType": {},
                          "nullable": true,
                          "metadata": {
                            "map": {}
                          }
                        },
                        {
                          "name": "productId",
                          "dataType": {},
                          "nullable": true,
                          "metadata": {
                            "map": {}
                          }
                        }
                      ],
                      "values": [
                        "8",
                        "2020"
                      ]
                    },
                    {
                      "schema": [
                        {
                          "name": "itemsPurchasedLast12Months",
                          "dataType": {},
                          "nullable": true,
                          "metadata": {
                            "map": {}
                          }
                        },
                        {
                          "name": "productId",
                          "dataType": {},
                          "nullable": true,
                          "metadata": {
                            "map": {}
                          }
                        }
                      ],
                      "values": [
                        "74",
                        "4439"
                      ]
                    }
                  ],
                  "117005"
                ],
                [
                  [
                    {
                      "schema": [
                        {
                          "name": "itemsPurchasedLast12Months",
                          "dataType": {},
                          "nullable": true,
                          "metadata": {
                            "map": {}
                          }
                        },
                        {
                          "name": "productId",
                          "dataType": {},
                          "nullable": true,
                          "metadata": {
                            "map": {}
                          }
                        }
                      ],
                      "values": [
                        "55",
                        "3020"
                      ]
                    },
                    {
                      "schema": [
                        {
                          "name": "itemsPurchasedLast12Months",
                          "dataType": {},
                          "nullable": true,
                          "metadata": {
                            "map": {}
                          }
                        },
                        {
                          "name": "productId",
                          "dataType": {},
                          "nullable": true,
                          "metadata": {
                            "map": {}
                          }
                        }
                      ],
                      "values": [
                        "58",
                        "2379"
                      ]
                    },
                    {
                      "schema": [
                        {
                          "name": "itemsPurchasedLast12Months",
                          "dataType": {},
                          "nullable": true,
                          "metadata": {
                            "map": {}
                          }
                        },
                        {
                          "name": "productId",
                          "dataType": {},
                          "nullable": true,
                          "metadata": {
                            "map": {}
                          }
                        }
                      ],
                      "values": [
                        "45",
                        "4773"
                      ]
                    },
                    {
                      "schema": [
                        {
                          "name": "itemsPurchasedLast12Months",
                          "dataType": {},
                          "nullable": true,
                          "metadata": {
                            "map": {}
                          }
                        },
                        {
                          "name": "productId",
                          "dataType": {},
                          "nullable": true,
                          "metadata": {
                            "map": {}
                          }
                        }
                      ],
                      "values": [
                        "18",
                        "2042"
                      ]
                    },
                    {
                      "schema": [
                        {
                          "name": "itemsPurchasedLast12Months",
                          "dataType": {},
                          "nullable": true,
                          "metadata": {
                            "map": {}
                          }
                        },
                        {
                          "name": "productId",
                          "dataType": {},
                          "nullable": true,
                          "metadata": {
                            "map": {}
                          }
                        }
                      ],
                      "values": [
                        "28",
                        "4060"
                      ]
                    },
                    {
                      "schema": [
                        {
                          "name": "itemsPurchasedLast12Months",
                          "dataType": {},
                          "nullable": true,
                          "metadata": {
                            "map": {}
                          }
                        },
                        {
                          "name": "productId",
                          "dataType": {},
                          "nullable": true,
                          "metadata": {
                            "map": {}
                          }
                        }
                      ],
                      "values": [
                        "44",
                        "4214"
                      ]
                    },
                    {
                      "schema": [
                        {
                          "name": "itemsPurchasedLast12Months",
                          "dataType": {},
                          "nullable": true,
                          "metadata": {
                            "map": {}
                          }
                        },
                        {
                          "name": "productId",
                          "dataType": {},
                          "nullable": true,
                          "metadata": {
                            "map": {}
                          }
                        }
                      ],
                      "values": [
                        "1",
                        "2874"
                      ]
                    },
                    {
                      "schema": [
                        {
                          "name": "itemsPurchasedLast12Months",
                          "dataType": {},
                          "nullable": true,
                          "metadata": {
                            "map": {}
                          }
                        },
                        {
                          "name": "productId",
                          "dataType": {},
                          "nullable": true,
                          "metadata": {
                            "map": {}
                          }
                        }
                      ],
                      "values": [
                        "10",
                        "1091"
                      ]
                    },
                    {
                      "schema": [
                        {
                          "name": "itemsPurchasedLast12Months",
                          "dataType": {},
                          "nullable": true,
                          "metadata": {
                            "map": {}
                          }
                        },
                        {
                          "name": "productId",
                          "dataType": {},
                          "nullable": true,
                          "metadata": {
                            "map": {}
                          }
                        }
                      ],
                      "values": [
                        "58",
                        "4054"
                      ]
                    },
                    {
                      "schema": [
                        {
                          "name": "itemsPurchasedLast12Months",
                          "dataType": {},
                          "nullable": true,
                          "metadata": {
                            "map": {}
                          }
                        },
                        {
                          "name": "productId",
                          "dataType": {},
                          "nullable": true,
                          "metadata": {
                            "map": {}
                          }
                        }
                      ],
                      "values": [
                        "48",
                        "1339"
                      ]
                    },
                    {
                      "schema": [
                        {
                          "name": "itemsPurchasedLast12Months",
                          "dataType": {},
                          "nullable": true,
                          "metadata": {
                            "map": {}
                          }
                        },
                        {
                          "name": "productId",
                          "dataType": {},
                          "nullable": true,
                          "metadata": {
                            "map": {}
                          }
                        }
                      ],
                      "values": [
                        "77",
                        "3112"
                      ]
                    },
                    {
                      "schema": [
                        {
                          "name": "itemsPurchasedLast12Months",
                          "dataType": {},
                          "nullable": true,
                          "metadata": {
                            "map": {}
                          }
                        },
                        {
                          "name": "productId",
                          "dataType": {},
                          "nullable": true,
                          "metadata": {
                            "map": {}
                          }
                        }
                      ],
                      "values": [
                        "83",
                        "41"
                      ]
                    },
                    {
                      "schema": [
                        {
                          "name": "itemsPurchasedLast12Months",
                          "dataType": {},
                          "nullable": true,
                          "metadata": {
                            "map": {}
                          }
                        },
                        {
                          "name": "productId",
                          "dataType": {},
                          "nullable": true,
                          "metadata": {
                            "map": {}
                          }
                        }
                      ],
                      "values": [
                        "56",
                        "2100"
                      ]
                    }
                  ],
                  "117006"
                ],
                [
                  [
                    {
                      "schema": [
                        {
                          "name": "itemsPurchasedLast12Months",
                          "dataType": {},
                          "nullable": true,
                          "metadata": {
                            "map": {}
                          }
                        },
                        {
                          "name": "productId",
                          "dataType": {},
                          "nullable": true,
                          "metadata": {
                            "map": {}
                          }
                        }
                      ],
                      "values": [
                        "63",
                        "1988"
                      ]
                    },
                    {
                      "schema": [
                        {
                          "name": "itemsPurchasedLast12Months",
                          "dataType": {},
                          "nullable": true,
                          "metadata": {
                            "map": {}
                          }
                        },
                        {
                          "name": "productId",
                          "dataType": {},
                          "nullable": true,
                          "metadata": {
                            "map": {}
                          }
                        }
                      ],
                      "values": [
                        "77",
                        "817"
                      ]
                    },
                    {
                      "schema": [
                        {
                          "name": "itemsPurchasedLast12Months",
                          "dataType": {},
                          "nullable": true,
                          "metadata": {
                            "map": {}
                          }
                        },
                        {
                          "name": "productId",
                          "dataType": {},
                          "nullable": true,
                          "metadata": {
                            "map": {}
                          }
                        }
                      ],
                      "values": [
                        "5",
                        "921"
                      ]
                    },
                    {
                      "schema": [
                        {
                          "name": "itemsPurchasedLast12Months",
                          "dataType": {},
                          "nullable": true,
                          "metadata": {
                            "map": {}
                          }
                        },
                        {
                          "name": "productId",
                          "dataType": {},
                          "nullable": true,
                          "metadata": {
                            "map": {}
                          }
                        }
                      ],
                      "values": [
                        "23",
                        "2518"
                      ]
                    },
                    {
                      "schema": [
                        {
                          "name": "itemsPurchasedLast12Months",
                          "dataType": {},
                          "nullable": true,
                          "metadata": {
                            "map": {}
                          }
                        },
                        {
                          "name": "productId",
                          "dataType": {},
                          "nullable": true,
                          "metadata": {
                            "map": {}
                          }
                        }
                      ],
                      "values": [
                        "15",
                        "2743"
                      ]
                    }
                  ],
                  "117007"
                ],
                [
                  [
                    {
                      "schema": [
                        {
                          "name": "itemsPurchasedLast12Months",
                          "dataType": {},
                          "nullable": true,
                          "metadata": {
                            "map": {}
                          }
                        },
                        {
                          "name": "productId",
                          "dataType": {},
                          "nullable": true,
                          "metadata": {
                            "map": {}
                          }
                        }
                      ],
                      "values": [
                        "51",
                        "4385"
                      ]
                    },
                    {
                      "schema": [
                        {
                          "name": "itemsPurchasedLast12Months",
                          "dataType": {},
                          "nullable": true,
                          "metadata": {
                            "map": {}
                          }
                        },
                        {
                          "name": "productId",
                          "dataType": {},
                          "nullable": true,
                          "metadata": {
                            "map": {}
                          }
                        }
                      ],
                      "values": [
                        "77",
                        "3150"
                      ]
                    },
                    {
                      "schema": [
                        {
                          "name": "itemsPurchasedLast12Months",
                          "dataType": {},
                          "nullable": true,
                          "metadata": {
                            "map": {}
                          }
                        },
                        {
                          "name": "productId",
                          "dataType": {},
                          "nullable": true,
                          "metadata": {
                            "map": {}
                          }
                        }
                      ],
                      "values": [
                        "29",
                        "4636"
                      ]
                    },
                    {
                      "schema": [
                        {
                          "name": "itemsPurchasedLast12Months",
                          "dataType": {},
                          "nullable": true,
                          "metadata": {
                            "map": {}
                          }
                        },
                        {
                          "name": "productId",
                          "dataType": {},
                          "nullable": true,
                          "metadata": {
                            "map": {}
                          }
                        }
                      ],
                      "values": [
                        "42",
                        "3360"
                      ]
                    },
                    {
                      "schema": [
                        {
                          "name": "itemsPurchasedLast12Months",
                          "dataType": {},
                          "nullable": true,
                          "metadata": {
                            "map": {}
                          }
                        },
                        {
                          "name": "productId",
                          "dataType": {},
                          "nullable": true,
                          "metadata": {
                            "map": {}
                          }
                        }
                      ],
                      "values": [
                        "71",
                        "4868"
                      ]
                    },
                    {
                      "schema": [
                        {
                          "name": "itemsPurchasedLast12Months",
                          "dataType": {},
                          "nullable": true,
                          "metadata": {
                            "map": {}
                          }
                        },
                        {
                          "name": "productId",
                          "dataType": {},
                          "nullable": true,
                          "metadata": {
                            "map": {}
                          }
                        }
                      ],
                      "values": [
                        "29",
                        "481"
                      ]
                    },
                    {
                      "schema": [
                        {
                          "name": "itemsPurchasedLast12Months",
                          "dataType": {},
                          "nullable": true,
                          "metadata": {
                            "map": {}
                          }
                        },
                        {
                          "name": "productId",
                          "dataType": {},
                          "nullable": true,
                          "metadata": {
                            "map": {}
                          }
                        }
                      ],
                      "values": [
                        "78",
                        "842"
                      ]
                    },
                    {
                      "schema": [
                        {
                          "name": "itemsPurchasedLast12Months",
                          "dataType": {},
                          "nullable": true,
                          "metadata": {
                            "map": {}
                          }
                        },
                        {
                          "name": "productId",
                          "dataType": {},
                          "nullable": true,
                          "metadata": {
                            "map": {}
                          }
                        }
                      ],
                      "values": [
                        "15",
                        "4792"
                      ]
                    },
                    {
                      "schema": [
                        {
                          "name": "itemsPurchasedLast12Months",
                          "dataType": {},
                          "nullable": true,
                          "metadata": {
                            "map": {}
                          }
                        },
                        {
                          "name": "productId",
                          "dataType": {},
                          "nullable": true,
                          "metadata": {
                            "map": {}
                          }
                        }
                      ],
                      "values": [
                        "40",
                        "3929"
                      ]
                    }
                  ],
                  "117008"
                ],
                [
                  [
                    {
                      "schema": [
                        {
                          "name": "itemsPurchasedLast12Months",
                          "dataType": {},
                          "nullable": true,
                          "metadata": {
                            "map": {}
                          }
                        },
                        {
                          "name": "productId",
                          "dataType": {},
                          "nullable": true,
                          "metadata": {
                            "map": {}
                          }
                        }
                      ],
                      "values": [
                        "41",
                        "875"
                      ]
                    },
                    {
                      "schema": [
                        {
                          "name": "itemsPurchasedLast12Months",
                          "dataType": {},
                          "nullable": true,
                          "metadata": {
                            "map": {}
                          }
                        },
                        {
                          "name": "productId",
                          "dataType": {},
                          "nullable": true,
                          "metadata": {
                            "map": {}
                          }
                        }
                      ],
                      "values": [
                        "14",
                        "659"
                      ]
                    },
                    {
                      "schema": [
                        {
                          "name": "itemsPurchasedLast12Months",
                          "dataType": {},
                          "nullable": true,
                          "metadata": {
                            "map": {}
                          }
                        },
                        {
                          "name": "productId",
                          "dataType": {},
                          "nullable": true,
                          "metadata": {
                            "map": {}
                          }
                        }
                      ],
                      "values": [
                        "50",
                        "3519"
                      ]
                    }
                  ],
                  "117009"
                ]
              ]
            },
            "text/plain": "<Spark SQL result set with 10 rows and 2 fields>"
          },
          "metadata": {}
        }
      ],
      "execution_count": 6,
      "metadata": {
        "jupyter": {
          "source_hidden": false,
          "outputs_hidden": false
        },
        "nteract": {
          "transient": {
            "deleting": false
          }
        },
        "microsoft": {
          "language": "sparksql"
        },
        "collapsed": false
      }
    },
    {
      "cell_type": "code",
      "source": [
        "from pyspark.sql.functions import udf, explode\r\n",
        "flat = df.select(\"visitorId\", explode(\"topProductPurchases\").alias(\"topProductPurchases_flat\"))\r\n",
        "flat.show()"
      ],
      "outputs": [
        {
          "output_type": "display_data",
          "data": {
            "application/vnd.livy.statement-meta+json": {
              "spark_pool": "venkysparkpool",
              "session_id": 3,
              "statement_id": 8,
              "state": "finished",
              "livy_statement_state": "available",
              "queued_time": "2022-05-25T02:21:04.7203632Z",
              "session_start_time": null,
              "execution_start_time": "2022-05-25T02:21:04.8630583Z",
              "execution_finish_time": "2022-05-25T02:21:05.9176416Z"
            },
            "text/plain": "StatementMeta(venkysparkpool, 3, 8, Finished, Available)"
          },
          "metadata": {}
        },
        {
          "output_type": "stream",
          "name": "stdout",
          "text": [
            "+---------+------------------------+\n|visitorId|topProductPurchases_flat|\n+---------+------------------------+\n|   117000|              {13, 3623}|\n|   117000|               {5, 2321}|\n|   117001|               {93, 713}|\n|   117001|              {19, 2144}|\n|   117001|              {30, 1094}|\n|   117001|              {82, 3223}|\n|   117001|              {42, 3328}|\n|   117001|              {62, 2926}|\n|   117001|              {63, 2651}|\n|   117001|               {39, 341}|\n|   117001|              {85, 4841}|\n|   117001|              {67, 4289}|\n|   117001|              {42, 1264}|\n|   117001|              {43, 3608}|\n|   117001|               {14, 504}|\n|   117001|              {97, 2649}|\n|   117001|              {44, 2873}|\n|   117001|               {7, 4491}|\n|   117001|              {70, 3623}|\n|   117001|               {4, 4035}|\n+---------+------------------------+\nonly showing top 20 rows"
          ]
        }
      ],
      "execution_count": 8,
      "metadata": {
        "jupyter": {
          "source_hidden": false,
          "outputs_hidden": false
        },
        "nteract": {
          "transient": {
            "deleting": false
          }
        },
        "collapsed": false
      }
    },
    {
      "cell_type": "code",
      "source": [
        "topPurchases = flat.select('visitorId', 'topProductPurchases_flat.productId', 'topProductPurchases_flat.itemsPurchasedLast12Months').orderBy('visitorId')\r\n",
        "topPurchases.show()"
      ],
      "outputs": [
        {
          "output_type": "display_data",
          "data": {
            "application/vnd.livy.statement-meta+json": {
              "spark_pool": "venkysparkpool",
              "session_id": 3,
              "statement_id": 10,
              "state": "finished",
              "livy_statement_state": "available",
              "queued_time": "2022-05-25T02:25:08.0597459Z",
              "session_start_time": null,
              "execution_start_time": "2022-05-25T02:25:08.1630006Z",
              "execution_finish_time": "2022-05-25T02:25:10.8843702Z"
            },
            "text/plain": "StatementMeta(venkysparkpool, 3, 10, Finished, Available)"
          },
          "metadata": {}
        },
        {
          "output_type": "stream",
          "name": "stdout",
          "text": [
            "+---------+---------+--------------------------+\n|visitorId|productId|itemsPurchasedLast12Months|\n+---------+---------+--------------------------+\n|    80000|     2859|                        54|\n|    80000|     4074|                        48|\n|    80000|     1362|                        18|\n|    80000|      102|                        42|\n|    80000|     3794|                        90|\n|    80000|     2481|                        63|\n|    80000|     3538|                        65|\n|    80000|     4024|                        35|\n|    80000|     4206|                        21|\n|    80000|     3122|                        33|\n|    80000|       93|                        86|\n|    80000|     1330|                        78|\n|    80000|     2488|                        31|\n|    80000|      290|                        83|\n|    80000|      291|                        49|\n|    80000|     2069|                        93|\n|    80000|     3270|                         5|\n|    80000|     4745|                        38|\n|    80000|     4198|                        92|\n|    80000|     4136|                        30|\n+---------+---------+--------------------------+\nonly showing top 20 rows"
          ]
        }
      ],
      "execution_count": 10,
      "metadata": {
        "jupyter": {
          "source_hidden": false,
          "outputs_hidden": false
        },
        "nteract": {
          "transient": {
            "deleting": false
          }
        }
      }
    },
    {
      "cell_type": "code",
      "source": [
        "sortedTopPurchases = topPurchases.orderBy(topPurchases[\"itemsPurchasedLast12Months\"].desc())\r\n",
        "display(sortedTopPurchases)"
      ],
      "outputs": [
        {
          "output_type": "display_data",
          "data": {
            "application/vnd.livy.statement-meta+json": {
              "spark_pool": "venkysparkpool",
              "session_id": 3,
              "statement_id": 20,
              "state": "finished",
              "livy_statement_state": "available",
              "queued_time": "2022-05-25T02:31:33.1064519Z",
              "session_start_time": null,
              "execution_start_time": "2022-05-25T02:31:33.2378092Z",
              "execution_finish_time": "2022-05-25T02:31:36.0430919Z"
            },
            "text/plain": "StatementMeta(venkysparkpool, 3, 20, Finished, Available)"
          },
          "metadata": {}
        },
        {
          "output_type": "display_data",
          "data": {
            "application/vnd.synapse.widget-view+json": {
              "widget_id": "f81a1d86-809b-47f0-8b75-c125eced2efb",
              "widget_type": "Synapse.DataFrame"
            },
            "text/plain": "SynapseWidget(Synapse.DataFrame, f81a1d86-809b-47f0-8b75-c125eced2efb)"
          },
          "metadata": {}
        }
      ],
      "execution_count": 20,
      "metadata": {
        "jupyter": {
          "source_hidden": false,
          "outputs_hidden": false
        },
        "nteract": {
          "transient": {
            "deleting": false
          }
        },
        "collapsed": false
      }
    },
    {
      "cell_type": "code",
      "source": [
        "from pyspark.sql.functions import count\r\n",
        "groupedTopPurchases = sortedTopPurchases.select(\"visitorId\").groupBy(\"visitorId\").agg(count(\"*\").alias(\"total\")).orderBy(\"visitorId\")\r\n",
        "display(groupedTopPurchases)"
      ],
      "outputs": [
        {
          "output_type": "display_data",
          "data": {
            "application/vnd.livy.statement-meta+json": {
              "spark_pool": "venkysparkpool",
              "session_id": 3,
              "statement_id": 22,
              "state": "finished",
              "livy_statement_state": "available",
              "queued_time": "2022-05-25T02:35:00.9169522Z",
              "session_start_time": null,
              "execution_start_time": "2022-05-25T02:35:01.0378494Z",
              "execution_finish_time": "2022-05-25T02:35:07.8923936Z"
            },
            "text/plain": "StatementMeta(venkysparkpool, 3, 22, Finished, Available)"
          },
          "metadata": {}
        },
        {
          "output_type": "display_data",
          "data": {
            "application/vnd.synapse.widget-view+json": {
              "widget_id": "b759fcfa-a59f-490c-9d5f-98056bf06315",
              "widget_type": "Synapse.DataFrame"
            },
            "text/plain": "SynapseWidget(Synapse.DataFrame, b759fcfa-a59f-490c-9d5f-98056bf06315)"
          },
          "metadata": {}
        }
      ],
      "execution_count": 22,
      "metadata": {
        "jupyter": {
          "source_hidden": false,
          "outputs_hidden": false
        },
        "nteract": {
          "transient": {
            "deleting": false
          }
        },
        "collapsed": false
      }
    },
    {
      "cell_type": "code",
      "source": [
        "from pyspark.sql.functions import sum\r\n",
        "groupedTopPurchases1 = sortedTopPurchases.select(\"visitorId\", \"itemsPurchasedLast12Months\").groupBy(\"visitorId\").agg(sum(\"itemsPurchasedLast12Months\").alias(\"totalItemsPurchased\")).orderBy(\"visitorId\")\r\n",
        "display(groupedTopPurchases1)"
      ],
      "outputs": [
        {
          "output_type": "display_data",
          "data": {
            "application/vnd.livy.statement-meta+json": {
              "spark_pool": "venkysparkpool",
              "session_id": 3,
              "statement_id": 24,
              "state": "finished",
              "livy_statement_state": "available",
              "queued_time": "2022-05-25T02:39:25.3063709Z",
              "session_start_time": null,
              "execution_start_time": "2022-05-25T02:39:25.4254476Z",
              "execution_finish_time": "2022-05-25T02:39:29.8953914Z"
            },
            "text/plain": "StatementMeta(venkysparkpool, 3, 24, Finished, Available)"
          },
          "metadata": {}
        },
        {
          "output_type": "display_data",
          "data": {
            "application/vnd.synapse.widget-view+json": {
              "widget_id": "5b26a4c2-99e7-4efd-9d20-43c2007337e1",
              "widget_type": "Synapse.DataFrame"
            },
            "text/plain": "SynapseWidget(Synapse.DataFrame, 5b26a4c2-99e7-4efd-9d20-43c2007337e1)"
          },
          "metadata": {}
        }
      ],
      "execution_count": 24,
      "metadata": {
        "jupyter": {
          "source_hidden": false,
          "outputs_hidden": false
        },
        "nteract": {
          "transient": {
            "deleting": false
          }
        },
        "collapsed": false
      }
    },
    {
      "cell_type": "code",
      "source": [
        "# Create a temporary view for top purchases so we can load from Scala\r\n",
        "topPurchases.createOrReplaceTempView(\"top_purchases\")"
      ],
      "outputs": [
        {
          "output_type": "display_data",
          "data": {
            "application/vnd.livy.statement-meta+json": {
              "spark_pool": "venkysparkpool",
              "session_id": 3,
              "statement_id": 25,
              "state": "finished",
              "livy_statement_state": "available",
              "queued_time": "2022-05-25T02:39:54.8442171Z",
              "session_start_time": null,
              "execution_start_time": "2022-05-25T02:39:54.9454105Z",
              "execution_finish_time": "2022-05-25T02:39:55.0960919Z"
            },
            "text/plain": "StatementMeta(venkysparkpool, 3, 25, Finished, Available)"
          },
          "metadata": {}
        }
      ],
      "execution_count": 25,
      "metadata": {
        "jupyter": {
          "source_hidden": false,
          "outputs_hidden": false
        },
        "nteract": {
          "transient": {
            "deleting": false
          }
        }
      }
    },
    {
      "cell_type": "code",
      "source": [
        "%%spark\r\n",
        "// Make sure the name of the dedcated SQL pool (SQLPool01 below) matches the name of your SQL pool.\r\n",
        "val df = spark.sqlContext.sql(\"select * from top_purchases\")\r\n",
        "df.write.synapsesql(\"venkysqlpool.wwi.TopPurchases\", Constants.INTERNAL)"
      ],
      "outputs": [
        {
          "output_type": "display_data",
          "data": {
            "application/vnd.livy.statement-meta+json": {
              "spark_pool": "venkysparkpool",
              "session_id": 3,
              "statement_id": 28,
              "state": "finished",
              "livy_statement_state": "available",
              "queued_time": "2022-05-25T02:42:59.8911552Z",
              "session_start_time": null,
              "execution_start_time": "2022-05-25T02:42:59.9914265Z",
              "execution_finish_time": "2022-05-25T02:43:35.2124689Z"
            },
            "text/plain": "StatementMeta(venkysparkpool, 3, 28, Finished, Available)"
          },
          "metadata": {}
        },
        {
          "output_type": "stream",
          "name": "stdout",
          "text": [
            "df: org.apache.spark.sql.DataFrame = [visitorId: bigint, productId: bigint ... 1 more field]\n"
          ]
        }
      ],
      "execution_count": 27,
      "metadata": {
        "jupyter": {
          "source_hidden": false,
          "outputs_hidden": false
        },
        "nteract": {
          "transient": {
            "deleting": false
          }
        },
        "microsoft": {
          "language": "scala"
        }
      }
    },
    {
      "cell_type": "code",
      "source": [
        "dfsales = spark.read.load('abfss://raw042772@vksa042772.dfs.core.windows.net/wwi-02/sale-small/Year=2019/Quarter=Q4/Month=12/*/*.parquet', format='parquet')\r\n",
        "display(dfsales.limit(10))"
      ],
      "outputs": [
        {
          "output_type": "display_data",
          "data": {
            "application/vnd.livy.statement-meta+json": {
              "spark_pool": "venkysparkpool",
              "session_id": 3,
              "statement_id": 29,
              "state": "finished",
              "livy_statement_state": "available",
              "queued_time": "2022-05-25T02:46:34.2231165Z",
              "session_start_time": null,
              "execution_start_time": "2022-05-25T02:46:34.3768997Z",
              "execution_finish_time": "2022-05-25T02:46:39.6724741Z"
            },
            "text/plain": "StatementMeta(venkysparkpool, 3, 29, Finished, Available)"
          },
          "metadata": {}
        },
        {
          "output_type": "display_data",
          "data": {
            "application/vnd.synapse.widget-view+json": {
              "widget_id": "3994ba0f-b552-4b58-816b-3cf4e2494961",
              "widget_type": "Synapse.DataFrame"
            },
            "text/plain": "SynapseWidget(Synapse.DataFrame, 3994ba0f-b552-4b58-816b-3cf4e2494961)"
          },
          "metadata": {}
        }
      ],
      "execution_count": 28,
      "metadata": {
        "jupyter": {
          "source_hidden": false,
          "outputs_hidden": false
        },
        "nteract": {
          "transient": {
            "deleting": false
          }
        },
        "collapsed": false
      }
    },
    {
      "cell_type": "code",
      "source": [
        "%%spark\r\n",
        "// Make sure the name of the SQL pool (SQLPool01 below) matches the name of your SQL pool.\r\n",
        "val df2 = spark.read.synapsesql(\"venkysqlpool.wwi.TopPurchases\")\r\n",
        "df2.createTempView(\"top_purchases_sql\")\r\n",
        "\r\n",
        "df2.head(10)"
      ],
      "outputs": [
        {
          "output_type": "display_data",
          "data": {
            "application/vnd.livy.statement-meta+json": {
              "spark_pool": "venkysparkpool",
              "session_id": 3,
              "statement_id": 30,
              "state": "finished",
              "livy_statement_state": "available",
              "queued_time": "2022-05-25T02:47:13.0104926Z",
              "session_start_time": null,
              "execution_start_time": "2022-05-25T02:47:13.1201723Z",
              "execution_finish_time": "2022-05-25T02:47:27.7984585Z"
            },
            "text/plain": "StatementMeta(venkysparkpool, 3, 30, Finished, Available)"
          },
          "metadata": {}
        },
        {
          "output_type": "stream",
          "name": "stdout",
          "text": [
            "df2: org.apache.spark.sql.DataFrame = [visitorId: bigint, productId: bigint ... 1 more field]\nres9: Array[org.apache.spark.sql.Row] = Array([115084,4401,68], [115084,2836,32], [115084,530,26], [115084,394,89], [115084,2014,34], [115084,529,95], [115084,3198,20], [115084,3214,33], [115084,3580,67], [115084,3464,62])\n"
          ]
        }
      ],
      "execution_count": 29,
      "metadata": {
        "jupyter": {
          "source_hidden": false,
          "outputs_hidden": false
        },
        "nteract": {
          "transient": {
            "deleting": false
          }
        },
        "microsoft": {
          "language": "scala"
        }
      }
    },
    {
      "cell_type": "code",
      "source": [
        "dfTopPurchasesFromSql = sqlContext.table(\"top_purchases_sql\")\r\n",
        "\r\n",
        "display(dfTopPurchasesFromSql.limit(10))"
      ],
      "outputs": [
        {
          "output_type": "display_data",
          "data": {
            "application/vnd.livy.statement-meta+json": {
              "spark_pool": "venkysparkpool",
              "session_id": 3,
              "statement_id": 31,
              "state": "finished",
              "livy_statement_state": "available",
              "queued_time": "2022-05-25T02:47:55.3511056Z",
              "session_start_time": null,
              "execution_start_time": "2022-05-25T02:47:55.4445419Z",
              "execution_finish_time": "2022-05-25T02:48:00.7249452Z"
            },
            "text/plain": "StatementMeta(venkysparkpool, 3, 31, Finished, Available)"
          },
          "metadata": {}
        },
        {
          "output_type": "display_data",
          "data": {
            "application/vnd.synapse.widget-view+json": {
              "widget_id": "e32b9f2a-b162-4bae-99a1-5571166c6a3b",
              "widget_type": "Synapse.DataFrame"
            },
            "text/plain": "SynapseWidget(Synapse.DataFrame, e32b9f2a-b162-4bae-99a1-5571166c6a3b)"
          },
          "metadata": {}
        }
      ],
      "execution_count": 30,
      "metadata": {
        "jupyter": {
          "source_hidden": false,
          "outputs_hidden": false
        },
        "nteract": {
          "transient": {
            "deleting": false
          }
        },
        "collapsed": false
      }
    },
    {
      "cell_type": "code",
      "source": [
        "inner_join = dfsales.join(dfTopPurchasesFromSql,\r\n",
        "    (dfsales.CustomerId == dfTopPurchasesFromSql.visitorId) & (dfsales.ProductId == dfTopPurchasesFromSql.productId))\r\n",
        "\r\n",
        "inner_join_agg = (inner_join.select(\"CustomerId\",\"TotalAmount\",\"Quantity\",\"itemsPurchasedLast12Months\",\"top_purchases_sql.productId\")\r\n",
        "    .groupBy([\"CustomerId\",\"top_purchases_sql.productId\"])\r\n",
        "    .agg(\r\n",
        "        sum(\"TotalAmount\").alias(\"TotalAmountDecember\"),\r\n",
        "        sum(\"Quantity\").alias(\"TotalQuantityDecember\"),\r\n",
        "        sum(\"itemsPurchasedLast12Months\").alias(\"TotalItemsPurchasedLast12Months\"))\r\n",
        "    .orderBy(\"CustomerId\") )\r\n",
        "\r\n",
        "display(inner_join_agg.limit(100))"
      ],
      "outputs": [
        {
          "output_type": "display_data",
          "data": {
            "application/vnd.livy.statement-meta+json": {
              "spark_pool": "venkysparkpool",
              "session_id": 3,
              "statement_id": 32,
              "state": "finished",
              "livy_statement_state": "available",
              "queued_time": "2022-05-25T02:48:27.2371243Z",
              "session_start_time": null,
              "execution_start_time": "2022-05-25T02:48:27.3491086Z",
              "execution_finish_time": "2022-05-25T02:48:43.9761695Z"
            },
            "text/plain": "StatementMeta(venkysparkpool, 3, 32, Finished, Available)"
          },
          "metadata": {}
        },
        {
          "output_type": "display_data",
          "data": {
            "application/vnd.synapse.widget-view+json": {
              "widget_id": "aae634ac-4e05-4e41-afbf-1f8b0c8b3829",
              "widget_type": "Synapse.DataFrame"
            },
            "text/plain": "SynapseWidget(Synapse.DataFrame, aae634ac-4e05-4e41-afbf-1f8b0c8b3829)"
          },
          "metadata": {}
        }
      ],
      "execution_count": 31,
      "metadata": {
        "jupyter": {
          "source_hidden": false,
          "outputs_hidden": false
        },
        "nteract": {
          "transient": {
            "deleting": false
          }
        },
        "collapsed": false
      }
    }
  ],
  "metadata": {
    "language_info": {
      "name": "python"
    },
    "kernelspec": {
      "name": "synapse_pyspark",
      "language": "Python",
      "display_name": "Synapse PySpark"
    },
    "kernel_info": {
      "name": "synapse_pyspark"
    },
    "save_output": true,
    "synapse_widget": {
      "version": "0.1",
      "state": {
        "04079d95-3f50-4e8c-84f1-5743f2b27bc4": {
          "type": "Synapse.DataFrame",
          "sync_state": {
            "table": {
              "rows": [
                {
                  "0": [
                    {
                      "itemsPurchasedLast12Months": 13,
                      "productId": 3623
                    },
                    {
                      "itemsPurchasedLast12Months": 5,
                      "productId": 2321
                    }
                  ],
                  "1": "117000"
                },
                {
                  "0": [
                    {
                      "itemsPurchasedLast12Months": 93,
                      "productId": 713
                    },
                    {
                      "itemsPurchasedLast12Months": 19,
                      "productId": 2144
                    },
                    {
                      "itemsPurchasedLast12Months": 30,
                      "productId": 1094
                    },
                    {
                      "itemsPurchasedLast12Months": 82,
                      "productId": 3223
                    },
                    {
                      "itemsPurchasedLast12Months": 42,
                      "productId": 3328
                    },
                    {
                      "itemsPurchasedLast12Months": 62,
                      "productId": 2926
                    },
                    {
                      "itemsPurchasedLast12Months": 63,
                      "productId": 2651
                    },
                    {
                      "itemsPurchasedLast12Months": 39,
                      "productId": 341
                    },
                    {
                      "itemsPurchasedLast12Months": 85,
                      "productId": 4841
                    },
                    {
                      "itemsPurchasedLast12Months": 67,
                      "productId": 4289
                    },
                    {
                      "itemsPurchasedLast12Months": 42,
                      "productId": 1264
                    },
                    {
                      "itemsPurchasedLast12Months": 43,
                      "productId": 3608
                    },
                    {
                      "itemsPurchasedLast12Months": 14,
                      "productId": 504
                    },
                    {
                      "itemsPurchasedLast12Months": 97,
                      "productId": 2649
                    },
                    {
                      "itemsPurchasedLast12Months": 44,
                      "productId": 2873
                    },
                    {
                      "itemsPurchasedLast12Months": 7,
                      "productId": 4491
                    },
                    {
                      "itemsPurchasedLast12Months": 70,
                      "productId": 3623
                    },
                    {
                      "itemsPurchasedLast12Months": 4,
                      "productId": 4035
                    },
                    {
                      "itemsPurchasedLast12Months": 45,
                      "productId": 3576
                    }
                  ],
                  "1": "117001"
                },
                {
                  "0": [
                    {
                      "itemsPurchasedLast12Months": 25,
                      "productId": 478
                    },
                    {
                      "itemsPurchasedLast12Months": 15,
                      "productId": 2515
                    },
                    {
                      "itemsPurchasedLast12Months": 34,
                      "productId": 209
                    },
                    {
                      "itemsPurchasedLast12Months": 60,
                      "productId": 4412
                    }
                  ],
                  "1": "117002"
                },
                {
                  "0": [
                    {
                      "itemsPurchasedLast12Months": 72,
                      "productId": 2396
                    },
                    {
                      "itemsPurchasedLast12Months": 8,
                      "productId": 1862
                    },
                    {
                      "itemsPurchasedLast12Months": 96,
                      "productId": 720
                    },
                    {
                      "itemsPurchasedLast12Months": 93,
                      "productId": 3735
                    },
                    {
                      "itemsPurchasedLast12Months": 80,
                      "productId": 582
                    },
                    {
                      "itemsPurchasedLast12Months": 8,
                      "productId": 2566
                    },
                    {
                      "itemsPurchasedLast12Months": 79,
                      "productId": 1895
                    },
                    {
                      "itemsPurchasedLast12Months": 97,
                      "productId": 1967
                    },
                    {
                      "itemsPurchasedLast12Months": 65,
                      "productId": 304
                    },
                    {
                      "itemsPurchasedLast12Months": 40,
                      "productId": 1127
                    },
                    {
                      "itemsPurchasedLast12Months": 94,
                      "productId": 1268
                    },
                    {
                      "itemsPurchasedLast12Months": 62,
                      "productId": 4832
                    },
                    {
                      "itemsPurchasedLast12Months": 73,
                      "productId": 2885
                    },
                    {
                      "itemsPurchasedLast12Months": 42,
                      "productId": 3746
                    },
                    {
                      "itemsPurchasedLast12Months": 70,
                      "productId": 3475
                    }
                  ],
                  "1": "117003"
                },
                {
                  "0": [
                    {
                      "itemsPurchasedLast12Months": 34,
                      "productId": 2453
                    },
                    {
                      "itemsPurchasedLast12Months": 73,
                      "productId": 3989
                    },
                    {
                      "itemsPurchasedLast12Months": 33,
                      "productId": 2768
                    },
                    {
                      "itemsPurchasedLast12Months": 78,
                      "productId": 1128
                    }
                  ],
                  "1": "117004"
                },
                {
                  "0": [
                    {
                      "itemsPurchasedLast12Months": 69,
                      "productId": 1564
                    },
                    {
                      "itemsPurchasedLast12Months": 24,
                      "productId": 936
                    },
                    {
                      "itemsPurchasedLast12Months": 99,
                      "productId": 1885
                    },
                    {
                      "itemsPurchasedLast12Months": 9,
                      "productId": 1737
                    },
                    {
                      "itemsPurchasedLast12Months": 96,
                      "productId": 4200
                    },
                    {
                      "itemsPurchasedLast12Months": 8,
                      "productId": 2020
                    },
                    {
                      "itemsPurchasedLast12Months": 74,
                      "productId": 4439
                    }
                  ],
                  "1": "117005"
                },
                {
                  "0": [
                    {
                      "itemsPurchasedLast12Months": 55,
                      "productId": 3020
                    },
                    {
                      "itemsPurchasedLast12Months": 58,
                      "productId": 2379
                    },
                    {
                      "itemsPurchasedLast12Months": 45,
                      "productId": 4773
                    },
                    {
                      "itemsPurchasedLast12Months": 18,
                      "productId": 2042
                    },
                    {
                      "itemsPurchasedLast12Months": 28,
                      "productId": 4060
                    },
                    {
                      "itemsPurchasedLast12Months": 44,
                      "productId": 4214
                    },
                    {
                      "itemsPurchasedLast12Months": 1,
                      "productId": 2874
                    },
                    {
                      "itemsPurchasedLast12Months": 10,
                      "productId": 1091
                    },
                    {
                      "itemsPurchasedLast12Months": 58,
                      "productId": 4054
                    },
                    {
                      "itemsPurchasedLast12Months": 48,
                      "productId": 1339
                    },
                    {
                      "itemsPurchasedLast12Months": 77,
                      "productId": 3112
                    },
                    {
                      "itemsPurchasedLast12Months": 83,
                      "productId": 41
                    },
                    {
                      "itemsPurchasedLast12Months": 56,
                      "productId": 2100
                    }
                  ],
                  "1": "117006"
                },
                {
                  "0": [
                    {
                      "itemsPurchasedLast12Months": 63,
                      "productId": 1988
                    },
                    {
                      "itemsPurchasedLast12Months": 77,
                      "productId": 817
                    },
                    {
                      "itemsPurchasedLast12Months": 5,
                      "productId": 921
                    },
                    {
                      "itemsPurchasedLast12Months": 23,
                      "productId": 2518
                    },
                    {
                      "itemsPurchasedLast12Months": 15,
                      "productId": 2743
                    }
                  ],
                  "1": "117007"
                },
                {
                  "0": [
                    {
                      "itemsPurchasedLast12Months": 51,
                      "productId": 4385
                    },
                    {
                      "itemsPurchasedLast12Months": 77,
                      "productId": 3150
                    },
                    {
                      "itemsPurchasedLast12Months": 29,
                      "productId": 4636
                    },
                    {
                      "itemsPurchasedLast12Months": 42,
                      "productId": 3360
                    },
                    {
                      "itemsPurchasedLast12Months": 71,
                      "productId": 4868
                    },
                    {
                      "itemsPurchasedLast12Months": 29,
                      "productId": 481
                    },
                    {
                      "itemsPurchasedLast12Months": 78,
                      "productId": 842
                    },
                    {
                      "itemsPurchasedLast12Months": 15,
                      "productId": 4792
                    },
                    {
                      "itemsPurchasedLast12Months": 40,
                      "productId": 3929
                    }
                  ],
                  "1": "117008"
                },
                {
                  "0": [
                    {
                      "itemsPurchasedLast12Months": 41,
                      "productId": 875
                    },
                    {
                      "itemsPurchasedLast12Months": 14,
                      "productId": 659
                    },
                    {
                      "itemsPurchasedLast12Months": 50,
                      "productId": 3519
                    }
                  ],
                  "1": "117009"
                }
              ],
              "schema": [
                {
                  "key": "0",
                  "name": "topProductPurchases",
                  "type": "ArrayType(StructType(StructField(itemsPurchasedLast12Months,LongType,true), StructField(productId,LongType,true)),true)"
                },
                {
                  "key": "1",
                  "name": "visitorId",
                  "type": "bigint"
                }
              ],
              "truncated": false
            },
            "isSummary": false,
            "language": "scala"
          },
          "persist_state": {
            "view": {
              "type": "details",
              "tableOptions": {},
              "chartOptions": {
                "chartType": "bar",
                "aggregationType": "sum",
                "categoryFieldKeys": [],
                "seriesFieldKeys": [
                  "1"
                ],
                "isStacked": false
              }
            }
          }
        },
        "f81a1d86-809b-47f0-8b75-c125eced2efb": {
          "type": "Synapse.DataFrame",
          "sync_state": {
            "table": {
              "rows": [
                {
                  "0": "84446",
                  "1": "710",
                  "2": "99"
                },
                {
                  "0": "98164",
                  "1": "901",
                  "2": "99"
                },
                {
                  "0": "81375",
                  "1": "39",
                  "2": "99"
                },
                {
                  "0": "84684",
                  "1": "3977",
                  "2": "99"
                },
                {
                  "0": "106630",
                  "1": "847",
                  "2": "99"
                },
                {
                  "0": "98844",
                  "1": "2536",
                  "2": "99"
                },
                {
                  "0": "84445",
                  "1": "1001",
                  "2": "99"
                },
                {
                  "0": "117829",
                  "1": "2801",
                  "2": "99"
                },
                {
                  "0": "84682",
                  "1": "2443",
                  "2": "99"
                },
                {
                  "0": "106258",
                  "1": "2714",
                  "2": "99"
                },
                {
                  "0": "98160",
                  "1": "4157",
                  "2": "99"
                },
                {
                  "0": "98525",
                  "1": "1930",
                  "2": "99"
                },
                {
                  "0": "106966",
                  "1": "2734",
                  "2": "99"
                },
                {
                  "0": "81199",
                  "1": "4558",
                  "2": "99"
                },
                {
                  "0": "84444",
                  "1": "4774",
                  "2": "99"
                },
                {
                  "0": "81516",
                  "1": "2002",
                  "2": "99"
                },
                {
                  "0": "117035",
                  "1": "2568",
                  "2": "99"
                },
                {
                  "0": "106006",
                  "1": "1862",
                  "2": "99"
                },
                {
                  "0": "84682",
                  "1": "1965",
                  "2": "99"
                },
                {
                  "0": "81612",
                  "1": "3806",
                  "2": "99"
                },
                {
                  "0": "81800",
                  "1": "238",
                  "2": "99"
                },
                {
                  "0": "81927",
                  "1": "3466",
                  "2": "99"
                },
                {
                  "0": "98146",
                  "1": "3297",
                  "2": "99"
                },
                {
                  "0": "98358",
                  "1": "3928",
                  "2": "99"
                },
                {
                  "0": "98520",
                  "1": "398",
                  "2": "99"
                },
                {
                  "0": "106876",
                  "1": "3905",
                  "2": "99"
                },
                {
                  "0": "98838",
                  "1": "2404",
                  "2": "99"
                },
                {
                  "0": "98985",
                  "1": "4593",
                  "2": "99"
                },
                {
                  "0": "84150",
                  "1": "1722",
                  "2": "99"
                },
                {
                  "0": "84341",
                  "1": "553",
                  "2": "99"
                },
                {
                  "0": "81375",
                  "1": "3591",
                  "2": "99"
                },
                {
                  "0": "106138",
                  "1": "4254",
                  "2": "99"
                },
                {
                  "0": "81479",
                  "1": "2429",
                  "2": "99"
                },
                {
                  "0": "117644",
                  "1": "4188",
                  "2": "99"
                },
                {
                  "0": "117231",
                  "1": "1757",
                  "2": "99"
                },
                {
                  "0": "117253",
                  "1": "4702",
                  "2": "99"
                },
                {
                  "0": "117284",
                  "1": "499",
                  "2": "99"
                },
                {
                  "0": "117288",
                  "1": "3001",
                  "2": "99"
                },
                {
                  "0": "84668",
                  "1": "715",
                  "2": "99"
                },
                {
                  "0": "84830",
                  "1": "438",
                  "2": "99"
                },
                {
                  "0": "81597",
                  "1": "4995",
                  "2": "99"
                },
                {
                  "0": "81691",
                  "1": "1667",
                  "2": "99"
                },
                {
                  "0": "81782",
                  "1": "296",
                  "2": "99"
                },
                {
                  "0": "81866",
                  "1": "4130",
                  "2": "99"
                },
                {
                  "0": "106386",
                  "1": "3541",
                  "2": "99"
                },
                {
                  "0": "106445",
                  "1": "4709",
                  "2": "99"
                },
                {
                  "0": "106616",
                  "1": "574",
                  "2": "99"
                },
                {
                  "0": "98254",
                  "1": "3769",
                  "2": "99"
                },
                {
                  "0": "106686",
                  "1": "548",
                  "2": "99"
                },
                {
                  "0": "106751",
                  "1": "1953",
                  "2": "99"
                },
                {
                  "0": "106806",
                  "1": "2498",
                  "2": "99"
                },
                {
                  "0": "106847",
                  "1": "781",
                  "2": "99"
                },
                {
                  "0": "98628",
                  "1": "2242",
                  "2": "99"
                },
                {
                  "0": "98713",
                  "1": "977",
                  "2": "99"
                },
                {
                  "0": "98833",
                  "1": "668",
                  "2": "99"
                },
                {
                  "0": "98921",
                  "1": "3774",
                  "2": "99"
                },
                {
                  "0": "117440",
                  "1": "1198",
                  "2": "99"
                },
                {
                  "0": "84060",
                  "1": "484",
                  "2": "99"
                },
                {
                  "0": "84149",
                  "1": "3657",
                  "2": "99"
                },
                {
                  "0": "81263",
                  "1": "2915",
                  "2": "99"
                },
                {
                  "0": "81325",
                  "1": "4750",
                  "2": "99"
                },
                {
                  "0": "84403",
                  "1": "4950",
                  "2": "99"
                },
                {
                  "0": "84438",
                  "1": "2382",
                  "2": "99"
                },
                {
                  "0": "117620",
                  "1": "1806",
                  "2": "99"
                },
                {
                  "0": "106103",
                  "1": "3491",
                  "2": "99"
                },
                {
                  "0": "117084",
                  "1": "912",
                  "2": "99"
                },
                {
                  "0": "81469",
                  "1": "3370",
                  "2": "99"
                },
                {
                  "0": "81552",
                  "1": "2587",
                  "2": "99"
                },
                {
                  "0": "98173",
                  "1": "228",
                  "2": "99"
                },
                {
                  "0": "117715",
                  "1": "4759",
                  "2": "99"
                },
                {
                  "0": "117826",
                  "1": "4825",
                  "2": "99"
                },
                {
                  "0": "117870",
                  "1": "3484",
                  "2": "99"
                },
                {
                  "0": "117916",
                  "1": "4523",
                  "2": "99"
                },
                {
                  "0": "117951",
                  "1": "593",
                  "2": "99"
                },
                {
                  "0": "106004",
                  "1": "3853",
                  "2": "99"
                },
                {
                  "0": "106034",
                  "1": "4386",
                  "2": "99"
                },
                {
                  "0": "106051",
                  "1": "3441",
                  "2": "99"
                },
                {
                  "0": "106073",
                  "1": "3446",
                  "2": "99"
                },
                {
                  "0": "84668",
                  "1": "4793",
                  "2": "99"
                },
                {
                  "0": "84749",
                  "1": "2910",
                  "2": "99"
                },
                {
                  "0": "84827",
                  "1": "3117",
                  "2": "99"
                },
                {
                  "0": "84959",
                  "1": "2787",
                  "2": "99"
                },
                {
                  "0": "84998",
                  "1": "4899",
                  "2": "99"
                },
                {
                  "0": "81629",
                  "1": "3368",
                  "2": "99"
                },
                {
                  "0": "106198",
                  "1": "2288",
                  "2": "99"
                },
                {
                  "0": "117354",
                  "1": "3495",
                  "2": "99"
                },
                {
                  "0": "106255",
                  "1": "159",
                  "2": "99"
                },
                {
                  "0": "81808",
                  "1": "867",
                  "2": "99"
                },
                {
                  "0": "106297",
                  "1": "2711",
                  "2": "99"
                },
                {
                  "0": "81892",
                  "1": "4082",
                  "2": "99"
                },
                {
                  "0": "81926",
                  "1": "394",
                  "2": "99"
                },
                {
                  "0": "98007",
                  "1": "2353",
                  "2": "99"
                },
                {
                  "0": "98093",
                  "1": "2543",
                  "2": "99"
                },
                {
                  "0": "98110",
                  "1": "1992",
                  "2": "99"
                },
                {
                  "0": "98146",
                  "1": "2204",
                  "2": "99"
                },
                {
                  "0": "98181",
                  "1": "1219",
                  "2": "99"
                },
                {
                  "0": "106645",
                  "1": "3479",
                  "2": "99"
                },
                {
                  "0": "98302",
                  "1": "2486",
                  "2": "99"
                },
                {
                  "0": "98352",
                  "1": "3349",
                  "2": "99"
                },
                {
                  "0": "98379",
                  "1": "3101",
                  "2": "99"
                },
                {
                  "0": "98413",
                  "1": "4599",
                  "2": "99"
                },
                {
                  "0": "98462",
                  "1": "1760",
                  "2": "99"
                },
                {
                  "0": "98509",
                  "1": "3636",
                  "2": "99"
                },
                {
                  "0": "106825",
                  "1": "3056",
                  "2": "99"
                },
                {
                  "0": "98592",
                  "1": "282",
                  "2": "99"
                },
                {
                  "0": "106853",
                  "1": "4936",
                  "2": "99"
                },
                {
                  "0": "117423",
                  "1": "2067",
                  "2": "99"
                },
                {
                  "0": "98657",
                  "1": "3066",
                  "2": "99"
                },
                {
                  "0": "106897",
                  "1": "2804",
                  "2": "99"
                },
                {
                  "0": "98791",
                  "1": "3821",
                  "2": "99"
                },
                {
                  "0": "106955",
                  "1": "1523",
                  "2": "99"
                },
                {
                  "0": "98865",
                  "1": "2225",
                  "2": "99"
                },
                {
                  "0": "98910",
                  "1": "2871",
                  "2": "99"
                },
                {
                  "0": "98939",
                  "1": "2296",
                  "2": "99"
                },
                {
                  "0": "98983",
                  "1": "3189",
                  "2": "99"
                },
                {
                  "0": "84000",
                  "1": "267",
                  "2": "99"
                },
                {
                  "0": "81119",
                  "1": "2639",
                  "2": "99"
                },
                {
                  "0": "84085",
                  "1": "4746",
                  "2": "99"
                },
                {
                  "0": "81195",
                  "1": "3518",
                  "2": "99"
                },
                {
                  "0": "81216",
                  "1": "353",
                  "2": "99"
                },
                {
                  "0": "84245",
                  "1": "1257",
                  "2": "99"
                },
                {
                  "0": "84298",
                  "1": "4275",
                  "2": "99"
                },
                {
                  "0": "84336",
                  "1": "1841",
                  "2": "99"
                },
                {
                  "0": "117588",
                  "1": "25",
                  "2": "99"
                },
                {
                  "0": "81357",
                  "1": "3250",
                  "2": "99"
                },
                {
                  "0": "84421",
                  "1": "2981",
                  "2": "99"
                },
                {
                  "0": "117591",
                  "1": "4721",
                  "2": "99"
                },
                {
                  "0": "101143",
                  "1": "2416",
                  "2": "99"
                },
                {
                  "0": "117617",
                  "1": "3188",
                  "2": "99"
                },
                {
                  "0": "106087",
                  "1": "1944",
                  "2": "99"
                },
                {
                  "0": "106100",
                  "1": "394",
                  "2": "99"
                },
                {
                  "0": "117179",
                  "1": "1569",
                  "2": "99"
                },
                {
                  "0": "117084",
                  "1": "4687",
                  "2": "99"
                },
                {
                  "0": "117167",
                  "1": "1603",
                  "2": "99"
                },
                {
                  "0": "81455",
                  "1": "4704",
                  "2": "99"
                },
                {
                  "0": "81526",
                  "1": "1592",
                  "2": "99"
                },
                {
                  "0": "81552",
                  "1": "1627",
                  "2": "99"
                },
                {
                  "0": "81583",
                  "1": "2341",
                  "2": "99"
                },
                {
                  "0": "117060",
                  "1": "1044",
                  "2": "99"
                },
                {
                  "0": "117659",
                  "1": "4890",
                  "2": "99"
                },
                {
                  "0": "117199",
                  "1": "2093",
                  "2": "99"
                },
                {
                  "0": "117752",
                  "1": "3966",
                  "2": "99"
                },
                {
                  "0": "117818",
                  "1": "3491",
                  "2": "99"
                },
                {
                  "0": "101155",
                  "1": "3343",
                  "2": "99"
                },
                {
                  "0": "117233",
                  "1": "4785",
                  "2": "99"
                },
                {
                  "0": "117892",
                  "1": "4263",
                  "2": "99"
                },
                {
                  "0": "117914",
                  "1": "2002",
                  "2": "99"
                },
                {
                  "0": "117930",
                  "1": "2590",
                  "2": "99"
                },
                {
                  "0": "117044",
                  "1": "4502",
                  "2": "99"
                },
                {
                  "0": "117989",
                  "1": "4820",
                  "2": "99"
                },
                {
                  "0": "117998",
                  "1": "3347",
                  "2": "99"
                },
                {
                  "0": "106011",
                  "1": "4345",
                  "2": "99"
                },
                {
                  "0": "106028",
                  "1": "2604",
                  "2": "99"
                },
                {
                  "0": "117287",
                  "1": "503",
                  "2": "99"
                },
                {
                  "0": "106047",
                  "1": "4330",
                  "2": "99"
                },
                {
                  "0": "106056",
                  "1": "666",
                  "2": "99"
                },
                {
                  "0": "106068",
                  "1": "1705",
                  "2": "99"
                },
                {
                  "0": "117306",
                  "1": "258",
                  "2": "99"
                },
                {
                  "0": "84665",
                  "1": "4803",
                  "2": "99"
                },
                {
                  "0": "101155",
                  "1": "2480",
                  "2": "99"
                },
                {
                  "0": "84735",
                  "1": "3676",
                  "2": "99"
                },
                {
                  "0": "84776",
                  "1": "1080",
                  "2": "99"
                },
                {
                  "0": "84826",
                  "1": "435",
                  "2": "99"
                },
                {
                  "0": "84902",
                  "1": "1482",
                  "2": "99"
                },
                {
                  "0": "84940",
                  "1": "580",
                  "2": "99"
                },
                {
                  "0": "84965",
                  "1": "3930",
                  "2": "99"
                },
                {
                  "0": "84990",
                  "1": "3047",
                  "2": "99"
                },
                {
                  "0": "117644",
                  "1": "3862",
                  "2": "99"
                },
                {
                  "0": "117019",
                  "1": "1876",
                  "2": "99"
                },
                {
                  "0": "117349",
                  "1": "442",
                  "2": "99"
                },
                {
                  "0": "81690",
                  "1": "2642",
                  "2": "99"
                },
                {
                  "0": "106224",
                  "1": "2285",
                  "2": "99"
                },
                {
                  "0": "81716",
                  "1": "4493",
                  "2": "99"
                },
                {
                  "0": "81717",
                  "1": "3121",
                  "2": "99"
                },
                {
                  "0": "81752",
                  "1": "3460",
                  "2": "99"
                },
                {
                  "0": "101159",
                  "1": "2988",
                  "2": "99"
                },
                {
                  "0": "106283",
                  "1": "4745",
                  "2": "99"
                },
                {
                  "0": "81818",
                  "1": "4663",
                  "2": "99"
                },
                {
                  "0": "81852",
                  "1": "4833",
                  "2": "99"
                },
                {
                  "0": "81867",
                  "1": "4002",
                  "2": "99"
                },
                {
                  "0": "106311",
                  "1": "4752",
                  "2": "99"
                },
                {
                  "0": "81901",
                  "1": "2793",
                  "2": "99"
                },
                {
                  "0": "117376",
                  "1": "639",
                  "2": "99"
                },
                {
                  "0": "81964",
                  "1": "3706",
                  "2": "99"
                },
                {
                  "0": "106417",
                  "1": "1172",
                  "2": "99"
                },
                {
                  "0": "98069",
                  "1": "3603",
                  "2": "99"
                },
                {
                  "0": "98092",
                  "1": "1945",
                  "2": "99"
                },
                {
                  "0": "98101",
                  "1": "4635",
                  "2": "99"
                },
                {
                  "0": "106552",
                  "1": "2617",
                  "2": "99"
                },
                {
                  "0": "106587",
                  "1": "2528",
                  "2": "99"
                },
                {
                  "0": "98130",
                  "1": "928",
                  "2": "99"
                },
                {
                  "0": "101160",
                  "1": "1336",
                  "2": "99"
                },
                {
                  "0": "106635",
                  "1": "442",
                  "2": "99"
                },
                {
                  "0": "98197",
                  "1": "4795",
                  "2": "99"
                },
                {
                  "0": "98241",
                  "1": "1980",
                  "2": "99"
                },
                {
                  "0": "98280",
                  "1": "4538",
                  "2": "99"
                },
                {
                  "0": "106654",
                  "1": "1668",
                  "2": "99"
                },
                {
                  "0": "98320",
                  "1": "3519",
                  "2": "99"
                },
                {
                  "0": "117415",
                  "1": "2181",
                  "2": "99"
                },
                {
                  "0": "98363",
                  "1": "1982",
                  "2": "99"
                },
                {
                  "0": "106698",
                  "1": "2912",
                  "2": "99"
                },
                {
                  "0": "98387",
                  "1": "289",
                  "2": "99"
                },
                {
                  "0": "98411",
                  "1": "818",
                  "2": "99"
                },
                {
                  "0": "98424",
                  "1": "691",
                  "2": "99"
                },
                {
                  "0": "106771",
                  "1": "4467",
                  "2": "99"
                },
                {
                  "0": "106801",
                  "1": "1823",
                  "2": "99"
                },
                {
                  "0": "98505",
                  "1": "3080",
                  "2": "99"
                },
                {
                  "0": "101178",
                  "1": "3204",
                  "2": "99"
                },
                {
                  "0": "98541",
                  "1": "74",
                  "2": "99"
                },
                {
                  "0": "106832",
                  "1": "2941",
                  "2": "99"
                },
                {
                  "0": "98592",
                  "1": "4651",
                  "2": "99"
                },
                {
                  "0": "117422",
                  "1": "3166",
                  "2": "99"
                },
                {
                  "0": "98614",
                  "1": "3178",
                  "2": "99"
                },
                {
                  "0": "106861",
                  "1": "4693",
                  "2": "99"
                },
                {
                  "0": "98627",
                  "1": "2891",
                  "2": "99"
                },
                {
                  "0": "98628",
                  "1": "4428",
                  "2": "99"
                },
                {
                  "0": "98650",
                  "1": "1321",
                  "2": "99"
                },
                {
                  "0": "98676",
                  "1": "1924",
                  "2": "99"
                },
                {
                  "0": "98696",
                  "1": "3377",
                  "2": "99"
                },
                {
                  "0": "106909",
                  "1": "4989",
                  "2": "99"
                },
                {
                  "0": "98778",
                  "1": "4464",
                  "2": "99"
                },
                {
                  "0": "117427",
                  "1": "2355",
                  "2": "99"
                },
                {
                  "0": "98812",
                  "1": "3020",
                  "2": "99"
                },
                {
                  "0": "101202",
                  "1": "3120",
                  "2": "99"
                },
                {
                  "0": "117428",
                  "1": "3077",
                  "2": "99"
                },
                {
                  "0": "98890",
                  "1": "832",
                  "2": "99"
                },
                {
                  "0": "81031",
                  "1": "271",
                  "2": "99"
                },
                {
                  "0": "98922",
                  "1": "59",
                  "2": "99"
                },
                {
                  "0": "98939",
                  "1": "1756",
                  "2": "99"
                },
                {
                  "0": "98964",
                  "1": "881",
                  "2": "99"
                },
                {
                  "0": "81059",
                  "1": "1201",
                  "2": "99"
                },
                {
                  "0": "81060",
                  "1": "4751",
                  "2": "99"
                },
                {
                  "0": "98999",
                  "1": "1529",
                  "2": "99"
                },
                {
                  "0": "84016",
                  "1": "4966",
                  "2": "99"
                },
                {
                  "0": "84024",
                  "1": "2111",
                  "2": "99"
                },
                {
                  "0": "81123",
                  "1": "1100",
                  "2": "99"
                },
                {
                  "0": "84082",
                  "1": "4144",
                  "2": "99"
                },
                {
                  "0": "117504",
                  "1": "56",
                  "2": "99"
                },
                {
                  "0": "84133",
                  "1": "4185",
                  "2": "99"
                },
                {
                  "0": "84152",
                  "1": "4699",
                  "2": "99"
                },
                {
                  "0": "84168",
                  "1": "2077",
                  "2": "99"
                },
                {
                  "0": "81246",
                  "1": "237",
                  "2": "99"
                },
                {
                  "0": "84231",
                  "1": "3547",
                  "2": "99"
                },
                {
                  "0": "84248",
                  "1": "4933",
                  "2": "99"
                },
                {
                  "0": "81305",
                  "1": "2343",
                  "2": "99"
                },
                {
                  "0": "84312",
                  "1": "3978",
                  "2": "99"
                },
                {
                  "0": "117582",
                  "1": "2404",
                  "2": "99"
                },
                {
                  "0": "84378",
                  "1": "1797",
                  "2": "99"
                },
                {
                  "0": "84395",
                  "1": "4396",
                  "2": "99"
                },
                {
                  "0": "81352",
                  "1": "1515",
                  "2": "99"
                },
                {
                  "0": "84402",
                  "1": "1282",
                  "2": "99"
                },
                {
                  "0": "101724",
                  "1": "4973",
                  "2": "99"
                },
                {
                  "0": "81358",
                  "1": "1588",
                  "2": "99"
                },
                {
                  "0": "84426",
                  "1": "3272",
                  "2": "99"
                },
                {
                  "0": "84430",
                  "1": "2245",
                  "2": "99"
                },
                {
                  "0": "101738",
                  "1": "2956",
                  "2": "99"
                },
                {
                  "0": "101223",
                  "1": "3364",
                  "2": "99"
                },
                {
                  "0": "101095",
                  "1": "1986",
                  "2": "99"
                },
                {
                  "0": "117321",
                  "1": "4648",
                  "2": "99"
                },
                {
                  "0": "101756",
                  "1": "2253",
                  "2": "99"
                },
                {
                  "0": "117629",
                  "1": "4549",
                  "2": "99"
                },
                {
                  "0": "106088",
                  "1": "1376",
                  "2": "99"
                },
                {
                  "0": "106098",
                  "1": "1617",
                  "2": "99"
                },
                {
                  "0": "101767",
                  "1": "2658",
                  "2": "99"
                },
                {
                  "0": "106140",
                  "1": "1427",
                  "2": "99"
                },
                {
                  "0": "106563",
                  "1": "378",
                  "2": "99"
                },
                {
                  "0": "117068",
                  "1": "3151",
                  "2": "99"
                },
                {
                  "0": "101771",
                  "1": "1303",
                  "2": "99"
                },
                {
                  "0": "117135",
                  "1": "2972",
                  "2": "99"
                },
                {
                  "0": "81438",
                  "1": "2432",
                  "2": "99"
                },
                {
                  "0": "81442",
                  "1": "586",
                  "2": "99"
                },
                {
                  "0": "101796",
                  "1": "3720",
                  "2": "99"
                },
                {
                  "0": "101242",
                  "1": "2549",
                  "2": "99"
                },
                {
                  "0": "81526",
                  "1": "3657",
                  "2": "99"
                },
                {
                  "0": "81532",
                  "1": "3017",
                  "2": "99"
                },
                {
                  "0": "101819",
                  "1": "480",
                  "2": "99"
                },
                {
                  "0": "81571",
                  "1": "990",
                  "2": "99"
                },
                {
                  "0": "81585",
                  "1": "1426",
                  "2": "99"
                },
                {
                  "0": "117336",
                  "1": "1242",
                  "2": "99"
                },
                {
                  "0": "101837",
                  "1": "1824",
                  "2": "99"
                },
                {
                  "0": "117194",
                  "1": "4164",
                  "2": "99"
                },
                {
                  "0": "117689",
                  "1": "2760",
                  "2": "99"
                },
                {
                  "0": "117705",
                  "1": "2535",
                  "2": "99"
                },
                {
                  "0": "101845",
                  "1": "4884",
                  "2": "99"
                },
                {
                  "0": "117743",
                  "1": "4690",
                  "2": "99"
                },
                {
                  "0": "117202",
                  "1": "4794",
                  "2": "99"
                },
                {
                  "0": "117801",
                  "1": "4299",
                  "2": "99"
                },
                {
                  "0": "101847",
                  "1": "1876",
                  "2": "99"
                },
                {
                  "0": "101252",
                  "1": "4690",
                  "2": "99"
                },
                {
                  "0": "117835",
                  "1": "2190",
                  "2": "99"
                },
                {
                  "0": "117870",
                  "1": "967",
                  "2": "99"
                },
                {
                  "0": "101871",
                  "1": "2204",
                  "2": "99"
                },
                {
                  "0": "117891",
                  "1": "243",
                  "2": "99"
                },
                {
                  "0": "117247",
                  "1": "2484",
                  "2": "99"
                },
                {
                  "0": "117901",
                  "1": "444",
                  "2": "99"
                },
                {
                  "0": "101879",
                  "1": "1679",
                  "2": "99"
                },
                {
                  "0": "117919",
                  "1": "1686",
                  "2": "99"
                },
                {
                  "0": "117939",
                  "1": "3828",
                  "2": "99"
                },
                {
                  "0": "117255",
                  "1": "2686",
                  "2": "99"
                },
                {
                  "0": "101881",
                  "1": "4344",
                  "2": "99"
                },
                {
                  "0": "117973",
                  "1": "1395",
                  "2": "99"
                },
                {
                  "0": "117260",
                  "1": "3460",
                  "2": "99"
                },
                {
                  "0": "117996",
                  "1": "4071",
                  "2": "99"
                },
                {
                  "0": "101885",
                  "1": "1190",
                  "2": "99"
                },
                {
                  "0": "101257",
                  "1": "4263",
                  "2": "99"
                },
                {
                  "0": "106013",
                  "1": "1720",
                  "2": "99"
                },
                {
                  "0": "117285",
                  "1": "3313",
                  "2": "99"
                },
                {
                  "0": "101889",
                  "1": "630",
                  "2": "99"
                },
                {
                  "0": "106038",
                  "1": "3367",
                  "2": "99"
                },
                {
                  "0": "117047",
                  "1": "3285",
                  "2": "99"
                },
                {
                  "0": "106043",
                  "1": "3032",
                  "2": "99"
                },
                {
                  "0": "101906",
                  "1": "3758",
                  "2": "99"
                },
                {
                  "0": "106053",
                  "1": "4679",
                  "2": "99"
                },
                {
                  "0": "106057",
                  "1": "2002",
                  "2": "99"
                },
                {
                  "0": "117301",
                  "1": "2087",
                  "2": "99"
                },
                {
                  "0": "101939",
                  "1": "4398",
                  "2": "99"
                },
                {
                  "0": "106080",
                  "1": "2606",
                  "2": "99"
                },
                {
                  "0": "106081",
                  "1": "9",
                  "2": "99"
                },
                {
                  "0": "84654",
                  "1": "861",
                  "2": "99"
                },
                {
                  "0": "101962",
                  "1": "1369",
                  "2": "99"
                },
                {
                  "0": "101302",
                  "1": "4152",
                  "2": "99"
                },
                {
                  "0": "101111",
                  "1": "4732",
                  "2": "99"
                },
                {
                  "0": "84726",
                  "1": "4948",
                  "2": "99"
                },
                {
                  "0": "101966",
                  "1": "1949",
                  "2": "99"
                },
                {
                  "0": "84764",
                  "1": "545",
                  "2": "99"
                },
                {
                  "0": "84778",
                  "1": "738",
                  "2": "99"
                },
                {
                  "0": "84804",
                  "1": "2706",
                  "2": "99"
                },
                {
                  "0": "101966",
                  "1": "2493",
                  "2": "99"
                },
                {
                  "0": "84884",
                  "1": "2834",
                  "2": "99"
                },
                {
                  "0": "84906",
                  "1": "139",
                  "2": "99"
                },
                {
                  "0": "84934",
                  "1": "1359",
                  "2": "99"
                },
                {
                  "0": "101983",
                  "1": "1158",
                  "2": "99"
                },
                {
                  "0": "84962",
                  "1": "3182",
                  "2": "99"
                },
                {
                  "0": "84984",
                  "1": "239",
                  "2": "99"
                },
                {
                  "0": "84989",
                  "1": "1909",
                  "2": "99"
                },
                {
                  "0": "101989",
                  "1": "409",
                  "2": "99"
                },
                {
                  "0": "101325",
                  "1": "3579",
                  "2": "99"
                },
                {
                  "0": "81616",
                  "1": "451",
                  "2": "99"
                },
                {
                  "0": "81616",
                  "1": "3073",
                  "2": "99"
                },
                {
                  "0": "101990",
                  "1": "835",
                  "2": "99"
                },
                {
                  "0": "81642",
                  "1": "1657",
                  "2": "99"
                },
                {
                  "0": "81665",
                  "1": "247",
                  "2": "99"
                },
                {
                  "0": "81671",
                  "1": "2500",
                  "2": "99"
                },
                {
                  "0": "101991",
                  "1": "531",
                  "2": "99"
                },
                {
                  "0": "81700",
                  "1": "4469",
                  "2": "99"
                },
                {
                  "0": "81701",
                  "1": "3090",
                  "2": "99"
                },
                {
                  "0": "106231",
                  "1": "108",
                  "2": "99"
                },
                {
                  "0": "102002",
                  "1": "4182",
                  "2": "99"
                },
                {
                  "0": "106233",
                  "1": "1209",
                  "2": "99"
                },
                {
                  "0": "81720",
                  "1": "1016",
                  "2": "99"
                },
                {
                  "0": "81748",
                  "1": "1879",
                  "2": "99"
                },
                {
                  "0": "102004",
                  "1": "4300",
                  "2": "99"
                },
                {
                  "0": "101325",
                  "1": "855",
                  "2": "99"
                },
                {
                  "0": "81802",
                  "1": "2486",
                  "2": "99"
                },
                {
                  "0": "81806",
                  "1": "3459",
                  "2": "99"
                },
                {
                  "0": "102006",
                  "1": "3837",
                  "2": "99"
                },
                {
                  "0": "106283",
                  "1": "3428",
                  "2": "99"
                },
                {
                  "0": "81827",
                  "1": "2240",
                  "2": "99"
                },
                {
                  "0": "81834",
                  "1": "1848",
                  "2": "99"
                },
                {
                  "0": "102013",
                  "1": "1334",
                  "2": "99"
                },
                {
                  "0": "117367",
                  "1": "3522",
                  "2": "99"
                },
                {
                  "0": "106306",
                  "1": "2958",
                  "2": "99"
                },
                {
                  "0": "81887",
                  "1": "4078",
                  "2": "99"
                },
                {
                  "0": "102013",
                  "1": "1575",
                  "2": "99"
                },
                {
                  "0": "106341",
                  "1": "4736",
                  "2": "99"
                },
                {
                  "0": "81907",
                  "1": "4185",
                  "2": "99"
                },
                {
                  "0": "81908",
                  "1": "3491",
                  "2": "99"
                },
                {
                  "0": "102014",
                  "1": "287",
                  "2": "99"
                },
                {
                  "0": "101346",
                  "1": "1613",
                  "2": "99"
                },
                {
                  "0": "106392",
                  "1": "1389",
                  "2": "99"
                },
                {
                  "0": "81998",
                  "1": "2928",
                  "2": "99"
                },
                {
                  "0": "102020",
                  "1": "4882",
                  "2": "99"
                },
                {
                  "0": "106418",
                  "1": "4260",
                  "2": "99"
                },
                {
                  "0": "117377",
                  "1": "3780",
                  "2": "99"
                },
                {
                  "0": "106424",
                  "1": "4496",
                  "2": "99"
                },
                {
                  "0": "102024",
                  "1": "4791",
                  "2": "99"
                },
                {
                  "0": "98097",
                  "1": "2282",
                  "2": "99"
                },
                {
                  "0": "106542",
                  "1": "1745",
                  "2": "99"
                },
                {
                  "0": "98109",
                  "1": "4250",
                  "2": "99"
                },
                {
                  "0": "102026",
                  "1": "903",
                  "2": "99"
                },
                {
                  "0": "98120",
                  "1": "2273",
                  "2": "99"
                },
                {
                  "0": "98120",
                  "1": "1423",
                  "2": "99"
                },
                {
                  "0": "106610",
                  "1": "3259",
                  "2": "99"
                },
                {
                  "0": "102032",
                  "1": "4207",
                  "2": "99"
                },
                {
                  "0": "101347",
                  "1": "25",
                  "2": "99"
                },
                {
                  "0": "101118",
                  "1": "4955",
                  "2": "99"
                },
                {
                  "0": "98174",
                  "1": "1951",
                  "2": "99"
                },
                {
                  "0": "102059",
                  "1": "1098",
                  "2": "99"
                },
                {
                  "0": "106641",
                  "1": "3605",
                  "2": "99"
                },
                {
                  "0": "98201",
                  "1": "4432",
                  "2": "99"
                },
                {
                  "0": "98239",
                  "1": "2692",
                  "2": "99"
                },
                {
                  "0": "102063",
                  "1": "1768",
                  "2": "99"
                },
                {
                  "0": "117404",
                  "1": "2068",
                  "2": "99"
                },
                {
                  "0": "106647",
                  "1": "4412",
                  "2": "99"
                },
                {
                  "0": "98284",
                  "1": "2474",
                  "2": "99"
                },
                {
                  "0": "102069",
                  "1": "4098",
                  "2": "99"
                },
                {
                  "0": "106675",
                  "1": "2411",
                  "2": "99"
                },
                {
                  "0": "98331",
                  "1": "283",
                  "2": "99"
                },
                {
                  "0": "98338",
                  "1": "3906",
                  "2": "99"
                },
                {
                  "0": "102089",
                  "1": "4957",
                  "2": "99"
                },
                {
                  "0": "101349",
                  "1": "1175",
                  "2": "99"
                },
                {
                  "0": "106686",
                  "1": "4250",
                  "2": "99"
                },
                {
                  "0": "98374",
                  "1": "4195",
                  "2": "99"
                },
                {
                  "0": "102096",
                  "1": "2206",
                  "2": "99"
                },
                {
                  "0": "106717",
                  "1": "1645",
                  "2": "99"
                },
                {
                  "0": "117420",
                  "1": "1000",
                  "2": "99"
                },
                {
                  "0": "106721",
                  "1": "4670",
                  "2": "99"
                },
                {
                  "0": "102111",
                  "1": "3631",
                  "2": "99"
                },
                {
                  "0": "98424",
                  "1": "627",
                  "2": "99"
                },
                {
                  "0": "106759",
                  "1": "3259",
                  "2": "99"
                },
                {
                  "0": "98462",
                  "1": "2524",
                  "2": "99"
                },
                {
                  "0": "102123",
                  "1": "4104",
                  "2": "99"
                },
                {
                  "0": "98467",
                  "1": "1398",
                  "2": "99"
                },
                {
                  "0": "98478",
                  "1": "3248",
                  "2": "99"
                },
                {
                  "0": "106802",
                  "1": "247",
                  "2": "99"
                },
                {
                  "0": "102130",
                  "1": "4185",
                  "2": "99"
                },
                {
                  "0": "101357",
                  "1": "4171",
                  "2": "99"
                },
                {
                  "0": "106819",
                  "1": "1183",
                  "2": "99"
                },
                {
                  "0": "117421",
                  "1": "2789",
                  "2": "99"
                },
                {
                  "0": "102153",
                  "1": "2325",
                  "2": "99"
                },
                {
                  "0": "98550",
                  "1": "2244",
                  "2": "99"
                },
                {
                  "0": "98584",
                  "1": "1350",
                  "2": "99"
                },
                {
                  "0": "106846",
                  "1": "4299",
                  "2": "99"
                },
                {
                  "0": "102172",
                  "1": "3035",
                  "2": "99"
                },
                {
                  "0": "98597",
                  "1": "2476",
                  "2": "99"
                },
                {
                  "0": "98598",
                  "1": "4084",
                  "2": "99"
                },
                {
                  "0": "98607",
                  "1": "365",
                  "2": "99"
                },
                {
                  "0": "102201",
                  "1": "1596",
                  "2": "99"
                },
                {
                  "0": "98620",
                  "1": "2804",
                  "2": "99"
                },
                {
                  "0": "98622",
                  "1": "4420",
                  "2": "99"
                },
                {
                  "0": "106863",
                  "1": "1055",
                  "2": "99"
                },
                {
                  "0": "102203",
                  "1": "1142",
                  "2": "99"
                },
                {
                  "0": "101363",
                  "1": "2202",
                  "2": "99"
                },
                {
                  "0": "117005",
                  "1": "1885",
                  "2": "99"
                },
                {
                  "0": "106884",
                  "1": "2194",
                  "2": "99"
                },
                {
                  "0": "102209",
                  "1": "1435",
                  "2": "99"
                },
                {
                  "0": "98675",
                  "1": "2957",
                  "2": "99"
                },
                {
                  "0": "106894",
                  "1": "4429",
                  "2": "99"
                },
                {
                  "0": "117424",
                  "1": "4757",
                  "2": "99"
                },
                {
                  "0": "102210",
                  "1": "1701",
                  "2": "99"
                },
                {
                  "0": "98731",
                  "1": "4549",
                  "2": "99"
                },
                {
                  "0": "98750",
                  "1": "1821",
                  "2": "99"
                },
                {
                  "0": "106911",
                  "1": "3559",
                  "2": "99"
                },
                {
                  "0": "102225",
                  "1": "3208",
                  "2": "99"
                },
                {
                  "0": "98796",
                  "1": "500",
                  "2": "99"
                },
                {
                  "0": "98801",
                  "1": "2867",
                  "2": "99"
                },
                {
                  "0": "98811",
                  "1": "3947",
                  "2": "99"
                },
                {
                  "0": "102225",
                  "1": "2752",
                  "2": "99"
                },
                {
                  "0": "101393",
                  "1": "1265",
                  "2": "99"
                },
                {
                  "0": "98850",
                  "1": "3661",
                  "2": "99"
                },
                {
                  "0": "98853",
                  "1": "1204",
                  "2": "99"
                },
                {
                  "0": "102248",
                  "1": "2200",
                  "2": "99"
                },
                {
                  "0": "98884",
                  "1": "4660",
                  "2": "99"
                },
                {
                  "0": "81030",
                  "1": "153",
                  "2": "99"
                },
                {
                  "0": "98903",
                  "1": "4969",
                  "2": "99"
                },
                {
                  "0": "102261",
                  "1": "3410",
                  "2": "99"
                },
                {
                  "0": "81032",
                  "1": "1600",
                  "2": "99"
                },
                {
                  "0": "117435",
                  "1": "18",
                  "2": "99"
                },
                {
                  "0": "81037",
                  "1": "2143",
                  "2": "99"
                },
                {
                  "0": "102265",
                  "1": "566",
                  "2": "99"
                },
                {
                  "0": "98949",
                  "1": "4379",
                  "2": "99"
                },
                {
                  "0": "81044",
                  "1": "4964",
                  "2": "99"
                },
                {
                  "0": "98979",
                  "1": "1860",
                  "2": "99"
                },
                {
                  "0": "102276",
                  "1": "2386",
                  "2": "99"
                },
                {
                  "0": "101400",
                  "1": "2257",
                  "2": "99"
                },
                {
                  "0": "98991",
                  "1": "871",
                  "2": "99"
                },
                {
                  "0": "81094",
                  "1": "4492",
                  "2": "99"
                },
                {
                  "0": "102289",
                  "1": "2680",
                  "2": "99"
                },
                {
                  "0": "84011",
                  "1": "340",
                  "2": "99"
                },
                {
                  "0": "81108",
                  "1": "3018",
                  "2": "99"
                },
                {
                  "0": "117450",
                  "1": "2877",
                  "2": "99"
                },
                {
                  "0": "102297",
                  "1": "2659",
                  "2": "99"
                },
                {
                  "0": "84060",
                  "1": "4582",
                  "2": "99"
                },
                {
                  "0": "84066",
                  "1": "4467",
                  "2": "99"
                },
                {
                  "0": "81149",
                  "1": "1241",
                  "2": "99"
                },
                {
                  "0": "102298",
                  "1": "3422",
                  "2": "99"
                },
                {
                  "0": "84115",
                  "1": "4383",
                  "2": "99"
                },
                {
                  "0": "84120",
                  "1": "2417",
                  "2": "99"
                },
                {
                  "0": "84131",
                  "1": "4247",
                  "2": "99"
                },
                {
                  "0": "102303",
                  "1": "1207",
                  "2": "99"
                },
                {
                  "0": "84150",
                  "1": "675",
                  "2": "99"
                },
                {
                  "0": "81206",
                  "1": "1913",
                  "2": "99"
                },
                {
                  "0": "117515",
                  "1": "1863",
                  "2": "99"
                },
                {
                  "0": "102303",
                  "1": "3414",
                  "2": "99"
                },
                {
                  "0": "84200",
                  "1": "634",
                  "2": "99"
                },
                {
                  "0": "84204",
                  "1": "1474",
                  "2": "99"
                },
                {
                  "0": "81255",
                  "1": "4925",
                  "2": "99"
                },
                {
                  "0": "101452",
                  "1": "1788",
                  "2": "99"
                },
                {
                  "0": "117559",
                  "1": "2408",
                  "2": "99"
                },
                {
                  "0": "81276",
                  "1": "319",
                  "2": "99"
                },
                {
                  "0": "84291",
                  "1": "2222",
                  "2": "99"
                },
                {
                  "0": "101012",
                  "1": "4603",
                  "2": "99"
                },
                {
                  "0": "81305",
                  "1": "1771",
                  "2": "99"
                },
                {
                  "0": "84318",
                  "1": "3006",
                  "2": "99"
                },
                {
                  "0": "84325",
                  "1": "1680",
                  "2": "99"
                },
                {
                  "0": "84356",
                  "1": "3590",
                  "2": "99"
                },
                {
                  "0": "84369",
                  "1": "1833",
                  "2": "99"
                },
                {
                  "0": "84383",
                  "1": "1589",
                  "2": "99"
                },
                {
                  "0": "81347",
                  "1": "730",
                  "2": "99"
                },
                {
                  "0": "84399",
                  "1": "1804",
                  "2": "99"
                },
                {
                  "0": "102326",
                  "1": "4368",
                  "2": "99"
                },
                {
                  "0": "104597",
                  "1": "31",
                  "2": "99"
                },
                {
                  "0": "84401",
                  "1": "4864",
                  "2": "99"
                },
                {
                  "0": "104607",
                  "1": "760",
                  "2": "99"
                },
                {
                  "0": "102335",
                  "1": "3095",
                  "2": "99"
                },
                {
                  "0": "104644",
                  "1": "2497",
                  "2": "99"
                },
                {
                  "0": "84419",
                  "1": "3072",
                  "2": "99"
                },
                {
                  "0": "104650",
                  "1": "1110",
                  "2": "99"
                },
                {
                  "0": "102339",
                  "1": "1537",
                  "2": "99"
                },
                {
                  "0": "104650",
                  "1": "4472",
                  "2": "99"
                },
                {
                  "0": "81367",
                  "1": "4013",
                  "2": "99"
                },
                {
                  "0": "104656",
                  "1": "370",
                  "2": "99"
                },
                {
                  "0": "102342",
                  "1": "1155",
                  "2": "99"
                },
                {
                  "0": "104657",
                  "1": "1580",
                  "2": "99"
                },
                {
                  "0": "101477",
                  "1": "13",
                  "2": "99"
                },
                {
                  "0": "104659",
                  "1": "2442",
                  "2": "99"
                },
                {
                  "0": "102379",
                  "1": "4134",
                  "2": "99"
                },
                {
                  "0": "104660",
                  "1": "90",
                  "2": "99"
                },
                {
                  "0": "101076",
                  "1": "320",
                  "2": "99"
                },
                {
                  "0": "104672",
                  "1": "2940",
                  "2": "99"
                },
                {
                  "0": "102380",
                  "1": "1184",
                  "2": "99"
                },
                {
                  "0": "104674",
                  "1": "4818",
                  "2": "99"
                },
                {
                  "0": "117625",
                  "1": "1398",
                  "2": "99"
                },
                {
                  "0": "104677",
                  "1": "3869",
                  "2": "99"
                },
                {
                  "0": "102387",
                  "1": "1908",
                  "2": "99"
                },
                {
                  "0": "104733",
                  "1": "1618",
                  "2": "99"
                },
                {
                  "0": "106094",
                  "1": "4651",
                  "2": "99"
                },
                {
                  "0": "104741",
                  "1": "1694",
                  "2": "99"
                },
                {
                  "0": "102393",
                  "1": "209",
                  "2": "99"
                },
                {
                  "0": "104743",
                  "1": "707",
                  "2": "99"
                },
                {
                  "0": "101481",
                  "1": "1375",
                  "2": "99"
                },
                {
                  "0": "104754",
                  "1": "3681",
                  "2": "99"
                },
                {
                  "0": "102405",
                  "1": "642",
                  "2": "99"
                },
                {
                  "0": "104759",
                  "1": "4061",
                  "2": "99"
                },
                {
                  "0": "117068",
                  "1": "4441",
                  "2": "99"
                },
                {
                  "0": "104760",
                  "1": "3299",
                  "2": "99"
                },
                {
                  "0": "102418",
                  "1": "2337",
                  "2": "99"
                },
                {
                  "0": "104797",
                  "1": "2164",
                  "2": "99"
                },
                {
                  "0": "117087",
                  "1": "3490",
                  "2": "99"
                },
                {
                  "0": "104798",
                  "1": "3313",
                  "2": "99"
                },
                {
                  "0": "102442",
                  "1": "4806",
                  "2": "99"
                },
                {
                  "0": "104825",
                  "1": "3329",
                  "2": "99"
                },
                {
                  "0": "81440",
                  "1": "1915",
                  "2": "99"
                },
                {
                  "0": "104826",
                  "1": "3282",
                  "2": "99"
                },
                {
                  "0": "102458",
                  "1": "2671",
                  "2": "99"
                },
                {
                  "0": "104826",
                  "1": "3554",
                  "2": "99"
                },
                {
                  "0": "101486",
                  "1": "2121",
                  "2": "99"
                },
                {
                  "0": "104829",
                  "1": "1580",
                  "2": "99"
                },
                {
                  "0": "102470",
                  "1": "3389",
                  "2": "99"
                },
                {
                  "0": "104834",
                  "1": "4267",
                  "2": "99"
                },
                {
                  "0": "81532",
                  "1": "4810",
                  "2": "99"
                },
                {
                  "0": "104835",
                  "1": "4022",
                  "2": "99"
                },
                {
                  "0": "102486",
                  "1": "2900",
                  "2": "99"
                },
                {
                  "0": "104854",
                  "1": "2067",
                  "2": "99"
                },
                {
                  "0": "81562",
                  "1": "576",
                  "2": "99"
                },
                {
                  "0": "104860",
                  "1": "4428",
                  "2": "99"
                },
                {
                  "0": "102491",
                  "1": "1154",
                  "2": "99"
                },
                {
                  "0": "104875",
                  "1": "4225",
                  "2": "99"
                },
                {
                  "0": "106154",
                  "1": "525",
                  "2": "99"
                },
                {
                  "0": "104879",
                  "1": "4238",
                  "2": "99"
                },
                {
                  "0": "102512",
                  "1": "3004",
                  "2": "99"
                },
                {
                  "0": "104889",
                  "1": "2857",
                  "2": "99"
                },
                {
                  "0": "101488",
                  "1": "4495",
                  "2": "99"
                },
                {
                  "0": "104901",
                  "1": "1392",
                  "2": "99"
                },
                {
                  "0": "102520",
                  "1": "2073",
                  "2": "99"
                },
                {
                  "0": "104909",
                  "1": "2931",
                  "2": "99"
                },
                {
                  "0": "117698",
                  "1": "4432",
                  "2": "99"
                },
                {
                  "0": "104918",
                  "1": "2854",
                  "2": "99"
                },
                {
                  "0": "102551",
                  "1": "1305",
                  "2": "99"
                },
                {
                  "0": "104925",
                  "1": "2406",
                  "2": "99"
                },
                {
                  "0": "117730",
                  "1": "4921",
                  "2": "99"
                },
                {
                  "0": "104931",
                  "1": "706",
                  "2": "99"
                },
                {
                  "0": "102559",
                  "1": "2017",
                  "2": "99"
                },
                {
                  "0": "104936",
                  "1": "226",
                  "2": "99"
                },
                {
                  "0": "117791",
                  "1": "3926",
                  "2": "99"
                },
                {
                  "0": "104953",
                  "1": "298",
                  "2": "99"
                },
                {
                  "0": "102566",
                  "1": "3701",
                  "2": "99"
                },
                {
                  "0": "104964",
                  "1": "4948",
                  "2": "99"
                },
                {
                  "0": "101490",
                  "1": "262",
                  "2": "99"
                },
                {
                  "0": "118008",
                  "1": "3005",
                  "2": "99"
                },
                {
                  "0": "102583",
                  "1": "1537",
                  "2": "99"
                },
                {
                  "0": "118008",
                  "1": "3089",
                  "2": "99"
                },
                {
                  "0": "117847",
                  "1": "3480",
                  "2": "99"
                },
                {
                  "0": "118015",
                  "1": "4181",
                  "2": "99"
                },
                {
                  "0": "102591",
                  "1": "4796",
                  "2": "99"
                },
                {
                  "0": "118061",
                  "1": "1974",
                  "2": "99"
                },
                {
                  "0": "117890",
                  "1": "4607",
                  "2": "99"
                },
                {
                  "0": "118061",
                  "1": "153",
                  "2": "99"
                },
                {
                  "0": "102595",
                  "1": "1288",
                  "2": "99"
                },
                {
                  "0": "118081",
                  "1": "3088",
                  "2": "99"
                },
                {
                  "0": "117892",
                  "1": "473",
                  "2": "99"
                },
                {
                  "0": "118093",
                  "1": "834",
                  "2": "99"
                },
                {
                  "0": "102603",
                  "1": "1325",
                  "2": "99"
                },
                {
                  "0": "118094",
                  "1": "4701",
                  "2": "99"
                },
                {
                  "0": "101493",
                  "1": "1755",
                  "2": "99"
                },
                {
                  "0": "118103",
                  "1": "1491",
                  "2": "99"
                },
                {
                  "0": "102608",
                  "1": "4020",
                  "2": "99"
                },
                {
                  "0": "118103",
                  "1": "984",
                  "2": "99"
                },
                {
                  "0": "117946",
                  "1": "511",
                  "2": "99"
                },
                {
                  "0": "118113",
                  "1": "4113",
                  "2": "99"
                },
                {
                  "0": "102625",
                  "1": "1674",
                  "2": "99"
                },
                {
                  "0": "118122",
                  "1": "84",
                  "2": "99"
                },
                {
                  "0": "117971",
                  "1": "37",
                  "2": "99"
                },
                {
                  "0": "118155",
                  "1": "4681",
                  "2": "99"
                },
                {
                  "0": "102636",
                  "1": "1251",
                  "2": "99"
                },
                {
                  "0": "118168",
                  "1": "70",
                  "2": "99"
                },
                {
                  "0": "117991",
                  "1": "4362",
                  "2": "99"
                },
                {
                  "0": "118172",
                  "1": "2551",
                  "2": "99"
                },
                {
                  "0": "102638",
                  "1": "3671",
                  "2": "99"
                },
                {
                  "0": "118176",
                  "1": "3031",
                  "2": "99"
                },
                {
                  "0": "101504",
                  "1": "4632",
                  "2": "99"
                },
                {
                  "0": "118178",
                  "1": "2552",
                  "2": "99"
                },
                {
                  "0": "102647",
                  "1": "4428",
                  "2": "99"
                },
                {
                  "0": "118182",
                  "1": "741",
                  "2": "99"
                },
                {
                  "0": "106026",
                  "1": "3961",
                  "2": "99"
                },
                {
                  "0": "118194",
                  "1": "3341",
                  "2": "99"
                },
                {
                  "0": "102652",
                  "1": "1851",
                  "2": "99"
                },
                {
                  "0": "118198",
                  "1": "2944",
                  "2": "99"
                },
                {
                  "0": "106037",
                  "1": "1722",
                  "2": "99"
                },
                {
                  "0": "118216",
                  "1": "3303",
                  "2": "99"
                },
                {
                  "0": "102654",
                  "1": "1953",
                  "2": "99"
                },
                {
                  "0": "118243",
                  "1": "3799",
                  "2": "99"
                },
                {
                  "0": "106042",
                  "1": "1312",
                  "2": "99"
                },
                {
                  "0": "118245",
                  "1": "1262",
                  "2": "99"
                },
                {
                  "0": "102661",
                  "1": "2700",
                  "2": "99"
                },
                {
                  "0": "118254",
                  "1": "2929",
                  "2": "99"
                },
                {
                  "0": "101513",
                  "1": "3853",
                  "2": "99"
                },
                {
                  "0": "118263",
                  "1": "2813",
                  "2": "99"
                },
                {
                  "0": "102663",
                  "1": "219",
                  "2": "99"
                },
                {
                  "0": "118271",
                  "1": "1972",
                  "2": "99"
                },
                {
                  "0": "106059",
                  "1": "4276",
                  "2": "99"
                },
                {
                  "0": "118278",
                  "1": "1077",
                  "2": "99"
                },
                {
                  "0": "102692",
                  "1": "298",
                  "2": "99"
                },
                {
                  "0": "118281",
                  "1": "2053",
                  "2": "99"
                },
                {
                  "0": "106079",
                  "1": "3508",
                  "2": "99"
                },
                {
                  "0": "118284",
                  "1": "3653",
                  "2": "99"
                },
                {
                  "0": "102727",
                  "1": "1606",
                  "2": "99"
                },
                {
                  "0": "118286",
                  "1": "2749",
                  "2": "99"
                },
                {
                  "0": "84645",
                  "1": "4810",
                  "2": "99"
                },
                {
                  "0": "118315",
                  "1": "3096",
                  "2": "99"
                },
                {
                  "0": "102746",
                  "1": "3979",
                  "2": "99"
                },
                {
                  "0": "118320",
                  "1": "4820",
                  "2": "99"
                },
                {
                  "0": "101537",
                  "1": "2211",
                  "2": "99"
                },
                {
                  "0": "118321",
                  "1": "1957",
                  "2": "99"
                },
                {
                  "0": "102746",
                  "1": "4880",
                  "2": "99"
                },
                {
                  "0": "118324",
                  "1": "3242",
                  "2": "99"
                },
                {
                  "0": "84724",
                  "1": "4212",
                  "2": "99"
                },
                {
                  "0": "118338",
                  "1": "625",
                  "2": "99"
                },
                {
                  "0": "102770",
                  "1": "436",
                  "2": "99"
                },
                {
                  "0": "118338",
                  "1": "3601",
                  "2": "99"
                },
                {
                  "0": "84764",
                  "1": "4562",
                  "2": "99"
                },
                {
                  "0": "118343",
                  "1": "1869",
                  "2": "99"
                },
                {
                  "0": "102776",
                  "1": "1561",
                  "2": "99"
                },
                {
                  "0": "118353",
                  "1": "414",
                  "2": "99"
                },
                {
                  "0": "84788",
                  "1": "2742",
                  "2": "99"
                },
                {
                  "0": "118360",
                  "1": "1235",
                  "2": "99"
                },
                {
                  "0": "102781",
                  "1": "1836",
                  "2": "99"
                },
                {
                  "0": "118378",
                  "1": "1238",
                  "2": "99"
                },
                {
                  "0": "101549",
                  "1": "1932",
                  "2": "99"
                },
                {
                  "0": "118380",
                  "1": "1638",
                  "2": "99"
                },
                {
                  "0": "102787",
                  "1": "4505",
                  "2": "99"
                },
                {
                  "0": "118411",
                  "1": "1803",
                  "2": "99"
                },
                {
                  "0": "84915",
                  "1": "4748",
                  "2": "99"
                },
                {
                  "0": "118419",
                  "1": "1283",
                  "2": "99"
                },
                {
                  "0": "102794",
                  "1": "3295",
                  "2": "99"
                },
                {
                  "0": "118420",
                  "1": "2852",
                  "2": "99"
                },
                {
                  "0": "84960",
                  "1": "894",
                  "2": "99"
                },
                {
                  "0": "118440",
                  "1": "2450",
                  "2": "99"
                },
                {
                  "0": "102796",
                  "1": "3949",
                  "2": "99"
                },
                {
                  "0": "118453",
                  "1": "3669",
                  "2": "99"
                },
                {
                  "0": "84984",
                  "1": "2061",
                  "2": "99"
                },
                {
                  "0": "118453",
                  "1": "4632",
                  "2": "99"
                },
                {
                  "0": "102805",
                  "1": "2083",
                  "2": "99"
                },
                {
                  "0": "118453",
                  "1": "1534",
                  "2": "99"
                },
                {
                  "0": "101564",
                  "1": "2269",
                  "2": "99"
                },
                {
                  "0": "118460",
                  "1": "1027",
                  "2": "99"
                },
                {
                  "0": "102827",
                  "1": "1462",
                  "2": "99"
                },
                {
                  "0": "118466",
                  "1": "3180",
                  "2": "99"
                },
                {
                  "0": "106172",
                  "1": "4213",
                  "2": "99"
                },
                {
                  "0": "118466",
                  "1": "1194",
                  "2": "99"
                },
                {
                  "0": "102840",
                  "1": "3929",
                  "2": "99"
                },
                {
                  "0": "118470",
                  "1": "4902",
                  "2": "99"
                },
                {
                  "0": "106188",
                  "1": "490",
                  "2": "99"
                },
                {
                  "0": "118475",
                  "1": "2929",
                  "2": "99"
                },
                {
                  "0": "102841",
                  "1": "4868",
                  "2": "99"
                },
                {
                  "0": "118483",
                  "1": "4103",
                  "2": "99"
                },
                {
                  "0": "106190",
                  "1": "4284",
                  "2": "99"
                },
                {
                  "0": "118486",
                  "1": "1000",
                  "2": "99"
                },
                {
                  "0": "102850",
                  "1": "3755",
                  "2": "99"
                },
                {
                  "0": "118493",
                  "1": "4071",
                  "2": "99"
                },
                {
                  "0": "101573",
                  "1": "4088",
                  "2": "99"
                },
                {
                  "0": "118494",
                  "1": "4179",
                  "2": "99"
                },
                {
                  "0": "102850",
                  "1": "4410",
                  "2": "99"
                },
                {
                  "0": "118513",
                  "1": "64",
                  "2": "99"
                },
                {
                  "0": "81712",
                  "1": "4901",
                  "2": "99"
                },
                {
                  "0": "118527",
                  "1": "31",
                  "2": "99"
                },
                {
                  "0": "102871",
                  "1": "1869",
                  "2": "99"
                },
                {
                  "0": "118533",
                  "1": "676",
                  "2": "99"
                },
                {
                  "0": "81716",
                  "1": "584",
                  "2": "99"
                },
                {
                  "0": "118539",
                  "1": "1612",
                  "2": "99"
                },
                {
                  "0": "102877",
                  "1": "3478",
                  "2": "99"
                },
                {
                  "0": "118542",
                  "1": "1153",
                  "2": "99"
                },
                {
                  "0": "106240",
                  "1": "4701",
                  "2": "99"
                },
                {
                  "0": "118560",
                  "1": "736",
                  "2": "99"
                },
                {
                  "0": "102878",
                  "1": "1248",
                  "2": "99"
                },
                {
                  "0": "118561",
                  "1": "2419",
                  "2": "99"
                },
                {
                  "0": "101577",
                  "1": "1186",
                  "2": "99"
                },
                {
                  "0": "118571",
                  "1": "84",
                  "2": "99"
                },
                {
                  "0": "102898",
                  "1": "2929",
                  "2": "99"
                },
                {
                  "0": "118593",
                  "1": "3825",
                  "2": "99"
                },
                {
                  "0": "117358",
                  "1": "2458",
                  "2": "99"
                },
                {
                  "0": "118606",
                  "1": "1512",
                  "2": "99"
                },
                {
                  "0": "102925",
                  "1": "758",
                  "2": "99"
                },
                {
                  "0": "118619",
                  "1": "2680",
                  "2": "99"
                },
                {
                  "0": "81816",
                  "1": "1467",
                  "2": "99"
                },
                {
                  "0": "118624",
                  "1": "3672",
                  "2": "99"
                },
                {
                  "0": "102926",
                  "1": "265",
                  "2": "99"
                },
                {
                  "0": "118646",
                  "1": "223",
                  "2": "99"
                },
                {
                  "0": "106290",
                  "1": "1549",
                  "2": "99"
                },
                {
                  "0": "118679",
                  "1": "2140",
                  "2": "99"
                },
                {
                  "0": "102935",
                  "1": "3269",
                  "2": "99"
                },
                {
                  "0": "118705",
                  "1": "1785",
                  "2": "99"
                },
                {
                  "0": "101581",
                  "1": "1678",
                  "2": "99"
                },
                {
                  "0": "118709",
                  "1": "2269",
                  "2": "99"
                },
                {
                  "0": "102946",
                  "1": "1169",
                  "2": "99"
                },
                {
                  "0": "118714",
                  "1": "3767",
                  "2": "99"
                },
                {
                  "0": "81886",
                  "1": "1361",
                  "2": "99"
                },
                {
                  "0": "118725",
                  "1": "41",
                  "2": "99"
                },
                {
                  "0": "102947",
                  "1": "3423",
                  "2": "99"
                },
                {
                  "0": "118734",
                  "1": "272",
                  "2": "99"
                },
                {
                  "0": "81893",
                  "1": "3147",
                  "2": "99"
                },
                {
                  "0": "118748",
                  "1": "1687",
                  "2": "99"
                },
                {
                  "0": "102968",
                  "1": "3910",
                  "2": "99"
                },
                {
                  "0": "118750",
                  "1": "481",
                  "2": "99"
                },
                {
                  "0": "106341",
                  "1": "1230",
                  "2": "99"
                },
                {
                  "0": "118756",
                  "1": "936",
                  "2": "99"
                },
                {
                  "0": "102971",
                  "1": "1685",
                  "2": "99"
                },
                {
                  "0": "118759",
                  "1": "1522",
                  "2": "99"
                },
                {
                  "0": "101600",
                  "1": "4773",
                  "2": "99"
                },
                {
                  "0": "118782",
                  "1": "4067",
                  "2": "99"
                },
                {
                  "0": "102986",
                  "1": "1801",
                  "2": "99"
                },
                {
                  "0": "118795",
                  "1": "4599",
                  "2": "99"
                },
                {
                  "0": "81982",
                  "1": "2461",
                  "2": "99"
                },
                {
                  "0": "118807",
                  "1": "2924",
                  "2": "99"
                },
                {
                  "0": "102997",
                  "1": "618",
                  "2": "99"
                },
                {
                  "0": "118808",
                  "1": "3607",
                  "2": "99"
                },
                {
                  "0": "98029",
                  "1": "3354",
                  "2": "99"
                },
                {
                  "0": "118815",
                  "1": "3386",
                  "2": "99"
                },
                {
                  "0": "104007",
                  "1": "4726",
                  "2": "99"
                },
                {
                  "0": "118821",
                  "1": "1513",
                  "2": "99"
                },
                {
                  "0": "98091",
                  "1": "3655",
                  "2": "99"
                },
                {
                  "0": "118822",
                  "1": "1286",
                  "2": "99"
                },
                {
                  "0": "104013",
                  "1": "4733",
                  "2": "99"
                },
                {
                  "0": "118827",
                  "1": "227",
                  "2": "99"
                },
                {
                  "0": "101603",
                  "1": "2816",
                  "2": "99"
                },
                {
                  "0": "118839",
                  "1": "4660",
                  "2": "99"
                },
                {
                  "0": "104021",
                  "1": "3081",
                  "2": "99"
                },
                {
                  "0": "118893",
                  "1": "444",
                  "2": "99"
                },
                {
                  "0": "98108",
                  "1": "2081",
                  "2": "99"
                },
                {
                  "0": "118901",
                  "1": "2463",
                  "2": "99"
                },
                {
                  "0": "104034",
                  "1": "4452",
                  "2": "99"
                },
                {
                  "0": "118924",
                  "1": "2063",
                  "2": "99"
                },
                {
                  "0": "117381",
                  "1": "177",
                  "2": "99"
                },
                {
                  "0": "118928",
                  "1": "3657",
                  "2": "99"
                },
                {
                  "0": "104037",
                  "1": "687",
                  "2": "99"
                },
                {
                  "0": "118959",
                  "1": "1318",
                  "2": "99"
                },
                {
                  "0": "98128",
                  "1": "3874",
                  "2": "99"
                },
                {
                  "0": "118965",
                  "1": "3906",
                  "2": "99"
                },
                {
                  "0": "104052",
                  "1": "4111",
                  "2": "99"
                },
                {
                  "0": "118980",
                  "1": "2916",
                  "2": "99"
                },
                {
                  "0": "101608",
                  "1": "4006",
                  "2": "99"
                },
                {
                  "0": "88007",
                  "1": "2342",
                  "2": "99"
                },
                {
                  "0": "104061",
                  "1": "1973",
                  "2": "99"
                },
                {
                  "0": "88016",
                  "1": "3193",
                  "2": "99"
                },
                {
                  "0": "117404",
                  "1": "3011",
                  "2": "99"
                },
                {
                  "0": "88031",
                  "1": "12",
                  "2": "99"
                },
                {
                  "0": "104069",
                  "1": "1460",
                  "2": "99"
                },
                {
                  "0": "88045",
                  "1": "3628",
                  "2": "99"
                },
                {
                  "0": "98195",
                  "1": "3680",
                  "2": "99"
                },
                {
                  "0": "88048",
                  "1": "3239",
                  "2": "99"
                },
                {
                  "0": "104086",
                  "1": "1256",
                  "2": "99"
                },
                {
                  "0": "88063",
                  "1": "3615",
                  "2": "99"
                },
                {
                  "0": "106643",
                  "1": "4874",
                  "2": "99"
                },
                {
                  "0": "88067",
                  "1": "4192",
                  "2": "99"
                },
                {
                  "0": "104101",
                  "1": "1439",
                  "2": "99"
                },
                {
                  "0": "88074",
                  "1": "4535",
                  "2": "99"
                },
                {
                  "0": "101622",
                  "1": "4847",
                  "2": "99"
                },
                {
                  "0": "88076",
                  "1": "2899",
                  "2": "99"
                },
                {
                  "0": "104106",
                  "1": "2446",
                  "2": "99"
                },
                {
                  "0": "88086",
                  "1": "3415",
                  "2": "99"
                },
                {
                  "0": "98283",
                  "1": "171",
                  "2": "99"
                },
                {
                  "0": "88087",
                  "1": "1233",
                  "2": "99"
                },
                {
                  "0": "104129",
                  "1": "936",
                  "2": "99"
                },
                {
                  "0": "88088",
                  "1": "2796",
                  "2": "99"
                },
                {
                  "0": "98304",
                  "1": "3378",
                  "2": "99"
                },
                {
                  "0": "88097",
                  "1": "4882",
                  "2": "99"
                },
                {
                  "0": "104135",
                  "1": "2808",
                  "2": "99"
                },
                {
                  "0": "88099",
                  "1": "4492",
                  "2": "99"
                },
                {
                  "0": "106676",
                  "1": "1664",
                  "2": "99"
                },
                {
                  "0": "88099",
                  "1": "2417",
                  "2": "99"
                },
                {
                  "0": "104144",
                  "1": "122",
                  "2": "99"
                },
                {
                  "0": "88107",
                  "1": "4075",
                  "2": "99"
                },
                {
                  "0": "101623",
                  "1": "4341",
                  "2": "99"
                },
                {
                  "0": "88129",
                  "1": "3544",
                  "2": "99"
                },
                {
                  "0": "104156",
                  "1": "2457",
                  "2": "99"
                },
                {
                  "0": "88138",
                  "1": "3782",
                  "2": "99"
                },
                {
                  "0": "98370",
                  "1": "632",
                  "2": "99"
                },
                {
                  "0": "88142",
                  "1": "4601",
                  "2": "99"
                },
                {
                  "0": "104174",
                  "1": "1741",
                  "2": "99"
                },
                {
                  "0": "88145",
                  "1": "4561",
                  "2": "99"
                },
                {
                  "0": "98385",
                  "1": "4700",
                  "2": "99"
                },
                {
                  "0": "88149",
                  "1": "2045",
                  "2": "99"
                },
                {
                  "0": "104201",
                  "1": "1623",
                  "2": "99"
                },
                {
                  "0": "88153",
                  "1": "3382",
                  "2": "99"
                },
                {
                  "0": "98394",
                  "1": "4387",
                  "2": "99"
                },
                {
                  "0": "88164",
                  "1": "3921",
                  "2": "99"
                },
                {
                  "0": "104201",
                  "1": "135",
                  "2": "99"
                },
                {
                  "0": "88173",
                  "1": "2886",
                  "2": "99"
                },
                {
                  "0": "101626",
                  "1": "3178",
                  "2": "99"
                },
                {
                  "0": "88186",
                  "1": "2527",
                  "2": "99"
                },
                {
                  "0": "104212",
                  "1": "3376",
                  "2": "99"
                },
                {
                  "0": "88219",
                  "1": "4246",
                  "2": "99"
                },
                {
                  "0": "98430",
                  "1": "4937",
                  "2": "99"
                },
                {
                  "0": "88256",
                  "1": "4522",
                  "2": "99"
                },
                {
                  "0": "104215",
                  "1": "3679",
                  "2": "99"
                },
                {
                  "0": "88258",
                  "1": "39",
                  "2": "99"
                },
                {
                  "0": "117420",
                  "1": "3169",
                  "2": "99"
                },
                {
                  "0": "88262",
                  "1": "3611",
                  "2": "99"
                },
                {
                  "0": "104235",
                  "1": "1526",
                  "2": "99"
                },
                {
                  "0": "88266",
                  "1": "1161",
                  "2": "99"
                },
                {
                  "0": "98489",
                  "1": "1799",
                  "2": "99"
                },
                {
                  "0": "88270",
                  "1": "1131",
                  "2": "99"
                },
                {
                  "0": "104260",
                  "1": "1566",
                  "2": "99"
                },
                {
                  "0": "88273",
                  "1": "1889",
                  "2": "99"
                },
                {
                  "0": "101641",
                  "1": "2165",
                  "2": "99"
                },
                {
                  "0": "88276",
                  "1": "1713",
                  "2": "99"
                },
                {
                  "0": "104260",
                  "1": "2519",
                  "2": "99"
                },
                {
                  "0": "88282",
                  "1": "475",
                  "2": "99"
                },
                {
                  "0": "98537",
                  "1": "4363",
                  "2": "99"
                },
                {
                  "0": "88337",
                  "1": "654",
                  "2": "99"
                },
                {
                  "0": "104261",
                  "1": "285",
                  "2": "99"
                },
                {
                  "0": "88339",
                  "1": "3984",
                  "2": "99"
                },
                {
                  "0": "98541",
                  "1": "977",
                  "2": "99"
                },
                {
                  "0": "88350",
                  "1": "1189",
                  "2": "99"
                },
                {
                  "0": "104267",
                  "1": "374",
                  "2": "99"
                },
                {
                  "0": "88359",
                  "1": "384",
                  "2": "99"
                },
                {
                  "0": "98586",
                  "1": "4416",
                  "2": "99"
                },
                {
                  "0": "88363",
                  "1": "1708",
                  "2": "99"
                },
                {
                  "0": "104303",
                  "1": "4154",
                  "2": "99"
                },
                {
                  "0": "88378",
                  "1": "2378",
                  "2": "99"
                },
                {
                  "0": "101658",
                  "1": "3043",
                  "2": "99"
                },
                {
                  "0": "88390",
                  "1": "4416",
                  "2": "99"
                },
                {
                  "0": "104307",
                  "1": "1923",
                  "2": "99"
                },
                {
                  "0": "88398",
                  "1": "2550",
                  "2": "99"
                },
                {
                  "0": "106852",
                  "1": "1664",
                  "2": "99"
                },
                {
                  "0": "88399",
                  "1": "54",
                  "2": "99"
                },
                {
                  "0": "104308",
                  "1": "3385",
                  "2": "99"
                },
                {
                  "0": "88401",
                  "1": "3392",
                  "2": "99"
                },
                {
                  "0": "98616",
                  "1": "2964",
                  "2": "99"
                },
                {
                  "0": "88434",
                  "1": "4423",
                  "2": "99"
                },
                {
                  "0": "104314",
                  "1": "3976",
                  "2": "99"
                },
                {
                  "0": "88447",
                  "1": "2485",
                  "2": "99"
                },
                {
                  "0": "98624",
                  "1": "2067",
                  "2": "99"
                },
                {
                  "0": "88449",
                  "1": "846",
                  "2": "99"
                },
                {
                  "0": "104324",
                  "1": "491",
                  "2": "99"
                },
                {
                  "0": "88453",
                  "1": "4278",
                  "2": "99"
                },
                {
                  "0": "101664",
                  "1": "1251",
                  "2": "99"
                },
                {
                  "0": "88456",
                  "1": "3872",
                  "2": "99"
                },
                {
                  "0": "104333",
                  "1": "3186",
                  "2": "99"
                },
                {
                  "0": "88475",
                  "1": "920",
                  "2": "99"
                },
                {
                  "0": "98648",
                  "1": "3047",
                  "2": "99"
                },
                {
                  "0": "88492",
                  "1": "414",
                  "2": "99"
                },
                {
                  "0": "104349",
                  "1": "1",
                  "2": "99"
                },
                {
                  "0": "88505",
                  "1": "1525",
                  "2": "99"
                },
                {
                  "0": "106889",
                  "1": "1951",
                  "2": "99"
                },
                {
                  "0": "88506",
                  "1": "3423",
                  "2": "99"
                },
                {
                  "0": "104351",
                  "1": "4551",
                  "2": "99"
                },
                {
                  "0": "88508",
                  "1": "1596",
                  "2": "99"
                },
                {
                  "0": "98680",
                  "1": "4276",
                  "2": "99"
                },
                {
                  "0": "88510",
                  "1": "1780",
                  "2": "99"
                },
                {
                  "0": "104359",
                  "1": "2821",
                  "2": "99"
                },
                {
                  "0": "88533",
                  "1": "3298",
                  "2": "99"
                },
                {
                  "0": "101666",
                  "1": "4236",
                  "2": "99"
                },
                {
                  "0": "88539",
                  "1": "2265",
                  "2": "99"
                },
                {
                  "0": "104373",
                  "1": "1578",
                  "2": "99"
                },
                {
                  "0": "88544",
                  "1": "3511",
                  "2": "99"
                },
                {
                  "0": "98773",
                  "1": "2868",
                  "2": "99"
                },
                {
                  "0": "88550",
                  "1": "2202",
                  "2": "99"
                },
                {
                  "0": "104373",
                  "1": "1875",
                  "2": "99"
                },
                {
                  "0": "88551",
                  "1": "2031",
                  "2": "99"
                },
                {
                  "0": "106932",
                  "1": "2644",
                  "2": "99"
                },
                {
                  "0": "88563",
                  "1": "837",
                  "2": "99"
                },
                {
                  "0": "104377",
                  "1": "1426",
                  "2": "99"
                },
                {
                  "0": "88564",
                  "1": "2734",
                  "2": "99"
                },
                {
                  "0": "106941",
                  "1": "2812",
                  "2": "99"
                },
                {
                  "0": "88570",
                  "1": "1512",
                  "2": "99"
                },
                {
                  "0": "104382",
                  "1": "3112",
                  "2": "99"
                },
                {
                  "0": "88579",
                  "1": "4539",
                  "2": "99"
                },
                {
                  "0": "101677",
                  "1": "4250",
                  "2": "99"
                },
                {
                  "0": "88599",
                  "1": "1905",
                  "2": "99"
                },
                {
                  "0": "104383",
                  "1": "1832",
                  "2": "99"
                },
                {
                  "0": "88606",
                  "1": "2003",
                  "2": "99"
                },
                {
                  "0": "106995",
                  "1": "258",
                  "2": "99"
                },
                {
                  "0": "88619",
                  "1": "4650",
                  "2": "99"
                },
                {
                  "0": "104402",
                  "1": "1835",
                  "2": "99"
                },
                {
                  "0": "88620",
                  "1": "2957",
                  "2": "99"
                },
                {
                  "0": "81016",
                  "1": "1452",
                  "2": "99"
                },
                {
                  "0": "88631",
                  "1": "1500",
                  "2": "99"
                },
                {
                  "0": "104415",
                  "1": "2732",
                  "2": "99"
                },
                {
                  "0": "88681",
                  "1": "2365",
                  "2": "99"
                },
                {
                  "0": "98903",
                  "1": "670",
                  "2": "99"
                },
                {
                  "0": "88684",
                  "1": "4425",
                  "2": "99"
                },
                {
                  "0": "104416",
                  "1": "3734",
                  "2": "99"
                },
                {
                  "0": "88688",
                  "1": "1992",
                  "2": "99"
                },
                {
                  "0": "101679",
                  "1": "4972",
                  "2": "99"
                },
                {
                  "0": "88700",
                  "1": "1070",
                  "2": "99"
                },
                {
                  "0": "104434",
                  "1": "1594",
                  "2": "99"
                },
                {
                  "0": "88703",
                  "1": "4929",
                  "2": "99"
                },
                {
                  "0": "98933",
                  "1": "1644",
                  "2": "99"
                },
                {
                  "0": "88709",
                  "1": "4417",
                  "2": "99"
                },
                {
                  "0": "104436",
                  "1": "4741",
                  "2": "99"
                },
                {
                  "0": "88710",
                  "1": "3798",
                  "2": "99"
                },
                {
                  "0": "81040",
                  "1": "1041",
                  "2": "99"
                },
                {
                  "0": "88726",
                  "1": "1659",
                  "2": "99"
                },
                {
                  "0": "104450",
                  "1": "2204",
                  "2": "99"
                },
                {
                  "0": "88729",
                  "1": "4362",
                  "2": "99"
                },
                {
                  "0": "98973",
                  "1": "2920",
                  "2": "99"
                },
                {
                  "0": "88733",
                  "1": "1666",
                  "2": "99"
                },
                {
                  "0": "104454",
                  "1": "3204",
                  "2": "99"
                },
                {
                  "0": "88737",
                  "1": "4121",
                  "2": "99"
                },
                {
                  "0": "101692",
                  "1": "3546",
                  "2": "99"
                },
                {
                  "0": "88751",
                  "1": "1822",
                  "2": "99"
                },
                {
                  "0": "104460",
                  "1": "787",
                  "2": "99"
                },
                {
                  "0": "88794",
                  "1": "1438",
                  "2": "99"
                },
                {
                  "0": "98991",
                  "1": "1600",
                  "2": "99"
                },
                {
                  "0": "88801",
                  "1": "2400",
                  "2": "99"
                },
                {
                  "0": "104472",
                  "1": "4670",
                  "2": "99"
                },
                {
                  "0": "88806",
                  "1": "4459",
                  "2": "99"
                },
                {
                  "0": "81107",
                  "1": "1560",
                  "2": "99"
                },
                {
                  "0": "88807",
                  "1": "2918",
                  "2": "99"
                },
                {
                  "0": "104506",
                  "1": "4711",
                  "2": "99"
                },
                {
                  "0": "88808",
                  "1": "2338",
                  "2": "99"
                },
                {
                  "0": "84024",
                  "1": "3876",
                  "2": "99"
                },
                {
                  "0": "88850",
                  "1": "2181",
                  "2": "99"
                },
                {
                  "0": "104510",
                  "1": "3180",
                  "2": "99"
                },
                {
                  "0": "88851",
                  "1": "720",
                  "2": "99"
                },
                {
                  "0": "101699",
                  "1": "929",
                  "2": "99"
                },
                {
                  "0": "88854",
                  "1": "13",
                  "2": "99"
                },
                {
                  "0": "104510",
                  "1": "3234",
                  "2": "99"
                },
                {
                  "0": "88870",
                  "1": "3894",
                  "2": "99"
                },
                {
                  "0": "84075",
                  "1": "4917",
                  "2": "99"
                },
                {
                  "0": "88893",
                  "1": "3536",
                  "2": "99"
                },
                {
                  "0": "104511",
                  "1": "1689",
                  "2": "99"
                },
                {
                  "0": "88895",
                  "1": "1985",
                  "2": "99"
                },
                {
                  "0": "81160",
                  "1": "1226",
                  "2": "99"
                },
                {
                  "0": "88896",
                  "1": "4892",
                  "2": "99"
                },
                {
                  "0": "104516",
                  "1": "2334",
                  "2": "99"
                },
                {
                  "0": "88902",
                  "1": "3960",
                  "2": "99"
                },
                {
                  "0": "81184",
                  "1": "317",
                  "2": "99"
                },
                {
                  "0": "88904",
                  "1": "2093",
                  "2": "99"
                },
                {
                  "0": "104518",
                  "1": "2876",
                  "2": "99"
                },
                {
                  "0": "88939",
                  "1": "4078",
                  "2": "99"
                },
                {
                  "0": "101699",
                  "1": "3461",
                  "2": "99"
                },
                {
                  "0": "88939",
                  "1": "890",
                  "2": "99"
                },
                {
                  "0": "104521",
                  "1": "841",
                  "2": "99"
                },
                {
                  "0": "88949",
                  "1": "480",
                  "2": "99"
                },
                {
                  "0": "84167",
                  "1": "2880",
                  "2": "99"
                },
                {
                  "0": "88951",
                  "1": "2376",
                  "2": "99"
                },
                {
                  "0": "104532",
                  "1": "2094",
                  "2": "99"
                },
                {
                  "0": "88952",
                  "1": "2871",
                  "2": "99"
                },
                {
                  "0": "84171",
                  "1": "4444",
                  "2": "99"
                },
                {
                  "0": "88969",
                  "1": "2940",
                  "2": "99"
                },
                {
                  "0": "104533",
                  "1": "4956",
                  "2": "99"
                },
                {
                  "0": "88983",
                  "1": "2603",
                  "2": "99"
                },
                {
                  "0": "84231",
                  "1": "145",
                  "2": "99"
                },
                {
                  "0": "88987",
                  "1": "147",
                  "2": "99"
                },
                {
                  "0": "104540",
                  "1": "662",
                  "2": "99"
                },
                {
                  "0": "88994",
                  "1": "4777",
                  "2": "99"
                },
                {
                  "0": "84245",
                  "1": "4142",
                  "2": "99"
                },
                {
                  "0": "104544",
                  "1": "3130",
                  "2": "99"
                },
                {
                  "0": "101703",
                  "1": "4109",
                  "2": "99"
                },
                {
                  "0": "102311",
                  "1": "2765",
                  "2": "99"
                },
                {
                  "0": "84280",
                  "1": "2296",
                  "2": "99"
                },
                {
                  "0": "104552",
                  "1": "3774",
                  "2": "99"
                },
                {
                  "0": "101217",
                  "1": "3580",
                  "2": "99"
                },
                {
                  "0": "102317",
                  "1": "4354",
                  "2": "99"
                },
                {
                  "0": "84303",
                  "1": "4988",
                  "2": "99"
                },
                {
                  "0": "104559",
                  "1": "3918",
                  "2": "99"
                },
                {
                  "0": "101091",
                  "1": "4846",
                  "2": "99"
                },
                {
                  "0": "101122",
                  "1": "4663",
                  "2": "99"
                },
                {
                  "0": "81307",
                  "1": "1656",
                  "2": "99"
                },
                {
                  "0": "104564",
                  "1": "2557",
                  "2": "99"
                },
                {
                  "0": "101711",
                  "1": "566",
                  "2": "99"
                },
                {
                  "0": "102318",
                  "1": "4168",
                  "2": "99"
                },
                {
                  "0": "81325",
                  "1": "412",
                  "2": "99"
                },
                {
                  "0": "104577",
                  "1": "1065",
                  "2": "99"
                },
                {
                  "0": "81338",
                  "1": "1292",
                  "2": "99"
                },
                {
                  "0": "101465",
                  "1": "940",
                  "2": "99"
                },
                {
                  "0": "84387",
                  "1": "4569",
                  "2": "99"
                },
                {
                  "0": "104589",
                  "1": "4154",
                  "2": "99"
                },
                {
                  "0": "84462",
                  "1": "2107",
                  "2": "99"
                }
              ],
              "schema": [
                {
                  "key": "0",
                  "name": "visitorId",
                  "type": "bigint"
                },
                {
                  "key": "1",
                  "name": "productId",
                  "type": "bigint"
                },
                {
                  "key": "2",
                  "name": "itemsPurchasedLast12Months",
                  "type": "bigint"
                }
              ],
              "truncated": false
            },
            "isSummary": false,
            "language": "scala"
          },
          "persist_state": {
            "view": {
              "type": "details",
              "tableOptions": {},
              "chartOptions": {
                "chartType": "bar",
                "aggregationType": "sum",
                "categoryFieldKeys": [
                  "1"
                ],
                "seriesFieldKeys": [
                  "0"
                ],
                "isStacked": false
              }
            }
          }
        },
        "b759fcfa-a59f-490c-9d5f-98056bf06315": {
          "type": "Synapse.DataFrame",
          "sync_state": {
            "table": {
              "rows": [
                {
                  "0": "80000",
                  "1": "20"
                },
                {
                  "0": "80001",
                  "1": "20"
                },
                {
                  "0": "80002",
                  "1": "15"
                },
                {
                  "0": "80003",
                  "1": "12"
                },
                {
                  "0": "80004",
                  "1": "10"
                },
                {
                  "0": "80005",
                  "1": "13"
                },
                {
                  "0": "80006",
                  "1": "6"
                },
                {
                  "0": "80007",
                  "1": "18"
                },
                {
                  "0": "80008",
                  "1": "4"
                },
                {
                  "0": "80009",
                  "1": "16"
                },
                {
                  "0": "80010",
                  "1": "3"
                },
                {
                  "0": "80011",
                  "1": "17"
                },
                {
                  "0": "80012",
                  "1": "19"
                },
                {
                  "0": "80013",
                  "1": "6"
                },
                {
                  "0": "80014",
                  "1": "20"
                },
                {
                  "0": "80015",
                  "1": "12"
                },
                {
                  "0": "80016",
                  "1": "6"
                },
                {
                  "0": "80017",
                  "1": "1"
                },
                {
                  "0": "80018",
                  "1": "17"
                },
                {
                  "0": "80019",
                  "1": "14"
                },
                {
                  "0": "80020",
                  "1": "9"
                },
                {
                  "0": "80021",
                  "1": "18"
                },
                {
                  "0": "80022",
                  "1": "13"
                },
                {
                  "0": "80023",
                  "1": "10"
                },
                {
                  "0": "80024",
                  "1": "4"
                },
                {
                  "0": "80025",
                  "1": "13"
                },
                {
                  "0": "80026",
                  "1": "19"
                },
                {
                  "0": "80027",
                  "1": "13"
                },
                {
                  "0": "80028",
                  "1": "1"
                },
                {
                  "0": "80029",
                  "1": "4"
                },
                {
                  "0": "80030",
                  "1": "1"
                },
                {
                  "0": "80031",
                  "1": "9"
                },
                {
                  "0": "80032",
                  "1": "17"
                },
                {
                  "0": "80033",
                  "1": "8"
                },
                {
                  "0": "80034",
                  "1": "14"
                },
                {
                  "0": "80035",
                  "1": "11"
                },
                {
                  "0": "80036",
                  "1": "19"
                },
                {
                  "0": "80037",
                  "1": "10"
                },
                {
                  "0": "80038",
                  "1": "3"
                },
                {
                  "0": "80039",
                  "1": "4"
                },
                {
                  "0": "80040",
                  "1": "17"
                },
                {
                  "0": "80041",
                  "1": "6"
                },
                {
                  "0": "80042",
                  "1": "9"
                },
                {
                  "0": "80043",
                  "1": "2"
                },
                {
                  "0": "80044",
                  "1": "19"
                },
                {
                  "0": "80045",
                  "1": "6"
                },
                {
                  "0": "80046",
                  "1": "17"
                },
                {
                  "0": "80047",
                  "1": "4"
                },
                {
                  "0": "80048",
                  "1": "13"
                },
                {
                  "0": "80049",
                  "1": "16"
                },
                {
                  "0": "80050",
                  "1": "5"
                },
                {
                  "0": "80051",
                  "1": "17"
                },
                {
                  "0": "80052",
                  "1": "9"
                },
                {
                  "0": "80053",
                  "1": "4"
                },
                {
                  "0": "80054",
                  "1": "10"
                },
                {
                  "0": "80055",
                  "1": "18"
                },
                {
                  "0": "80056",
                  "1": "13"
                },
                {
                  "0": "80057",
                  "1": "9"
                },
                {
                  "0": "80058",
                  "1": "3"
                },
                {
                  "0": "80059",
                  "1": "14"
                },
                {
                  "0": "80060",
                  "1": "4"
                },
                {
                  "0": "80061",
                  "1": "6"
                },
                {
                  "0": "80062",
                  "1": "19"
                },
                {
                  "0": "80063",
                  "1": "3"
                },
                {
                  "0": "80064",
                  "1": "3"
                },
                {
                  "0": "80066",
                  "1": "4"
                },
                {
                  "0": "80067",
                  "1": "6"
                },
                {
                  "0": "80068",
                  "1": "5"
                },
                {
                  "0": "80069",
                  "1": "11"
                },
                {
                  "0": "80070",
                  "1": "8"
                },
                {
                  "0": "80071",
                  "1": "8"
                },
                {
                  "0": "80072",
                  "1": "5"
                },
                {
                  "0": "80073",
                  "1": "14"
                },
                {
                  "0": "80074",
                  "1": "12"
                },
                {
                  "0": "80075",
                  "1": "7"
                },
                {
                  "0": "80076",
                  "1": "12"
                },
                {
                  "0": "80077",
                  "1": "1"
                },
                {
                  "0": "80078",
                  "1": "6"
                },
                {
                  "0": "80079",
                  "1": "4"
                },
                {
                  "0": "80080",
                  "1": "19"
                },
                {
                  "0": "80081",
                  "1": "14"
                },
                {
                  "0": "80082",
                  "1": "15"
                },
                {
                  "0": "80083",
                  "1": "12"
                },
                {
                  "0": "80084",
                  "1": "5"
                },
                {
                  "0": "80086",
                  "1": "7"
                },
                {
                  "0": "80087",
                  "1": "1"
                },
                {
                  "0": "80088",
                  "1": "2"
                },
                {
                  "0": "80089",
                  "1": "9"
                },
                {
                  "0": "80090",
                  "1": "1"
                },
                {
                  "0": "80091",
                  "1": "10"
                },
                {
                  "0": "80092",
                  "1": "11"
                },
                {
                  "0": "80093",
                  "1": "6"
                },
                {
                  "0": "80094",
                  "1": "19"
                },
                {
                  "0": "80095",
                  "1": "1"
                },
                {
                  "0": "80096",
                  "1": "19"
                },
                {
                  "0": "80097",
                  "1": "19"
                },
                {
                  "0": "80098",
                  "1": "15"
                },
                {
                  "0": "80099",
                  "1": "8"
                },
                {
                  "0": "80100",
                  "1": "11"
                },
                {
                  "0": "80101",
                  "1": "6"
                },
                {
                  "0": "80102",
                  "1": "8"
                },
                {
                  "0": "80103",
                  "1": "3"
                },
                {
                  "0": "80104",
                  "1": "9"
                },
                {
                  "0": "80105",
                  "1": "16"
                },
                {
                  "0": "80106",
                  "1": "20"
                },
                {
                  "0": "80107",
                  "1": "7"
                },
                {
                  "0": "80108",
                  "1": "15"
                },
                {
                  "0": "80109",
                  "1": "20"
                },
                {
                  "0": "80110",
                  "1": "4"
                },
                {
                  "0": "80111",
                  "1": "13"
                },
                {
                  "0": "80112",
                  "1": "4"
                },
                {
                  "0": "80113",
                  "1": "15"
                },
                {
                  "0": "80114",
                  "1": "4"
                },
                {
                  "0": "80115",
                  "1": "10"
                },
                {
                  "0": "80116",
                  "1": "8"
                },
                {
                  "0": "80118",
                  "1": "11"
                },
                {
                  "0": "80119",
                  "1": "6"
                },
                {
                  "0": "80120",
                  "1": "15"
                },
                {
                  "0": "80121",
                  "1": "3"
                },
                {
                  "0": "80122",
                  "1": "2"
                },
                {
                  "0": "80124",
                  "1": "12"
                },
                {
                  "0": "80125",
                  "1": "14"
                },
                {
                  "0": "80126",
                  "1": "5"
                },
                {
                  "0": "80127",
                  "1": "3"
                },
                {
                  "0": "80128",
                  "1": "18"
                },
                {
                  "0": "80129",
                  "1": "18"
                },
                {
                  "0": "80130",
                  "1": "18"
                },
                {
                  "0": "80131",
                  "1": "20"
                },
                {
                  "0": "80132",
                  "1": "1"
                },
                {
                  "0": "80133",
                  "1": "6"
                },
                {
                  "0": "80134",
                  "1": "3"
                },
                {
                  "0": "80135",
                  "1": "1"
                },
                {
                  "0": "80136",
                  "1": "1"
                },
                {
                  "0": "80137",
                  "1": "12"
                },
                {
                  "0": "80138",
                  "1": "10"
                },
                {
                  "0": "80141",
                  "1": "14"
                },
                {
                  "0": "80142",
                  "1": "8"
                },
                {
                  "0": "80143",
                  "1": "4"
                },
                {
                  "0": "80144",
                  "1": "9"
                },
                {
                  "0": "80145",
                  "1": "9"
                },
                {
                  "0": "80147",
                  "1": "9"
                },
                {
                  "0": "80148",
                  "1": "14"
                },
                {
                  "0": "80149",
                  "1": "14"
                },
                {
                  "0": "80150",
                  "1": "10"
                },
                {
                  "0": "80151",
                  "1": "9"
                },
                {
                  "0": "80152",
                  "1": "2"
                },
                {
                  "0": "80153",
                  "1": "5"
                },
                {
                  "0": "80154",
                  "1": "14"
                },
                {
                  "0": "80155",
                  "1": "5"
                },
                {
                  "0": "80156",
                  "1": "3"
                },
                {
                  "0": "80157",
                  "1": "10"
                },
                {
                  "0": "80158",
                  "1": "17"
                },
                {
                  "0": "80159",
                  "1": "19"
                },
                {
                  "0": "80160",
                  "1": "1"
                },
                {
                  "0": "80161",
                  "1": "12"
                },
                {
                  "0": "80162",
                  "1": "20"
                },
                {
                  "0": "80163",
                  "1": "6"
                },
                {
                  "0": "80164",
                  "1": "15"
                },
                {
                  "0": "80165",
                  "1": "20"
                },
                {
                  "0": "80166",
                  "1": "8"
                },
                {
                  "0": "80167",
                  "1": "10"
                },
                {
                  "0": "80168",
                  "1": "14"
                },
                {
                  "0": "80169",
                  "1": "14"
                },
                {
                  "0": "80170",
                  "1": "4"
                },
                {
                  "0": "80171",
                  "1": "7"
                },
                {
                  "0": "80172",
                  "1": "1"
                },
                {
                  "0": "80173",
                  "1": "18"
                },
                {
                  "0": "80174",
                  "1": "6"
                },
                {
                  "0": "80175",
                  "1": "5"
                },
                {
                  "0": "80176",
                  "1": "11"
                },
                {
                  "0": "80177",
                  "1": "4"
                },
                {
                  "0": "80178",
                  "1": "11"
                },
                {
                  "0": "80179",
                  "1": "2"
                },
                {
                  "0": "80180",
                  "1": "9"
                },
                {
                  "0": "80181",
                  "1": "8"
                },
                {
                  "0": "80182",
                  "1": "2"
                },
                {
                  "0": "80183",
                  "1": "10"
                },
                {
                  "0": "80184",
                  "1": "6"
                },
                {
                  "0": "80185",
                  "1": "5"
                },
                {
                  "0": "80186",
                  "1": "19"
                },
                {
                  "0": "80187",
                  "1": "1"
                },
                {
                  "0": "80188",
                  "1": "13"
                },
                {
                  "0": "80189",
                  "1": "18"
                },
                {
                  "0": "80190",
                  "1": "6"
                },
                {
                  "0": "80191",
                  "1": "14"
                },
                {
                  "0": "80192",
                  "1": "8"
                },
                {
                  "0": "80193",
                  "1": "17"
                },
                {
                  "0": "80194",
                  "1": "17"
                },
                {
                  "0": "80195",
                  "1": "3"
                },
                {
                  "0": "80196",
                  "1": "8"
                },
                {
                  "0": "80197",
                  "1": "10"
                },
                {
                  "0": "80198",
                  "1": "9"
                },
                {
                  "0": "80199",
                  "1": "20"
                },
                {
                  "0": "80200",
                  "1": "13"
                },
                {
                  "0": "80201",
                  "1": "9"
                },
                {
                  "0": "80202",
                  "1": "10"
                },
                {
                  "0": "80203",
                  "1": "5"
                },
                {
                  "0": "80204",
                  "1": "14"
                },
                {
                  "0": "80205",
                  "1": "7"
                },
                {
                  "0": "80206",
                  "1": "4"
                },
                {
                  "0": "80207",
                  "1": "19"
                },
                {
                  "0": "80208",
                  "1": "15"
                },
                {
                  "0": "80209",
                  "1": "20"
                },
                {
                  "0": "80210",
                  "1": "18"
                },
                {
                  "0": "80211",
                  "1": "9"
                },
                {
                  "0": "80212",
                  "1": "18"
                },
                {
                  "0": "80213",
                  "1": "14"
                },
                {
                  "0": "80214",
                  "1": "19"
                },
                {
                  "0": "80215",
                  "1": "10"
                },
                {
                  "0": "80216",
                  "1": "2"
                },
                {
                  "0": "80217",
                  "1": "1"
                },
                {
                  "0": "80218",
                  "1": "10"
                },
                {
                  "0": "80219",
                  "1": "19"
                },
                {
                  "0": "80220",
                  "1": "7"
                },
                {
                  "0": "80221",
                  "1": "4"
                },
                {
                  "0": "80222",
                  "1": "3"
                },
                {
                  "0": "80223",
                  "1": "18"
                },
                {
                  "0": "80224",
                  "1": "15"
                },
                {
                  "0": "80225",
                  "1": "16"
                },
                {
                  "0": "80226",
                  "1": "16"
                },
                {
                  "0": "80227",
                  "1": "5"
                },
                {
                  "0": "80228",
                  "1": "4"
                },
                {
                  "0": "80229",
                  "1": "4"
                },
                {
                  "0": "80230",
                  "1": "6"
                },
                {
                  "0": "80231",
                  "1": "8"
                },
                {
                  "0": "80232",
                  "1": "18"
                },
                {
                  "0": "80233",
                  "1": "19"
                },
                {
                  "0": "80234",
                  "1": "11"
                },
                {
                  "0": "80235",
                  "1": "13"
                },
                {
                  "0": "80236",
                  "1": "6"
                },
                {
                  "0": "80237",
                  "1": "17"
                },
                {
                  "0": "80238",
                  "1": "14"
                },
                {
                  "0": "80239",
                  "1": "19"
                },
                {
                  "0": "80240",
                  "1": "19"
                },
                {
                  "0": "80241",
                  "1": "10"
                },
                {
                  "0": "80242",
                  "1": "4"
                },
                {
                  "0": "80243",
                  "1": "5"
                },
                {
                  "0": "80244",
                  "1": "2"
                },
                {
                  "0": "80245",
                  "1": "6"
                },
                {
                  "0": "80246",
                  "1": "20"
                },
                {
                  "0": "80247",
                  "1": "9"
                },
                {
                  "0": "80248",
                  "1": "17"
                },
                {
                  "0": "80249",
                  "1": "9"
                },
                {
                  "0": "80250",
                  "1": "9"
                },
                {
                  "0": "80251",
                  "1": "19"
                },
                {
                  "0": "80252",
                  "1": "7"
                },
                {
                  "0": "80253",
                  "1": "18"
                },
                {
                  "0": "80254",
                  "1": "6"
                },
                {
                  "0": "80255",
                  "1": "12"
                },
                {
                  "0": "80257",
                  "1": "3"
                },
                {
                  "0": "80258",
                  "1": "4"
                },
                {
                  "0": "80259",
                  "1": "17"
                },
                {
                  "0": "80260",
                  "1": "1"
                },
                {
                  "0": "80261",
                  "1": "3"
                },
                {
                  "0": "80262",
                  "1": "20"
                },
                {
                  "0": "80263",
                  "1": "2"
                },
                {
                  "0": "80264",
                  "1": "7"
                },
                {
                  "0": "80265",
                  "1": "5"
                },
                {
                  "0": "80266",
                  "1": "19"
                },
                {
                  "0": "80267",
                  "1": "8"
                },
                {
                  "0": "80268",
                  "1": "20"
                },
                {
                  "0": "80269",
                  "1": "18"
                },
                {
                  "0": "80270",
                  "1": "14"
                },
                {
                  "0": "80271",
                  "1": "9"
                },
                {
                  "0": "80272",
                  "1": "15"
                },
                {
                  "0": "80273",
                  "1": "14"
                },
                {
                  "0": "80274",
                  "1": "1"
                },
                {
                  "0": "80275",
                  "1": "9"
                },
                {
                  "0": "80277",
                  "1": "3"
                },
                {
                  "0": "80278",
                  "1": "14"
                },
                {
                  "0": "80279",
                  "1": "14"
                },
                {
                  "0": "80280",
                  "1": "12"
                },
                {
                  "0": "80281",
                  "1": "20"
                },
                {
                  "0": "80282",
                  "1": "10"
                },
                {
                  "0": "80283",
                  "1": "12"
                },
                {
                  "0": "80284",
                  "1": "17"
                },
                {
                  "0": "80285",
                  "1": "1"
                },
                {
                  "0": "80286",
                  "1": "11"
                },
                {
                  "0": "80287",
                  "1": "7"
                },
                {
                  "0": "80288",
                  "1": "10"
                },
                {
                  "0": "80289",
                  "1": "8"
                },
                {
                  "0": "80290",
                  "1": "9"
                },
                {
                  "0": "80291",
                  "1": "1"
                },
                {
                  "0": "80292",
                  "1": "8"
                },
                {
                  "0": "80293",
                  "1": "8"
                },
                {
                  "0": "80294",
                  "1": "11"
                },
                {
                  "0": "80295",
                  "1": "17"
                },
                {
                  "0": "80296",
                  "1": "14"
                },
                {
                  "0": "80297",
                  "1": "7"
                },
                {
                  "0": "80298",
                  "1": "5"
                },
                {
                  "0": "80299",
                  "1": "15"
                },
                {
                  "0": "80301",
                  "1": "4"
                },
                {
                  "0": "80302",
                  "1": "13"
                },
                {
                  "0": "80303",
                  "1": "8"
                },
                {
                  "0": "80304",
                  "1": "5"
                },
                {
                  "0": "80305",
                  "1": "11"
                },
                {
                  "0": "80306",
                  "1": "8"
                },
                {
                  "0": "80307",
                  "1": "9"
                },
                {
                  "0": "80308",
                  "1": "14"
                },
                {
                  "0": "80309",
                  "1": "16"
                },
                {
                  "0": "80310",
                  "1": "5"
                },
                {
                  "0": "80311",
                  "1": "12"
                },
                {
                  "0": "80312",
                  "1": "11"
                },
                {
                  "0": "80313",
                  "1": "4"
                },
                {
                  "0": "80314",
                  "1": "19"
                },
                {
                  "0": "80315",
                  "1": "19"
                },
                {
                  "0": "80316",
                  "1": "10"
                },
                {
                  "0": "80317",
                  "1": "16"
                },
                {
                  "0": "80318",
                  "1": "17"
                },
                {
                  "0": "80319",
                  "1": "16"
                },
                {
                  "0": "80320",
                  "1": "10"
                },
                {
                  "0": "80321",
                  "1": "4"
                },
                {
                  "0": "80322",
                  "1": "15"
                },
                {
                  "0": "80323",
                  "1": "15"
                },
                {
                  "0": "80324",
                  "1": "13"
                },
                {
                  "0": "80325",
                  "1": "15"
                },
                {
                  "0": "80326",
                  "1": "16"
                },
                {
                  "0": "80327",
                  "1": "13"
                },
                {
                  "0": "80329",
                  "1": "11"
                },
                {
                  "0": "80330",
                  "1": "9"
                },
                {
                  "0": "80331",
                  "1": "11"
                },
                {
                  "0": "80332",
                  "1": "9"
                },
                {
                  "0": "80333",
                  "1": "14"
                },
                {
                  "0": "80334",
                  "1": "10"
                },
                {
                  "0": "80335",
                  "1": "16"
                },
                {
                  "0": "80336",
                  "1": "17"
                },
                {
                  "0": "80337",
                  "1": "2"
                },
                {
                  "0": "80338",
                  "1": "15"
                },
                {
                  "0": "80339",
                  "1": "11"
                },
                {
                  "0": "80340",
                  "1": "1"
                },
                {
                  "0": "80341",
                  "1": "16"
                },
                {
                  "0": "80342",
                  "1": "1"
                },
                {
                  "0": "80343",
                  "1": "18"
                },
                {
                  "0": "80345",
                  "1": "10"
                },
                {
                  "0": "80346",
                  "1": "7"
                },
                {
                  "0": "80347",
                  "1": "11"
                },
                {
                  "0": "80349",
                  "1": "4"
                },
                {
                  "0": "80350",
                  "1": "17"
                },
                {
                  "0": "80351",
                  "1": "6"
                },
                {
                  "0": "80352",
                  "1": "14"
                },
                {
                  "0": "80353",
                  "1": "4"
                },
                {
                  "0": "80355",
                  "1": "14"
                },
                {
                  "0": "80356",
                  "1": "5"
                },
                {
                  "0": "80357",
                  "1": "7"
                },
                {
                  "0": "80358",
                  "1": "12"
                },
                {
                  "0": "80359",
                  "1": "3"
                },
                {
                  "0": "80360",
                  "1": "1"
                },
                {
                  "0": "80361",
                  "1": "11"
                },
                {
                  "0": "80362",
                  "1": "2"
                },
                {
                  "0": "80363",
                  "1": "14"
                },
                {
                  "0": "80364",
                  "1": "10"
                },
                {
                  "0": "80365",
                  "1": "7"
                },
                {
                  "0": "80366",
                  "1": "8"
                },
                {
                  "0": "80367",
                  "1": "4"
                },
                {
                  "0": "80368",
                  "1": "10"
                },
                {
                  "0": "80369",
                  "1": "19"
                },
                {
                  "0": "80370",
                  "1": "12"
                },
                {
                  "0": "80371",
                  "1": "1"
                },
                {
                  "0": "80372",
                  "1": "7"
                },
                {
                  "0": "80373",
                  "1": "6"
                },
                {
                  "0": "80374",
                  "1": "17"
                },
                {
                  "0": "80376",
                  "1": "8"
                },
                {
                  "0": "80377",
                  "1": "10"
                },
                {
                  "0": "80378",
                  "1": "6"
                },
                {
                  "0": "80379",
                  "1": "2"
                },
                {
                  "0": "80380",
                  "1": "14"
                },
                {
                  "0": "80382",
                  "1": "1"
                },
                {
                  "0": "80383",
                  "1": "6"
                },
                {
                  "0": "80384",
                  "1": "13"
                },
                {
                  "0": "80385",
                  "1": "12"
                },
                {
                  "0": "80386",
                  "1": "17"
                },
                {
                  "0": "80387",
                  "1": "4"
                },
                {
                  "0": "80388",
                  "1": "3"
                },
                {
                  "0": "80389",
                  "1": "5"
                },
                {
                  "0": "80390",
                  "1": "19"
                },
                {
                  "0": "80391",
                  "1": "4"
                },
                {
                  "0": "80392",
                  "1": "17"
                },
                {
                  "0": "80393",
                  "1": "10"
                },
                {
                  "0": "80394",
                  "1": "11"
                },
                {
                  "0": "80395",
                  "1": "1"
                },
                {
                  "0": "80396",
                  "1": "9"
                },
                {
                  "0": "80397",
                  "1": "12"
                },
                {
                  "0": "80398",
                  "1": "10"
                },
                {
                  "0": "80399",
                  "1": "10"
                },
                {
                  "0": "80400",
                  "1": "7"
                },
                {
                  "0": "80401",
                  "1": "11"
                },
                {
                  "0": "80402",
                  "1": "7"
                },
                {
                  "0": "80403",
                  "1": "12"
                },
                {
                  "0": "80404",
                  "1": "12"
                },
                {
                  "0": "80405",
                  "1": "17"
                },
                {
                  "0": "80406",
                  "1": "17"
                },
                {
                  "0": "80407",
                  "1": "20"
                },
                {
                  "0": "80408",
                  "1": "18"
                },
                {
                  "0": "80409",
                  "1": "4"
                },
                {
                  "0": "80410",
                  "1": "18"
                },
                {
                  "0": "80411",
                  "1": "19"
                },
                {
                  "0": "80412",
                  "1": "18"
                },
                {
                  "0": "80413",
                  "1": "7"
                },
                {
                  "0": "80414",
                  "1": "15"
                },
                {
                  "0": "80415",
                  "1": "12"
                },
                {
                  "0": "80416",
                  "1": "16"
                },
                {
                  "0": "80417",
                  "1": "7"
                },
                {
                  "0": "80418",
                  "1": "15"
                },
                {
                  "0": "80419",
                  "1": "14"
                },
                {
                  "0": "80420",
                  "1": "6"
                },
                {
                  "0": "80421",
                  "1": "5"
                },
                {
                  "0": "80422",
                  "1": "1"
                },
                {
                  "0": "80423",
                  "1": "4"
                },
                {
                  "0": "80424",
                  "1": "4"
                },
                {
                  "0": "80425",
                  "1": "14"
                },
                {
                  "0": "80426",
                  "1": "13"
                },
                {
                  "0": "80427",
                  "1": "10"
                },
                {
                  "0": "80428",
                  "1": "5"
                },
                {
                  "0": "80429",
                  "1": "17"
                },
                {
                  "0": "80430",
                  "1": "11"
                },
                {
                  "0": "80431",
                  "1": "19"
                },
                {
                  "0": "80432",
                  "1": "5"
                },
                {
                  "0": "80433",
                  "1": "17"
                },
                {
                  "0": "80434",
                  "1": "20"
                },
                {
                  "0": "80435",
                  "1": "17"
                },
                {
                  "0": "80436",
                  "1": "2"
                },
                {
                  "0": "80437",
                  "1": "14"
                },
                {
                  "0": "80438",
                  "1": "18"
                },
                {
                  "0": "80439",
                  "1": "2"
                },
                {
                  "0": "80440",
                  "1": "8"
                },
                {
                  "0": "80441",
                  "1": "20"
                },
                {
                  "0": "80443",
                  "1": "2"
                },
                {
                  "0": "80444",
                  "1": "16"
                },
                {
                  "0": "80445",
                  "1": "13"
                },
                {
                  "0": "80446",
                  "1": "20"
                },
                {
                  "0": "80447",
                  "1": "3"
                },
                {
                  "0": "80448",
                  "1": "12"
                },
                {
                  "0": "80449",
                  "1": "16"
                },
                {
                  "0": "80450",
                  "1": "20"
                },
                {
                  "0": "80451",
                  "1": "18"
                },
                {
                  "0": "80452",
                  "1": "3"
                },
                {
                  "0": "80453",
                  "1": "9"
                },
                {
                  "0": "80454",
                  "1": "5"
                },
                {
                  "0": "80455",
                  "1": "5"
                },
                {
                  "0": "80456",
                  "1": "4"
                },
                {
                  "0": "80457",
                  "1": "13"
                },
                {
                  "0": "80459",
                  "1": "9"
                },
                {
                  "0": "80460",
                  "1": "17"
                },
                {
                  "0": "80461",
                  "1": "10"
                },
                {
                  "0": "80462",
                  "1": "15"
                },
                {
                  "0": "80463",
                  "1": "16"
                },
                {
                  "0": "80464",
                  "1": "1"
                },
                {
                  "0": "80465",
                  "1": "9"
                },
                {
                  "0": "80466",
                  "1": "3"
                },
                {
                  "0": "80467",
                  "1": "8"
                },
                {
                  "0": "80468",
                  "1": "12"
                },
                {
                  "0": "80469",
                  "1": "14"
                },
                {
                  "0": "80470",
                  "1": "11"
                },
                {
                  "0": "80471",
                  "1": "6"
                },
                {
                  "0": "80472",
                  "1": "19"
                },
                {
                  "0": "80474",
                  "1": "18"
                },
                {
                  "0": "80475",
                  "1": "4"
                },
                {
                  "0": "80476",
                  "1": "13"
                },
                {
                  "0": "80477",
                  "1": "13"
                },
                {
                  "0": "80478",
                  "1": "11"
                },
                {
                  "0": "80480",
                  "1": "8"
                },
                {
                  "0": "80481",
                  "1": "15"
                },
                {
                  "0": "80482",
                  "1": "5"
                },
                {
                  "0": "80483",
                  "1": "2"
                },
                {
                  "0": "80484",
                  "1": "13"
                },
                {
                  "0": "80485",
                  "1": "19"
                },
                {
                  "0": "80486",
                  "1": "11"
                },
                {
                  "0": "80487",
                  "1": "1"
                },
                {
                  "0": "80488",
                  "1": "7"
                },
                {
                  "0": "80489",
                  "1": "17"
                },
                {
                  "0": "80490",
                  "1": "13"
                },
                {
                  "0": "80491",
                  "1": "14"
                },
                {
                  "0": "80492",
                  "1": "17"
                },
                {
                  "0": "80493",
                  "1": "5"
                },
                {
                  "0": "80494",
                  "1": "19"
                },
                {
                  "0": "80495",
                  "1": "16"
                },
                {
                  "0": "80496",
                  "1": "7"
                },
                {
                  "0": "80497",
                  "1": "3"
                },
                {
                  "0": "80498",
                  "1": "3"
                },
                {
                  "0": "80499",
                  "1": "10"
                },
                {
                  "0": "80500",
                  "1": "5"
                },
                {
                  "0": "80501",
                  "1": "15"
                },
                {
                  "0": "80502",
                  "1": "1"
                },
                {
                  "0": "80503",
                  "1": "14"
                },
                {
                  "0": "80504",
                  "1": "18"
                },
                {
                  "0": "80505",
                  "1": "15"
                },
                {
                  "0": "80506",
                  "1": "11"
                },
                {
                  "0": "80507",
                  "1": "7"
                },
                {
                  "0": "80508",
                  "1": "13"
                },
                {
                  "0": "80509",
                  "1": "19"
                },
                {
                  "0": "80510",
                  "1": "8"
                },
                {
                  "0": "80511",
                  "1": "19"
                },
                {
                  "0": "80512",
                  "1": "4"
                },
                {
                  "0": "80513",
                  "1": "12"
                },
                {
                  "0": "80514",
                  "1": "1"
                },
                {
                  "0": "80515",
                  "1": "13"
                },
                {
                  "0": "80516",
                  "1": "5"
                },
                {
                  "0": "80517",
                  "1": "2"
                },
                {
                  "0": "80518",
                  "1": "19"
                },
                {
                  "0": "80519",
                  "1": "10"
                },
                {
                  "0": "80520",
                  "1": "19"
                },
                {
                  "0": "80521",
                  "1": "1"
                },
                {
                  "0": "80522",
                  "1": "7"
                },
                {
                  "0": "80523",
                  "1": "8"
                },
                {
                  "0": "80524",
                  "1": "8"
                },
                {
                  "0": "80525",
                  "1": "9"
                },
                {
                  "0": "80526",
                  "1": "1"
                },
                {
                  "0": "80527",
                  "1": "10"
                },
                {
                  "0": "80528",
                  "1": "2"
                },
                {
                  "0": "80529",
                  "1": "11"
                },
                {
                  "0": "80530",
                  "1": "19"
                },
                {
                  "0": "80531",
                  "1": "12"
                },
                {
                  "0": "80532",
                  "1": "1"
                },
                {
                  "0": "80533",
                  "1": "2"
                },
                {
                  "0": "80534",
                  "1": "14"
                },
                {
                  "0": "80535",
                  "1": "7"
                },
                {
                  "0": "80536",
                  "1": "8"
                },
                {
                  "0": "80537",
                  "1": "7"
                },
                {
                  "0": "80538",
                  "1": "16"
                },
                {
                  "0": "80539",
                  "1": "14"
                },
                {
                  "0": "80540",
                  "1": "13"
                },
                {
                  "0": "80542",
                  "1": "20"
                },
                {
                  "0": "80543",
                  "1": "10"
                },
                {
                  "0": "80544",
                  "1": "18"
                },
                {
                  "0": "80545",
                  "1": "14"
                },
                {
                  "0": "80546",
                  "1": "12"
                },
                {
                  "0": "80547",
                  "1": "10"
                },
                {
                  "0": "80548",
                  "1": "8"
                },
                {
                  "0": "80549",
                  "1": "12"
                },
                {
                  "0": "80550",
                  "1": "17"
                },
                {
                  "0": "80551",
                  "1": "12"
                },
                {
                  "0": "80552",
                  "1": "15"
                },
                {
                  "0": "80553",
                  "1": "9"
                },
                {
                  "0": "80554",
                  "1": "9"
                },
                {
                  "0": "80555",
                  "1": "18"
                },
                {
                  "0": "80556",
                  "1": "5"
                },
                {
                  "0": "80557",
                  "1": "18"
                },
                {
                  "0": "80558",
                  "1": "15"
                },
                {
                  "0": "80559",
                  "1": "19"
                },
                {
                  "0": "80560",
                  "1": "13"
                },
                {
                  "0": "80562",
                  "1": "4"
                },
                {
                  "0": "80564",
                  "1": "20"
                },
                {
                  "0": "80565",
                  "1": "16"
                },
                {
                  "0": "80566",
                  "1": "5"
                },
                {
                  "0": "80567",
                  "1": "16"
                },
                {
                  "0": "80568",
                  "1": "7"
                },
                {
                  "0": "80569",
                  "1": "18"
                },
                {
                  "0": "80570",
                  "1": "5"
                },
                {
                  "0": "80571",
                  "1": "16"
                },
                {
                  "0": "80572",
                  "1": "14"
                },
                {
                  "0": "80573",
                  "1": "5"
                },
                {
                  "0": "80574",
                  "1": "7"
                },
                {
                  "0": "80575",
                  "1": "16"
                },
                {
                  "0": "80576",
                  "1": "5"
                },
                {
                  "0": "80577",
                  "1": "6"
                },
                {
                  "0": "80578",
                  "1": "12"
                },
                {
                  "0": "80579",
                  "1": "15"
                },
                {
                  "0": "80580",
                  "1": "6"
                },
                {
                  "0": "80581",
                  "1": "15"
                },
                {
                  "0": "80583",
                  "1": "6"
                },
                {
                  "0": "80584",
                  "1": "10"
                },
                {
                  "0": "80585",
                  "1": "17"
                },
                {
                  "0": "80586",
                  "1": "10"
                },
                {
                  "0": "80587",
                  "1": "9"
                },
                {
                  "0": "80588",
                  "1": "20"
                },
                {
                  "0": "80589",
                  "1": "10"
                },
                {
                  "0": "80590",
                  "1": "2"
                },
                {
                  "0": "80591",
                  "1": "16"
                },
                {
                  "0": "80592",
                  "1": "12"
                },
                {
                  "0": "80593",
                  "1": "7"
                },
                {
                  "0": "80594",
                  "1": "6"
                },
                {
                  "0": "80595",
                  "1": "11"
                },
                {
                  "0": "80596",
                  "1": "16"
                },
                {
                  "0": "80597",
                  "1": "1"
                },
                {
                  "0": "80598",
                  "1": "3"
                },
                {
                  "0": "80599",
                  "1": "6"
                },
                {
                  "0": "80600",
                  "1": "5"
                },
                {
                  "0": "80601",
                  "1": "8"
                },
                {
                  "0": "80602",
                  "1": "10"
                },
                {
                  "0": "80603",
                  "1": "17"
                },
                {
                  "0": "80605",
                  "1": "17"
                },
                {
                  "0": "80606",
                  "1": "17"
                },
                {
                  "0": "80607",
                  "1": "10"
                },
                {
                  "0": "80608",
                  "1": "17"
                },
                {
                  "0": "80609",
                  "1": "6"
                },
                {
                  "0": "80610",
                  "1": "8"
                },
                {
                  "0": "80611",
                  "1": "2"
                },
                {
                  "0": "80613",
                  "1": "19"
                },
                {
                  "0": "80614",
                  "1": "19"
                },
                {
                  "0": "80615",
                  "1": "13"
                },
                {
                  "0": "80616",
                  "1": "18"
                },
                {
                  "0": "80617",
                  "1": "14"
                },
                {
                  "0": "80618",
                  "1": "19"
                },
                {
                  "0": "80619",
                  "1": "8"
                },
                {
                  "0": "80620",
                  "1": "13"
                },
                {
                  "0": "80621",
                  "1": "15"
                },
                {
                  "0": "80622",
                  "1": "6"
                },
                {
                  "0": "80623",
                  "1": "6"
                },
                {
                  "0": "80624",
                  "1": "14"
                },
                {
                  "0": "80625",
                  "1": "19"
                },
                {
                  "0": "80626",
                  "1": "8"
                },
                {
                  "0": "80627",
                  "1": "20"
                },
                {
                  "0": "80628",
                  "1": "16"
                },
                {
                  "0": "80629",
                  "1": "3"
                },
                {
                  "0": "80630",
                  "1": "1"
                },
                {
                  "0": "80631",
                  "1": "12"
                },
                {
                  "0": "80632",
                  "1": "8"
                },
                {
                  "0": "80633",
                  "1": "9"
                },
                {
                  "0": "80634",
                  "1": "2"
                },
                {
                  "0": "80635",
                  "1": "10"
                },
                {
                  "0": "80636",
                  "1": "16"
                },
                {
                  "0": "80637",
                  "1": "20"
                },
                {
                  "0": "80638",
                  "1": "10"
                },
                {
                  "0": "80639",
                  "1": "18"
                },
                {
                  "0": "80640",
                  "1": "8"
                },
                {
                  "0": "80641",
                  "1": "14"
                },
                {
                  "0": "80642",
                  "1": "3"
                },
                {
                  "0": "80643",
                  "1": "11"
                },
                {
                  "0": "80644",
                  "1": "4"
                },
                {
                  "0": "80645",
                  "1": "2"
                },
                {
                  "0": "80646",
                  "1": "19"
                },
                {
                  "0": "80647",
                  "1": "12"
                },
                {
                  "0": "80648",
                  "1": "17"
                },
                {
                  "0": "80649",
                  "1": "9"
                },
                {
                  "0": "80650",
                  "1": "2"
                },
                {
                  "0": "80651",
                  "1": "19"
                },
                {
                  "0": "80652",
                  "1": "19"
                },
                {
                  "0": "80653",
                  "1": "14"
                },
                {
                  "0": "80654",
                  "1": "15"
                },
                {
                  "0": "80655",
                  "1": "8"
                },
                {
                  "0": "80656",
                  "1": "11"
                },
                {
                  "0": "80657",
                  "1": "1"
                },
                {
                  "0": "80658",
                  "1": "13"
                },
                {
                  "0": "80659",
                  "1": "20"
                },
                {
                  "0": "80660",
                  "1": "19"
                },
                {
                  "0": "80661",
                  "1": "15"
                },
                {
                  "0": "80662",
                  "1": "5"
                },
                {
                  "0": "80663",
                  "1": "15"
                },
                {
                  "0": "80665",
                  "1": "8"
                },
                {
                  "0": "80666",
                  "1": "5"
                },
                {
                  "0": "80667",
                  "1": "10"
                },
                {
                  "0": "80668",
                  "1": "19"
                },
                {
                  "0": "80669",
                  "1": "17"
                },
                {
                  "0": "80670",
                  "1": "15"
                },
                {
                  "0": "80671",
                  "1": "4"
                },
                {
                  "0": "80672",
                  "1": "12"
                },
                {
                  "0": "80673",
                  "1": "12"
                },
                {
                  "0": "80674",
                  "1": "2"
                },
                {
                  "0": "80676",
                  "1": "13"
                },
                {
                  "0": "80677",
                  "1": "18"
                },
                {
                  "0": "80678",
                  "1": "4"
                },
                {
                  "0": "80679",
                  "1": "17"
                },
                {
                  "0": "80680",
                  "1": "17"
                },
                {
                  "0": "80681",
                  "1": "9"
                },
                {
                  "0": "80682",
                  "1": "12"
                },
                {
                  "0": "80683",
                  "1": "4"
                },
                {
                  "0": "80684",
                  "1": "18"
                },
                {
                  "0": "80685",
                  "1": "14"
                },
                {
                  "0": "80686",
                  "1": "12"
                },
                {
                  "0": "80687",
                  "1": "3"
                },
                {
                  "0": "80689",
                  "1": "9"
                },
                {
                  "0": "80690",
                  "1": "6"
                },
                {
                  "0": "80691",
                  "1": "5"
                },
                {
                  "0": "80692",
                  "1": "10"
                },
                {
                  "0": "80693",
                  "1": "11"
                },
                {
                  "0": "80694",
                  "1": "16"
                },
                {
                  "0": "80695",
                  "1": "12"
                },
                {
                  "0": "80696",
                  "1": "17"
                },
                {
                  "0": "80697",
                  "1": "7"
                },
                {
                  "0": "80698",
                  "1": "11"
                },
                {
                  "0": "80700",
                  "1": "6"
                },
                {
                  "0": "80701",
                  "1": "7"
                },
                {
                  "0": "80702",
                  "1": "3"
                },
                {
                  "0": "80704",
                  "1": "12"
                },
                {
                  "0": "80705",
                  "1": "19"
                },
                {
                  "0": "80706",
                  "1": "10"
                },
                {
                  "0": "80707",
                  "1": "11"
                },
                {
                  "0": "80708",
                  "1": "10"
                },
                {
                  "0": "80709",
                  "1": "8"
                },
                {
                  "0": "80710",
                  "1": "15"
                },
                {
                  "0": "80711",
                  "1": "5"
                },
                {
                  "0": "80712",
                  "1": "3"
                },
                {
                  "0": "80713",
                  "1": "2"
                },
                {
                  "0": "80714",
                  "1": "18"
                },
                {
                  "0": "80715",
                  "1": "9"
                },
                {
                  "0": "80716",
                  "1": "16"
                },
                {
                  "0": "80718",
                  "1": "13"
                },
                {
                  "0": "80720",
                  "1": "12"
                },
                {
                  "0": "80721",
                  "1": "16"
                },
                {
                  "0": "80723",
                  "1": "5"
                },
                {
                  "0": "80724",
                  "1": "7"
                },
                {
                  "0": "80725",
                  "1": "4"
                },
                {
                  "0": "80726",
                  "1": "4"
                },
                {
                  "0": "80727",
                  "1": "5"
                },
                {
                  "0": "80728",
                  "1": "7"
                },
                {
                  "0": "80729",
                  "1": "9"
                },
                {
                  "0": "80730",
                  "1": "17"
                },
                {
                  "0": "80731",
                  "1": "17"
                },
                {
                  "0": "80732",
                  "1": "13"
                },
                {
                  "0": "80733",
                  "1": "1"
                },
                {
                  "0": "80734",
                  "1": "8"
                },
                {
                  "0": "80735",
                  "1": "16"
                },
                {
                  "0": "80736",
                  "1": "18"
                },
                {
                  "0": "80737",
                  "1": "4"
                },
                {
                  "0": "80738",
                  "1": "8"
                },
                {
                  "0": "80739",
                  "1": "17"
                },
                {
                  "0": "80740",
                  "1": "6"
                },
                {
                  "0": "80741",
                  "1": "12"
                },
                {
                  "0": "80742",
                  "1": "1"
                },
                {
                  "0": "80743",
                  "1": "6"
                },
                {
                  "0": "80744",
                  "1": "4"
                },
                {
                  "0": "80745",
                  "1": "11"
                },
                {
                  "0": "80746",
                  "1": "18"
                },
                {
                  "0": "80747",
                  "1": "13"
                },
                {
                  "0": "80748",
                  "1": "17"
                },
                {
                  "0": "80749",
                  "1": "2"
                },
                {
                  "0": "80751",
                  "1": "17"
                },
                {
                  "0": "80752",
                  "1": "17"
                },
                {
                  "0": "80753",
                  "1": "1"
                },
                {
                  "0": "80754",
                  "1": "7"
                },
                {
                  "0": "80755",
                  "1": "6"
                },
                {
                  "0": "80756",
                  "1": "4"
                },
                {
                  "0": "80757",
                  "1": "6"
                },
                {
                  "0": "80758",
                  "1": "3"
                },
                {
                  "0": "80759",
                  "1": "12"
                },
                {
                  "0": "80760",
                  "1": "3"
                },
                {
                  "0": "80761",
                  "1": "20"
                },
                {
                  "0": "80762",
                  "1": "20"
                },
                {
                  "0": "80763",
                  "1": "18"
                },
                {
                  "0": "80764",
                  "1": "7"
                },
                {
                  "0": "80765",
                  "1": "11"
                },
                {
                  "0": "80766",
                  "1": "17"
                },
                {
                  "0": "80767",
                  "1": "3"
                },
                {
                  "0": "80768",
                  "1": "10"
                },
                {
                  "0": "80769",
                  "1": "14"
                },
                {
                  "0": "80770",
                  "1": "8"
                },
                {
                  "0": "80771",
                  "1": "4"
                },
                {
                  "0": "80772",
                  "1": "11"
                },
                {
                  "0": "80773",
                  "1": "3"
                },
                {
                  "0": "80774",
                  "1": "17"
                },
                {
                  "0": "80775",
                  "1": "1"
                },
                {
                  "0": "80776",
                  "1": "4"
                },
                {
                  "0": "80777",
                  "1": "5"
                },
                {
                  "0": "80778",
                  "1": "13"
                },
                {
                  "0": "80779",
                  "1": "19"
                },
                {
                  "0": "80780",
                  "1": "12"
                },
                {
                  "0": "80781",
                  "1": "15"
                },
                {
                  "0": "80782",
                  "1": "19"
                },
                {
                  "0": "80783",
                  "1": "6"
                },
                {
                  "0": "80784",
                  "1": "8"
                },
                {
                  "0": "80785",
                  "1": "1"
                },
                {
                  "0": "80786",
                  "1": "8"
                },
                {
                  "0": "80787",
                  "1": "3"
                },
                {
                  "0": "80788",
                  "1": "4"
                },
                {
                  "0": "80789",
                  "1": "17"
                },
                {
                  "0": "80790",
                  "1": "14"
                },
                {
                  "0": "80791",
                  "1": "5"
                },
                {
                  "0": "80792",
                  "1": "4"
                },
                {
                  "0": "80793",
                  "1": "10"
                },
                {
                  "0": "80794",
                  "1": "3"
                },
                {
                  "0": "80795",
                  "1": "11"
                },
                {
                  "0": "80796",
                  "1": "14"
                },
                {
                  "0": "80797",
                  "1": "9"
                },
                {
                  "0": "80798",
                  "1": "20"
                },
                {
                  "0": "80799",
                  "1": "3"
                },
                {
                  "0": "80800",
                  "1": "10"
                },
                {
                  "0": "80801",
                  "1": "17"
                },
                {
                  "0": "80802",
                  "1": "9"
                },
                {
                  "0": "80803",
                  "1": "15"
                },
                {
                  "0": "80804",
                  "1": "17"
                },
                {
                  "0": "80805",
                  "1": "9"
                },
                {
                  "0": "80806",
                  "1": "7"
                },
                {
                  "0": "80807",
                  "1": "9"
                },
                {
                  "0": "80808",
                  "1": "9"
                },
                {
                  "0": "80809",
                  "1": "1"
                },
                {
                  "0": "80810",
                  "1": "15"
                },
                {
                  "0": "80811",
                  "1": "5"
                },
                {
                  "0": "80812",
                  "1": "8"
                },
                {
                  "0": "80813",
                  "1": "3"
                },
                {
                  "0": "80814",
                  "1": "4"
                },
                {
                  "0": "80815",
                  "1": "14"
                },
                {
                  "0": "80816",
                  "1": "5"
                },
                {
                  "0": "80817",
                  "1": "19"
                },
                {
                  "0": "80818",
                  "1": "19"
                },
                {
                  "0": "80819",
                  "1": "11"
                },
                {
                  "0": "80820",
                  "1": "8"
                },
                {
                  "0": "80821",
                  "1": "11"
                },
                {
                  "0": "80822",
                  "1": "3"
                },
                {
                  "0": "80823",
                  "1": "8"
                },
                {
                  "0": "80825",
                  "1": "17"
                },
                {
                  "0": "80826",
                  "1": "20"
                },
                {
                  "0": "80827",
                  "1": "17"
                },
                {
                  "0": "80828",
                  "1": "4"
                },
                {
                  "0": "80829",
                  "1": "19"
                },
                {
                  "0": "80830",
                  "1": "4"
                },
                {
                  "0": "80831",
                  "1": "4"
                },
                {
                  "0": "80832",
                  "1": "8"
                },
                {
                  "0": "80833",
                  "1": "13"
                },
                {
                  "0": "80834",
                  "1": "17"
                },
                {
                  "0": "80835",
                  "1": "2"
                },
                {
                  "0": "80836",
                  "1": "6"
                },
                {
                  "0": "80838",
                  "1": "19"
                },
                {
                  "0": "80839",
                  "1": "17"
                },
                {
                  "0": "80840",
                  "1": "20"
                },
                {
                  "0": "80841",
                  "1": "18"
                },
                {
                  "0": "80842",
                  "1": "4"
                },
                {
                  "0": "80843",
                  "1": "12"
                },
                {
                  "0": "80844",
                  "1": "19"
                },
                {
                  "0": "80845",
                  "1": "3"
                },
                {
                  "0": "80846",
                  "1": "16"
                },
                {
                  "0": "80847",
                  "1": "4"
                },
                {
                  "0": "80848",
                  "1": "18"
                },
                {
                  "0": "80849",
                  "1": "10"
                },
                {
                  "0": "80850",
                  "1": "2"
                },
                {
                  "0": "80851",
                  "1": "2"
                },
                {
                  "0": "80852",
                  "1": "7"
                },
                {
                  "0": "80853",
                  "1": "2"
                },
                {
                  "0": "80854",
                  "1": "1"
                },
                {
                  "0": "80856",
                  "1": "11"
                },
                {
                  "0": "80857",
                  "1": "15"
                },
                {
                  "0": "80858",
                  "1": "6"
                },
                {
                  "0": "80859",
                  "1": "4"
                },
                {
                  "0": "80860",
                  "1": "2"
                },
                {
                  "0": "80861",
                  "1": "15"
                },
                {
                  "0": "80862",
                  "1": "1"
                },
                {
                  "0": "80863",
                  "1": "19"
                },
                {
                  "0": "80864",
                  "1": "7"
                },
                {
                  "0": "80865",
                  "1": "13"
                },
                {
                  "0": "80866",
                  "1": "18"
                },
                {
                  "0": "80867",
                  "1": "8"
                },
                {
                  "0": "80868",
                  "1": "2"
                },
                {
                  "0": "80869",
                  "1": "15"
                },
                {
                  "0": "80870",
                  "1": "8"
                },
                {
                  "0": "80871",
                  "1": "7"
                },
                {
                  "0": "80872",
                  "1": "12"
                },
                {
                  "0": "80873",
                  "1": "5"
                },
                {
                  "0": "80874",
                  "1": "5"
                },
                {
                  "0": "80875",
                  "1": "13"
                },
                {
                  "0": "80876",
                  "1": "1"
                },
                {
                  "0": "80877",
                  "1": "19"
                },
                {
                  "0": "80878",
                  "1": "6"
                },
                {
                  "0": "80879",
                  "1": "15"
                },
                {
                  "0": "80880",
                  "1": "7"
                },
                {
                  "0": "80881",
                  "1": "5"
                },
                {
                  "0": "80882",
                  "1": "14"
                },
                {
                  "0": "80883",
                  "1": "15"
                },
                {
                  "0": "80884",
                  "1": "9"
                },
                {
                  "0": "80885",
                  "1": "8"
                },
                {
                  "0": "80886",
                  "1": "17"
                },
                {
                  "0": "80887",
                  "1": "19"
                },
                {
                  "0": "80888",
                  "1": "3"
                },
                {
                  "0": "80889",
                  "1": "12"
                },
                {
                  "0": "80890",
                  "1": "10"
                },
                {
                  "0": "80891",
                  "1": "11"
                },
                {
                  "0": "80892",
                  "1": "1"
                },
                {
                  "0": "80893",
                  "1": "10"
                },
                {
                  "0": "80894",
                  "1": "19"
                },
                {
                  "0": "80895",
                  "1": "17"
                },
                {
                  "0": "80896",
                  "1": "11"
                },
                {
                  "0": "80897",
                  "1": "17"
                },
                {
                  "0": "80898",
                  "1": "15"
                },
                {
                  "0": "80899",
                  "1": "10"
                },
                {
                  "0": "80900",
                  "1": "15"
                },
                {
                  "0": "80901",
                  "1": "8"
                },
                {
                  "0": "80902",
                  "1": "12"
                },
                {
                  "0": "80903",
                  "1": "2"
                },
                {
                  "0": "80904",
                  "1": "19"
                },
                {
                  "0": "80905",
                  "1": "15"
                },
                {
                  "0": "80906",
                  "1": "17"
                },
                {
                  "0": "80907",
                  "1": "20"
                },
                {
                  "0": "80908",
                  "1": "19"
                },
                {
                  "0": "80909",
                  "1": "3"
                },
                {
                  "0": "80910",
                  "1": "6"
                },
                {
                  "0": "80911",
                  "1": "3"
                },
                {
                  "0": "80912",
                  "1": "10"
                },
                {
                  "0": "80913",
                  "1": "6"
                },
                {
                  "0": "80914",
                  "1": "11"
                },
                {
                  "0": "80915",
                  "1": "6"
                },
                {
                  "0": "80916",
                  "1": "16"
                },
                {
                  "0": "80917",
                  "1": "13"
                },
                {
                  "0": "80918",
                  "1": "15"
                },
                {
                  "0": "80919",
                  "1": "12"
                },
                {
                  "0": "80920",
                  "1": "16"
                },
                {
                  "0": "80921",
                  "1": "15"
                },
                {
                  "0": "80922",
                  "1": "6"
                },
                {
                  "0": "80923",
                  "1": "4"
                },
                {
                  "0": "80924",
                  "1": "12"
                },
                {
                  "0": "80925",
                  "1": "2"
                },
                {
                  "0": "80926",
                  "1": "8"
                },
                {
                  "0": "80927",
                  "1": "2"
                },
                {
                  "0": "80928",
                  "1": "9"
                },
                {
                  "0": "80929",
                  "1": "14"
                },
                {
                  "0": "80930",
                  "1": "14"
                },
                {
                  "0": "80931",
                  "1": "14"
                },
                {
                  "0": "80932",
                  "1": "13"
                },
                {
                  "0": "80933",
                  "1": "20"
                },
                {
                  "0": "80934",
                  "1": "20"
                },
                {
                  "0": "80935",
                  "1": "13"
                },
                {
                  "0": "80936",
                  "1": "16"
                },
                {
                  "0": "80937",
                  "1": "8"
                },
                {
                  "0": "80938",
                  "1": "11"
                },
                {
                  "0": "80939",
                  "1": "14"
                },
                {
                  "0": "80940",
                  "1": "18"
                },
                {
                  "0": "80941",
                  "1": "17"
                },
                {
                  "0": "80942",
                  "1": "13"
                },
                {
                  "0": "80943",
                  "1": "6"
                },
                {
                  "0": "80944",
                  "1": "4"
                },
                {
                  "0": "80946",
                  "1": "3"
                },
                {
                  "0": "80947",
                  "1": "13"
                },
                {
                  "0": "80948",
                  "1": "7"
                },
                {
                  "0": "80949",
                  "1": "16"
                },
                {
                  "0": "80950",
                  "1": "17"
                },
                {
                  "0": "80951",
                  "1": "19"
                },
                {
                  "0": "80952",
                  "1": "20"
                },
                {
                  "0": "80954",
                  "1": "13"
                },
                {
                  "0": "80955",
                  "1": "4"
                },
                {
                  "0": "80956",
                  "1": "12"
                },
                {
                  "0": "80957",
                  "1": "20"
                },
                {
                  "0": "80958",
                  "1": "2"
                },
                {
                  "0": "80959",
                  "1": "9"
                },
                {
                  "0": "80960",
                  "1": "8"
                },
                {
                  "0": "80961",
                  "1": "7"
                },
                {
                  "0": "80962",
                  "1": "8"
                },
                {
                  "0": "80963",
                  "1": "20"
                },
                {
                  "0": "80964",
                  "1": "2"
                },
                {
                  "0": "80965",
                  "1": "9"
                },
                {
                  "0": "80966",
                  "1": "18"
                },
                {
                  "0": "80967",
                  "1": "11"
                },
                {
                  "0": "80968",
                  "1": "14"
                },
                {
                  "0": "80969",
                  "1": "17"
                },
                {
                  "0": "80970",
                  "1": "8"
                },
                {
                  "0": "80971",
                  "1": "20"
                },
                {
                  "0": "80972",
                  "1": "13"
                },
                {
                  "0": "80973",
                  "1": "5"
                },
                {
                  "0": "80974",
                  "1": "8"
                },
                {
                  "0": "80975",
                  "1": "11"
                },
                {
                  "0": "80976",
                  "1": "20"
                },
                {
                  "0": "80977",
                  "1": "8"
                },
                {
                  "0": "80978",
                  "1": "2"
                },
                {
                  "0": "80979",
                  "1": "17"
                },
                {
                  "0": "80980",
                  "1": "7"
                },
                {
                  "0": "80981",
                  "1": "1"
                },
                {
                  "0": "80982",
                  "1": "2"
                },
                {
                  "0": "80984",
                  "1": "4"
                },
                {
                  "0": "80985",
                  "1": "15"
                },
                {
                  "0": "80986",
                  "1": "4"
                },
                {
                  "0": "80987",
                  "1": "10"
                },
                {
                  "0": "80988",
                  "1": "19"
                },
                {
                  "0": "80989",
                  "1": "13"
                },
                {
                  "0": "80990",
                  "1": "16"
                },
                {
                  "0": "80991",
                  "1": "6"
                },
                {
                  "0": "80992",
                  "1": "3"
                },
                {
                  "0": "80993",
                  "1": "5"
                },
                {
                  "0": "80994",
                  "1": "20"
                },
                {
                  "0": "80995",
                  "1": "16"
                },
                {
                  "0": "80996",
                  "1": "4"
                },
                {
                  "0": "80997",
                  "1": "10"
                },
                {
                  "0": "80998",
                  "1": "16"
                },
                {
                  "0": "80999",
                  "1": "2"
                },
                {
                  "0": "81000",
                  "1": "1"
                },
                {
                  "0": "81001",
                  "1": "20"
                },
                {
                  "0": "81002",
                  "1": "8"
                },
                {
                  "0": "81003",
                  "1": "17"
                },
                {
                  "0": "81004",
                  "1": "1"
                },
                {
                  "0": "81005",
                  "1": "1"
                },
                {
                  "0": "81006",
                  "1": "5"
                },
                {
                  "0": "81007",
                  "1": "8"
                },
                {
                  "0": "81009",
                  "1": "17"
                },
                {
                  "0": "81010",
                  "1": "6"
                },
                {
                  "0": "81011",
                  "1": "19"
                },
                {
                  "0": "81012",
                  "1": "14"
                },
                {
                  "0": "81013",
                  "1": "5"
                },
                {
                  "0": "81014",
                  "1": "7"
                },
                {
                  "0": "81015",
                  "1": "1"
                },
                {
                  "0": "81016",
                  "1": "16"
                },
                {
                  "0": "81017",
                  "1": "18"
                },
                {
                  "0": "81018",
                  "1": "18"
                },
                {
                  "0": "81019",
                  "1": "10"
                },
                {
                  "0": "81020",
                  "1": "12"
                },
                {
                  "0": "81021",
                  "1": "17"
                },
                {
                  "0": "81022",
                  "1": "13"
                },
                {
                  "0": "81023",
                  "1": "13"
                },
                {
                  "0": "81024",
                  "1": "16"
                },
                {
                  "0": "81025",
                  "1": "1"
                },
                {
                  "0": "81026",
                  "1": "15"
                },
                {
                  "0": "81027",
                  "1": "13"
                },
                {
                  "0": "81028",
                  "1": "13"
                },
                {
                  "0": "81029",
                  "1": "20"
                },
                {
                  "0": "81030",
                  "1": "9"
                },
                {
                  "0": "81031",
                  "1": "7"
                },
                {
                  "0": "81032",
                  "1": "18"
                },
                {
                  "0": "81033",
                  "1": "19"
                },
                {
                  "0": "81034",
                  "1": "13"
                },
                {
                  "0": "81035",
                  "1": "15"
                },
                {
                  "0": "81036",
                  "1": "19"
                },
                {
                  "0": "81037",
                  "1": "19"
                },
                {
                  "0": "81038",
                  "1": "14"
                },
                {
                  "0": "81039",
                  "1": "6"
                },
                {
                  "0": "81040",
                  "1": "17"
                },
                {
                  "0": "81041",
                  "1": "6"
                },
                {
                  "0": "81042",
                  "1": "3"
                }
              ],
              "schema": [
                {
                  "key": "0",
                  "name": "visitorId",
                  "type": "bigint"
                },
                {
                  "key": "1",
                  "name": "total",
                  "type": "bigint"
                }
              ],
              "truncated": false
            },
            "isSummary": false,
            "language": "scala"
          },
          "persist_state": {
            "view": {
              "type": "details",
              "tableOptions": {},
              "chartOptions": {
                "chartType": "bar",
                "aggregationType": "sum",
                "categoryFieldKeys": [
                  "1"
                ],
                "seriesFieldKeys": [
                  "0"
                ],
                "isStacked": false
              }
            }
          }
        },
        "5b26a4c2-99e7-4efd-9d20-43c2007337e1": {
          "type": "Synapse.DataFrame",
          "sync_state": {
            "table": {
              "rows": [
                {
                  "0": "80000",
                  "1": "1054"
                },
                {
                  "0": "80001",
                  "1": "834"
                },
                {
                  "0": "80002",
                  "1": "754"
                },
                {
                  "0": "80003",
                  "1": "684"
                },
                {
                  "0": "80004",
                  "1": "598"
                },
                {
                  "0": "80005",
                  "1": "615"
                },
                {
                  "0": "80006",
                  "1": "348"
                },
                {
                  "0": "80007",
                  "1": "932"
                },
                {
                  "0": "80008",
                  "1": "199"
                },
                {
                  "0": "80009",
                  "1": "787"
                },
                {
                  "0": "80010",
                  "1": "97"
                },
                {
                  "0": "80011",
                  "1": "931"
                },
                {
                  "0": "80012",
                  "1": "1042"
                },
                {
                  "0": "80013",
                  "1": "313"
                },
                {
                  "0": "80014",
                  "1": "1084"
                },
                {
                  "0": "80015",
                  "1": "496"
                },
                {
                  "0": "80016",
                  "1": "429"
                },
                {
                  "0": "80017",
                  "1": "76"
                },
                {
                  "0": "80018",
                  "1": "733"
                },
                {
                  "0": "80019",
                  "1": "743"
                },
                {
                  "0": "80020",
                  "1": "502"
                },
                {
                  "0": "80021",
                  "1": "921"
                },
                {
                  "0": "80022",
                  "1": "662"
                },
                {
                  "0": "80023",
                  "1": "461"
                },
                {
                  "0": "80024",
                  "1": "143"
                },
                {
                  "0": "80025",
                  "1": "747"
                },
                {
                  "0": "80026",
                  "1": "909"
                },
                {
                  "0": "80027",
                  "1": "681"
                },
                {
                  "0": "80028",
                  "1": "72"
                },
                {
                  "0": "80029",
                  "1": "227"
                },
                {
                  "0": "80030",
                  "1": "4"
                },
                {
                  "0": "80031",
                  "1": "654"
                },
                {
                  "0": "80032",
                  "1": "877"
                },
                {
                  "0": "80033",
                  "1": "331"
                },
                {
                  "0": "80034",
                  "1": "651"
                },
                {
                  "0": "80035",
                  "1": "496"
                },
                {
                  "0": "80036",
                  "1": "1045"
                },
                {
                  "0": "80037",
                  "1": "476"
                },
                {
                  "0": "80038",
                  "1": "139"
                },
                {
                  "0": "80039",
                  "1": "211"
                },
                {
                  "0": "80040",
                  "1": "913"
                },
                {
                  "0": "80041",
                  "1": "290"
                },
                {
                  "0": "80042",
                  "1": "427"
                },
                {
                  "0": "80043",
                  "1": "24"
                },
                {
                  "0": "80044",
                  "1": "728"
                },
                {
                  "0": "80045",
                  "1": "314"
                },
                {
                  "0": "80046",
                  "1": "613"
                },
                {
                  "0": "80047",
                  "1": "194"
                },
                {
                  "0": "80048",
                  "1": "708"
                },
                {
                  "0": "80049",
                  "1": "981"
                },
                {
                  "0": "80050",
                  "1": "234"
                },
                {
                  "0": "80051",
                  "1": "788"
                },
                {
                  "0": "80052",
                  "1": "395"
                },
                {
                  "0": "80053",
                  "1": "234"
                },
                {
                  "0": "80054",
                  "1": "391"
                },
                {
                  "0": "80055",
                  "1": "1137"
                },
                {
                  "0": "80056",
                  "1": "440"
                },
                {
                  "0": "80057",
                  "1": "474"
                },
                {
                  "0": "80058",
                  "1": "50"
                },
                {
                  "0": "80059",
                  "1": "677"
                },
                {
                  "0": "80060",
                  "1": "158"
                },
                {
                  "0": "80061",
                  "1": "212"
                },
                {
                  "0": "80062",
                  "1": "1009"
                },
                {
                  "0": "80063",
                  "1": "113"
                },
                {
                  "0": "80064",
                  "1": "132"
                },
                {
                  "0": "80066",
                  "1": "141"
                },
                {
                  "0": "80067",
                  "1": "381"
                },
                {
                  "0": "80068",
                  "1": "329"
                },
                {
                  "0": "80069",
                  "1": "524"
                },
                {
                  "0": "80070",
                  "1": "422"
                },
                {
                  "0": "80071",
                  "1": "322"
                },
                {
                  "0": "80072",
                  "1": "352"
                },
                {
                  "0": "80073",
                  "1": "770"
                },
                {
                  "0": "80074",
                  "1": "398"
                },
                {
                  "0": "80075",
                  "1": "185"
                },
                {
                  "0": "80076",
                  "1": "425"
                },
                {
                  "0": "80077",
                  "1": "84"
                },
                {
                  "0": "80078",
                  "1": "383"
                },
                {
                  "0": "80079",
                  "1": "250"
                },
                {
                  "0": "80080",
                  "1": "946"
                },
                {
                  "0": "80081",
                  "1": "540"
                },
                {
                  "0": "80082",
                  "1": "566"
                },
                {
                  "0": "80083",
                  "1": "726"
                },
                {
                  "0": "80084",
                  "1": "257"
                },
                {
                  "0": "80086",
                  "1": "270"
                },
                {
                  "0": "80087",
                  "1": "20"
                },
                {
                  "0": "80088",
                  "1": "27"
                },
                {
                  "0": "80089",
                  "1": "488"
                },
                {
                  "0": "80090",
                  "1": "34"
                },
                {
                  "0": "80091",
                  "1": "314"
                },
                {
                  "0": "80092",
                  "1": "535"
                },
                {
                  "0": "80093",
                  "1": "279"
                },
                {
                  "0": "80094",
                  "1": "937"
                },
                {
                  "0": "80095",
                  "1": "42"
                },
                {
                  "0": "80096",
                  "1": "807"
                },
                {
                  "0": "80097",
                  "1": "984"
                },
                {
                  "0": "80098",
                  "1": "744"
                },
                {
                  "0": "80099",
                  "1": "375"
                },
                {
                  "0": "80100",
                  "1": "510"
                },
                {
                  "0": "80101",
                  "1": "222"
                },
                {
                  "0": "80102",
                  "1": "446"
                },
                {
                  "0": "80103",
                  "1": "187"
                },
                {
                  "0": "80104",
                  "1": "461"
                },
                {
                  "0": "80105",
                  "1": "906"
                },
                {
                  "0": "80106",
                  "1": "1066"
                },
                {
                  "0": "80107",
                  "1": "348"
                },
                {
                  "0": "80108",
                  "1": "978"
                },
                {
                  "0": "80109",
                  "1": "1102"
                },
                {
                  "0": "80110",
                  "1": "122"
                },
                {
                  "0": "80111",
                  "1": "589"
                },
                {
                  "0": "80112",
                  "1": "172"
                },
                {
                  "0": "80113",
                  "1": "819"
                },
                {
                  "0": "80114",
                  "1": "226"
                },
                {
                  "0": "80115",
                  "1": "639"
                },
                {
                  "0": "80116",
                  "1": "517"
                },
                {
                  "0": "80118",
                  "1": "594"
                },
                {
                  "0": "80119",
                  "1": "323"
                },
                {
                  "0": "80120",
                  "1": "791"
                },
                {
                  "0": "80121",
                  "1": "222"
                },
                {
                  "0": "80122",
                  "1": "80"
                },
                {
                  "0": "80124",
                  "1": "682"
                },
                {
                  "0": "80125",
                  "1": "589"
                },
                {
                  "0": "80126",
                  "1": "318"
                },
                {
                  "0": "80127",
                  "1": "149"
                },
                {
                  "0": "80128",
                  "1": "1005"
                },
                {
                  "0": "80129",
                  "1": "920"
                },
                {
                  "0": "80130",
                  "1": "647"
                },
                {
                  "0": "80131",
                  "1": "1199"
                },
                {
                  "0": "80132",
                  "1": "65"
                },
                {
                  "0": "80133",
                  "1": "352"
                },
                {
                  "0": "80134",
                  "1": "203"
                },
                {
                  "0": "80135",
                  "1": "63"
                },
                {
                  "0": "80136",
                  "1": "16"
                },
                {
                  "0": "80137",
                  "1": "548"
                },
                {
                  "0": "80138",
                  "1": "550"
                },
                {
                  "0": "80141",
                  "1": "472"
                },
                {
                  "0": "80142",
                  "1": "426"
                },
                {
                  "0": "80143",
                  "1": "198"
                },
                {
                  "0": "80144",
                  "1": "403"
                },
                {
                  "0": "80145",
                  "1": "346"
                },
                {
                  "0": "80147",
                  "1": "594"
                },
                {
                  "0": "80148",
                  "1": "850"
                },
                {
                  "0": "80149",
                  "1": "722"
                },
                {
                  "0": "80150",
                  "1": "623"
                },
                {
                  "0": "80151",
                  "1": "535"
                },
                {
                  "0": "80152",
                  "1": "56"
                },
                {
                  "0": "80153",
                  "1": "284"
                },
                {
                  "0": "80154",
                  "1": "618"
                },
                {
                  "0": "80155",
                  "1": "339"
                },
                {
                  "0": "80156",
                  "1": "174"
                },
                {
                  "0": "80157",
                  "1": "477"
                },
                {
                  "0": "80158",
                  "1": "679"
                },
                {
                  "0": "80159",
                  "1": "1019"
                },
                {
                  "0": "80160",
                  "1": "1"
                },
                {
                  "0": "80161",
                  "1": "534"
                },
                {
                  "0": "80162",
                  "1": "959"
                },
                {
                  "0": "80163",
                  "1": "381"
                },
                {
                  "0": "80164",
                  "1": "908"
                },
                {
                  "0": "80165",
                  "1": "1010"
                },
                {
                  "0": "80166",
                  "1": "389"
                },
                {
                  "0": "80167",
                  "1": "515"
                },
                {
                  "0": "80168",
                  "1": "811"
                },
                {
                  "0": "80169",
                  "1": "789"
                },
                {
                  "0": "80170",
                  "1": "157"
                },
                {
                  "0": "80171",
                  "1": "478"
                },
                {
                  "0": "80172",
                  "1": "91"
                },
                {
                  "0": "80173",
                  "1": "1021"
                },
                {
                  "0": "80174",
                  "1": "163"
                },
                {
                  "0": "80175",
                  "1": "237"
                },
                {
                  "0": "80176",
                  "1": "501"
                },
                {
                  "0": "80177",
                  "1": "272"
                },
                {
                  "0": "80178",
                  "1": "695"
                },
                {
                  "0": "80179",
                  "1": "113"
                },
                {
                  "0": "80180",
                  "1": "432"
                },
                {
                  "0": "80181",
                  "1": "487"
                },
                {
                  "0": "80182",
                  "1": "140"
                },
                {
                  "0": "80183",
                  "1": "629"
                },
                {
                  "0": "80184",
                  "1": "303"
                },
                {
                  "0": "80185",
                  "1": "368"
                },
                {
                  "0": "80186",
                  "1": "1096"
                },
                {
                  "0": "80187",
                  "1": "16"
                },
                {
                  "0": "80188",
                  "1": "556"
                },
                {
                  "0": "80189",
                  "1": "601"
                },
                {
                  "0": "80190",
                  "1": "302"
                },
                {
                  "0": "80191",
                  "1": "766"
                },
                {
                  "0": "80192",
                  "1": "494"
                },
                {
                  "0": "80193",
                  "1": "1074"
                },
                {
                  "0": "80194",
                  "1": "841"
                },
                {
                  "0": "80195",
                  "1": "128"
                },
                {
                  "0": "80196",
                  "1": "398"
                },
                {
                  "0": "80197",
                  "1": "496"
                },
                {
                  "0": "80198",
                  "1": "432"
                },
                {
                  "0": "80199",
                  "1": "851"
                },
                {
                  "0": "80200",
                  "1": "676"
                },
                {
                  "0": "80201",
                  "1": "380"
                },
                {
                  "0": "80202",
                  "1": "350"
                },
                {
                  "0": "80203",
                  "1": "101"
                },
                {
                  "0": "80204",
                  "1": "776"
                },
                {
                  "0": "80205",
                  "1": "316"
                },
                {
                  "0": "80206",
                  "1": "240"
                },
                {
                  "0": "80207",
                  "1": "901"
                },
                {
                  "0": "80208",
                  "1": "841"
                },
                {
                  "0": "80209",
                  "1": "1052"
                },
                {
                  "0": "80210",
                  "1": "937"
                },
                {
                  "0": "80211",
                  "1": "420"
                },
                {
                  "0": "80212",
                  "1": "785"
                },
                {
                  "0": "80213",
                  "1": "764"
                },
                {
                  "0": "80214",
                  "1": "1077"
                },
                {
                  "0": "80215",
                  "1": "266"
                },
                {
                  "0": "80216",
                  "1": "174"
                },
                {
                  "0": "80217",
                  "1": "39"
                },
                {
                  "0": "80218",
                  "1": "556"
                },
                {
                  "0": "80219",
                  "1": "802"
                },
                {
                  "0": "80220",
                  "1": "347"
                },
                {
                  "0": "80221",
                  "1": "168"
                },
                {
                  "0": "80222",
                  "1": "134"
                },
                {
                  "0": "80223",
                  "1": "768"
                },
                {
                  "0": "80224",
                  "1": "617"
                },
                {
                  "0": "80225",
                  "1": "990"
                },
                {
                  "0": "80226",
                  "1": "1038"
                },
                {
                  "0": "80227",
                  "1": "230"
                },
                {
                  "0": "80228",
                  "1": "141"
                },
                {
                  "0": "80229",
                  "1": "222"
                },
                {
                  "0": "80230",
                  "1": "388"
                },
                {
                  "0": "80231",
                  "1": "390"
                },
                {
                  "0": "80232",
                  "1": "801"
                },
                {
                  "0": "80233",
                  "1": "1134"
                },
                {
                  "0": "80234",
                  "1": "709"
                },
                {
                  "0": "80235",
                  "1": "605"
                },
                {
                  "0": "80236",
                  "1": "253"
                },
                {
                  "0": "80237",
                  "1": "1107"
                },
                {
                  "0": "80238",
                  "1": "657"
                },
                {
                  "0": "80239",
                  "1": "1115"
                },
                {
                  "0": "80240",
                  "1": "966"
                },
                {
                  "0": "80241",
                  "1": "403"
                },
                {
                  "0": "80242",
                  "1": "255"
                },
                {
                  "0": "80243",
                  "1": "278"
                },
                {
                  "0": "80244",
                  "1": "90"
                },
                {
                  "0": "80245",
                  "1": "235"
                },
                {
                  "0": "80246",
                  "1": "868"
                },
                {
                  "0": "80247",
                  "1": "355"
                },
                {
                  "0": "80248",
                  "1": "844"
                },
                {
                  "0": "80249",
                  "1": "412"
                },
                {
                  "0": "80250",
                  "1": "394"
                },
                {
                  "0": "80251",
                  "1": "1004"
                },
                {
                  "0": "80252",
                  "1": "348"
                },
                {
                  "0": "80253",
                  "1": "780"
                },
                {
                  "0": "80254",
                  "1": "332"
                },
                {
                  "0": "80255",
                  "1": "517"
                },
                {
                  "0": "80257",
                  "1": "132"
                },
                {
                  "0": "80258",
                  "1": "176"
                },
                {
                  "0": "80259",
                  "1": "885"
                },
                {
                  "0": "80260",
                  "1": "45"
                },
                {
                  "0": "80261",
                  "1": "197"
                },
                {
                  "0": "80262",
                  "1": "1055"
                },
                {
                  "0": "80263",
                  "1": "151"
                },
                {
                  "0": "80264",
                  "1": "332"
                },
                {
                  "0": "80265",
                  "1": "272"
                },
                {
                  "0": "80266",
                  "1": "1121"
                },
                {
                  "0": "80267",
                  "1": "390"
                },
                {
                  "0": "80268",
                  "1": "906"
                },
                {
                  "0": "80269",
                  "1": "902"
                },
                {
                  "0": "80270",
                  "1": "700"
                },
                {
                  "0": "80271",
                  "1": "461"
                },
                {
                  "0": "80272",
                  "1": "714"
                },
                {
                  "0": "80273",
                  "1": "708"
                },
                {
                  "0": "80274",
                  "1": "62"
                },
                {
                  "0": "80275",
                  "1": "453"
                },
                {
                  "0": "80277",
                  "1": "183"
                },
                {
                  "0": "80278",
                  "1": "768"
                },
                {
                  "0": "80279",
                  "1": "725"
                },
                {
                  "0": "80280",
                  "1": "644"
                },
                {
                  "0": "80281",
                  "1": "832"
                },
                {
                  "0": "80282",
                  "1": "559"
                },
                {
                  "0": "80283",
                  "1": "514"
                },
                {
                  "0": "80284",
                  "1": "762"
                },
                {
                  "0": "80285",
                  "1": "26"
                },
                {
                  "0": "80286",
                  "1": "499"
                },
                {
                  "0": "80287",
                  "1": "285"
                },
                {
                  "0": "80288",
                  "1": "537"
                },
                {
                  "0": "80289",
                  "1": "431"
                },
                {
                  "0": "80290",
                  "1": "384"
                },
                {
                  "0": "80291",
                  "1": "52"
                },
                {
                  "0": "80292",
                  "1": "447"
                },
                {
                  "0": "80293",
                  "1": "444"
                },
                {
                  "0": "80294",
                  "1": "699"
                },
                {
                  "0": "80295",
                  "1": "1050"
                },
                {
                  "0": "80296",
                  "1": "620"
                },
                {
                  "0": "80297",
                  "1": "282"
                },
                {
                  "0": "80298",
                  "1": "204"
                },
                {
                  "0": "80299",
                  "1": "812"
                },
                {
                  "0": "80301",
                  "1": "229"
                },
                {
                  "0": "80302",
                  "1": "613"
                },
                {
                  "0": "80303",
                  "1": "444"
                },
                {
                  "0": "80304",
                  "1": "164"
                },
                {
                  "0": "80305",
                  "1": "641"
                },
                {
                  "0": "80306",
                  "1": "372"
                },
                {
                  "0": "80307",
                  "1": "531"
                },
                {
                  "0": "80308",
                  "1": "832"
                },
                {
                  "0": "80309",
                  "1": "735"
                },
                {
                  "0": "80310",
                  "1": "268"
                },
                {
                  "0": "80311",
                  "1": "748"
                },
                {
                  "0": "80312",
                  "1": "692"
                },
                {
                  "0": "80313",
                  "1": "196"
                },
                {
                  "0": "80314",
                  "1": "962"
                },
                {
                  "0": "80315",
                  "1": "977"
                },
                {
                  "0": "80316",
                  "1": "679"
                },
                {
                  "0": "80317",
                  "1": "815"
                },
                {
                  "0": "80318",
                  "1": "883"
                },
                {
                  "0": "80319",
                  "1": "838"
                },
                {
                  "0": "80320",
                  "1": "417"
                },
                {
                  "0": "80321",
                  "1": "225"
                },
                {
                  "0": "80322",
                  "1": "787"
                },
                {
                  "0": "80323",
                  "1": "528"
                },
                {
                  "0": "80324",
                  "1": "596"
                },
                {
                  "0": "80325",
                  "1": "837"
                },
                {
                  "0": "80326",
                  "1": "878"
                },
                {
                  "0": "80327",
                  "1": "602"
                },
                {
                  "0": "80329",
                  "1": "586"
                },
                {
                  "0": "80330",
                  "1": "384"
                },
                {
                  "0": "80331",
                  "1": "735"
                },
                {
                  "0": "80332",
                  "1": "490"
                },
                {
                  "0": "80333",
                  "1": "632"
                },
                {
                  "0": "80334",
                  "1": "386"
                },
                {
                  "0": "80335",
                  "1": "658"
                },
                {
                  "0": "80336",
                  "1": "552"
                },
                {
                  "0": "80337",
                  "1": "90"
                },
                {
                  "0": "80338",
                  "1": "624"
                },
                {
                  "0": "80339",
                  "1": "552"
                },
                {
                  "0": "80340",
                  "1": "49"
                },
                {
                  "0": "80341",
                  "1": "833"
                },
                {
                  "0": "80342",
                  "1": "74"
                },
                {
                  "0": "80343",
                  "1": "1007"
                },
                {
                  "0": "80345",
                  "1": "322"
                },
                {
                  "0": "80346",
                  "1": "306"
                },
                {
                  "0": "80347",
                  "1": "472"
                },
                {
                  "0": "80349",
                  "1": "228"
                },
                {
                  "0": "80350",
                  "1": "827"
                },
                {
                  "0": "80351",
                  "1": "324"
                },
                {
                  "0": "80352",
                  "1": "759"
                },
                {
                  "0": "80353",
                  "1": "114"
                },
                {
                  "0": "80355",
                  "1": "595"
                },
                {
                  "0": "80356",
                  "1": "156"
                },
                {
                  "0": "80357",
                  "1": "328"
                },
                {
                  "0": "80358",
                  "1": "554"
                },
                {
                  "0": "80359",
                  "1": "160"
                },
                {
                  "0": "80360",
                  "1": "33"
                },
                {
                  "0": "80361",
                  "1": "596"
                },
                {
                  "0": "80362",
                  "1": "152"
                },
                {
                  "0": "80363",
                  "1": "787"
                },
                {
                  "0": "80364",
                  "1": "467"
                },
                {
                  "0": "80365",
                  "1": "445"
                },
                {
                  "0": "80366",
                  "1": "333"
                },
                {
                  "0": "80367",
                  "1": "247"
                },
                {
                  "0": "80368",
                  "1": "655"
                },
                {
                  "0": "80369",
                  "1": "844"
                },
                {
                  "0": "80370",
                  "1": "517"
                },
                {
                  "0": "80371",
                  "1": "17"
                },
                {
                  "0": "80372",
                  "1": "293"
                },
                {
                  "0": "80373",
                  "1": "489"
                },
                {
                  "0": "80374",
                  "1": "761"
                },
                {
                  "0": "80376",
                  "1": "491"
                },
                {
                  "0": "80377",
                  "1": "434"
                },
                {
                  "0": "80378",
                  "1": "402"
                },
                {
                  "0": "80379",
                  "1": "84"
                },
                {
                  "0": "80380",
                  "1": "697"
                },
                {
                  "0": "80382",
                  "1": "15"
                },
                {
                  "0": "80383",
                  "1": "262"
                },
                {
                  "0": "80384",
                  "1": "597"
                },
                {
                  "0": "80385",
                  "1": "481"
                },
                {
                  "0": "80386",
                  "1": "960"
                },
                {
                  "0": "80387",
                  "1": "262"
                },
                {
                  "0": "80388",
                  "1": "189"
                },
                {
                  "0": "80389",
                  "1": "199"
                },
                {
                  "0": "80390",
                  "1": "1008"
                },
                {
                  "0": "80391",
                  "1": "133"
                },
                {
                  "0": "80392",
                  "1": "994"
                },
                {
                  "0": "80393",
                  "1": "519"
                },
                {
                  "0": "80394",
                  "1": "627"
                },
                {
                  "0": "80395",
                  "1": "96"
                },
                {
                  "0": "80396",
                  "1": "505"
                },
                {
                  "0": "80397",
                  "1": "541"
                },
                {
                  "0": "80398",
                  "1": "440"
                },
                {
                  "0": "80399",
                  "1": "528"
                },
                {
                  "0": "80400",
                  "1": "277"
                },
                {
                  "0": "80401",
                  "1": "543"
                },
                {
                  "0": "80402",
                  "1": "358"
                },
                {
                  "0": "80403",
                  "1": "643"
                },
                {
                  "0": "80404",
                  "1": "716"
                },
                {
                  "0": "80405",
                  "1": "907"
                },
                {
                  "0": "80406",
                  "1": "681"
                },
                {
                  "0": "80407",
                  "1": "1053"
                },
                {
                  "0": "80408",
                  "1": "996"
                },
                {
                  "0": "80409",
                  "1": "133"
                },
                {
                  "0": "80410",
                  "1": "836"
                },
                {
                  "0": "80411",
                  "1": "825"
                },
                {
                  "0": "80412",
                  "1": "868"
                },
                {
                  "0": "80413",
                  "1": "360"
                },
                {
                  "0": "80414",
                  "1": "640"
                },
                {
                  "0": "80415",
                  "1": "653"
                },
                {
                  "0": "80416",
                  "1": "888"
                },
                {
                  "0": "80417",
                  "1": "272"
                },
                {
                  "0": "80418",
                  "1": "712"
                },
                {
                  "0": "80419",
                  "1": "720"
                },
                {
                  "0": "80420",
                  "1": "223"
                },
                {
                  "0": "80421",
                  "1": "321"
                },
                {
                  "0": "80422",
                  "1": "29"
                },
                {
                  "0": "80423",
                  "1": "129"
                },
                {
                  "0": "80424",
                  "1": "102"
                },
                {
                  "0": "80425",
                  "1": "555"
                },
                {
                  "0": "80426",
                  "1": "670"
                },
                {
                  "0": "80427",
                  "1": "516"
                },
                {
                  "0": "80428",
                  "1": "417"
                },
                {
                  "0": "80429",
                  "1": "899"
                },
                {
                  "0": "80430",
                  "1": "547"
                },
                {
                  "0": "80431",
                  "1": "1012"
                },
                {
                  "0": "80432",
                  "1": "197"
                },
                {
                  "0": "80433",
                  "1": "924"
                },
                {
                  "0": "80434",
                  "1": "1066"
                },
                {
                  "0": "80435",
                  "1": "805"
                },
                {
                  "0": "80436",
                  "1": "56"
                },
                {
                  "0": "80437",
                  "1": "725"
                },
                {
                  "0": "80438",
                  "1": "889"
                },
                {
                  "0": "80439",
                  "1": "129"
                },
                {
                  "0": "80440",
                  "1": "512"
                },
                {
                  "0": "80441",
                  "1": "946"
                },
                {
                  "0": "80443",
                  "1": "134"
                },
                {
                  "0": "80444",
                  "1": "826"
                },
                {
                  "0": "80445",
                  "1": "600"
                },
                {
                  "0": "80446",
                  "1": "986"
                },
                {
                  "0": "80447",
                  "1": "116"
                },
                {
                  "0": "80448",
                  "1": "554"
                },
                {
                  "0": "80449",
                  "1": "794"
                },
                {
                  "0": "80450",
                  "1": "833"
                },
                {
                  "0": "80451",
                  "1": "1027"
                },
                {
                  "0": "80452",
                  "1": "242"
                },
                {
                  "0": "80453",
                  "1": "368"
                },
                {
                  "0": "80454",
                  "1": "170"
                },
                {
                  "0": "80455",
                  "1": "206"
                },
                {
                  "0": "80456",
                  "1": "280"
                },
                {
                  "0": "80457",
                  "1": "798"
                },
                {
                  "0": "80459",
                  "1": "458"
                },
                {
                  "0": "80460",
                  "1": "840"
                },
                {
                  "0": "80461",
                  "1": "540"
                },
                {
                  "0": "80462",
                  "1": "757"
                },
                {
                  "0": "80463",
                  "1": "734"
                },
                {
                  "0": "80464",
                  "1": "54"
                },
                {
                  "0": "80465",
                  "1": "380"
                },
                {
                  "0": "80466",
                  "1": "136"
                },
                {
                  "0": "80467",
                  "1": "437"
                },
                {
                  "0": "80468",
                  "1": "542"
                },
                {
                  "0": "80469",
                  "1": "747"
                },
                {
                  "0": "80470",
                  "1": "644"
                },
                {
                  "0": "80471",
                  "1": "240"
                },
                {
                  "0": "80472",
                  "1": "953"
                },
                {
                  "0": "80474",
                  "1": "1037"
                },
                {
                  "0": "80475",
                  "1": "205"
                },
                {
                  "0": "80476",
                  "1": "572"
                },
                {
                  "0": "80477",
                  "1": "513"
                },
                {
                  "0": "80478",
                  "1": "554"
                },
                {
                  "0": "80480",
                  "1": "417"
                },
                {
                  "0": "80481",
                  "1": "856"
                },
                {
                  "0": "80482",
                  "1": "315"
                },
                {
                  "0": "80483",
                  "1": "49"
                },
                {
                  "0": "80484",
                  "1": "659"
                },
                {
                  "0": "80485",
                  "1": "798"
                },
                {
                  "0": "80486",
                  "1": "486"
                },
                {
                  "0": "80487",
                  "1": "55"
                },
                {
                  "0": "80488",
                  "1": "302"
                },
                {
                  "0": "80489",
                  "1": "1059"
                },
                {
                  "0": "80490",
                  "1": "629"
                },
                {
                  "0": "80491",
                  "1": "824"
                },
                {
                  "0": "80492",
                  "1": "697"
                },
                {
                  "0": "80493",
                  "1": "211"
                },
                {
                  "0": "80494",
                  "1": "1034"
                },
                {
                  "0": "80495",
                  "1": "770"
                },
                {
                  "0": "80496",
                  "1": "388"
                },
                {
                  "0": "80497",
                  "1": "140"
                },
                {
                  "0": "80498",
                  "1": "158"
                },
                {
                  "0": "80499",
                  "1": "690"
                },
                {
                  "0": "80500",
                  "1": "359"
                },
                {
                  "0": "80501",
                  "1": "797"
                },
                {
                  "0": "80502",
                  "1": "46"
                },
                {
                  "0": "80503",
                  "1": "800"
                },
                {
                  "0": "80504",
                  "1": "834"
                },
                {
                  "0": "80505",
                  "1": "989"
                },
                {
                  "0": "80506",
                  "1": "507"
                },
                {
                  "0": "80507",
                  "1": "322"
                },
                {
                  "0": "80508",
                  "1": "726"
                },
                {
                  "0": "80509",
                  "1": "891"
                },
                {
                  "0": "80510",
                  "1": "370"
                },
                {
                  "0": "80511",
                  "1": "1104"
                },
                {
                  "0": "80512",
                  "1": "267"
                },
                {
                  "0": "80513",
                  "1": "580"
                },
                {
                  "0": "80514",
                  "1": "64"
                },
                {
                  "0": "80515",
                  "1": "559"
                },
                {
                  "0": "80516",
                  "1": "239"
                },
                {
                  "0": "80517",
                  "1": "188"
                },
                {
                  "0": "80518",
                  "1": "1146"
                },
                {
                  "0": "80519",
                  "1": "481"
                },
                {
                  "0": "80520",
                  "1": "769"
                },
                {
                  "0": "80521",
                  "1": "1"
                },
                {
                  "0": "80522",
                  "1": "519"
                },
                {
                  "0": "80523",
                  "1": "567"
                },
                {
                  "0": "80524",
                  "1": "482"
                },
                {
                  "0": "80525",
                  "1": "471"
                },
                {
                  "0": "80526",
                  "1": "50"
                },
                {
                  "0": "80527",
                  "1": "632"
                },
                {
                  "0": "80528",
                  "1": "147"
                },
                {
                  "0": "80529",
                  "1": "652"
                },
                {
                  "0": "80530",
                  "1": "1266"
                },
                {
                  "0": "80531",
                  "1": "555"
                },
                {
                  "0": "80532",
                  "1": "3"
                },
                {
                  "0": "80533",
                  "1": "98"
                },
                {
                  "0": "80534",
                  "1": "597"
                },
                {
                  "0": "80535",
                  "1": "355"
                },
                {
                  "0": "80536",
                  "1": "451"
                },
                {
                  "0": "80537",
                  "1": "394"
                },
                {
                  "0": "80538",
                  "1": "828"
                },
                {
                  "0": "80539",
                  "1": "547"
                },
                {
                  "0": "80540",
                  "1": "634"
                },
                {
                  "0": "80542",
                  "1": "898"
                },
                {
                  "0": "80543",
                  "1": "409"
                },
                {
                  "0": "80544",
                  "1": "800"
                },
                {
                  "0": "80545",
                  "1": "420"
                },
                {
                  "0": "80546",
                  "1": "527"
                },
                {
                  "0": "80547",
                  "1": "524"
                },
                {
                  "0": "80548",
                  "1": "472"
                },
                {
                  "0": "80549",
                  "1": "549"
                },
                {
                  "0": "80550",
                  "1": "793"
                },
                {
                  "0": "80551",
                  "1": "476"
                },
                {
                  "0": "80552",
                  "1": "760"
                },
                {
                  "0": "80553",
                  "1": "523"
                },
                {
                  "0": "80554",
                  "1": "344"
                },
                {
                  "0": "80555",
                  "1": "918"
                },
                {
                  "0": "80556",
                  "1": "243"
                },
                {
                  "0": "80557",
                  "1": "818"
                },
                {
                  "0": "80558",
                  "1": "823"
                },
                {
                  "0": "80559",
                  "1": "848"
                },
                {
                  "0": "80560",
                  "1": "519"
                },
                {
                  "0": "80562",
                  "1": "126"
                },
                {
                  "0": "80564",
                  "1": "1032"
                },
                {
                  "0": "80565",
                  "1": "704"
                },
                {
                  "0": "80566",
                  "1": "217"
                },
                {
                  "0": "80567",
                  "1": "605"
                },
                {
                  "0": "80568",
                  "1": "349"
                },
                {
                  "0": "80569",
                  "1": "854"
                },
                {
                  "0": "80570",
                  "1": "308"
                },
                {
                  "0": "80571",
                  "1": "792"
                },
                {
                  "0": "80572",
                  "1": "623"
                },
                {
                  "0": "80573",
                  "1": "307"
                },
                {
                  "0": "80574",
                  "1": "442"
                },
                {
                  "0": "80575",
                  "1": "1054"
                },
                {
                  "0": "80576",
                  "1": "275"
                },
                {
                  "0": "80577",
                  "1": "240"
                },
                {
                  "0": "80578",
                  "1": "394"
                },
                {
                  "0": "80579",
                  "1": "850"
                },
                {
                  "0": "80580",
                  "1": "173"
                },
                {
                  "0": "80581",
                  "1": "818"
                },
                {
                  "0": "80583",
                  "1": "372"
                },
                {
                  "0": "80584",
                  "1": "614"
                },
                {
                  "0": "80585",
                  "1": "782"
                },
                {
                  "0": "80586",
                  "1": "720"
                },
                {
                  "0": "80587",
                  "1": "355"
                },
                {
                  "0": "80588",
                  "1": "1010"
                },
                {
                  "0": "80589",
                  "1": "394"
                },
                {
                  "0": "80590",
                  "1": "144"
                },
                {
                  "0": "80591",
                  "1": "1055"
                },
                {
                  "0": "80592",
                  "1": "587"
                },
                {
                  "0": "80593",
                  "1": "384"
                },
                {
                  "0": "80594",
                  "1": "259"
                },
                {
                  "0": "80595",
                  "1": "706"
                },
                {
                  "0": "80596",
                  "1": "891"
                },
                {
                  "0": "80597",
                  "1": "37"
                },
                {
                  "0": "80598",
                  "1": "112"
                },
                {
                  "0": "80599",
                  "1": "376"
                },
                {
                  "0": "80600",
                  "1": "210"
                },
                {
                  "0": "80601",
                  "1": "352"
                },
                {
                  "0": "80602",
                  "1": "495"
                },
                {
                  "0": "80603",
                  "1": "631"
                },
                {
                  "0": "80605",
                  "1": "931"
                },
                {
                  "0": "80606",
                  "1": "949"
                },
                {
                  "0": "80607",
                  "1": "526"
                },
                {
                  "0": "80608",
                  "1": "1024"
                },
                {
                  "0": "80609",
                  "1": "265"
                },
                {
                  "0": "80610",
                  "1": "306"
                },
                {
                  "0": "80611",
                  "1": "64"
                },
                {
                  "0": "80613",
                  "1": "1053"
                },
                {
                  "0": "80614",
                  "1": "759"
                },
                {
                  "0": "80615",
                  "1": "681"
                },
                {
                  "0": "80616",
                  "1": "913"
                },
                {
                  "0": "80617",
                  "1": "703"
                },
                {
                  "0": "80618",
                  "1": "1152"
                },
                {
                  "0": "80619",
                  "1": "311"
                },
                {
                  "0": "80620",
                  "1": "540"
                },
                {
                  "0": "80621",
                  "1": "559"
                },
                {
                  "0": "80622",
                  "1": "360"
                },
                {
                  "0": "80623",
                  "1": "197"
                },
                {
                  "0": "80624",
                  "1": "752"
                },
                {
                  "0": "80625",
                  "1": "791"
                },
                {
                  "0": "80626",
                  "1": "512"
                },
                {
                  "0": "80627",
                  "1": "798"
                },
                {
                  "0": "80628",
                  "1": "726"
                },
                {
                  "0": "80629",
                  "1": "85"
                },
                {
                  "0": "80630",
                  "1": "62"
                },
                {
                  "0": "80631",
                  "1": "493"
                },
                {
                  "0": "80632",
                  "1": "358"
                },
                {
                  "0": "80633",
                  "1": "595"
                },
                {
                  "0": "80634",
                  "1": "53"
                },
                {
                  "0": "80635",
                  "1": "501"
                },
                {
                  "0": "80636",
                  "1": "846"
                },
                {
                  "0": "80637",
                  "1": "1142"
                },
                {
                  "0": "80638",
                  "1": "512"
                },
                {
                  "0": "80639",
                  "1": "595"
                },
                {
                  "0": "80640",
                  "1": "375"
                },
                {
                  "0": "80641",
                  "1": "595"
                },
                {
                  "0": "80642",
                  "1": "221"
                },
                {
                  "0": "80643",
                  "1": "583"
                },
                {
                  "0": "80644",
                  "1": "212"
                },
                {
                  "0": "80645",
                  "1": "145"
                },
                {
                  "0": "80646",
                  "1": "750"
                },
                {
                  "0": "80647",
                  "1": "644"
                },
                {
                  "0": "80648",
                  "1": "875"
                },
                {
                  "0": "80649",
                  "1": "501"
                },
                {
                  "0": "80650",
                  "1": "109"
                },
                {
                  "0": "80651",
                  "1": "980"
                },
                {
                  "0": "80652",
                  "1": "1258"
                },
                {
                  "0": "80653",
                  "1": "640"
                },
                {
                  "0": "80654",
                  "1": "891"
                },
                {
                  "0": "80655",
                  "1": "453"
                },
                {
                  "0": "80656",
                  "1": "578"
                },
                {
                  "0": "80657",
                  "1": "94"
                },
                {
                  "0": "80658",
                  "1": "594"
                },
                {
                  "0": "80659",
                  "1": "1081"
                },
                {
                  "0": "80660",
                  "1": "938"
                },
                {
                  "0": "80661",
                  "1": "643"
                },
                {
                  "0": "80662",
                  "1": "322"
                },
                {
                  "0": "80663",
                  "1": "903"
                },
                {
                  "0": "80665",
                  "1": "365"
                },
                {
                  "0": "80666",
                  "1": "359"
                },
                {
                  "0": "80667",
                  "1": "502"
                },
                {
                  "0": "80668",
                  "1": "836"
                },
                {
                  "0": "80669",
                  "1": "1012"
                },
                {
                  "0": "80670",
                  "1": "519"
                },
                {
                  "0": "80671",
                  "1": "336"
                },
                {
                  "0": "80672",
                  "1": "843"
                },
                {
                  "0": "80673",
                  "1": "597"
                },
                {
                  "0": "80674",
                  "1": "83"
                },
                {
                  "0": "80676",
                  "1": "554"
                },
                {
                  "0": "80677",
                  "1": "1105"
                },
                {
                  "0": "80678",
                  "1": "237"
                },
                {
                  "0": "80679",
                  "1": "699"
                },
                {
                  "0": "80680",
                  "1": "878"
                },
                {
                  "0": "80681",
                  "1": "482"
                },
                {
                  "0": "80682",
                  "1": "594"
                },
                {
                  "0": "80683",
                  "1": "224"
                },
                {
                  "0": "80684",
                  "1": "924"
                },
                {
                  "0": "80685",
                  "1": "724"
                },
                {
                  "0": "80686",
                  "1": "621"
                },
                {
                  "0": "80687",
                  "1": "120"
                },
                {
                  "0": "80689",
                  "1": "350"
                },
                {
                  "0": "80690",
                  "1": "301"
                },
                {
                  "0": "80691",
                  "1": "341"
                },
                {
                  "0": "80692",
                  "1": "382"
                },
                {
                  "0": "80693",
                  "1": "410"
                },
                {
                  "0": "80694",
                  "1": "717"
                },
                {
                  "0": "80695",
                  "1": "632"
                },
                {
                  "0": "80696",
                  "1": "1211"
                },
                {
                  "0": "80697",
                  "1": "271"
                },
                {
                  "0": "80698",
                  "1": "470"
                },
                {
                  "0": "80700",
                  "1": "305"
                },
                {
                  "0": "80701",
                  "1": "417"
                },
                {
                  "0": "80702",
                  "1": "204"
                },
                {
                  "0": "80704",
                  "1": "516"
                },
                {
                  "0": "80705",
                  "1": "910"
                },
                {
                  "0": "80706",
                  "1": "508"
                },
                {
                  "0": "80707",
                  "1": "523"
                },
                {
                  "0": "80708",
                  "1": "498"
                },
                {
                  "0": "80709",
                  "1": "374"
                },
                {
                  "0": "80710",
                  "1": "596"
                },
                {
                  "0": "80711",
                  "1": "235"
                },
                {
                  "0": "80712",
                  "1": "97"
                },
                {
                  "0": "80713",
                  "1": "91"
                },
                {
                  "0": "80714",
                  "1": "981"
                },
                {
                  "0": "80715",
                  "1": "423"
                },
                {
                  "0": "80716",
                  "1": "960"
                },
                {
                  "0": "80718",
                  "1": "676"
                },
                {
                  "0": "80720",
                  "1": "688"
                },
                {
                  "0": "80721",
                  "1": "741"
                },
                {
                  "0": "80723",
                  "1": "186"
                },
                {
                  "0": "80724",
                  "1": "427"
                },
                {
                  "0": "80725",
                  "1": "139"
                },
                {
                  "0": "80726",
                  "1": "245"
                },
                {
                  "0": "80727",
                  "1": "307"
                },
                {
                  "0": "80728",
                  "1": "254"
                },
                {
                  "0": "80729",
                  "1": "356"
                },
                {
                  "0": "80730",
                  "1": "781"
                },
                {
                  "0": "80731",
                  "1": "879"
                },
                {
                  "0": "80732",
                  "1": "685"
                },
                {
                  "0": "80733",
                  "1": "48"
                },
                {
                  "0": "80734",
                  "1": "405"
                },
                {
                  "0": "80735",
                  "1": "600"
                },
                {
                  "0": "80736",
                  "1": "878"
                },
                {
                  "0": "80737",
                  "1": "213"
                },
                {
                  "0": "80738",
                  "1": "379"
                },
                {
                  "0": "80739",
                  "1": "877"
                },
                {
                  "0": "80740",
                  "1": "260"
                },
                {
                  "0": "80741",
                  "1": "563"
                },
                {
                  "0": "80742",
                  "1": "15"
                },
                {
                  "0": "80743",
                  "1": "303"
                },
                {
                  "0": "80744",
                  "1": "257"
                },
                {
                  "0": "80745",
                  "1": "481"
                },
                {
                  "0": "80746",
                  "1": "853"
                },
                {
                  "0": "80747",
                  "1": "664"
                },
                {
                  "0": "80748",
                  "1": "801"
                },
                {
                  "0": "80749",
                  "1": "172"
                },
                {
                  "0": "80751",
                  "1": "719"
                },
                {
                  "0": "80752",
                  "1": "993"
                },
                {
                  "0": "80753",
                  "1": "34"
                },
                {
                  "0": "80754",
                  "1": "435"
                },
                {
                  "0": "80755",
                  "1": "294"
                },
                {
                  "0": "80756",
                  "1": "227"
                },
                {
                  "0": "80757",
                  "1": "246"
                },
                {
                  "0": "80758",
                  "1": "248"
                },
                {
                  "0": "80759",
                  "1": "652"
                },
                {
                  "0": "80760",
                  "1": "143"
                },
                {
                  "0": "80761",
                  "1": "1001"
                },
                {
                  "0": "80762",
                  "1": "1017"
                },
                {
                  "0": "80763",
                  "1": "909"
                },
                {
                  "0": "80764",
                  "1": "348"
                },
                {
                  "0": "80765",
                  "1": "630"
                },
                {
                  "0": "80766",
                  "1": "899"
                },
                {
                  "0": "80767",
                  "1": "156"
                },
                {
                  "0": "80768",
                  "1": "354"
                },
                {
                  "0": "80769",
                  "1": "1013"
                },
                {
                  "0": "80770",
                  "1": "355"
                },
                {
                  "0": "80771",
                  "1": "208"
                },
                {
                  "0": "80772",
                  "1": "495"
                },
                {
                  "0": "80773",
                  "1": "120"
                },
                {
                  "0": "80774",
                  "1": "1000"
                },
                {
                  "0": "80775",
                  "1": "33"
                },
                {
                  "0": "80776",
                  "1": "267"
                },
                {
                  "0": "80777",
                  "1": "276"
                },
                {
                  "0": "80778",
                  "1": "621"
                },
                {
                  "0": "80779",
                  "1": "904"
                },
                {
                  "0": "80780",
                  "1": "628"
                },
                {
                  "0": "80781",
                  "1": "610"
                },
                {
                  "0": "80782",
                  "1": "850"
                },
                {
                  "0": "80783",
                  "1": "173"
                },
                {
                  "0": "80784",
                  "1": "240"
                },
                {
                  "0": "80785",
                  "1": "32"
                },
                {
                  "0": "80786",
                  "1": "479"
                },
                {
                  "0": "80787",
                  "1": "105"
                },
                {
                  "0": "80788",
                  "1": "186"
                },
                {
                  "0": "80789",
                  "1": "685"
                },
                {
                  "0": "80790",
                  "1": "811"
                },
                {
                  "0": "80791",
                  "1": "313"
                },
                {
                  "0": "80792",
                  "1": "161"
                },
                {
                  "0": "80793",
                  "1": "549"
                },
                {
                  "0": "80794",
                  "1": "66"
                },
                {
                  "0": "80795",
                  "1": "567"
                },
                {
                  "0": "80796",
                  "1": "553"
                },
                {
                  "0": "80797",
                  "1": "453"
                },
                {
                  "0": "80798",
                  "1": "1110"
                },
                {
                  "0": "80799",
                  "1": "127"
                },
                {
                  "0": "80800",
                  "1": "489"
                },
                {
                  "0": "80801",
                  "1": "920"
                },
                {
                  "0": "80802",
                  "1": "462"
                },
                {
                  "0": "80803",
                  "1": "876"
                },
                {
                  "0": "80804",
                  "1": "923"
                },
                {
                  "0": "80805",
                  "1": "385"
                },
                {
                  "0": "80806",
                  "1": "417"
                },
                {
                  "0": "80807",
                  "1": "461"
                },
                {
                  "0": "80808",
                  "1": "482"
                },
                {
                  "0": "80809",
                  "1": "38"
                },
                {
                  "0": "80810",
                  "1": "918"
                },
                {
                  "0": "80811",
                  "1": "266"
                },
                {
                  "0": "80812",
                  "1": "277"
                },
                {
                  "0": "80813",
                  "1": "209"
                },
                {
                  "0": "80814",
                  "1": "179"
                },
                {
                  "0": "80815",
                  "1": "450"
                },
                {
                  "0": "80816",
                  "1": "110"
                },
                {
                  "0": "80817",
                  "1": "851"
                },
                {
                  "0": "80818",
                  "1": "1012"
                },
                {
                  "0": "80819",
                  "1": "455"
                },
                {
                  "0": "80820",
                  "1": "391"
                },
                {
                  "0": "80821",
                  "1": "480"
                },
                {
                  "0": "80822",
                  "1": "136"
                },
                {
                  "0": "80823",
                  "1": "295"
                },
                {
                  "0": "80825",
                  "1": "1035"
                },
                {
                  "0": "80826",
                  "1": "1032"
                },
                {
                  "0": "80827",
                  "1": "747"
                },
                {
                  "0": "80828",
                  "1": "95"
                },
                {
                  "0": "80829",
                  "1": "604"
                },
                {
                  "0": "80830",
                  "1": "270"
                },
                {
                  "0": "80831",
                  "1": "354"
                },
                {
                  "0": "80832",
                  "1": "362"
                },
                {
                  "0": "80833",
                  "1": "585"
                },
                {
                  "0": "80834",
                  "1": "802"
                },
                {
                  "0": "80835",
                  "1": "111"
                },
                {
                  "0": "80836",
                  "1": "298"
                },
                {
                  "0": "80838",
                  "1": "919"
                },
                {
                  "0": "80839",
                  "1": "905"
                },
                {
                  "0": "80840",
                  "1": "1117"
                },
                {
                  "0": "80841",
                  "1": "798"
                },
                {
                  "0": "80842",
                  "1": "188"
                },
                {
                  "0": "80843",
                  "1": "567"
                },
                {
                  "0": "80844",
                  "1": "985"
                },
                {
                  "0": "80845",
                  "1": "139"
                },
                {
                  "0": "80846",
                  "1": "1026"
                },
                {
                  "0": "80847",
                  "1": "168"
                },
                {
                  "0": "80848",
                  "1": "909"
                },
                {
                  "0": "80849",
                  "1": "477"
                },
                {
                  "0": "80850",
                  "1": "31"
                },
                {
                  "0": "80851",
                  "1": "104"
                },
                {
                  "0": "80852",
                  "1": "209"
                },
                {
                  "0": "80853",
                  "1": "149"
                },
                {
                  "0": "80854",
                  "1": "90"
                },
                {
                  "0": "80856",
                  "1": "433"
                },
                {
                  "0": "80857",
                  "1": "828"
                },
                {
                  "0": "80858",
                  "1": "231"
                },
                {
                  "0": "80859",
                  "1": "169"
                },
                {
                  "0": "80860",
                  "1": "71"
                },
                {
                  "0": "80861",
                  "1": "804"
                },
                {
                  "0": "80862",
                  "1": "15"
                },
                {
                  "0": "80863",
                  "1": "1088"
                },
                {
                  "0": "80864",
                  "1": "336"
                },
                {
                  "0": "80865",
                  "1": "562"
                },
                {
                  "0": "80866",
                  "1": "765"
                },
                {
                  "0": "80867",
                  "1": "456"
                },
                {
                  "0": "80868",
                  "1": "185"
                },
                {
                  "0": "80869",
                  "1": "750"
                },
                {
                  "0": "80870",
                  "1": "460"
                },
                {
                  "0": "80871",
                  "1": "125"
                },
                {
                  "0": "80872",
                  "1": "616"
                },
                {
                  "0": "80873",
                  "1": "251"
                },
                {
                  "0": "80874",
                  "1": "279"
                },
                {
                  "0": "80875",
                  "1": "638"
                },
                {
                  "0": "80876",
                  "1": "72"
                },
                {
                  "0": "80877",
                  "1": "652"
                },
                {
                  "0": "80878",
                  "1": "210"
                },
                {
                  "0": "80879",
                  "1": "957"
                },
                {
                  "0": "80880",
                  "1": "458"
                },
                {
                  "0": "80881",
                  "1": "351"
                },
                {
                  "0": "80882",
                  "1": "677"
                },
                {
                  "0": "80883",
                  "1": "571"
                },
                {
                  "0": "80884",
                  "1": "464"
                },
                {
                  "0": "80885",
                  "1": "395"
                },
                {
                  "0": "80886",
                  "1": "983"
                },
                {
                  "0": "80887",
                  "1": "982"
                },
                {
                  "0": "80888",
                  "1": "129"
                },
                {
                  "0": "80889",
                  "1": "475"
                },
                {
                  "0": "80890",
                  "1": "580"
                },
                {
                  "0": "80891",
                  "1": "480"
                },
                {
                  "0": "80892",
                  "1": "72"
                },
                {
                  "0": "80893",
                  "1": "456"
                },
                {
                  "0": "80894",
                  "1": "981"
                },
                {
                  "0": "80895",
                  "1": "846"
                },
                {
                  "0": "80896",
                  "1": "410"
                },
                {
                  "0": "80897",
                  "1": "782"
                },
                {
                  "0": "80898",
                  "1": "662"
                },
                {
                  "0": "80899",
                  "1": "373"
                },
                {
                  "0": "80900",
                  "1": "724"
                },
                {
                  "0": "80901",
                  "1": "311"
                },
                {
                  "0": "80902",
                  "1": "493"
                },
                {
                  "0": "80903",
                  "1": "162"
                },
                {
                  "0": "80904",
                  "1": "917"
                },
                {
                  "0": "80905",
                  "1": "645"
                },
                {
                  "0": "80906",
                  "1": "800"
                },
                {
                  "0": "80907",
                  "1": "936"
                },
                {
                  "0": "80908",
                  "1": "906"
                },
                {
                  "0": "80909",
                  "1": "168"
                },
                {
                  "0": "80910",
                  "1": "396"
                },
                {
                  "0": "80911",
                  "1": "80"
                },
                {
                  "0": "80912",
                  "1": "478"
                },
                {
                  "0": "80913",
                  "1": "346"
                },
                {
                  "0": "80914",
                  "1": "475"
                },
                {
                  "0": "80915",
                  "1": "385"
                },
                {
                  "0": "80916",
                  "1": "865"
                },
                {
                  "0": "80917",
                  "1": "555"
                },
                {
                  "0": "80918",
                  "1": "746"
                },
                {
                  "0": "80919",
                  "1": "821"
                },
                {
                  "0": "80920",
                  "1": "851"
                },
                {
                  "0": "80921",
                  "1": "762"
                },
                {
                  "0": "80922",
                  "1": "333"
                },
                {
                  "0": "80923",
                  "1": "198"
                },
                {
                  "0": "80924",
                  "1": "486"
                },
                {
                  "0": "80925",
                  "1": "169"
                },
                {
                  "0": "80926",
                  "1": "569"
                },
                {
                  "0": "80927",
                  "1": "49"
                },
                {
                  "0": "80928",
                  "1": "394"
                },
                {
                  "0": "80929",
                  "1": "615"
                },
                {
                  "0": "80930",
                  "1": "549"
                },
                {
                  "0": "80931",
                  "1": "761"
                },
                {
                  "0": "80932",
                  "1": "740"
                },
                {
                  "0": "80933",
                  "1": "1085"
                },
                {
                  "0": "80934",
                  "1": "894"
                },
                {
                  "0": "80935",
                  "1": "620"
                },
                {
                  "0": "80936",
                  "1": "639"
                },
                {
                  "0": "80937",
                  "1": "411"
                },
                {
                  "0": "80938",
                  "1": "559"
                },
                {
                  "0": "80939",
                  "1": "777"
                },
                {
                  "0": "80940",
                  "1": "1009"
                },
                {
                  "0": "80941",
                  "1": "753"
                },
                {
                  "0": "80942",
                  "1": "601"
                },
                {
                  "0": "80943",
                  "1": "399"
                },
                {
                  "0": "80944",
                  "1": "274"
                },
                {
                  "0": "80946",
                  "1": "198"
                },
                {
                  "0": "80947",
                  "1": "640"
                },
                {
                  "0": "80948",
                  "1": "298"
                },
                {
                  "0": "80949",
                  "1": "743"
                },
                {
                  "0": "80950",
                  "1": "940"
                },
                {
                  "0": "80951",
                  "1": "837"
                },
                {
                  "0": "80952",
                  "1": "1140"
                },
                {
                  "0": "80954",
                  "1": "780"
                },
                {
                  "0": "80955",
                  "1": "135"
                },
                {
                  "0": "80956",
                  "1": "584"
                },
                {
                  "0": "80957",
                  "1": "909"
                },
                {
                  "0": "80958",
                  "1": "159"
                },
                {
                  "0": "80959",
                  "1": "491"
                },
                {
                  "0": "80960",
                  "1": "358"
                },
                {
                  "0": "80961",
                  "1": "457"
                },
                {
                  "0": "80962",
                  "1": "363"
                },
                {
                  "0": "80963",
                  "1": "1226"
                },
                {
                  "0": "80964",
                  "1": "113"
                },
                {
                  "0": "80965",
                  "1": "358"
                },
                {
                  "0": "80966",
                  "1": "992"
                },
                {
                  "0": "80967",
                  "1": "523"
                },
                {
                  "0": "80968",
                  "1": "716"
                },
                {
                  "0": "80969",
                  "1": "737"
                },
                {
                  "0": "80970",
                  "1": "352"
                },
                {
                  "0": "80971",
                  "1": "1017"
                },
                {
                  "0": "80972",
                  "1": "751"
                },
                {
                  "0": "80973",
                  "1": "339"
                },
                {
                  "0": "80974",
                  "1": "388"
                },
                {
                  "0": "80975",
                  "1": "497"
                },
                {
                  "0": "80976",
                  "1": "992"
                },
                {
                  "0": "80977",
                  "1": "423"
                },
                {
                  "0": "80978",
                  "1": "122"
                },
                {
                  "0": "80979",
                  "1": "852"
                },
                {
                  "0": "80980",
                  "1": "398"
                },
                {
                  "0": "80981",
                  "1": "74"
                },
                {
                  "0": "80982",
                  "1": "82"
                },
                {
                  "0": "80984",
                  "1": "241"
                },
                {
                  "0": "80985",
                  "1": "712"
                },
                {
                  "0": "80986",
                  "1": "68"
                },
                {
                  "0": "80987",
                  "1": "683"
                },
                {
                  "0": "80988",
                  "1": "976"
                },
                {
                  "0": "80989",
                  "1": "761"
                },
                {
                  "0": "80990",
                  "1": "998"
                },
                {
                  "0": "80991",
                  "1": "286"
                },
                {
                  "0": "80992",
                  "1": "140"
                },
                {
                  "0": "80993",
                  "1": "328"
                },
                {
                  "0": "80994",
                  "1": "1042"
                },
                {
                  "0": "80995",
                  "1": "861"
                },
                {
                  "0": "80996",
                  "1": "223"
                },
                {
                  "0": "80997",
                  "1": "595"
                },
                {
                  "0": "80998",
                  "1": "699"
                },
                {
                  "0": "80999",
                  "1": "125"
                },
                {
                  "0": "81000",
                  "1": "76"
                },
                {
                  "0": "81001",
                  "1": "935"
                },
                {
                  "0": "81002",
                  "1": "417"
                },
                {
                  "0": "81003",
                  "1": "890"
                },
                {
                  "0": "81004",
                  "1": "88"
                },
                {
                  "0": "81005",
                  "1": "90"
                },
                {
                  "0": "81006",
                  "1": "199"
                },
                {
                  "0": "81007",
                  "1": "353"
                },
                {
                  "0": "81009",
                  "1": "838"
                },
                {
                  "0": "81010",
                  "1": "211"
                },
                {
                  "0": "81011",
                  "1": "635"
                },
                {
                  "0": "81012",
                  "1": "611"
                },
                {
                  "0": "81013",
                  "1": "304"
                },
                {
                  "0": "81014",
                  "1": "498"
                },
                {
                  "0": "81015",
                  "1": "82"
                },
                {
                  "0": "81016",
                  "1": "809"
                },
                {
                  "0": "81017",
                  "1": "775"
                },
                {
                  "0": "81018",
                  "1": "885"
                },
                {
                  "0": "81019",
                  "1": "424"
                },
                {
                  "0": "81020",
                  "1": "767"
                },
                {
                  "0": "81021",
                  "1": "851"
                },
                {
                  "0": "81022",
                  "1": "573"
                },
                {
                  "0": "81023",
                  "1": "647"
                },
                {
                  "0": "81024",
                  "1": "795"
                },
                {
                  "0": "81025",
                  "1": "24"
                },
                {
                  "0": "81026",
                  "1": "874"
                },
                {
                  "0": "81027",
                  "1": "761"
                },
                {
                  "0": "81028",
                  "1": "815"
                },
                {
                  "0": "81029",
                  "1": "1107"
                },
                {
                  "0": "81030",
                  "1": "473"
                },
                {
                  "0": "81031",
                  "1": "434"
                },
                {
                  "0": "81032",
                  "1": "706"
                },
                {
                  "0": "81033",
                  "1": "982"
                },
                {
                  "0": "81034",
                  "1": "754"
                },
                {
                  "0": "81035",
                  "1": "640"
                },
                {
                  "0": "81036",
                  "1": "738"
                },
                {
                  "0": "81037",
                  "1": "1051"
                },
                {
                  "0": "81038",
                  "1": "671"
                },
                {
                  "0": "81039",
                  "1": "404"
                },
                {
                  "0": "81040",
                  "1": "1001"
                },
                {
                  "0": "81041",
                  "1": "239"
                },
                {
                  "0": "81042",
                  "1": "90"
                }
              ],
              "schema": [
                {
                  "key": "0",
                  "name": "visitorId",
                  "type": "bigint"
                },
                {
                  "key": "1",
                  "name": "totalItemsPurchased",
                  "type": "bigint"
                }
              ],
              "truncated": false
            },
            "isSummary": false,
            "language": "scala"
          },
          "persist_state": {
            "view": {
              "type": "details",
              "tableOptions": {},
              "chartOptions": {
                "chartType": "bar",
                "aggregationType": "sum",
                "categoryFieldKeys": [
                  "1"
                ],
                "seriesFieldKeys": [
                  "0"
                ],
                "isStacked": false
              }
            }
          }
        },
        "3994ba0f-b552-4b58-816b-3cf4e2494961": {
          "type": "Synapse.DataFrame",
          "sync_state": {
            "table": {
              "rows": [
                {
                  "0": "7365e3cb-c098-4001-83ab-68693b87809d",
                  "1": "2",
                  "2": "829",
                  "3": 4,
                  "4": "30.500000000000000000",
                  "5": "122.000000000000000000",
                  "6": "20191231",
                  "7": "38.640000000000000000",
                  "8": 12,
                  "9": 52,
                  "10": "9559"
                },
                {
                  "0": "7365e3cb-c098-4001-83ab-68693b87809d",
                  "1": "2",
                  "2": "3683",
                  "3": 1,
                  "4": "34.440000000000000000",
                  "5": "34.440000000000000000",
                  "6": "20191231",
                  "7": "9.940000000000000000",
                  "8": 12,
                  "9": 52,
                  "10": "9559"
                },
                {
                  "0": "7365e3cb-c098-4001-83ab-68693b87809d",
                  "1": "2",
                  "2": "812",
                  "3": 1,
                  "4": "28.630000000000000000",
                  "5": "28.630000000000000000",
                  "6": "20191231",
                  "7": "7.200000000000000000",
                  "8": 12,
                  "9": 52,
                  "10": "9559"
                },
                {
                  "0": "7365e3cb-c098-4001-83ab-68693b87809d",
                  "1": "2",
                  "2": "117",
                  "3": 2,
                  "4": "25.500000000000000000",
                  "5": "51.000000000000000000",
                  "6": "20191231",
                  "7": "15.660000000000000000",
                  "8": 12,
                  "9": 52,
                  "10": "9559"
                },
                {
                  "0": "7365e3cb-c098-4001-83ab-68693b87809d",
                  "1": "2",
                  "2": "406",
                  "3": 3,
                  "4": "36.590000000000000000",
                  "5": "109.770000000000000000",
                  "6": "20191231",
                  "7": "34.710000000000000000",
                  "8": 12,
                  "9": 52,
                  "10": "9559"
                },
                {
                  "0": "7365e3cb-c098-4001-83ab-68693b87809d",
                  "1": "2",
                  "2": "231",
                  "3": 3,
                  "4": "25.580000000000000000",
                  "5": "76.740000000000000000",
                  "6": "20191231",
                  "7": "25.020000000000000000",
                  "8": 12,
                  "9": 52,
                  "10": "9559"
                },
                {
                  "0": "7365e3cb-c098-4001-83ab-68693b87809d",
                  "1": "2",
                  "2": "2689",
                  "3": 3,
                  "4": "24.000000000000000000",
                  "5": "72.000000000000000000",
                  "6": "20191231",
                  "7": "19.770000000000000000",
                  "8": 12,
                  "9": 52,
                  "10": "9559"
                },
                {
                  "0": "7365e3cb-c098-4001-83ab-68693b87809d",
                  "1": "2",
                  "2": "2095",
                  "3": 4,
                  "4": "32.380000000000000000",
                  "5": "129.520000000000000000",
                  "6": "20191231",
                  "7": "36.000000000000000000",
                  "8": 12,
                  "9": 52,
                  "10": "9559"
                },
                {
                  "0": "7365e3cb-c098-4001-83ab-68693b87809d",
                  "1": "2",
                  "2": "92",
                  "3": 1,
                  "4": "15.550000000000000000",
                  "5": "15.550000000000000000",
                  "6": "20191231",
                  "7": "4.730000000000000000",
                  "8": 12,
                  "9": 52,
                  "10": "9559"
                },
                {
                  "0": "7365e3cb-c098-4001-83ab-68693b87809d",
                  "1": "2",
                  "2": "1912",
                  "3": 1,
                  "4": "24.620000000000000000",
                  "5": "24.620000000000000000",
                  "6": "20191231",
                  "7": "7.390000000000000000",
                  "8": 12,
                  "9": 52,
                  "10": "9559"
                }
              ],
              "schema": [
                {
                  "key": "0",
                  "name": "TransactionId",
                  "type": "string"
                },
                {
                  "key": "1",
                  "name": "CustomerId",
                  "type": "int"
                },
                {
                  "key": "2",
                  "name": "ProductId",
                  "type": "smallint"
                },
                {
                  "key": "3",
                  "name": "Quantity",
                  "type": "tinyint"
                },
                {
                  "key": "4",
                  "name": "Price",
                  "type": "decimal"
                },
                {
                  "key": "5",
                  "name": "TotalAmount",
                  "type": "decimal"
                },
                {
                  "key": "6",
                  "name": "TransactionDate",
                  "type": "int"
                },
                {
                  "key": "7",
                  "name": "ProfitAmount",
                  "type": "decimal"
                },
                {
                  "key": "8",
                  "name": "Hour",
                  "type": "tinyint"
                },
                {
                  "key": "9",
                  "name": "Minute",
                  "type": "tinyint"
                },
                {
                  "key": "10",
                  "name": "StoreId",
                  "type": "smallint"
                }
              ],
              "truncated": false
            },
            "isSummary": false,
            "language": "scala"
          },
          "persist_state": {
            "view": {
              "type": "details",
              "tableOptions": {},
              "chartOptions": {
                "chartType": "bar",
                "aggregationType": "sum",
                "categoryFieldKeys": [
                  "0"
                ],
                "seriesFieldKeys": [
                  "1"
                ],
                "isStacked": false
              }
            }
          }
        },
        "e32b9f2a-b162-4bae-99a1-5571166c6a3b": {
          "type": "Synapse.DataFrame",
          "sync_state": {
            "table": {
              "rows": [
                {
                  "0": "105049",
                  "1": "3736",
                  "2": "11"
                },
                {
                  "0": "115084",
                  "1": "4401",
                  "2": "68"
                },
                {
                  "0": "118068",
                  "1": "2365",
                  "2": "81"
                },
                {
                  "0": "105049",
                  "1": "1942",
                  "2": "30"
                },
                {
                  "0": "118068",
                  "1": "3009",
                  "2": "92"
                },
                {
                  "0": "105049",
                  "1": "3895",
                  "2": "80"
                },
                {
                  "0": "118068",
                  "1": "1859",
                  "2": "81"
                },
                {
                  "0": "105049",
                  "1": "1246",
                  "2": "43"
                },
                {
                  "0": "118068",
                  "1": "1755",
                  "2": "90"
                },
                {
                  "0": "105049",
                  "1": "580",
                  "2": "48"
                }
              ],
              "schema": [
                {
                  "key": "0",
                  "name": "visitorId",
                  "type": "bigint"
                },
                {
                  "key": "1",
                  "name": "productId",
                  "type": "bigint"
                },
                {
                  "key": "2",
                  "name": "itemsPurchasedLast12Months",
                  "type": "bigint"
                }
              ],
              "truncated": false
            },
            "isSummary": false,
            "language": "scala"
          },
          "persist_state": {
            "view": {
              "type": "details",
              "tableOptions": {},
              "chartOptions": {
                "chartType": "bar",
                "aggregationType": "sum",
                "categoryFieldKeys": [
                  "1"
                ],
                "seriesFieldKeys": [
                  "0"
                ],
                "isStacked": false
              }
            }
          }
        },
        "aae634ac-4e05-4e41-afbf-1f8b0c8b3829": {
          "type": "Synapse.DataFrame",
          "sync_state": {
            "table": {
              "rows": [
                {
                  "0": "80296",
                  "1": "202",
                  "2": "96.920000000000000000",
                  "3": "4",
                  "4": "52"
                },
                {
                  "0": "80347",
                  "1": "4232",
                  "2": "48.860000000000000000",
                  "3": "2",
                  "4": "89"
                },
                {
                  "0": "80351",
                  "1": "244",
                  "2": "83.960000000000000000",
                  "3": "4",
                  "4": "83"
                },
                {
                  "0": "80659",
                  "1": "2433",
                  "2": "45.520000000000000000",
                  "3": "2",
                  "4": "63"
                },
                {
                  "0": "80922",
                  "1": "963",
                  "2": "100.680000000000000000",
                  "3": "4",
                  "4": "51"
                },
                {
                  "0": "81027",
                  "1": "2158",
                  "2": "43.460000000000000000",
                  "3": "2",
                  "4": "54"
                },
                {
                  "0": "81180",
                  "1": "109",
                  "2": "207.920000000000000000",
                  "3": "8",
                  "4": "50"
                },
                {
                  "0": "81686",
                  "1": "3128",
                  "2": "64.240000000000000000",
                  "3": "2",
                  "4": "93"
                },
                {
                  "0": "82401",
                  "1": "87",
                  "2": "18.430000000000000000",
                  "3": "1",
                  "4": "56"
                },
                {
                  "0": "82442",
                  "1": "3318",
                  "2": "152.040000000000000000",
                  "3": "4",
                  "4": "53"
                },
                {
                  "0": "82467",
                  "1": "3033",
                  "2": "72.720000000000000000",
                  "3": "3",
                  "4": "32"
                },
                {
                  "0": "82625",
                  "1": "104",
                  "2": "35.230000000000000000",
                  "3": "1",
                  "4": "58"
                },
                {
                  "0": "82983",
                  "1": "802",
                  "2": "58.800000000000000000",
                  "3": "2",
                  "4": "4"
                },
                {
                  "0": "83417",
                  "1": "24",
                  "2": "22.280000000000000000",
                  "3": "1",
                  "4": "60"
                },
                {
                  "0": "83425",
                  "1": "158",
                  "2": "45.240000000000000000",
                  "3": "2",
                  "4": "26"
                },
                {
                  "0": "83704",
                  "1": "3164",
                  "2": "116.880000000000000000",
                  "3": "4",
                  "4": "53"
                },
                {
                  "0": "84189",
                  "1": "103",
                  "2": "51.780000000000000000",
                  "3": "2",
                  "4": "29"
                },
                {
                  "0": "84245",
                  "1": "177",
                  "2": "68.940000000000000000",
                  "3": "3",
                  "4": "5"
                },
                {
                  "0": "84418",
                  "1": "4412",
                  "2": "64.800000000000000000",
                  "3": "2",
                  "4": "70"
                },
                {
                  "0": "84464",
                  "1": "2043",
                  "2": "66.600000000000000000",
                  "3": "3",
                  "4": "11"
                },
                {
                  "0": "84483",
                  "1": "1335",
                  "2": "115.560000000000000000",
                  "3": "4",
                  "4": "76"
                },
                {
                  "0": "84543",
                  "1": "1379",
                  "2": "29.290000000000000000",
                  "3": "1",
                  "4": "87"
                },
                {
                  "0": "84558",
                  "1": "116",
                  "2": "49.380000000000000000",
                  "3": "3",
                  "4": "10"
                },
                {
                  "0": "84833",
                  "1": "63",
                  "2": "31.670000000000000000",
                  "3": "1",
                  "4": "41"
                },
                {
                  "0": "85070",
                  "1": "4882",
                  "2": "58.740000000000000000",
                  "3": "2",
                  "4": "92"
                },
                {
                  "0": "85161",
                  "1": "162",
                  "2": "64.420000000000000000",
                  "3": "2",
                  "4": "99"
                },
                {
                  "0": "85170",
                  "1": "2934",
                  "2": "103.860000000000000000",
                  "3": "6",
                  "4": "52"
                },
                {
                  "0": "85501",
                  "1": "682",
                  "2": "74.280000000000000000",
                  "3": "3",
                  "4": "87"
                },
                {
                  "0": "86205",
                  "1": "3173",
                  "2": "52.940000000000000000",
                  "3": "2",
                  "4": "15"
                },
                {
                  "0": "86205",
                  "1": "115",
                  "2": "61.580000000000000000",
                  "3": "2",
                  "4": "53"
                },
                {
                  "0": "86349",
                  "1": "768",
                  "2": "127.440000000000000000",
                  "3": "4",
                  "4": "76"
                },
                {
                  "0": "86456",
                  "1": "347",
                  "2": "29.590000000000000000",
                  "3": "1",
                  "4": "52"
                },
                {
                  "0": "86557",
                  "1": "4475",
                  "2": "86.640000000000000000",
                  "3": "4",
                  "4": "37"
                },
                {
                  "0": "86629",
                  "1": "200",
                  "2": "74.340000000000000000",
                  "3": "3",
                  "4": "32"
                },
                {
                  "0": "86641",
                  "1": "72",
                  "2": "52.060000000000000000",
                  "3": "2",
                  "4": "9"
                },
                {
                  "0": "86811",
                  "1": "3635",
                  "2": "88.800000000000000000",
                  "3": "3",
                  "4": "51"
                },
                {
                  "0": "86846",
                  "1": "152",
                  "2": "75.870000000000000000",
                  "3": "3",
                  "4": "72"
                },
                {
                  "0": "87075",
                  "1": "1777",
                  "2": "139.240000000000000000",
                  "3": "4",
                  "4": "35"
                },
                {
                  "0": "87086",
                  "1": "2362",
                  "2": "35.520000000000000000",
                  "3": "1",
                  "4": "80"
                },
                {
                  "0": "87095",
                  "1": "2911",
                  "2": "65.720000000000000000",
                  "3": "2",
                  "4": "80"
                },
                {
                  "0": "87103",
                  "1": "92",
                  "2": "77.750000000000000000",
                  "3": "5",
                  "4": "82"
                },
                {
                  "0": "87126",
                  "1": "154",
                  "2": "52.280000000000000000",
                  "3": "2",
                  "4": "92"
                },
                {
                  "0": "87126",
                  "1": "172",
                  "2": "36.970000000000000000",
                  "3": "1",
                  "4": "46"
                },
                {
                  "0": "87142",
                  "1": "101",
                  "2": "127.500000000000000000",
                  "3": "3",
                  "4": "60"
                },
                {
                  "0": "87314",
                  "1": "2885",
                  "2": "26.610000000000000000",
                  "3": "1",
                  "4": "67"
                },
                {
                  "0": "87480",
                  "1": "3496",
                  "2": "94.620000000000000000",
                  "3": "3",
                  "4": "56"
                },
                {
                  "0": "87546",
                  "1": "3918",
                  "2": "74.460000000000000000",
                  "3": "3",
                  "4": "70"
                },
                {
                  "0": "87607",
                  "1": "2307",
                  "2": "141.720000000000000000",
                  "3": "4",
                  "4": "17"
                },
                {
                  "0": "87690",
                  "1": "114",
                  "2": "153.920000000000000000",
                  "3": "4",
                  "4": "76"
                },
                {
                  "0": "88259",
                  "1": "2396",
                  "2": "23.530000000000000000",
                  "3": "1",
                  "4": "22"
                },
                {
                  "0": "88440",
                  "1": "5",
                  "2": "50.620000000000000000",
                  "3": "2",
                  "4": "23"
                },
                {
                  "0": "88485",
                  "1": "226",
                  "2": "71.790000000000000000",
                  "3": "3",
                  "4": "20"
                },
                {
                  "0": "88518",
                  "1": "2287",
                  "2": "46.480000000000000000",
                  "3": "2",
                  "4": "16"
                },
                {
                  "0": "88750",
                  "1": "633",
                  "2": "65.320000000000000000",
                  "3": "2",
                  "4": "30"
                },
                {
                  "0": "88796",
                  "1": "885",
                  "2": "26.170000000000000000",
                  "3": "1",
                  "4": "17"
                },
                {
                  "0": "88858",
                  "1": "199",
                  "2": "66.660000000000000000",
                  "3": "2",
                  "4": "45"
                },
                {
                  "0": "89226",
                  "1": "3769",
                  "2": "20.630000000000000000",
                  "3": "1",
                  "4": "12"
                },
                {
                  "0": "89283",
                  "1": "1772",
                  "2": "105.840000000000000000",
                  "3": "4",
                  "4": "34"
                },
                {
                  "0": "89976",
                  "1": "2006",
                  "2": "74.240000000000000000",
                  "3": "4",
                  "4": "51"
                },
                {
                  "0": "90083",
                  "1": "315",
                  "2": "118.880000000000000000",
                  "3": "4",
                  "4": "9"
                },
                {
                  "0": "90131",
                  "1": "4896",
                  "2": "46.260000000000000000",
                  "3": "2",
                  "4": "34"
                },
                {
                  "0": "90335",
                  "1": "1441",
                  "2": "21.270000000000000000",
                  "3": "1",
                  "4": "1"
                },
                {
                  "0": "90367",
                  "1": "3575",
                  "2": "136.320000000000000000",
                  "3": "4",
                  "4": "39"
                },
                {
                  "0": "90652",
                  "1": "34",
                  "2": "88.000000000000000000",
                  "3": "4",
                  "4": "79"
                },
                {
                  "0": "90671",
                  "1": "195",
                  "2": "24.140000000000000000",
                  "3": "1",
                  "4": "7"
                },
                {
                  "0": "91493",
                  "1": "4549",
                  "2": "17.750000000000000000",
                  "3": "1",
                  "4": "31"
                },
                {
                  "0": "91646",
                  "1": "202",
                  "2": "72.690000000000000000",
                  "3": "3",
                  "4": "51"
                },
                {
                  "0": "91798",
                  "1": "224",
                  "2": "125.970000000000000000",
                  "3": "3",
                  "4": "62"
                },
                {
                  "0": "91817",
                  "1": "3651",
                  "2": "101.820000000000000000",
                  "3": "3",
                  "4": "40"
                },
                {
                  "0": "92030",
                  "1": "98",
                  "2": "83.250000000000000000",
                  "3": "3",
                  "4": "88"
                },
                {
                  "0": "92293",
                  "1": "27",
                  "2": "95.280000000000000000",
                  "3": "3",
                  "4": "65"
                },
                {
                  "0": "92456",
                  "1": "242",
                  "2": "104.560000000000000000",
                  "3": "4",
                  "4": "98"
                },
                {
                  "0": "92543",
                  "1": "173",
                  "2": "95.320000000000000000",
                  "3": "4",
                  "4": "60"
                },
                {
                  "0": "92565",
                  "1": "4069",
                  "2": "87.480000000000000000",
                  "3": "3",
                  "4": "93"
                },
                {
                  "0": "92581",
                  "1": "94",
                  "2": "85.680000000000000000",
                  "3": "3",
                  "4": "54"
                },
                {
                  "0": "92623",
                  "1": "2015",
                  "2": "31.660000000000000000",
                  "3": "1",
                  "4": "43"
                },
                {
                  "0": "92794",
                  "1": "2252",
                  "2": "23.790000000000000000",
                  "3": "1",
                  "4": "80"
                },
                {
                  "0": "92961",
                  "1": "780",
                  "2": "68.340000000000000000",
                  "3": "3",
                  "4": "66"
                },
                {
                  "0": "93136",
                  "1": "169",
                  "2": "155.160000000000000000",
                  "3": "4",
                  "4": "74"
                },
                {
                  "0": "93204",
                  "1": "464",
                  "2": "92.480000000000000000",
                  "3": "4",
                  "4": "13"
                },
                {
                  "0": "93507",
                  "1": "170",
                  "2": "55.700000000000000000",
                  "3": "2",
                  "4": "84"
                },
                {
                  "0": "93533",
                  "1": "81",
                  "2": "51.560000000000000000",
                  "3": "2",
                  "4": "19"
                },
                {
                  "0": "93687",
                  "1": "124",
                  "2": "26.150000000000000000",
                  "3": "1",
                  "4": "9"
                },
                {
                  "0": "93837",
                  "1": "2194",
                  "2": "77.550000000000000000",
                  "3": "3",
                  "4": "65"
                },
                {
                  "0": "94256",
                  "1": "2939",
                  "2": "24.670000000000000000",
                  "3": "1",
                  "4": "27"
                },
                {
                  "0": "94337",
                  "1": "3143",
                  "2": "43.700000000000000000",
                  "3": "2",
                  "4": "48"
                },
                {
                  "0": "94573",
                  "1": "4276",
                  "2": "28.970000000000000000",
                  "3": "1",
                  "4": "9"
                },
                {
                  "0": "94643",
                  "1": "213",
                  "2": "87.210000000000000000",
                  "3": "3",
                  "4": "12"
                },
                {
                  "0": "94839",
                  "1": "4472",
                  "2": "25.260000000000000000",
                  "3": "1",
                  "4": "89"
                },
                {
                  "0": "94914",
                  "1": "4767",
                  "2": "63.000000000000000000",
                  "3": "3",
                  "4": "87"
                },
                {
                  "0": "95324",
                  "1": "4866",
                  "2": "142.920000000000000000",
                  "3": "4",
                  "4": "3"
                },
                {
                  "0": "95392",
                  "1": "27",
                  "2": "95.280000000000000000",
                  "3": "3",
                  "4": "41"
                },
                {
                  "0": "95546",
                  "1": "3393",
                  "2": "91.350000000000000000",
                  "3": "3",
                  "4": "96"
                },
                {
                  "0": "95760",
                  "1": "4458",
                  "2": "34.270000000000000000",
                  "3": "1",
                  "4": "78"
                },
                {
                  "0": "95776",
                  "1": "2138",
                  "2": "111.960000000000000000",
                  "3": "4",
                  "4": "47"
                },
                {
                  "0": "95857",
                  "1": "4837",
                  "2": "26.750000000000000000",
                  "3": "1",
                  "4": "27"
                },
                {
                  "0": "95903",
                  "1": "135",
                  "2": "72.480000000000000000",
                  "3": "2",
                  "4": "18"
                },
                {
                  "0": "96097",
                  "1": "4987",
                  "2": "74.900000000000000000",
                  "3": "2",
                  "4": "52"
                },
                {
                  "0": "96124",
                  "1": "3319",
                  "2": "119.480000000000000000",
                  "3": "4",
                  "4": "33"
                },
                {
                  "0": "96219",
                  "1": "3269",
                  "2": "40.040000000000000000",
                  "3": "2",
                  "4": "10"
                }
              ],
              "schema": [
                {
                  "key": "0",
                  "name": "CustomerId",
                  "type": "int"
                },
                {
                  "key": "1",
                  "name": "productId",
                  "type": "bigint"
                },
                {
                  "key": "2",
                  "name": "TotalAmountDecember",
                  "type": "decimal"
                },
                {
                  "key": "3",
                  "name": "TotalQuantityDecember",
                  "type": "bigint"
                },
                {
                  "key": "4",
                  "name": "TotalItemsPurchasedLast12Months",
                  "type": "bigint"
                }
              ],
              "truncated": false
            },
            "isSummary": false,
            "language": "scala"
          },
          "persist_state": {
            "view": {
              "type": "details",
              "tableOptions": {},
              "chartOptions": {
                "chartType": "bar",
                "aggregationType": "sum",
                "categoryFieldKeys": [
                  "1"
                ],
                "seriesFieldKeys": [
                  "0"
                ],
                "isStacked": false
              }
            }
          }
        }
      }
    }
  },
  "nbformat": 4,
  "nbformat_minor": 2
}