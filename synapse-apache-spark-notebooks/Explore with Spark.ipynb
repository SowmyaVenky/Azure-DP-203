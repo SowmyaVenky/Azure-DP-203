{
  "cells": [
    {
      "cell_type": "markdown",
      "source": [
        "# Exploring and fixing data with Synapse Spark\r\n",
        "\r\n",
        "In this task, you will use a Synapse Spark notebook to explore a few of the files in the **wwi-02/sale-poc** folder in the data lake. You will also use Python code to fix the issues with the **sale-20170502.csv** file.\r\n",
        "\r\n",
        "1. First, attach this notebook to the **SparkPool01** Spark pool.\r\n",
        "2. In the code cell below, replace **asadatalake*SUFFIX*** `with the name of the primary data lake storage account associated with your Syanpse workspace. Then execute the cell by selecting the **Run cell** button that becomes visible when you select the cell.\r\n",
        "\r\n",
        "> **Note**: The cell may take some time to run because the spark cluster must be started."
      ],
      "metadata": {}
    },
    {
      "cell_type": "code",
      "source": [
        "adls_account_name = 'vksa042772'"
      ],
      "outputs": [
        {
          "output_type": "display_data",
          "data": {
            "application/vnd.livy.statement-meta+json": {
              "spark_pool": "venkysparkpool",
              "session_id": 0,
              "statement_id": 2,
              "state": "finished",
              "livy_statement_state": "available",
              "queued_time": "2022-05-25T01:49:28.9326166Z",
              "session_start_time": null,
              "execution_start_time": "2022-05-25T01:52:22.6852232Z",
              "execution_finish_time": "2022-05-25T01:52:22.6857105Z"
            },
            "text/plain": "StatementMeta(venkysparkpool, 0, 2, Finished, Available)"
          },
          "metadata": {}
        }
      ],
      "execution_count": 1,
      "metadata": {}
    },
    {
      "cell_type": "markdown",
      "source": [
        "## Exploring files with Spark\r\n",
        "\r\n",
        "1. The first step in exploring data using Synapse Spark is to load a file from the data lake. For this, we'll use the **spark.read.load()** method of the **SparkSession** to load the **sale-20170501.csv** file into a [DataFrame](https://spark.apache.org/docs/2.2.0/sql-programming-guide.html#datasets-and-dataframes).\r\n"
      ],
      "metadata": {}
    },
    {
      "cell_type": "code",
      "source": [
        "# First, load the file `sale-20170501.csv` file, which we know from our previous exploration to be formatted correctly.\r\n",
        "# Note the use of the `header` and `inferSchema` parameters. Header indicates the first row of the file contains column headers,\r\n",
        "# and `inferSchema` instruct Spark to use data within the file to infer data types.\r\n",
        "df = spark.read.load(f'abfss://raw042772@{adls_account_name}.dfs.core.windows.net/wwi-02/sale-poc/sale-20170501.csv', format='csv', header=True, inferSchema=True)"
      ],
      "outputs": [
        {
          "output_type": "display_data",
          "data": {
            "application/vnd.livy.statement-meta+json": {
              "spark_pool": "venkysparkpool",
              "session_id": 0,
              "statement_id": 3,
              "state": "finished",
              "livy_statement_state": "available",
              "queued_time": "2022-05-25T01:52:35.5069959Z",
              "session_start_time": null,
              "execution_start_time": "2022-05-25T01:52:35.6249798Z",
              "execution_finish_time": "2022-05-25T01:53:11.7127676Z"
            },
            "text/plain": "StatementMeta(venkysparkpool, 0, 3, Finished, Available)"
          },
          "metadata": {}
        }
      ],
      "execution_count": 2,
      "metadata": {}
    },
    {
      "cell_type": "markdown",
      "source": [
        "## View the contents of the DataFrame\r\n",
        "\r\n",
        "With the data from the **sale-20170501.csv** file loaded into a data frame, we can now use various methods of a data frame to explore the properties of the data.\r\n",
        "\r\n",
        "1. Let's look at the data as it was imported. Execute the cell below to view and inspect the data in the data frame."
      ],
      "metadata": {}
    },
    {
      "cell_type": "code",
      "source": [
        "display(df.limit(10))"
      ],
      "outputs": [
        {
          "output_type": "display_data",
          "data": {
            "application/vnd.livy.statement-meta+json": {
              "spark_pool": "venkysparkpool",
              "session_id": 0,
              "statement_id": 4,
              "state": "finished",
              "livy_statement_state": "available",
              "queued_time": "2022-05-25T01:53:21.5039313Z",
              "session_start_time": null,
              "execution_start_time": "2022-05-25T01:53:21.6117094Z",
              "execution_finish_time": "2022-05-25T01:53:24.5162611Z"
            },
            "text/plain": "StatementMeta(venkysparkpool, 0, 4, Finished, Available)"
          },
          "metadata": {}
        },
        {
          "output_type": "display_data",
          "data": {
            "application/vnd.synapse.widget-view+json": {
              "widget_id": "9b7433b8-88d7-42b8-a098-096e98db1e82",
              "widget_type": "Synapse.DataFrame"
            },
            "text/plain": "SynapseWidget(Synapse.DataFrame, 9b7433b8-88d7-42b8-a098-096e98db1e82)"
          },
          "metadata": {}
        }
      ],
      "execution_count": 3,
      "metadata": {
        "diagram": {
          "activateDiagramType": 1,
          "chartConfig": {
            "category": "bar",
            "keys": [
              "TransactionId"
            ],
            "values": [
              "CustomerId"
            ],
            "yLabel": "CustomerId",
            "xLabel": "TransactionId",
            "aggregation": "SUM",
            "aggByBackend": false
          },
          "aggData": "{\"CustomerId\":{\"cdd2ed88-8aae-4295-884a-ac4d40c3c33c\":44,\"e067fc11-e07d-4517-bc93-f7dc4b44f35e\":18}}",
          "isSummary": false,
          "previewData": {
            "filter": null
          },
          "isSql": false
        },
        "collapsed": false
      }
    },
    {
      "cell_type": "markdown",
      "source": [
        "2. Like we saw during exploration with the SQL on-demand capabilities of Azure Synapse, Spark allows us to view and query against the data contained within files. \r\n",
        "\r\n",
        "3. Now, use the **printSchema()** method of the data frame to view the results of using the **inferSchema** parameter when creating the data frame. Execute the cell below and observe the output."
      ],
      "metadata": {}
    },
    {
      "cell_type": "code",
      "source": [
        "# Now, print the inferred schema. We will need this information below to help with the missing headers in the May 2, 2017 file.\r\n",
        "df.printSchema()"
      ],
      "outputs": [
        {
          "output_type": "display_data",
          "data": {
            "application/vnd.livy.statement-meta+json": {
              "spark_pool": "venkysparkpool",
              "session_id": 0,
              "statement_id": 5,
              "state": "finished",
              "livy_statement_state": "available",
              "queued_time": "2022-05-25T01:53:38.8186546Z",
              "session_start_time": null,
              "execution_start_time": "2022-05-25T01:53:38.9279856Z",
              "execution_finish_time": "2022-05-25T01:53:39.0850072Z"
            },
            "text/plain": "StatementMeta(venkysparkpool, 0, 5, Finished, Available)"
          },
          "metadata": {}
        },
        {
          "output_type": "stream",
          "name": "stdout",
          "text": [
            "root\n |-- TransactionId: string (nullable = true)\n |-- CustomerId: integer (nullable = true)\n |-- ProductId: integer (nullable = true)\n |-- Quantity: integer (nullable = true)\n |-- Price: double (nullable = true)\n |-- TotalAmount: double (nullable = true)\n |-- TransactionDate: integer (nullable = true)\n |-- ProfitAmount: double (nullable = true)\n |-- Hour: integer (nullable = true)\n |-- Minute: integer (nullable = true)\n |-- StoreId: integer (nullable = true)"
          ]
        }
      ],
      "execution_count": 4,
      "metadata": {}
    },
    {
      "cell_type": "markdown",
      "source": [
        "4. The **printSchema** method outputs both field names and data types that are based on the Spark engine's evaluation of the data contained within each field.\r\n",
        "\r\n",
        "    > We can use this information later to help define the schema for the poorly formed **sale-20170502.csv** file. In addition to the field names and data types, we should note the number of features or columns contained in the file. In this case, note that there are 11 fields. That will be used to determine where to split the single row of data.\r\n",
        "\r\n",
        "5. As an example of further exploration we can do, run the cell below to create and display a new data frame that contains an ordered list of distinct Customer and Product Id pairings. We can use these types of functions to find invalid or empty values quickly in targeted fields."
      ],
      "metadata": {}
    },
    {
      "cell_type": "code",
      "source": [
        "# Create a new data frame containing a list of distinct CustomerId and ProductId values in descending order of the CustomerId.\r\n",
        "df_distinct_products = df.select('CustomerId', 'ProductId').distinct().orderBy('CustomerId')\r\n",
        "\r\n",
        "# Display the first 100 rows of the resulting data frame.\r\n",
        "display(df_distinct_products.limit(100))"
      ],
      "outputs": [
        {
          "output_type": "display_data",
          "data": {
            "application/vnd.livy.statement-meta+json": {
              "spark_pool": "venkysparkpool",
              "session_id": 0,
              "statement_id": 6,
              "state": "finished",
              "livy_statement_state": "available",
              "queued_time": "2022-05-25T01:53:56.1263239Z",
              "session_start_time": null,
              "execution_start_time": "2022-05-25T01:53:56.2404442Z",
              "execution_finish_time": "2022-05-25T01:54:04.8889186Z"
            },
            "text/plain": "StatementMeta(venkysparkpool, 0, 6, Finished, Available)"
          },
          "metadata": {}
        },
        {
          "output_type": "display_data",
          "data": {
            "application/vnd.synapse.widget-view+json": {
              "widget_id": "a2977882-fd01-4d51-9de5-a0c8941f4891",
              "widget_type": "Synapse.DataFrame"
            },
            "text/plain": "SynapseWidget(Synapse.DataFrame, a2977882-fd01-4d51-9de5-a0c8941f4891)"
          },
          "metadata": {}
        }
      ],
      "execution_count": 5,
      "metadata": {
        "diagram": {
          "activateDiagramType": 1,
          "chartConfig": {
            "category": "bar",
            "keys": [],
            "values": [
              "ProductId"
            ],
            "yLabel": "ProductId",
            "xLabel": "",
            "aggregation": "SUM",
            "aggByBackend": false
          },
          "aggData": "{\"ProductId\":{\"\":189206}}",
          "isSummary": false,
          "previewData": {
            "filter": null
          },
          "isSql": false
        },
        "collapsed": false
      }
    },
    {
      "cell_type": "markdown",
      "source": [
        "6. Next, let's attempt to open and explore the **sale-20170502.csv** file using the **load()** method, as we did above."
      ],
      "metadata": {}
    },
    {
      "cell_type": "code",
      "source": [
        "# Next, let's try to read in the May 2, 2017 file using the same `load()` method we used for the first file.\r\n",
        "df = spark.read.load(f'abfss://raw042772@{adls_account_name}.dfs.core.windows.net/wwi-02/sale-poc/sale-20170502.csv', format='csv')\r\n",
        "display(df.limit(10))"
      ],
      "outputs": [
        {
          "output_type": "display_data",
          "data": {
            "application/vnd.livy.statement-meta+json": {
              "spark_pool": "venkysparkpool",
              "session_id": 0,
              "statement_id": 7,
              "state": "finished",
              "livy_statement_state": "available",
              "queued_time": "2022-05-25T01:54:48.5061697Z",
              "session_start_time": null,
              "execution_start_time": "2022-05-25T01:54:49.7800059Z",
              "execution_finish_time": "2022-05-25T01:54:53.6672397Z"
            },
            "text/plain": "StatementMeta(venkysparkpool, 0, 7, Finished, Available)"
          },
          "metadata": {}
        },
        {
          "output_type": "error",
          "ename": "Py4JJavaError",
          "evalue": "An error occurred while calling o650.load.\n: com.univocity.parsers.common.TextParsingException: java.lang.ArrayIndexOutOfBoundsException - 20480\nHint: Number of columns processed may have exceeded limit of 20480 columns. Use settings.setMaxColumns(int) to define the maximum number of columns your input can have\nEnsure your configuration is correct, with delimiters, quotes and escape sequences that match the input format you are trying to parse\nParser Configuration: CsvParserSettings:\n\tAuto configuration enabled=true\n\tAuto-closing enabled=true\n\tAutodetect column delimiter=false\n\tAutodetect quotes=false\n\tColumn reordering enabled=true\n\tDelimiters for detection=null\n\tEmpty value=\n\tEscape unquoted values=false\n\tHeader extraction enabled=null\n\tHeaders=null\n\tIgnore leading whitespaces=false\n\tIgnore leading whitespaces in quotes=false\n\tIgnore trailing whitespaces=false\n\tIgnore trailing whitespaces in quotes=false\n\tInput buffer size=1048576\n\tInput reading on separate thread=false\n\tKeep escape sequences=false\n\tKeep quotes=false\n\tLength of content displayed on error=1000\n\tLine separator detection enabled=false\n\tMaximum number of characters per column=-1\n\tMaximum number of columns=20480\n\tNormalize escaped line separators=true\n\tNull value=\n\tNumber of records to read=all\n\tProcessor=none\n\tRestricting data in exceptions=false\n\tRowProcessor error handler=null\n\tSelected fields=none\n\tSkip bits as whitespace=true\n\tSkip empty lines=true\n\tUnescaped quote handling=STOP_AT_DELIMITERFormat configuration:\n\tCsvFormat:\n\t\tComment character=#\n\t\tField delimiter=,\n\t\tLine separator (normalized)=\\n\n\t\tLine separator sequence=\\n\n\t\tQuote character=\"\n\t\tQuote escape character=\\\n\t\tQuote escape escape character=null\nInternal state when error was thrown: line=0, column=20481, record=0, charIndex=277709\n\tat com.univocity.parsers.common.AbstractParser.handleException(AbstractParser.java:402)\n\tat com.univocity.parsers.common.AbstractParser.parseLine(AbstractParser.java:707)\n\tat org.apache.spark.sql.execution.datasources.csv.TextInputCSVDataSource$.$anonfun$inferFromDataset$1(CSVDataSource.scala:125)\n\tat scala.Option.map(Option.scala:230)\n\tat org.apache.spark.sql.execution.datasources.csv.TextInputCSVDataSource$.inferFromDataset(CSVDataSource.scala:125)\n\tat org.apache.spark.sql.execution.datasources.csv.TextInputCSVDataSource$.infer(CSVDataSource.scala:113)\n\tat org.apache.spark.sql.execution.datasources.csv.CSVDataSource.inferSchema(CSVDataSource.scala:65)\n\tat org.apache.spark.sql.execution.datasources.csv.CSVFileFormat.inferSchema(CSVFileFormat.scala:62)\n\tat org.apache.spark.sql.execution.datasources.DataSource.$anonfun$getOrInferFileFormatSchema$11(DataSource.scala:209)\n\tat scala.Option.orElse(Option.scala:447)\n\tat org.apache.spark.sql.execution.datasources.DataSource.getOrInferFileFormatSchema(DataSource.scala:206)\n\tat org.apache.spark.sql.execution.datasources.DataSource.resolveRelation(DataSource.scala:419)\n\tat org.apache.spark.sql.DataFrameReader.loadV1Source(DataFrameReader.scala:325)\n\tat org.apache.spark.sql.DataFrameReader.$anonfun$load$3(DataFrameReader.scala:308)\n\tat scala.Option.getOrElse(Option.scala:189)\n\tat org.apache.spark.sql.DataFrameReader.load(DataFrameReader.scala:308)\n\tat org.apache.spark.sql.DataFrameReader.load(DataFrameReader.scala:240)\n\tat sun.reflect.NativeMethodAccessorImpl.invoke0(Native Method)\n\tat sun.reflect.NativeMethodAccessorImpl.invoke(NativeMethodAccessorImpl.java:62)\n\tat sun.reflect.DelegatingMethodAccessorImpl.invoke(DelegatingMethodAccessorImpl.java:43)\n\tat java.lang.reflect.Method.invoke(Method.java:498)\n\tat py4j.reflection.MethodInvoker.invoke(MethodInvoker.java:244)\n\tat py4j.reflection.ReflectionEngine.invoke(ReflectionEngine.java:357)\n\tat py4j.Gateway.invoke(Gateway.java:282)\n\tat py4j.commands.AbstractCommand.invokeMethod(AbstractCommand.java:132)\n\tat py4j.commands.CallCommand.execute(CallCommand.java:79)\n\tat py4j.GatewayConnection.run(GatewayConnection.java:238)\n\tat java.lang.Thread.run(Thread.java:748)\nCaused by: java.lang.ArrayIndexOutOfBoundsException: 20480\n\tat com.univocity.parsers.common.ParserOutput.valueParsed(ParserOutput.java:373)\n\tat com.univocity.parsers.csv.CsvParser.parseSingleDelimiterRecord(CsvParser.java:189)\n\tat com.univocity.parsers.csv.CsvParser.parseRecord(CsvParser.java:109)\n\tat com.univocity.parsers.common.AbstractParser.parseLine(AbstractParser.java:687)\n\t... 26 more\n",
          "traceback": [
            "Py4JJavaError: An error occurred while calling o650.load.\n: com.univocity.parsers.common.TextParsingException: java.lang.ArrayIndexOutOfBoundsException - 20480\nHint: Number of columns processed may have exceeded limit of 20480 columns. Use settings.setMaxColumns(int) to define the maximum number of columns your input can have\nEnsure your configuration is correct, with delimiters, quotes and escape sequences that match the input format you are trying to parse\nParser Configuration: CsvParserSettings:\n\tAuto configuration enabled=true\n\tAuto-closing enabled=true\n\tAutodetect column delimiter=false\n\tAutodetect quotes=false\n\tColumn reordering enabled=true\n\tDelimiters for detection=null\n\tEmpty value=\n\tEscape unquoted values=false\n\tHeader extraction enabled=null\n\tHeaders=null\n\tIgnore leading whitespaces=false\n\tIgnore leading whitespaces in quotes=false\n\tIgnore trailing whitespaces=false\n\tIgnore trailing whitespaces in quotes=false\n\tInput buffer size=1048576\n\tInput reading on separate thread=false\n\tKeep escape sequences=false\n\tKeep quotes=false\n\tLength of content displayed on error=1000\n\tLine separator detection enabled=false\n\tMaximum number of characters per column=-1\n\tMaximum number of columns=20480\n\tNormalize escaped line separators=true\n\tNull value=\n\tNumber of records to read=all\n\tProcessor=none\n\tRestricting data in exceptions=false\n\tRowProcessor error handler=null\n\tSelected fields=none\n\tSkip bits as whitespace=true\n\tSkip empty lines=true\n\tUnescaped quote handling=STOP_AT_DELIMITERFormat configuration:\n\tCsvFormat:\n\t\tComment character=#\n\t\tField delimiter=,\n\t\tLine separator (normalized)=\\n\n\t\tLine separator sequence=\\n\n\t\tQuote character=\"\n\t\tQuote escape character=\\\n\t\tQuote escape escape character=null\nInternal state when error was thrown: line=0, column=20481, record=0, charIndex=277709\n\tat com.univocity.parsers.common.AbstractParser.handleException(AbstractParser.java:402)\n\tat com.univocity.parsers.common.AbstractParser.parseLine(AbstractParser.java:707)\n\tat org.apache.spark.sql.execution.datasources.csv.TextInputCSVDataSource$.$anonfun$inferFromDataset$1(CSVDataSource.scala:125)\n\tat scala.Option.map(Option.scala:230)\n\tat org.apache.spark.sql.execution.datasources.csv.TextInputCSVDataSource$.inferFromDataset(CSVDataSource.scala:125)\n\tat org.apache.spark.sql.execution.datasources.csv.TextInputCSVDataSource$.infer(CSVDataSource.scala:113)\n\tat org.apache.spark.sql.execution.datasources.csv.CSVDataSource.inferSchema(CSVDataSource.scala:65)\n\tat org.apache.spark.sql.execution.datasources.csv.CSVFileFormat.inferSchema(CSVFileFormat.scala:62)\n\tat org.apache.spark.sql.execution.datasources.DataSource.$anonfun$getOrInferFileFormatSchema$11(DataSource.scala:209)\n\tat scala.Option.orElse(Option.scala:447)\n\tat org.apache.spark.sql.execution.datasources.DataSource.getOrInferFileFormatSchema(DataSource.scala:206)\n\tat org.apache.spark.sql.execution.datasources.DataSource.resolveRelation(DataSource.scala:419)\n\tat org.apache.spark.sql.DataFrameReader.loadV1Source(DataFrameReader.scala:325)\n\tat org.apache.spark.sql.DataFrameReader.$anonfun$load$3(DataFrameReader.scala:308)\n\tat scala.Option.getOrElse(Option.scala:189)\n\tat org.apache.spark.sql.DataFrameReader.load(DataFrameReader.scala:308)\n\tat org.apache.spark.sql.DataFrameReader.load(DataFrameReader.scala:240)\n\tat sun.reflect.NativeMethodAccessorImpl.invoke0(Native Method)\n\tat sun.reflect.NativeMethodAccessorImpl.invoke(NativeMethodAccessorImpl.java:62)\n\tat sun.reflect.DelegatingMethodAccessorImpl.invoke(DelegatingMethodAccessorImpl.java:43)\n\tat java.lang.reflect.Method.invoke(Method.java:498)\n\tat py4j.reflection.MethodInvoker.invoke(MethodInvoker.java:244)\n\tat py4j.reflection.ReflectionEngine.invoke(ReflectionEngine.java:357)\n\tat py4j.Gateway.invoke(Gateway.java:282)\n\tat py4j.commands.AbstractCommand.invokeMethod(AbstractCommand.java:132)\n\tat py4j.commands.CallCommand.execute(CallCommand.java:79)\n\tat py4j.GatewayConnection.run(GatewayConnection.java:238)\n\tat java.lang.Thread.run(Thread.java:748)\nCaused by: java.lang.ArrayIndexOutOfBoundsException: 20480\n\tat com.univocity.parsers.common.ParserOutput.valueParsed(ParserOutput.java:373)\n\tat com.univocity.parsers.csv.CsvParser.parseSingleDelimiterRecord(CsvParser.java:189)\n\tat com.univocity.parsers.csv.CsvParser.parseRecord(CsvParser.java:109)\n\tat com.univocity.parsers.common.AbstractParser.parseLine(AbstractParser.java:687)\n\t... 26 more\n",
            "Traceback (most recent call last):\n",
            "  File \"/opt/spark/python/lib/pyspark.zip/pyspark/sql/readwriter.py\", line 204, in load\n    return self._df(self._jreader.load(path))\n",
            "  File \"/home/trusted-service-user/cluster-env/env/lib/python3.8/site-packages/py4j/java_gateway.py\", line 1304, in __call__\n    return_value = get_return_value(\n",
            "  File \"/opt/spark/python/lib/pyspark.zip/pyspark/sql/utils.py\", line 111, in deco\n    return f(*a, **kw)\n",
            "  File \"/home/trusted-service-user/cluster-env/env/lib/python3.8/site-packages/py4j/protocol.py\", line 326, in get_return_value\n    raise Py4JJavaError(\n",
            "py4j.protocol.Py4JJavaError: An error occurred while calling o650.load.\n: com.univocity.parsers.common.TextParsingException: java.lang.ArrayIndexOutOfBoundsException - 20480\nHint: Number of columns processed may have exceeded limit of 20480 columns. Use settings.setMaxColumns(int) to define the maximum number of columns your input can have\nEnsure your configuration is correct, with delimiters, quotes and escape sequences that match the input format you are trying to parse\nParser Configuration: CsvParserSettings:\n\tAuto configuration enabled=true\n\tAuto-closing enabled=true\n\tAutodetect column delimiter=false\n\tAutodetect quotes=false\n\tColumn reordering enabled=true\n\tDelimiters for detection=null\n\tEmpty value=\n\tEscape unquoted values=false\n\tHeader extraction enabled=null\n\tHeaders=null\n\tIgnore leading whitespaces=false\n\tIgnore leading whitespaces in quotes=false\n\tIgnore trailing whitespaces=false\n\tIgnore trailing whitespaces in quotes=false\n\tInput buffer size=1048576\n\tInput reading on separate thread=false\n\tKeep escape sequences=false\n\tKeep quotes=false\n\tLength of content displayed on error=1000\n\tLine separator detection enabled=false\n\tMaximum number of characters per column=-1\n\tMaximum number of columns=20480\n\tNormalize escaped line separators=true\n\tNull value=\n\tNumber of records to read=all\n\tProcessor=none\n\tRestricting data in exceptions=false\n\tRowProcessor error handler=null\n\tSelected fields=none\n\tSkip bits as whitespace=true\n\tSkip empty lines=true\n\tUnescaped quote handling=STOP_AT_DELIMITERFormat configuration:\n\tCsvFormat:\n\t\tComment character=#\n\t\tField delimiter=,\n\t\tLine separator (normalized)=\\n\n\t\tLine separator sequence=\\n\n\t\tQuote character=\"\n\t\tQuote escape character=\\\n\t\tQuote escape escape character=null\nInternal state when error was thrown: line=0, column=20481, record=0, charIndex=277709\n\tat com.univocity.parsers.common.AbstractParser.handleException(AbstractParser.java:402)\n\tat com.univocity.parsers.common.AbstractParser.parseLine(AbstractParser.java:707)\n\tat org.apache.spark.sql.execution.datasources.csv.TextInputCSVDataSource$.$anonfun$inferFromDataset$1(CSVDataSource.scala:125)\n\tat scala.Option.map(Option.scala:230)\n\tat org.apache.spark.sql.execution.datasources.csv.TextInputCSVDataSource$.inferFromDataset(CSVDataSource.scala:125)\n\tat org.apache.spark.sql.execution.datasources.csv.TextInputCSVDataSource$.infer(CSVDataSource.scala:113)\n\tat org.apache.spark.sql.execution.datasources.csv.CSVDataSource.inferSchema(CSVDataSource.scala:65)\n\tat org.apache.spark.sql.execution.datasources.csv.CSVFileFormat.inferSchema(CSVFileFormat.scala:62)\n\tat org.apache.spark.sql.execution.datasources.DataSource.$anonfun$getOrInferFileFormatSchema$11(DataSource.scala:209)\n\tat scala.Option.orElse(Option.scala:447)\n\tat org.apache.spark.sql.execution.datasources.DataSource.getOrInferFileFormatSchema(DataSource.scala:206)\n\tat org.apache.spark.sql.execution.datasources.DataSource.resolveRelation(DataSource.scala:419)\n\tat org.apache.spark.sql.DataFrameReader.loadV1Source(DataFrameReader.scala:325)\n\tat org.apache.spark.sql.DataFrameReader.$anonfun$load$3(DataFrameReader.scala:308)\n\tat scala.Option.getOrElse(Option.scala:189)\n\tat org.apache.spark.sql.DataFrameReader.load(DataFrameReader.scala:308)\n\tat org.apache.spark.sql.DataFrameReader.load(DataFrameReader.scala:240)\n\tat sun.reflect.NativeMethodAccessorImpl.invoke0(Native Method)\n\tat sun.reflect.NativeMethodAccessorImpl.invoke(NativeMethodAccessorImpl.java:62)\n\tat sun.reflect.DelegatingMethodAccessorImpl.invoke(DelegatingMethodAccessorImpl.java:43)\n\tat java.lang.reflect.Method.invoke(Method.java:498)\n\tat py4j.reflection.MethodInvoker.invoke(MethodInvoker.java:244)\n\tat py4j.reflection.ReflectionEngine.invoke(ReflectionEngine.java:357)\n\tat py4j.Gateway.invoke(Gateway.java:282)\n\tat py4j.commands.AbstractCommand.invokeMethod(AbstractCommand.java:132)\n\tat py4j.commands.CallCommand.execute(CallCommand.java:79)\n\tat py4j.GatewayConnection.run(GatewayConnection.java:238)\n\tat java.lang.Thread.run(Thread.java:748)\nCaused by: java.lang.ArrayIndexOutOfBoundsException: 20480\n\tat com.univocity.parsers.common.ParserOutput.valueParsed(ParserOutput.java:373)\n\tat com.univocity.parsers.csv.CsvParser.parseSingleDelimiterRecord(CsvParser.java:189)\n\tat com.univocity.parsers.csv.CsvParser.parseRecord(CsvParser.java:109)\n\tat com.univocity.parsers.common.AbstractParser.parseLine(AbstractParser.java:687)\n\t... 26 more\n\n"
          ]
        }
      ],
      "execution_count": 6,
      "metadata": {}
    },
    {
      "cell_type": "markdown",
      "source": [
        "7. As we saw in T-SQL, we receive a similar error in Spark that the number of columns processed may have exceeded limit of 20480 columns. To work with the data in this file, we need to use more advanced methods, as you will see in the next section below.\n"
      ],
      "metadata": {}
    },
    {
      "cell_type": "markdown",
      "source": [
        "## Handling and fixing poorly formed CSV files\r\n",
        "\r\n",
        "> The steps below provide example code for fixing the poorly-formed CSV file, **sale-20170502.csv** we discovered during exploration of the files in the **wwi-02/sale-poc** folder. This is just one of many ways to handle \"fixing\" a poorly-formed CSV file using Spark.\r\n",
        "\r\n",
        "1. To \"fix\" the bad file, we need to take a programmatic approach, using Python to read in the contents of the file and then parse them to put them into the proper shape.\r\n",
        "\r\n",
        "    > To handle the data being in a single row, we can use the **textFile()** method of our **SparkContext** to read the file as a collection of rows into a resilient distributed dataset (RDD). This allows us to get around the errors around the number of columns because we are essentially getting a single string value stored in a single column.\r\n",
        "\r\n",
        "2. Execute the cell below to load the RDD with data from the file."
      ],
      "metadata": {}
    },
    {
      "cell_type": "code",
      "source": [
        "# Import the NumPy library. NumPy is a python library used for working with arrays.\r\n",
        "import numpy as np\r\n",
        "\r\n",
        "# Read the CSV file into a resilient distributed dataset (RDD) as a text file. This will read each row of the file into rows in an RDD.\r\n",
        "rdd = sc.textFile(f'abfss://raw042772@{adls_account_name}.dfs.core.windows.net/wwi-02/sale-poc/sale-20170502.csv')"
      ],
      "outputs": [
        {
          "output_type": "display_data",
          "data": {
            "application/vnd.livy.statement-meta+json": {
              "spark_pool": "venkysparkpool",
              "session_id": 0,
              "statement_id": 8,
              "state": "finished",
              "livy_statement_state": "available",
              "queued_time": "2022-05-25T01:56:58.2536748Z",
              "session_start_time": null,
              "execution_start_time": "2022-05-25T01:56:58.36394Z",
              "execution_finish_time": "2022-05-25T01:56:58.5107801Z"
            },
            "text/plain": "StatementMeta(venkysparkpool, 0, 8, Finished, Available)"
          },
          "metadata": {}
        }
      ],
      "execution_count": 7,
      "metadata": {}
    },
    {
      "cell_type": "markdown",
      "source": [
        "3. With the data now stored in an RDD, we can access the first, and only, populated row in the RDD, and split that into individual fields. We know from our inspection of the file in Notepad++ that it all the fields are separated by a comma (,), so let's start by splitting on that to create an array of field values. Execute the cell below to create a data array."
      ],
      "metadata": {}
    },
    {
      "cell_type": "code",
      "source": [
        "# Since we know there is only one row, grab the first row of the RDD and split in on the field delimiter (comma).\r\n",
        "data = rdd.first().split(',')\r\n",
        "\r\n",
        "field_count = len(data)\r\n",
        "# Print out the count of fields read into the array.\r\n",
        "print(field_count)"
      ],
      "outputs": [
        {
          "output_type": "display_data",
          "data": {
            "application/vnd.livy.statement-meta+json": {
              "spark_pool": "venkysparkpool",
              "session_id": 0,
              "statement_id": 9,
              "state": "finished",
              "livy_statement_state": "available",
              "queued_time": "2022-05-25T01:57:10.5177196Z",
              "session_start_time": null,
              "execution_start_time": "2022-05-25T01:57:10.6414055Z",
              "execution_finish_time": "2022-05-25T01:57:17.5552836Z"
            },
            "text/plain": "StatementMeta(venkysparkpool, 0, 9, Finished, Available)"
          },
          "metadata": {}
        },
        {
          "output_type": "stream",
          "name": "stdout",
          "text": [
            "6570961"
          ]
        }
      ],
      "execution_count": 8,
      "metadata": {}
    },
    {
      "cell_type": "markdown",
      "source": [
        "4. By splitting the row on the field delimiter, we created an array of all the individual field values in the file, the count of which you can see above.\n",
        "\n",
        "5. Now, run the cell below to do a quick calculation on the expected number of rows that will be generated by parsing every 11 fields into a single row."
      ],
      "metadata": {}
    },
    {
      "cell_type": "code",
      "source": [
        "import math\r\n",
        "\r\n",
        "expected_row_count = math.floor(field_count / 11)\r\n",
        "print(f'The expected row count is: {expected_row_count}')"
      ],
      "outputs": [
        {
          "output_type": "display_data",
          "data": {
            "application/vnd.livy.statement-meta+json": {
              "spark_pool": "venkysparkpool",
              "session_id": 0,
              "statement_id": 10,
              "state": "finished",
              "livy_statement_state": "available",
              "queued_time": "2022-05-25T01:57:36.2895286Z",
              "session_start_time": null,
              "execution_start_time": "2022-05-25T01:57:36.3833717Z",
              "execution_finish_time": "2022-05-25T01:57:36.548667Z"
            },
            "text/plain": "StatementMeta(venkysparkpool, 0, 10, Finished, Available)"
          },
          "metadata": {}
        },
        {
          "output_type": "stream",
          "name": "stdout",
          "text": [
            "The expected row count is: 597360"
          ]
        }
      ],
      "execution_count": 9,
      "metadata": {}
    },
    {
      "cell_type": "markdown",
      "source": [
        "6. Next, let's create an array to store the data associated with each \"row\".\r\n",
        "\r\n",
        "    > We will set the max_index to the number of columns that are expected in each row. We know from our exploration of other files in the **wwi-02/sale-poc** folder that they contain 11 columns, so that is the value we will set.\r\n",
        "\r\n",
        "7. In addition to setting variables, we will use the cell below to loop through the **data** array and assign every 11 values to a row. By doing this, we are able to \"split\" the data that was once a single row into appropriate rows containing the proper data and columns from the file.\r\n",
        "\r\n",
        "8. Execute the cell below to create an array of rows from the file data."
      ],
      "metadata": {}
    },
    {
      "cell_type": "code",
      "source": [
        "# Create an array to store the data associated with each \"row\". Set the max_index to the number of columns that are in each row. This is 11, which we noted above when viewing the schema of the May 1 file.\r\n",
        "row_list = []\r\n",
        "max_index = 11\r\n",
        "\r\n",
        "# Now, we are going to loop through the array of values extracted from the single row of the file and build rows consisting of 11 columns.\r\n",
        "while max_index <= len(data):\r\n",
        "    row = [data[i] for i in np.arange(max_index-11, max_index)]\r\n",
        "    row_list.append(row)\r\n",
        "\r\n",
        "    max_index += 11\r\n",
        "\r\n",
        "print(f'The row array contains {len(row_list)} rows. The expected number of rows was {expected_row_count}.')"
      ],
      "outputs": [
        {
          "output_type": "display_data",
          "data": {
            "application/vnd.livy.statement-meta+json": {
              "spark_pool": "venkysparkpool",
              "session_id": 0,
              "statement_id": 11,
              "state": "finished",
              "livy_statement_state": "available",
              "queued_time": "2022-05-25T01:57:48.4374765Z",
              "session_start_time": null,
              "execution_start_time": "2022-05-25T01:57:48.542917Z",
              "execution_finish_time": "2022-05-25T01:57:53.8422543Z"
            },
            "text/plain": "StatementMeta(venkysparkpool, 0, 11, Finished, Available)"
          },
          "metadata": {}
        },
        {
          "output_type": "stream",
          "name": "stdout",
          "text": [
            "The row array contains 597360 rows. The expected number of rows was 597360."
          ]
        }
      ],
      "execution_count": 10,
      "metadata": {}
    },
    {
      "cell_type": "markdown",
      "source": [
        "9. The last thing we need to do to be able to work with the file data as rows is to read it into a Spark DataFrame. In the cell below, we use the **createDataFrame()** method to convert the **row_list** array into a data frame, which also adding names for the columns. Column names are based on the schema we observed in the well formatted files in the **wwi-02/sale-poc** directory.\r\n",
        "\r\n",
        "10. Execute the cell below to create a data frame containing row data from the file and then display the first 10 rows."
      ],
      "metadata": {}
    },
    {
      "cell_type": "code",
      "source": [
        "# Finally, we can use the row_list we created above to create a DataFrame. We can add to this a schema parameter, which contains the column names we saw in the schema of the first file.\r\n",
        "df_fixed = spark.createDataFrame(row_list,schema=['TransactionId', 'CustomerId', 'ProductId', 'Quantity', 'Price', 'TotalAmount', 'TransactionDateId', 'ProfitAmount', 'Hour', 'Minute', 'StoreId'])\r\n",
        "display(df_fixed.limit(10))"
      ],
      "outputs": [
        {
          "output_type": "display_data",
          "data": {
            "application/vnd.livy.statement-meta+json": {
              "spark_pool": "venkysparkpool",
              "session_id": 0,
              "statement_id": 12,
              "state": "finished",
              "livy_statement_state": "available",
              "queued_time": "2022-05-25T01:58:08.9896922Z",
              "session_start_time": null,
              "execution_start_time": "2022-05-25T01:58:09.0966723Z",
              "execution_finish_time": "2022-05-25T01:58:56.6493851Z"
            },
            "text/plain": "StatementMeta(venkysparkpool, 0, 12, Finished, Available)"
          },
          "metadata": {}
        },
        {
          "output_type": "display_data",
          "data": {
            "application/vnd.synapse.widget-view+json": {
              "widget_id": "b5f00132-39d3-4f76-9bd0-63e20428eccc",
              "widget_type": "Synapse.DataFrame"
            },
            "text/plain": "SynapseWidget(Synapse.DataFrame, b5f00132-39d3-4f76-9bd0-63e20428eccc)"
          },
          "metadata": {}
        }
      ],
      "execution_count": 11,
      "metadata": {
        "diagram": {
          "activateDiagramType": 1,
          "chartConfig": {
            "category": "bar",
            "keys": [
              "TransactionId"
            ],
            "values": [
              "TransactionId"
            ],
            "yLabel": "TransactionId",
            "xLabel": "TransactionId",
            "aggregation": "COUNT",
            "aggByBackend": false
          },
          "aggData": "{\"TransactionId\":{\"5455a4b4-62bd-401a-b5c6-79ea24f30531\":5,\"a4116581-5aad-416a-b767-aefa516737b1\":5}}",
          "isSummary": false,
          "previewData": {
            "filter": null
          },
          "isSql": false
        },
        "collapsed": false
      }
    },
    {
      "cell_type": "markdown",
      "source": [
        "## Write the \"fixed\" file into the data lake\r\n",
        "\r\n",
        "1. The last step we will take as part of our exploration and file fixing process is to write the data back into the data lake, so it can be ingested following the same process as the other files in the **wwi-02/sale-poc** folder.\r\n",
        "\r\n",
        "2. Execute the cell below to save the data frame into the data lake a series of files in a folder named **sale-20170502-fixed**.\r\n",
        "\r\n",
        "    > Note: Spark parallelizes workloads across worker nodes, so when saving files, you will notice they are saved as a collection \"part\" files, and not as a single file. While there are some libraries you can use to create a single file, it is helpful to get used to working with files generated via Spark notebooks as they are natively created.\r\n"
      ],
      "metadata": {}
    },
    {
      "cell_type": "code",
      "source": [
        "df_fixed.write.format('csv').option('header',True).mode('overwrite').option('sep',',').save(f'abfss://raw042772@{adls_account_name}.dfs.core.windows.net/wwi-02/sale-poc/sale-20170502-fixed')"
      ],
      "outputs": [
        {
          "output_type": "display_data",
          "data": {
            "application/vnd.livy.statement-meta+json": {
              "spark_pool": "venkysparkpool",
              "session_id": 0,
              "statement_id": 14,
              "state": "finished",
              "livy_statement_state": "available",
              "queued_time": "2022-05-25T01:59:40.4840834Z",
              "session_start_time": null,
              "execution_start_time": "2022-05-25T01:59:40.5827184Z",
              "execution_finish_time": "2022-05-25T01:59:47.4621891Z"
            },
            "text/plain": "StatementMeta(venkysparkpool, 0, 14, Finished, Available)"
          },
          "metadata": {}
        }
      ],
      "execution_count": 13,
      "metadata": {}
    },
    {
      "cell_type": "code",
      "source": [
        "from pyspark.sql import SparkSession\r\n",
        "from pyspark.sql.types import *\r\n",
        "from pyspark.sql.functions import *\r\n",
        "\r\n",
        "profitByDateProduct = (df.groupBy(\"TransactionDate\",\"ProductId\")\r\n",
        "    .agg(\r\n",
        "        sum(\"ProfitAmount\").alias(\"(sum)ProfitAmount\"),\r\n",
        "        round(avg(\"Quantity\"), 4).alias(\"(avg)Quantity\"),\r\n",
        "        sum(\"Quantity\").alias(\"(sum)Quantity\"))\r\n",
        "    .orderBy(\"TransactionDate\"))\r\n",
        "display(profitByDateProduct.limit(100))"
      ],
      "outputs": [
        {
          "output_type": "display_data",
          "data": {
            "application/vnd.livy.statement-meta+json": {
              "spark_pool": "venkysparkpool",
              "session_id": 0,
              "statement_id": 15,
              "state": "finished",
              "livy_statement_state": "available",
              "queued_time": "2022-05-25T02:00:15.7721466Z",
              "session_start_time": null,
              "execution_start_time": "2022-05-25T02:00:15.8723268Z",
              "execution_finish_time": "2022-05-25T02:00:21.2081836Z"
            },
            "text/plain": "StatementMeta(venkysparkpool, 0, 15, Finished, Available)"
          },
          "metadata": {}
        },
        {
          "output_type": "display_data",
          "data": {
            "application/vnd.synapse.widget-view+json": {
              "widget_id": "8e3ffe95-0ef4-47f6-98fa-107a7c998114",
              "widget_type": "Synapse.DataFrame"
            },
            "text/plain": "SynapseWidget(Synapse.DataFrame, 8e3ffe95-0ef4-47f6-98fa-107a7c998114)"
          },
          "metadata": {}
        }
      ],
      "execution_count": 14,
      "metadata": {
        "jupyter": {
          "source_hidden": false,
          "outputs_hidden": false
        },
        "nteract": {
          "transient": {
            "deleting": false
          }
        },
        "collapsed": false
      }
    },
    {
      "cell_type": "markdown",
      "source": [
        "## Inspect the fixed file in the data lake\r\n",
        "\r\n",
        "1. With the fixed file written to the data lake, you can quickly inpsect it to verify the files are now formatted properly. Select the **wwi-02** tab above to view the **sale-poc** folder.\r\n",
        "2. Refresh the folder view (expand the **More** menu if necessary) and then open the **sale-20170502-fixed** folder.\r\n",
        "3. In the **sale-20170502-fixed** folder, right-click the first file whose name begins with **part** and whose extension is **.csv** and select **Preview** from the context menu.\r\n",
        "4. In the **Preview** dialog, verify you see the proper columns and that the data looks valid in each field.\r\n",
        "\r\n",
        "## Wrap-up\r\n",
        "\r\n",
        "Throughout this exercise, you used a Spark notebook to explore data stored within files in the data lake. You used Python code to extract data from a poorly formatted CSV file, assemble the data from that file into proper rows, and then write the \"fixed\" file back out into your data lake.\r\n",
        "\r\n",
        "You can now return to the lab guide to continue with the next section of Lab 2.\r\n"
      ],
      "metadata": {}
    }
  ],
  "metadata": {
    "language_info": {
      "name": "python"
    },
    "kernelspec": {
      "name": "synapse_pyspark",
      "language": "Python",
      "display_name": "Synapse PySpark"
    },
    "kernel_info": {
      "name": "synapse_pyspark"
    },
    "save_output": true,
    "synapse_widget": {
      "version": "0.1",
      "state": {
        "9b7433b8-88d7-42b8-a098-096e98db1e82": {
          "type": "Synapse.DataFrame",
          "sync_state": {
            "table": {
              "rows": [
                {
                  "0": "1c97cc49-d769-4cf7-8c5f-ae7be8c6cbf9",
                  "1": "91427",
                  "2": "2731",
                  "3": "2",
                  "4": "29.29",
                  "5": "64.438",
                  "6": "20170501",
                  "7": "21.406",
                  "8": "11",
                  "9": "9",
                  "10": "3516"
                },
                {
                  "0": "1c97cc49-d769-4cf7-8c5f-ae7be8c6cbf9",
                  "1": "91427",
                  "2": "2440",
                  "3": "1",
                  "4": "19.33",
                  "5": "21.263",
                  "6": "20170501",
                  "7": "5.665",
                  "8": "11",
                  "9": "9",
                  "10": "3516"
                },
                {
                  "0": "1c97cc49-d769-4cf7-8c5f-ae7be8c6cbf9",
                  "1": "91427",
                  "2": "3514",
                  "3": "3",
                  "4": "34.78",
                  "5": "114.774",
                  "6": "20170501",
                  "7": "37.323",
                  "8": "11",
                  "9": "9",
                  "10": "3516"
                },
                {
                  "0": "1c97cc49-d769-4cf7-8c5f-ae7be8c6cbf9",
                  "1": "91427",
                  "2": "213",
                  "3": "4",
                  "4": "29.07",
                  "5": "127.908",
                  "6": "20170501",
                  "7": "32.208",
                  "8": "11",
                  "9": "9",
                  "10": "3516"
                },
                {
                  "0": "1c97cc49-d769-4cf7-8c5f-ae7be8c6cbf9",
                  "1": "91427",
                  "2": "167",
                  "3": "4",
                  "4": "28.69",
                  "5": "126.236",
                  "6": "20170501",
                  "7": "41.096",
                  "8": "11",
                  "9": "9",
                  "10": "3516"
                },
                {
                  "0": "1c97cc49-d769-4cf7-8c5f-ae7be8c6cbf9",
                  "1": "91427",
                  "2": "50",
                  "3": "3",
                  "4": "25.46",
                  "5": "84.018",
                  "6": "20170501",
                  "7": "22.209",
                  "8": "11",
                  "9": "9",
                  "10": "3516"
                },
                {
                  "0": "3ea01928-6185-40af-bc37-483da893adad",
                  "1": "91431",
                  "2": "1710",
                  "3": "1",
                  "4": "26.04",
                  "5": "28.644",
                  "6": "20170501",
                  "7": "7.26",
                  "8": "11",
                  "9": "18",
                  "10": "2818"
                },
                {
                  "0": "3ea01928-6185-40af-bc37-483da893adad",
                  "1": "91431",
                  "2": "2412",
                  "3": "1",
                  "4": "26.76",
                  "5": "29.436",
                  "6": "20170501",
                  "7": "9.185",
                  "8": "11",
                  "9": "18",
                  "10": "2818"
                },
                {
                  "0": "3ea01928-6185-40af-bc37-483da893adad",
                  "1": "91431",
                  "2": "3442",
                  "3": "2",
                  "4": "25.99",
                  "5": "57.178",
                  "6": "20170501",
                  "7": "21.23",
                  "8": "11",
                  "9": "18",
                  "10": "2818"
                },
                {
                  "0": "3ea01928-6185-40af-bc37-483da893adad",
                  "1": "91431",
                  "2": "2474",
                  "3": "4",
                  "4": "28.11",
                  "5": "123.684",
                  "6": "20170501",
                  "7": "44.924",
                  "8": "11",
                  "9": "18",
                  "10": "2818"
                }
              ],
              "schema": [
                {
                  "key": "0",
                  "name": "TransactionId",
                  "type": "string"
                },
                {
                  "key": "1",
                  "name": "CustomerId",
                  "type": "int"
                },
                {
                  "key": "2",
                  "name": "ProductId",
                  "type": "int"
                },
                {
                  "key": "3",
                  "name": "Quantity",
                  "type": "int"
                },
                {
                  "key": "4",
                  "name": "Price",
                  "type": "double"
                },
                {
                  "key": "5",
                  "name": "TotalAmount",
                  "type": "double"
                },
                {
                  "key": "6",
                  "name": "TransactionDate",
                  "type": "int"
                },
                {
                  "key": "7",
                  "name": "ProfitAmount",
                  "type": "double"
                },
                {
                  "key": "8",
                  "name": "Hour",
                  "type": "int"
                },
                {
                  "key": "9",
                  "name": "Minute",
                  "type": "int"
                },
                {
                  "key": "10",
                  "name": "StoreId",
                  "type": "int"
                }
              ],
              "truncated": false
            },
            "isSummary": false,
            "language": "scala"
          },
          "persist_state": {
            "view": {
              "type": "details",
              "tableOptions": {},
              "chartOptions": {
                "chartType": "bar",
                "aggregationType": "sum",
                "categoryFieldKeys": [
                  "0"
                ],
                "seriesFieldKeys": [
                  "1"
                ],
                "isStacked": false
              }
            }
          }
        },
        "a2977882-fd01-4d51-9de5-a0c8941f4891": {
          "type": "Synapse.DataFrame",
          "sync_state": {
            "table": {
              "rows": [
                {},
                {
                  "0": "3",
                  "1": "220"
                },
                {
                  "0": "3",
                  "1": "110"
                },
                {
                  "0": "3",
                  "1": "1365"
                },
                {
                  "0": "3",
                  "1": "2641"
                },
                {
                  "0": "3",
                  "1": "4581"
                },
                {
                  "0": "3",
                  "1": "2"
                },
                {
                  "0": "11",
                  "1": "4763"
                },
                {
                  "0": "11",
                  "1": "4070"
                },
                {
                  "0": "11",
                  "1": "582"
                },
                {
                  "0": "11",
                  "1": "3323"
                },
                {
                  "0": "11",
                  "1": "70"
                },
                {
                  "0": "11",
                  "1": "32"
                },
                {
                  "0": "11",
                  "1": "194"
                },
                {
                  "0": "41",
                  "1": "3321"
                },
                {
                  "0": "41",
                  "1": "88"
                },
                {
                  "0": "41",
                  "1": "2726"
                },
                {
                  "0": "41",
                  "1": "3564"
                },
                {
                  "0": "41",
                  "1": "3009"
                },
                {
                  "0": "41",
                  "1": "126"
                },
                {
                  "0": "41",
                  "1": "84"
                },
                {
                  "0": "41",
                  "1": "134"
                },
                {
                  "0": "41",
                  "1": "4660"
                },
                {
                  "0": "41",
                  "1": "1091"
                },
                {
                  "0": "41",
                  "1": "186"
                },
                {
                  "0": "41",
                  "1": "244"
                },
                {
                  "0": "42",
                  "1": "2836"
                },
                {
                  "0": "42",
                  "1": "3256"
                },
                {
                  "0": "42",
                  "1": "57"
                },
                {
                  "0": "42",
                  "1": "35"
                },
                {
                  "0": "42",
                  "1": "4843"
                },
                {
                  "0": "42",
                  "1": "2996"
                },
                {
                  "0": "42",
                  "1": "4544"
                },
                {
                  "0": "42",
                  "1": "229"
                },
                {
                  "0": "43",
                  "1": "4220"
                },
                {
                  "0": "43",
                  "1": "30"
                },
                {
                  "0": "43",
                  "1": "2031"
                },
                {
                  "0": "43",
                  "1": "153"
                },
                {
                  "0": "43",
                  "1": "2776"
                },
                {
                  "0": "43",
                  "1": "412"
                },
                {
                  "0": "43",
                  "1": "3478"
                },
                {
                  "0": "52",
                  "1": "2711"
                },
                {
                  "0": "52",
                  "1": "160"
                },
                {
                  "0": "52",
                  "1": "619"
                },
                {
                  "0": "52",
                  "1": "209"
                },
                {
                  "0": "52",
                  "1": "4830"
                },
                {
                  "0": "52",
                  "1": "609"
                },
                {
                  "0": "52",
                  "1": "686"
                },
                {
                  "0": "52",
                  "1": "18"
                },
                {
                  "0": "52",
                  "1": "3604"
                },
                {
                  "0": "52",
                  "1": "4260"
                },
                {
                  "0": "61",
                  "1": "176"
                },
                {
                  "0": "61",
                  "1": "2430"
                },
                {
                  "0": "61",
                  "1": "2482"
                },
                {
                  "0": "61",
                  "1": "2655"
                },
                {
                  "0": "61",
                  "1": "4196"
                },
                {
                  "0": "61",
                  "1": "3663"
                },
                {
                  "0": "61",
                  "1": "112"
                },
                {
                  "0": "61",
                  "1": "1302"
                },
                {
                  "0": "61",
                  "1": "37"
                },
                {
                  "0": "61",
                  "1": "1329"
                },
                {
                  "0": "61",
                  "1": "2751"
                },
                {
                  "0": "64",
                  "1": "2551"
                },
                {
                  "0": "64",
                  "1": "48"
                },
                {
                  "0": "64",
                  "1": "3039"
                },
                {
                  "0": "64",
                  "1": "263"
                },
                {
                  "0": "64",
                  "1": "3352"
                },
                {
                  "0": "64",
                  "1": "1140"
                },
                {
                  "0": "64",
                  "1": "2240"
                },
                {
                  "0": "64",
                  "1": "1397"
                },
                {
                  "0": "64",
                  "1": "2229"
                },
                {
                  "0": "64",
                  "1": "3779"
                },
                {
                  "0": "64",
                  "1": "1447"
                },
                {
                  "0": "64",
                  "1": "169"
                },
                {
                  "0": "70",
                  "1": "226"
                },
                {
                  "0": "70",
                  "1": "1189"
                },
                {
                  "0": "70",
                  "1": "3645"
                },
                {
                  "0": "70",
                  "1": "2549"
                },
                {
                  "0": "70",
                  "1": "3514"
                },
                {
                  "0": "70",
                  "1": "4109"
                },
                {
                  "0": "70",
                  "1": "1911"
                },
                {
                  "0": "70",
                  "1": "19"
                },
                {
                  "0": "70",
                  "1": "2648"
                },
                {
                  "0": "70",
                  "1": "4317"
                },
                {
                  "0": "70",
                  "1": "1564"
                },
                {
                  "0": "88",
                  "1": "1062"
                },
                {
                  "0": "88",
                  "1": "1604"
                },
                {
                  "0": "88",
                  "1": "172"
                },
                {
                  "0": "88",
                  "1": "3004"
                },
                {
                  "0": "88",
                  "1": "7"
                },
                {
                  "0": "88",
                  "1": "3551"
                },
                {
                  "0": "88",
                  "1": "808"
                },
                {
                  "0": "88",
                  "1": "2461"
                },
                {
                  "0": "88",
                  "1": "3231"
                },
                {
                  "0": "91",
                  "1": "2995"
                },
                {
                  "0": "91",
                  "1": "171"
                },
                {
                  "0": "91",
                  "1": "4622"
                },
                {
                  "0": "91",
                  "1": "1757"
                },
                {
                  "0": "91",
                  "1": "323"
                },
                {
                  "0": "91",
                  "1": "607"
                }
              ],
              "schema": [
                {
                  "key": "0",
                  "name": "CustomerId",
                  "type": "int"
                },
                {
                  "key": "1",
                  "name": "ProductId",
                  "type": "int"
                }
              ],
              "truncated": false
            },
            "isSummary": false,
            "language": "scala"
          },
          "persist_state": {
            "view": {
              "type": "details",
              "tableOptions": {},
              "chartOptions": {
                "chartType": "bar",
                "aggregationType": "sum",
                "categoryFieldKeys": [
                  "1"
                ],
                "seriesFieldKeys": [
                  "0"
                ],
                "isStacked": false
              }
            }
          }
        },
        "b5f00132-39d3-4f76-9bd0-63e20428eccc": {
          "type": "Synapse.DataFrame",
          "sync_state": {
            "table": {
              "rows": [
                {
                  "0": "586682a8-db73-4e45-a376-c7553a44b248",
                  "1": "2",
                  "2": "610",
                  "3": "4",
                  "4": "35.790000000000000000",
                  "5": "157.4760000000000127151622564",
                  "6": "20170502",
                  "7": "53.63600000000000433075797446",
                  "8": "23",
                  "9": "17",
                  "10": "9559"
                },
                {
                  "0": "586682a8-db73-4e45-a376-c7553a44b248",
                  "1": "2",
                  "2": "1321",
                  "3": "3",
                  "4": "22.080000000000000000",
                  "5": "72.86400000000000588329385209",
                  "6": "20170502",
                  "7": "19.66800000000000158806301442",
                  "8": "23",
                  "9": "17",
                  "10": "9559"
                },
                {
                  "0": "586682a8-db73-4e45-a376-c7553a44b248",
                  "1": "2",
                  "2": "4364",
                  "3": "1",
                  "4": "16.150000000000000000",
                  "5": "17.76500000000000143440814782",
                  "6": "20170502",
                  "7": "5.896000000000000476063632959",
                  "8": "23",
                  "9": "17",
                  "10": "9559"
                },
                {
                  "0": "586682a8-db73-4e45-a376-c7553a44b248",
                  "1": "2",
                  "2": "4691",
                  "3": "2",
                  "4": "35.840000000000000000",
                  "5": "78.84800000000000636646291241",
                  "6": "20170502",
                  "7": "24.20000000000000195399252334",
                  "8": "23",
                  "9": "17",
                  "10": "9559"
                },
                {
                  "0": "586682a8-db73-4e45-a376-c7553a44b248",
                  "1": "2",
                  "2": "4691",
                  "3": "3",
                  "4": "35.840000000000000000",
                  "5": "118.2720000000000095496943686",
                  "6": "20170502",
                  "7": "36.30000000000000293098878501",
                  "8": "23",
                  "9": "17",
                  "10": "9559"
                },
                {
                  "0": "586682a8-db73-4e45-a376-c7553a44b248",
                  "1": "2",
                  "2": "2392",
                  "3": "1",
                  "4": "32.900000000000000000",
                  "5": "36.19000000000000292210700081",
                  "6": "20170502",
                  "7": "10.41700000000000084110496346",
                  "8": "23",
                  "9": "17",
                  "10": "9559"
                },
                {
                  "0": "586682a8-db73-4e45-a376-c7553a44b248",
                  "1": "2",
                  "2": "1347",
                  "3": "2",
                  "4": "21.810000000000000000",
                  "5": "47.98200000000000387423426673",
                  "6": "20170502",
                  "7": "12.82600000000000103561603737",
                  "8": "23",
                  "9": "17",
                  "10": "9559"
                },
                {
                  "0": "586682a8-db73-4e45-a376-c7553a44b248",
                  "1": "2",
                  "2": "402",
                  "3": "2",
                  "4": "25.090000000000000000",
                  "5": "55.19800000000000445687931006",
                  "6": "20170502",
                  "7": "12.84800000000000103739239421",
                  "8": "23",
                  "9": "17",
                  "10": "9559"
                },
                {
                  "0": "586682a8-db73-4e45-a376-c7553a44b248",
                  "1": "2",
                  "2": "56",
                  "3": "3",
                  "4": "33.300000000000000000",
                  "5": "109.8900000000000088729024128",
                  "6": "20170502",
                  "7": "29.43600000000000237676545112",
                  "8": "23",
                  "9": "17",
                  "10": "9559"
                },
                {
                  "0": "586682a8-db73-4e45-a376-c7553a44b248",
                  "1": "2",
                  "2": "157",
                  "3": "2",
                  "4": "28.870000000000000000",
                  "5": "63.51400000000000512834219535",
                  "6": "20170502",
                  "7": "14.43200000000000116529008665",
                  "8": "23",
                  "9": "17",
                  "10": "9559"
                }
              ],
              "schema": [
                {
                  "key": "0",
                  "name": "TransactionId",
                  "type": "string"
                },
                {
                  "key": "1",
                  "name": "CustomerId",
                  "type": "string"
                },
                {
                  "key": "2",
                  "name": "ProductId",
                  "type": "string"
                },
                {
                  "key": "3",
                  "name": "Quantity",
                  "type": "string"
                },
                {
                  "key": "4",
                  "name": "Price",
                  "type": "string"
                },
                {
                  "key": "5",
                  "name": "TotalAmount",
                  "type": "string"
                },
                {
                  "key": "6",
                  "name": "TransactionDateId",
                  "type": "string"
                },
                {
                  "key": "7",
                  "name": "ProfitAmount",
                  "type": "string"
                },
                {
                  "key": "8",
                  "name": "Hour",
                  "type": "string"
                },
                {
                  "key": "9",
                  "name": "Minute",
                  "type": "string"
                },
                {
                  "key": "10",
                  "name": "StoreId",
                  "type": "string"
                }
              ],
              "truncated": false
            },
            "isSummary": false,
            "language": "scala"
          },
          "persist_state": {
            "view": {
              "type": "details",
              "tableOptions": {},
              "chartOptions": {
                "chartType": "bar",
                "aggregationType": "count",
                "categoryFieldKeys": [
                  "0"
                ],
                "seriesFieldKeys": [
                  "0"
                ],
                "isStacked": false
              }
            }
          }
        },
        "8e3ffe95-0ef4-47f6-98fa-107a7c998114": {
          "type": "Synapse.DataFrame",
          "sync_state": {
            "table": {
              "rows": [
                {},
                {
                  "0": "20170501",
                  "1": "2482",
                  "2": "2697.156",
                  "3": "2.5273",
                  "4": "417"
                },
                {
                  "0": "20170501",
                  "1": "570",
                  "2": "3015.87",
                  "3": "2.4841",
                  "4": "390"
                },
                {
                  "0": "20170501",
                  "1": "1698",
                  "2": "3415.4119999999994",
                  "3": "2.5634",
                  "4": "364"
                },
                {
                  "0": "20170501",
                  "1": "2452",
                  "2": "3011.5799999999995",
                  "3": "2.4923",
                  "4": "324"
                },
                {
                  "0": "20170501",
                  "1": "1274",
                  "2": "2827.77",
                  "3": "2.4444",
                  "4": "330"
                },
                {
                  "0": "20170501",
                  "1": "632",
                  "2": "2925.78",
                  "3": "2.5135",
                  "4": "372"
                },
                {
                  "0": "20170501",
                  "1": "2983",
                  "2": "3869.635",
                  "3": "2.6485",
                  "4": "437"
                },
                {
                  "0": "20170501",
                  "1": "3169",
                  "2": "2967.1620000000003",
                  "3": "2.5594",
                  "4": "366"
                },
                {
                  "0": "20170501",
                  "1": "4079",
                  "2": "2012.472",
                  "3": "2.3876",
                  "4": "308"
                },
                {
                  "0": "20170501",
                  "1": "3627",
                  "2": "4000.1499999999996",
                  "3": "2.518",
                  "4": "350"
                },
                {
                  "0": "20170501",
                  "1": "730",
                  "2": "4620.000000000001",
                  "3": "2.4242",
                  "4": "400"
                },
                {
                  "0": "20170501",
                  "1": "4107",
                  "2": "2483.2500000000005",
                  "3": "2.4476",
                  "4": "350"
                },
                {
                  "0": "20170501",
                  "1": "1313",
                  "2": "2835.162",
                  "3": "2.4808",
                  "4": "387"
                },
                {
                  "0": "20170501",
                  "1": "1850",
                  "2": "3420.923",
                  "3": "2.5035",
                  "4": "353"
                },
                {
                  "0": "20170501",
                  "1": "3252",
                  "2": "3599.3319999999994",
                  "3": "2.5035",
                  "4": "358"
                },
                {
                  "0": "20170501",
                  "1": "3773",
                  "2": "2926.77",
                  "3": "2.5674",
                  "4": "362"
                },
                {
                  "0": "20170501",
                  "1": "2937",
                  "2": "5427.861999999999",
                  "3": "2.5894",
                  "4": "391"
                },
                {
                  "0": "20170501",
                  "1": "2068",
                  "2": "2199.659",
                  "3": "2.6385",
                  "4": "343"
                },
                {
                  "0": "20170501",
                  "1": "599",
                  "2": "4263.435",
                  "3": "2.4146",
                  "4": "297"
                },
                {
                  "0": "20170501",
                  "1": "2224",
                  "2": "4252.149",
                  "3": "2.6226",
                  "4": "417"
                },
                {
                  "0": "20170501",
                  "1": "1672",
                  "2": "1800.9750000000004",
                  "3": "2.5",
                  "4": "295"
                },
                {
                  "0": "20170501",
                  "1": "2601",
                  "2": "3927.297",
                  "3": "2.3113",
                  "4": "349"
                },
                {
                  "0": "20170501",
                  "1": "222",
                  "2": "14497.19700000001",
                  "3": "2.5041",
                  "4": "1833"
                },
                {
                  "0": "20170501",
                  "1": "2185",
                  "2": "3201.9900000000007",
                  "3": "2.6271",
                  "4": "310"
                },
                {
                  "0": "20170501",
                  "1": "4974",
                  "2": "3066.7999999999997",
                  "3": "2.4638",
                  "4": "340"
                },
                {
                  "0": "20170501",
                  "1": "3102",
                  "2": "3631.452000000001",
                  "3": "2.5068",
                  "4": "366"
                },
                {
                  "0": "20170501",
                  "1": "1059",
                  "2": "3400.8699999999994",
                  "3": "2.6708",
                  "4": "430"
                },
                {
                  "0": "20170501",
                  "1": "4172",
                  "2": "4330.094999999999",
                  "3": "2.5746",
                  "4": "345"
                },
                {
                  "0": "20170501",
                  "1": "4340",
                  "2": "2960.0999999999995",
                  "3": "2.6174",
                  "4": "390"
                },
                {
                  "0": "20170501",
                  "1": "301",
                  "2": "3470.0159999999996",
                  "3": "2.4636",
                  "4": "372"
                },
                {
                  "0": "20170501",
                  "1": "3021",
                  "2": "1748.4279999999997",
                  "3": "2.4496",
                  "4": "316"
                },
                {
                  "0": "20170501",
                  "1": "4937",
                  "2": "2294.9300000000003",
                  "3": "2.5203",
                  "4": "310"
                },
                {
                  "0": "20170501",
                  "1": "1963",
                  "2": "2362.7999999999997",
                  "3": "2.4354",
                  "4": "358"
                },
                {
                  "0": "20170501",
                  "1": "2362",
                  "2": "3958.1520000000005",
                  "3": "2.6565",
                  "4": "348"
                },
                {
                  "0": "20170501",
                  "1": "3501",
                  "2": "3129.94",
                  "3": "2.3931",
                  "4": "347"
                },
                {
                  "0": "20170501",
                  "1": "4320",
                  "2": "2337.093",
                  "3": "2.6875",
                  "4": "387"
                },
                {
                  "0": "20170501",
                  "1": "965",
                  "2": "4495.392",
                  "3": "2.4444",
                  "4": "396"
                },
                {
                  "0": "20170501",
                  "1": "3343",
                  "2": "3625.2149999999997",
                  "3": "2.6096",
                  "4": "381"
                },
                {
                  "0": "20170501",
                  "1": "15",
                  "2": "15286.699999999995",
                  "3": "2.5006",
                  "4": "2138"
                },
                {
                  "0": "20170501",
                  "1": "1452",
                  "2": "4458.608",
                  "3": "2.5578",
                  "4": "376"
                },
                {
                  "0": "20170501",
                  "1": "4414",
                  "2": "3122.9000000000005",
                  "3": "2.3944",
                  "4": "340"
                },
                {
                  "0": "20170501",
                  "1": "4923",
                  "2": "3102.7260000000006",
                  "3": "2.3731",
                  "4": "318"
                },
                {
                  "0": "20170501",
                  "1": "4684",
                  "2": "4120.643999999999",
                  "3": "2.4474",
                  "4": "372"
                },
                {
                  "0": "20170501",
                  "1": "4672",
                  "2": "1148.862",
                  "3": "2.4143",
                  "4": "338"
                },
                {
                  "0": "20170501",
                  "1": "3747",
                  "2": "3474.9000000000015",
                  "3": "2.5194",
                  "4": "325"
                },
                {
                  "0": "20170501",
                  "1": "1633",
                  "2": "2963.928000000001",
                  "3": "2.4524",
                  "4": "309"
                },
                {
                  "0": "20170501",
                  "1": "4433",
                  "2": "1760.0",
                  "3": "2.4806",
                  "4": "320"
                },
                {
                  "0": "20170501",
                  "1": "1137",
                  "2": "3342.4819999999995",
                  "3": "2.4323",
                  "4": "377"
                },
                {
                  "0": "20170501",
                  "1": "4132",
                  "2": "4018.608",
                  "3": "2.4968",
                  "4": "387"
                },
                {
                  "0": "20170501",
                  "1": "4504",
                  "2": "3498.659999999999",
                  "3": "2.5503",
                  "4": "380"
                },
                {
                  "0": "20170501",
                  "1": "651",
                  "2": "2986.1589999999997",
                  "3": "2.5317",
                  "4": "319"
                },
                {
                  "0": "20170501",
                  "1": "4602",
                  "2": "2761.2860000000005",
                  "3": "2.5656",
                  "4": "313"
                },
                {
                  "0": "20170501",
                  "1": "1936",
                  "2": "2906.6399999999994",
                  "3": "2.7388",
                  "4": "367"
                },
                {
                  "0": "20170501",
                  "1": "1933",
                  "2": "2788.8300000000004",
                  "3": "2.5633",
                  "4": "405"
                },
                {
                  "0": "20170501",
                  "1": "3332",
                  "2": "3063.698000000001",
                  "3": "2.4724",
                  "4": "314"
                },
                {
                  "0": "20170501",
                  "1": "2136",
                  "2": "2391.6749999999997",
                  "3": "2.4436",
                  "4": "325"
                },
                {
                  "0": "20170501",
                  "1": "213",
                  "2": "15991.271999999999",
                  "3": "2.5235",
                  "4": "1986"
                },
                {
                  "0": "20170501",
                  "1": "4583",
                  "2": "3270.2670000000016",
                  "3": "2.5435",
                  "4": "351"
                },
                {
                  "0": "20170501",
                  "1": "127",
                  "2": "20028.029999999984",
                  "3": "2.4721",
                  "4": "2215"
                },
                {
                  "0": "20170501",
                  "1": "864",
                  "2": "2969.2520000000004",
                  "3": "2.5822",
                  "4": "377"
                },
                {
                  "0": "20170501",
                  "1": "2858",
                  "2": "4940.672",
                  "3": "2.3806",
                  "4": "319"
                },
                {
                  "0": "20170501",
                  "1": "4144",
                  "2": "1541.551",
                  "3": "2.4514",
                  "4": "353"
                },
                {
                  "0": "20170501",
                  "1": "2003",
                  "2": "2527.5249999999996",
                  "3": "2.4074",
                  "4": "325"
                },
                {
                  "0": "20170501",
                  "1": "289",
                  "2": "2247.8500000000004",
                  "3": "2.2761",
                  "4": "305"
                },
                {
                  "0": "20170501",
                  "1": "3590",
                  "2": "3873.232000000002",
                  "3": "2.5724",
                  "4": "373"
                },
                {
                  "0": "20170501",
                  "1": "3648",
                  "2": "2896.344000000001",
                  "3": "2.391",
                  "4": "318"
                },
                {
                  "0": "20170501",
                  "1": "2673",
                  "2": "1879.2510000000002",
                  "3": "2.4891",
                  "4": "341"
                },
                {
                  "0": "20170501",
                  "1": "160",
                  "2": "12212.332",
                  "3": "2.5359",
                  "4": "1732"
                },
                {
                  "0": "20170501",
                  "1": "2995",
                  "2": "2911.5240000000013",
                  "3": "2.5849",
                  "4": "411"
                },
                {
                  "0": "20170501",
                  "1": "4380",
                  "2": "2926.5390000000007",
                  "3": "2.5537",
                  "4": "309"
                },
                {
                  "0": "20170501",
                  "1": "2928",
                  "2": "3357.2000000000003",
                  "3": "2.5455",
                  "4": "280"
                },
                {
                  "0": "20170501",
                  "1": "3380",
                  "2": "3335.7389999999996",
                  "3": "2.5034",
                  "4": "373"
                },
                {
                  "0": "20170501",
                  "1": "4176",
                  "2": "2988.7000000000003",
                  "3": "2.6027",
                  "4": "380"
                },
                {
                  "0": "20170501",
                  "1": "1652",
                  "2": "4928.770000000001",
                  "3": "2.5874",
                  "4": "370"
                },
                {
                  "0": "20170501",
                  "1": "3253",
                  "2": "2464.9019999999996",
                  "3": "2.5106",
                  "4": "354"
                },
                {
                  "0": "20170501",
                  "1": "2308",
                  "2": "2271.5",
                  "3": "2.5",
                  "4": "295"
                },
                {
                  "0": "20170501",
                  "1": "665",
                  "2": "2603.194",
                  "3": "2.4891",
                  "4": "341"
                },
                {
                  "0": "20170501",
                  "1": "1677",
                  "2": "3449.159999999999",
                  "3": "2.549",
                  "4": "390"
                },
                {
                  "0": "20170501",
                  "1": "3939",
                  "2": "2874.2999999999993",
                  "3": "2.4809",
                  "4": "325"
                },
                {
                  "0": "20170501",
                  "1": "3024",
                  "2": "5195.959999999998",
                  "3": "2.481",
                  "4": "392"
                },
                {
                  "0": "20170501",
                  "1": "589",
                  "2": "3164.271",
                  "3": "2.5099",
                  "4": "379"
                },
                {
                  "0": "20170501",
                  "1": "3814",
                  "2": "3802.799",
                  "3": "2.6181",
                  "4": "377"
                },
                {
                  "0": "20170501",
                  "1": "3935",
                  "2": "3698.1449999999995",
                  "3": "2.4474",
                  "4": "279"
                },
                {
                  "0": "20170501",
                  "1": "4196",
                  "2": "2741.2",
                  "3": "2.5225",
                  "4": "280"
                },
                {
                  "0": "20170501",
                  "1": "4836",
                  "2": "4549.6990000000005",
                  "3": "2.4966",
                  "4": "367"
                },
                {
                  "0": "20170501",
                  "1": "2027",
                  "2": "3001.152",
                  "3": "2.4889",
                  "4": "336"
                },
                {
                  "0": "20170501",
                  "1": "3440",
                  "2": "3292.2119999999995",
                  "3": "2.5345",
                  "4": "294"
                },
                {
                  "0": "20170501",
                  "1": "2850",
                  "2": "5035.536000000001",
                  "3": "2.6053",
                  "4": "396"
                },
                {
                  "0": "20170501",
                  "1": "3669",
                  "2": "3926.9999999999995",
                  "3": "2.6119",
                  "4": "350"
                },
                {
                  "0": "20170501",
                  "1": "1722",
                  "2": "3830.573999999999",
                  "3": "2.6458",
                  "4": "381"
                },
                {
                  "0": "20170501",
                  "1": "4984",
                  "2": "2945.25",
                  "3": "2.5926",
                  "4": "350"
                },
                {
                  "0": "20170501",
                  "1": "4288",
                  "2": "3252.0509999999995",
                  "3": "2.5276",
                  "4": "321"
                },
                {
                  "0": "20170501",
                  "1": "2574",
                  "2": "2063.5559999999996",
                  "3": "2.4733",
                  "4": "324"
                },
                {
                  "0": "20170501",
                  "1": "4973",
                  "2": "3474.547999999998",
                  "3": "2.5375",
                  "4": "406"
                },
                {
                  "0": "20170501",
                  "1": "2171",
                  "2": "2980.7799999999997",
                  "3": "2.4286",
                  "4": "340"
                },
                {
                  "0": "20170501",
                  "1": "4249",
                  "2": "4257.385",
                  "3": "2.5639",
                  "4": "341"
                },
                {
                  "0": "20170501",
                  "1": "3272",
                  "2": "3518.8999999999996",
                  "3": "2.4648",
                  "4": "350"
                },
                {
                  "0": "20170501",
                  "1": "4800",
                  "2": "3597.066",
                  "3": "2.3786",
                  "4": "333"
                },
                {
                  "0": "20170501",
                  "1": "4347",
                  "2": "3174.9300000000003",
                  "3": "2.3894",
                  "4": "270"
                }
              ],
              "schema": [
                {
                  "key": "0",
                  "name": "TransactionDate",
                  "type": "int"
                },
                {
                  "key": "1",
                  "name": "ProductId",
                  "type": "int"
                },
                {
                  "key": "2",
                  "name": "(sum)ProfitAmount",
                  "type": "double"
                },
                {
                  "key": "3",
                  "name": "(avg)Quantity",
                  "type": "double"
                },
                {
                  "key": "4",
                  "name": "(sum)Quantity",
                  "type": "bigint"
                }
              ],
              "truncated": false
            },
            "isSummary": false,
            "language": "scala"
          },
          "persist_state": {
            "view": {
              "type": "details",
              "tableOptions": {},
              "chartOptions": {
                "chartType": "bar",
                "aggregationType": "sum",
                "categoryFieldKeys": [
                  "1"
                ],
                "seriesFieldKeys": [
                  "0"
                ],
                "isStacked": false
              }
            }
          }
        }
      }
    }
  },
  "nbformat": 4,
  "nbformat_minor": 2
}